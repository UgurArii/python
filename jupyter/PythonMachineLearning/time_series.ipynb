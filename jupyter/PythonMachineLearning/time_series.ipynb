{
 "cells": [
  {
   "cell_type": "code",
   "execution_count": 12,
   "id": "be7796bf-984c-483d-8899-8184ac4ca734",
   "metadata": {},
   "outputs": [
    {
     "ename": "ModuleNotFoundError",
     "evalue": "No module named 'matplotlib.finance'",
     "output_type": "error",
     "traceback": [
      "\u001b[0;31m---------------------------------------------------------------------------\u001b[0m",
      "\u001b[0;31mModuleNotFoundError\u001b[0m                       Traceback (most recent call last)",
      "\u001b[0;32m/tmp/ipykernel_12649/1595402449.py\u001b[0m in \u001b[0;36m<module>\u001b[0;34m\u001b[0m\n\u001b[1;32m     13\u001b[0m \u001b[0;32mimport\u001b[0m \u001b[0mmplfinance\u001b[0m \u001b[0;32mas\u001b[0m \u001b[0mmpf\u001b[0m\u001b[0;34m\u001b[0m\u001b[0;34m\u001b[0m\u001b[0m\n\u001b[1;32m     14\u001b[0m \u001b[0;32mimport\u001b[0m \u001b[0myfinance\u001b[0m \u001b[0;32mas\u001b[0m \u001b[0myf\u001b[0m\u001b[0;34m\u001b[0m\u001b[0;34m\u001b[0m\u001b[0m\n\u001b[0;32m---> 15\u001b[0;31m \u001b[0;32mfrom\u001b[0m \u001b[0mmatplotlib\u001b[0m\u001b[0;34m.\u001b[0m\u001b[0mfinance\u001b[0m \u001b[0;32mimport\u001b[0m \u001b[0mfetch_historical_yahoo\u001b[0m\u001b[0;34m,\u001b[0m \u001b[0mparse_yahoo_historical_ochl\u001b[0m\u001b[0;34m\u001b[0m\u001b[0;34m\u001b[0m\u001b[0m\n\u001b[0m",
      "\u001b[0;31mModuleNotFoundError\u001b[0m: No module named 'matplotlib.finance'"
     ]
    }
   ],
   "source": [
    "import pandas as pd\n",
    "import numpy as np\n",
    "from datetime import datetime\n",
    "import statsmodels.api as sm\n",
    "import matplotlib.pyplot as plt\n",
    "from IPython.display import Image\n",
    "from matplotlib.pylab import rcParams\n",
    "from statsmodels.tsa.stattools import adfuller\n",
    "from statsmodels.tsa.stattools import acf, pacf\n",
    "from sklearn.linear_model import LinearRegression\n",
    "from statsmodels.tsa.arima_model import ARMA, ARIMA\n",
    "from sklearn.metrics import explained_variance_score\n",
    "import mplfinance as mpf\n",
    "import yfinance as yf\n",
    "from matplotlib.finance import fetch_historical_yahoo, parse_yahoo_historical_ochl"
   ]
  },
  {
   "cell_type": "code",
   "execution_count": 9,
   "id": "8c4d548d-57c6-4a99-9c15-7d9cec3e3154",
   "metadata": {},
   "outputs": [],
   "source": [
    "rcParams['figure.figsize'] = 15, 5"
   ]
  },
  {
   "cell_type": "code",
   "execution_count": 16,
   "id": "3082c746-b4ef-4b39-a722-b4754793b502",
   "metadata": {},
   "outputs": [
    {
     "ename": "NameError",
     "evalue": "name 'yahoo_data' is not defined",
     "output_type": "error",
     "traceback": [
      "\u001b[0;31m---------------------------------------------------------------------------\u001b[0m",
      "\u001b[0;31mNameError\u001b[0m                                 Traceback (most recent call last)",
      "\u001b[0;32m/tmp/ipykernel_12649/3112146382.py\u001b[0m in \u001b[0;36m<module>\u001b[0;34m\u001b[0m\n\u001b[0;32m----> 1\u001b[0;31m \u001b[0mdates\u001b[0m \u001b[0;34m=\u001b[0m \u001b[0;34m[\u001b[0m\u001b[0mx\u001b[0m\u001b[0;34m[\u001b[0m\u001b[0;36m0\u001b[0m\u001b[0;34m]\u001b[0m \u001b[0;32mfor\u001b[0m \u001b[0mx\u001b[0m \u001b[0;32min\u001b[0m \u001b[0mlist\u001b[0m\u001b[0;34m(\u001b[0m\u001b[0myahoo_data\u001b[0m\u001b[0;34m)\u001b[0m\u001b[0;34m]\u001b[0m\u001b[0;34m\u001b[0m\u001b[0;34m\u001b[0m\u001b[0m\n\u001b[0m\u001b[1;32m      2\u001b[0m \u001b[0mvalues\u001b[0m \u001b[0;34m=\u001b[0m \u001b[0;34m[\u001b[0m\u001b[0mx\u001b[0m\u001b[0;34m[\u001b[0m\u001b[0;34m-\u001b[0m\u001b[0;36m1\u001b[0m\u001b[0;34m]\u001b[0m \u001b[0;32mfor\u001b[0m \u001b[0mx\u001b[0m \u001b[0;32min\u001b[0m \u001b[0mlist\u001b[0m\u001b[0;34m(\u001b[0m\u001b[0myahoo_data\u001b[0m\u001b[0;34m)\u001b[0m\u001b[0;34m]\u001b[0m\u001b[0;34m\u001b[0m\u001b[0;34m\u001b[0m\u001b[0m\n\u001b[1;32m      3\u001b[0m \u001b[0mdata\u001b[0m \u001b[0;34m=\u001b[0m \u001b[0mpd\u001b[0m\u001b[0;34m.\u001b[0m\u001b[0mDataFrame\u001b[0m\u001b[0;34m(\u001b[0m\u001b[0;34m{\u001b[0m\u001b[0;34m'Close_Adj'\u001b[0m\u001b[0;34m:\u001b[0m\u001b[0mvalues\u001b[0m\u001b[0;34m}\u001b[0m\u001b[0;34m,\u001b[0m \u001b[0mindex\u001b[0m\u001b[0;34m=\u001b[0m\u001b[0mdates\u001b[0m\u001b[0;34m)\u001b[0m\u001b[0;34m\u001b[0m\u001b[0;34m\u001b[0m\u001b[0m\n\u001b[1;32m      4\u001b[0m \u001b[0mdate_thresh\u001b[0m \u001b[0;34m=\u001b[0m \u001b[0mdatetime\u001b[0m\u001b[0;34m.\u001b[0m\u001b[0mstrptime\u001b[0m\u001b[0;34m(\u001b[0m\u001b[0;34m'2016-10-01'\u001b[0m\u001b[0;34m,\u001b[0m\u001b[0;34m\"%Y-%m-%d\"\u001b[0m\u001b[0;34m)\u001b[0m\u001b[0;34m.\u001b[0m\u001b[0mdate\u001b[0m\u001b[0;34m(\u001b[0m\u001b[0;34m)\u001b[0m\u001b[0;34m\u001b[0m\u001b[0;34m\u001b[0m\u001b[0m\n\u001b[1;32m      5\u001b[0m \u001b[0mdata_train\u001b[0m \u001b[0;34m=\u001b[0m \u001b[0mdata\u001b[0m\u001b[0;34m[\u001b[0m\u001b[0;34m:\u001b[0m\u001b[0mdate_thresh\u001b[0m\u001b[0;34m]\u001b[0m\u001b[0;34m\u001b[0m\u001b[0;34m\u001b[0m\u001b[0m\n",
      "\u001b[0;31mNameError\u001b[0m: name 'yahoo_data' is not defined"
     ]
    }
   ],
   "source": [
    "dates = [x[0] for x in list(yahoo_data)]\n",
    "values = [x[-1] for x in list(yahoo_data)]\n",
    "data = pd.DataFrame({'Close_Adj':values}, index=dates)\n",
    "date_thresh = datetime.strptime('2016-10-01',\"%Y-%m-%d\").date()\n",
    "data_train = data[:date_thresh]\n",
    "data_test = data[date_thresh:]\n",
    "plt.plot(data_train.index, data['Close_Adj'])\n",
    "plt.xlabel('Year')\n",
    "plt.ylabel('Adjusted Closing Rate')\n",
    "plt.title('Yahoo Adjusted closing rate - Year 2016')"
   ]
  },
  {
   "cell_type": "code",
   "execution_count": 17,
   "id": "a265f220-9899-48bf-b02a-477b710a76f0",
   "metadata": {},
   "outputs": [],
   "source": [
    "def evaluate_stationarity(timeseries, t=30):\n",
    "    #Determing rolling statistics\n",
    "    rolmean = timeseries.rolling(window=t).mean()\n",
    "    rolstd = timeseries.rolling(window=t).std()\n",
    "    #Plot rolling statistics:\n",
    "    orig = plt.plot(timeseries, color='blue',label='Original')\n",
    "    mean = plt.plot(rolmean, color='red', label='Rolling Mean')\n",
    "    std = plt.plot(rolstd, color='black', label = 'Rolling Std')\n",
    "    plt.legend(loc='best')\n",
    "    plt.title('Rolling Mean & Standard Deviation')\n",
    "    plt.show(block=False)\n",
    "    #Perform Dickey-Fuller test:\n",
    "    print('Results of Dickey-Fuller Test:')\n",
    "    dftest = adfuller(timeseries, autolag='AIC')\n",
    "    dfoutput = pd.Series(dftest[0:4], index=['Test Statistic','p-value','#Lags Used','Number of Observations Used'])\n",
    "    for key,value in dftest[4].items():\n",
    "        dfoutput['Critical Value (%s)'%key] = value\n",
    "    print(dfoutput)"
   ]
  },
  {
   "cell_type": "code",
   "execution_count": 18,
   "id": "8f97e4a1-d564-4041-a07b-6760fdf581d8",
   "metadata": {},
   "outputs": [
    {
     "ename": "NameError",
     "evalue": "name 'data_train' is not defined",
     "output_type": "error",
     "traceback": [
      "\u001b[0;31m---------------------------------------------------------------------------\u001b[0m",
      "\u001b[0;31mNameError\u001b[0m                                 Traceback (most recent call last)",
      "\u001b[0;32m/tmp/ipykernel_12649/2632422075.py\u001b[0m in \u001b[0;36m<module>\u001b[0;34m\u001b[0m\n\u001b[0;32m----> 1\u001b[0;31m \u001b[0mevaluate_stationarity\u001b[0m\u001b[0;34m(\u001b[0m\u001b[0mdata_train\u001b[0m\u001b[0;34m[\u001b[0m\u001b[0;34m'Close_Adj'\u001b[0m\u001b[0;34m]\u001b[0m\u001b[0;34m,\u001b[0m \u001b[0;36m15\u001b[0m\u001b[0;34m)\u001b[0m\u001b[0;34m\u001b[0m\u001b[0;34m\u001b[0m\u001b[0m\n\u001b[0m",
      "\u001b[0;31mNameError\u001b[0m: name 'data_train' is not defined"
     ]
    }
   ],
   "source": [
    "evaluate_stationarity(data_train['Close_Adj'], 15)"
   ]
  },
  {
   "cell_type": "code",
   "execution_count": null,
   "id": "85f6d0b1-824c-467d-9d06-cc20cac129e5",
   "metadata": {},
   "outputs": [],
   "source": [
    "data_log = np.log(data_train['Close_Adj'])\n",
    "#Determing rolling statistics\n",
    "rolmean = data_log.rolling(window=15).mean()\n",
    "rolstd = data_log.rolling(window=15).std()\n",
    "#Plot rolling statistics:\n",
    "orig = plt.plot(data_log, color='blue',label='Original')\n",
    "mean = plt.plot(rolmean, color='red', label='Rolling Mean')\n",
    "std = plt.plot(rolstd, color='black', label = 'Rolling Std')\n",
    "plt.legend(loc='best')\n",
    "plt.ylim([7.4,7.8])\n",
    "plt.title('Rolling Mean & Standard Deviation')\n",
    "plt.show(block=False)"
   ]
  },
  {
   "cell_type": "code",
   "execution_count": null,
   "id": "211ff60f-510a-4541-9136-322c3e102829",
   "metadata": {},
   "outputs": [],
   "source": [
    "data_sqrt = np.sqrt(data_train['Close_Adj'])\n",
    "evaluate_stationarity(data_sqrt, 15)"
   ]
  },
  {
   "cell_type": "code",
   "execution_count": null,
   "id": "9f8d6af1-51bc-44d4-8855-82e4d51a0c7e",
   "metadata": {},
   "outputs": [],
   "source": [
    "moving_avg = pd.rolling_mean(data_log,15)\n",
    "plt.plot(data_log)\n",
    "plt.plot(moving_avg, color='red')"
   ]
  },
  {
   "cell_type": "code",
   "execution_count": null,
   "id": "bd047bbf-9f4c-4c4c-9f4d-eba25e14ff56",
   "metadata": {},
   "outputs": [],
   "source": [
    "data_log_moving_avg_diff = data_log - moving_avg\n",
    "data_log_moving_avg_diff.head(15)"
   ]
  },
  {
   "cell_type": "code",
   "execution_count": null,
   "id": "3a6cb395-f125-4cec-bc78-5ad1cbe13844",
   "metadata": {},
   "outputs": [],
   "source": [
    "data_log_diff = data_log - data_log.shift()\n",
    "data_log_diff.dropna(inplace=True)\n",
    "evaluate_stationarity(data_log_diff)"
   ]
  },
  {
   "cell_type": "code",
   "execution_count": null,
   "id": "4ff55192-47e0-4567-87b6-e56d7db47a8b",
   "metadata": {},
   "outputs": [],
   "source": [
    "from statsmodels.tsa.seasonal import seasonal_decompose\n",
    "decomposition = seasonal_decompose(list(data_log), freq=15)\n",
    "trend = decomposition.trend\n",
    "seasonal = decomposition.seasonal\n",
    "residual = decomposition.resid\n",
    "plt.subplot(411)\n",
    "plt.plot(data_log, label='Original')\n",
    "plt.legend(loc='best')\n",
    "plt.subplot(412)\n",
    "plt.plot(trend, label='Trend')\n",
    "plt.legend(loc='best')\n",
    "plt.subplot(413)\n",
    "plt.plot(seasonal,label='Seasonality')\n",
    "plt.legend(loc='best')\n",
    "plt.subplot(414)\n",
    "plt.plot(residual, label='Residuals')\n",
    "plt.legend(loc='best')\n",
    "plt.tight_layout()"
   ]
  },
  {
   "cell_type": "code",
   "execution_count": null,
   "id": "d51e2e68-3396-415e-9353-6bc218f05c4d",
   "metadata": {},
   "outputs": [],
   "source": [
    "data_log_decompose = pd.Series(residual)\n",
    "data_log_decompose.dropna(inplace=True)\n",
    "evaluate_stationarity(data_log_decompose)"
   ]
  },
  {
   "cell_type": "code",
   "execution_count": null,
   "id": "ac499a3d-b223-45a6-b22b-305443769a93",
   "metadata": {},
   "outputs": [],
   "source": [
    "ax1 = plt.subplot(211)\n",
    "fig = sm.graphics.tsa.plot_acf(data_log_diff.squeeze(), lags=40, ax=ax1)\n",
    "ax2 = plt.subplot(212)\n",
    "fig = sm.graphics.tsa.plot_pacf(data_log_diff, lags=40, ax=ax2)"
   ]
  },
  {
   "cell_type": "code",
   "execution_count": null,
   "id": "9874fa72-398a-4ccd-b249-bbb38fce64f2",
   "metadata": {},
   "outputs": [],
   "source": [
    "model = ARIMA(data_log, order=(2, 1, 0), dates=data_log.index.to_datetime())  \n",
    "results_AR_210 = model.fit(disp=-1)\n",
    "plt.plot(data_log_diff)\n",
    "plt.plot(results_AR_210.fittedvalues, color='red')\n",
    "plt.title('RSS: %.4f'% sum((results_AR_210.fittedvalues-data_log_diff)**2))"
   ]
  },
  {
   "cell_type": "code",
   "execution_count": null,
   "id": "5da154c3-f738-4460-9206-58728157a421",
   "metadata": {},
   "outputs": [],
   "source": [
    "model = ARIMA(data_log, order=(1, 1, 1), dates=data_log.index.to_datetime())\n",
    "results_ARIMA_111 = model.fit(disp=-1)\n",
    "plt.plot(data_log_diff)\n",
    "plt.plot(results_ARIMA_111.fittedvalues, color='red')\n",
    "plt.title('RSS: %.4f'% sum((results_ARIMA_111.fittedvalues-\n",
    "data_log_diff)**2))\n",
    "predictions_ARIMA_diff = pd.Series(results_ARIMA_111.fittedvalues,copy=True)\n",
    "print(predictions_ARIMA_diff.head())\n",
    "print(results_ARIMA_111.aic)\n",
    "predictions_ARIMA_log = pd.Series(data_log.ix[0], index=data_log.index)\n",
    "predictions_ARIMA_log = predictions_ARIMA_log.add(predictions_ARIMA_diff_cumsum,fill_value=0)\n",
    "predictions_ARIMA_log.head()"
   ]
  },
  {
   "cell_type": "code",
   "execution_count": null,
   "id": "07a84054-0252-474b-8237-5faedb8c7983",
   "metadata": {},
   "outputs": [],
   "source": [
    "def mean_forecast_err(y, yhat):\n",
    "    return y.sub(yhat).mean()\n",
    "def mean_absolute_err(y, yhat):\n",
    "    \u0007return np.mean((np.abs(y.sub(yhat).mean()) / yhat)) # or\n",
    "percent error = * 100\n",
    "def rmse(y, yhat):\n",
    "    return np.sqrt(sum((yhat-y)**2)/len(y))\n",
    "predictions_ARIMA = np.exp(predictions_ARIMA_log)\n",
    "plt.plot(data_train['Close_Adj'])\n",
    "plt.plot(predictions_ARIMA)\n",
    "plt.title('RMSE: %.4f | MFE: %.4f | MAE: %.4f'% (\n",
    "        rmse(data_train['Close_Adj'], predictions_ARIMA), mean_forecast_\n",
    "            err(data_train['Close_Adj'], predictions_ARIMA), mean_absolute_\n",
    "            err(data_train['Close_Adj'], predictions_ARIMA)))"
   ]
  },
  {
   "cell_type": "code",
   "execution_count": null,
   "id": "13aa3dae-9df5-4db5-86cd-20e9192bbd3b",
   "metadata": {},
   "outputs": [],
   "source": [
    "regr = LinearRegression()\n",
    "x_train = [[x] for x in range(len(data_train))]\n",
    "y_train = [[y] for y in list(data_train['Close_Adj'])]\n",
    "x_test = [[z] for z in range(x+1, x + 1+len(data_test))]\n",
    "regr.fit(x_train, y_train)\n",
    "y_pred = regr.predict(x_test)\n",
    "explained_variance_score(data_test['Close_Adj'], y_pred)\n",
    "plt.scatter(range(len(data_test)), data_test['Close_Adj'],  color='black')\n",
    "plt.plot(range(len(data_test)), y_pred, color='blue',\n",
    "             linewidth=3)\n",
    "plt.ylabel('Concrete strength')"
   ]
  }
 ],
 "metadata": {
  "kernelspec": {
   "display_name": "Python 3 (ipykernel)",
   "language": "python",
   "name": "python3"
  },
  "language_info": {
   "codemirror_mode": {
    "name": "ipython",
    "version": 3
   },
   "file_extension": ".py",
   "mimetype": "text/x-python",
   "name": "python",
   "nbconvert_exporter": "python",
   "pygments_lexer": "ipython3",
   "version": "3.9.13"
  }
 },
 "nbformat": 4,
 "nbformat_minor": 5
}
