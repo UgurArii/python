{
  "cells": [
    {
      "cell_type": "markdown",
      "id": "ca53835b-a0ae-42e4-834d-24615fcfc6a4",
      "metadata": {
        "id": "ca53835b-a0ae-42e4-834d-24615fcfc6a4"
      },
      "source": [
        "# Assignment2: Bash Shell Script Data Science Operations\n",
        "\n",
        "In this assignment, you will work with the Iris dataset using Bash Shell Script to perform some basic data science operations.\n",
        "\n",
        "> **Dataset**\n",
        "\n",
        "The Iris dataset is a famous dataset in machine learning and statistics. It contains 150 observations of iris flowers, each with four features (sepal length, sepal width, petal length, and petal width) and one target variable (species). The dataset is available at: https://archive.ics.uci.edu/ml/datasets/iris.\n",
        "\n",
        "\n",
        "> **Instructions**\n",
        "\n",
        "Your task is to write a Bash Shell Script to perform the following data science operations on the Iris dataset:\n",
        "\n",
        "1. Print the first five lines of the file.\n",
        "2. Count the number of lines in the file.\n",
        "3. Extract the second column of the file.\n",
        "4. Calculate the average of each column in the file.\n",
        "5. Determine the species with the highest and lowest sepal lengths.\n",
        "6. Determine the number of samples for each species.\n",
        "7. Generate a bar chart of the number of samples for each species using gnuplot.\n",
        "8. Backup the Iris dataset and the script itself.\n",
        "\n",
        "You may need some aditional actions to be taken druing the operation like unziping a file etc. Please take the necessary actions if it is needed in your aproach.\n",
        "\n",
        "**Note**:Please, first copy this notebook into your drive and after that start working on the notebook you copied. After completing the notebook share and upload as stated in Canvas.\n",
        "\n",
        "Good luck!\n"
      ]
    },
    {
      "cell_type": "markdown",
      "source": [
        "# Step1 Download the Dataset (5 Points)\n",
        "\n",
        "Download the Iris dataset from the following link with 'wget command : https://archive.ics.uci.edu/ml/datasets/iris."
      ],
      "metadata": {
        "id": "eq1X-JICXG_O"
      },
      "id": "eq1X-JICXG_O"
    },
    {
      "cell_type": "code",
      "source": [
        "#Your Code Starts Here\n",
        "!wget https://archive.ics.uci.edu/ml/datasets/iris -P ~/data\n",
        "#Your Code Ends Here"
      ],
      "metadata": {
        "id": "N26Cvfm8XrZl",
        "colab": {
          "base_uri": "https://localhost:8080/"
        },
        "outputId": "bc6b3df0-b20d-4caa-b3c1-496eb8eaea39"
      },
      "id": "N26Cvfm8XrZl",
      "execution_count": 1,
      "outputs": [
        {
          "output_type": "stream",
          "name": "stdout",
          "text": [
            "--2023-03-06 11:36:58--  https://archive.ics.uci.edu/ml/datasets/iris\n",
            "Resolving archive.ics.uci.edu (archive.ics.uci.edu)... 128.195.10.252\n",
            "Connecting to archive.ics.uci.edu (archive.ics.uci.edu)|128.195.10.252|:443... connected.\n",
            "HTTP request sent, awaiting response... 200 OK\n",
            "Length: unspecified [text/html]\n",
            "Saving to: ‘/root/data/iris’\n",
            "\n",
            "iris                    [  <=>               ]  73.31K   284KB/s    in 0.3s    \n",
            "\n",
            "2023-03-06 11:36:59 (284 KB/s) - ‘/root/data/iris’ saved [75071]\n",
            "\n"
          ]
        }
      ]
    },
    {
      "cell_type": "markdown",
      "source": [
        "# Step 2: Make the Script File (5 Points)\n",
        "\n",
        "Create the script file with 'nano' command. \n"
      ],
      "metadata": {
        "id": "5SmfVMtXYGqX"
      },
      "id": "5SmfVMtXYGqX"
    },
    {
      "cell_type": "code",
      "execution_count": 2,
      "id": "315e04af-0d18-4bde-8246-289c091e1c86",
      "metadata": {
        "id": "315e04af-0d18-4bde-8246-289c091e1c86",
        "colab": {
          "base_uri": "https://localhost:8080/"
        },
        "outputId": "b7a78797-1e77-40a3-e03b-66b1d700fb37"
      },
      "outputs": [
        {
          "output_type": "stream",
          "name": "stdout",
          "text": [
            "/bin/bash: nano: command not found\n"
          ]
        }
      ],
      "source": [
        "#Your Code Starts Here\n",
        "!nano iris_script.sh\n",
        "#Your Code Ends Here"
      ]
    },
    {
      "cell_type": "markdown",
      "id": "a56cc4cd-52b3-4cf8-a19a-6c358c557d42",
      "metadata": {
        "id": "a56cc4cd-52b3-4cf8-a19a-6c358c557d42"
      },
      "source": [
        "# Step 3 : Write the Basch Commands (80 Points)\n",
        "\n",
        "Write the needed commands to accomplesh the task given above."
      ]
    },
    {
      "cell_type": "code",
      "source": [
        "#!/bin/bash\n",
        "#shebang here\n",
        "\n",
        "# Set the filename for the iris dataset\n",
        "!filename=\"iris.data\" # 10 points\n",
        "\n",
        "# Print the first five lines of the file\n",
        "!head -n 5 $filename # 10 points\n",
        "\n",
        "# Count the number of lines in the file\n",
        "!wc -l $filename # 10 points\n",
        "\n",
        "# Extract the second column of the file\n",
        "!cut -d ',' -f 2 $filename # 10 points\n",
        "\n",
        "# Calculate the average of each column in the file\n",
        "!awk -F ',' '{sum1+=$1; sum2+=$2; sum3+=$3; sum4+=$4} END {print sum1/NR, sum2/NR, sum3/NR, sum4/NR}' $filename # 10 points\n",
        "\n",
        "# Determine the species with the highest and lowest sepal lengths\n",
        "!awk -F ',' 'NR==1 {next} {if (max==\"\") {max=$1; min=$1}; if ($1>max) {max=$1; max_species=$5}; if ($1<min) {min=$1; min_species=$5}} END {print \"Max sepal length:\", max, \"Species:\", max_species, \"Min sepal length:\", min, \"Species:\", min_species}' $filename # 10 points\n",
        "\n",
        "# Determine the number of samples for each species\n",
        "!awk -F ',' 'NR==1 {next} {count[$5]++} END {for (species in count) {print species, count[species]}}' $filename # 10 points\n",
        "\n",
        "# Generate a bar chart of the number of samples for each species using gnuplot\n",
        "!awk -F ',' 'NR==1 {next} {count[$5]++} END {print \"set title \\\"Number of samples per species\\\"\\n set ylabel \\\"Number of samples\\\"\\n set xlabel \\\"Species\\\"\\n set boxwidth 0.5\\n set style fill solid\\n plot \\'-\\' using 2:xtic(1) with boxes title \\\"Samples\\\"\\n\" ; for (species in count) {print species, count[species]} }' $filename | gnuplot -persist -e \"set terminal png; set output 'bar_chart.png'\" # 10 points\n",
        "\n"
      ],
      "metadata": {
        "id": "7bQvswy_adL7"
      },
      "id": "7bQvswy_adL7",
      "execution_count": null,
      "outputs": []
    },
    {
      "cell_type": "markdown",
      "id": "2aa5f827-c4a5-44f3-9c33-4ce54e3c0832",
      "metadata": {
        "id": "2aa5f827-c4a5-44f3-9c33-4ce54e3c0832"
      },
      "source": [
        "# Step 4 : Give Permision and Make Executable (10 Points)\n",
        "\n",
        "Write to code to give executing permision to user"
      ]
    },
    {
      "cell_type": "code",
      "source": [
        "#Your Code Starts Here\n",
        "!chmod u+x iris_script.sh\n",
        "#Your Code Ends Here"
      ],
      "metadata": {
        "id": "Z5ZvUZJJbIVz"
      },
      "id": "Z5ZvUZJJbIVz",
      "execution_count": null,
      "outputs": []
    },
    {
      "cell_type": "markdown",
      "source": [
        "Write to code to execute the script."
      ],
      "metadata": {
        "id": "UEW6soq9bPWT"
      },
      "id": "UEW6soq9bPWT"
    },
    {
      "cell_type": "code",
      "source": [
        "#Your Code Starts Here\n",
        "!./iris_script.sh\n",
        "#Your Code Ends Here"
      ],
      "metadata": {
        "id": "YiPj0Q1wbY-L"
      },
      "id": "YiPj0Q1wbY-L",
      "execution_count": null,
      "outputs": []
    },
    {
      "cell_type": "markdown",
      "source": [
        "\n",
        "Well done!You made it."
      ],
      "metadata": {
        "id": "l9zMvF5lbhdS"
      },
      "id": "l9zMvF5lbhdS"
    }
  ],
  "metadata": {
    "kernelspec": {
      "display_name": "Python 3 (ipykernel)",
      "language": "python",
      "name": "python3"
    },
    "language_info": {
      "codemirror_mode": {
        "name": "ipython",
        "version": 3
      },
      "file_extension": ".py",
      "mimetype": "text/x-python",
      "name": "python",
      "nbconvert_exporter": "python",
      "pygments_lexer": "ipython3",
      "version": "3.9.13"
    },
    "colab": {
      "provenance": []
    }
  },
  "nbformat": 4,
  "nbformat_minor": 5
}