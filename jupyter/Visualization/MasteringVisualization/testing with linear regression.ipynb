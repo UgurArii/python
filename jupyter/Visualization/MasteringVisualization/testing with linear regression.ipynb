{
 "cells": [
  {
   "cell_type": "code",
   "execution_count": 3,
   "id": "44e11ae5-88a3-4e71-bba3-e5b3cc32f1fa",
   "metadata": {},
   "outputs": [],
   "source": [
    "#Testing with linear regression\n",
    "import scipy.stats as st\n",
    "import matplotlib.pyplot as plt\n",
    "import numpy as np\n",
    "import pandas as pd"
   ]
  },
  {
   "cell_type": "code",
   "execution_count": 4,
   "id": "d651fbaf-fa99-45a9-b6ff-c004ff40ceee",
   "metadata": {},
   "outputs": [
    {
     "data": {
      "text/html": [
       "<div>\n",
       "<style scoped>\n",
       "    .dataframe tbody tr th:only-of-type {\n",
       "        vertical-align: middle;\n",
       "    }\n",
       "\n",
       "    .dataframe tbody tr th {\n",
       "        vertical-align: top;\n",
       "    }\n",
       "\n",
       "    .dataframe thead th {\n",
       "        text-align: right;\n",
       "    }\n",
       "</style>\n",
       "<table border=\"1\" class=\"dataframe\">\n",
       "  <thead>\n",
       "    <tr style=\"text-align: right;\">\n",
       "      <th></th>\n",
       "      <th>longitude,latitude,COUNTRY,ISO,COUNTRYAFF,AFF_ISO</th>\n",
       "    </tr>\n",
       "  </thead>\n",
       "  <tbody>\n",
       "    <tr>\n",
       "      <th>0</th>\n",
       "      <td>-170.7007316174498,-14.305711987770538,America...</td>\n",
       "    </tr>\n",
       "    <tr>\n",
       "      <th>1</th>\n",
       "      <td>166.63800339749642,19.302045812215958,United S...</td>\n",
       "    </tr>\n",
       "    <tr>\n",
       "      <th>2</th>\n",
       "      <td>-159.78768870952257,-21.222613253399842,Cook I...</td>\n",
       "    </tr>\n",
       "    <tr>\n",
       "      <th>3</th>\n",
       "      <td>-149.40041671099763,-17.674684080120677,French...</td>\n",
       "    </tr>\n",
       "    <tr>\n",
       "      <th>4</th>\n",
       "      <td>-169.86878106699083,-19.05230921680393,Niue,NU...</td>\n",
       "    </tr>\n",
       "  </tbody>\n",
       "</table>\n",
       "</div>"
      ],
      "text/plain": [
       "   longitude,latitude,COUNTRY,ISO,COUNTRYAFF,AFF_ISO\n",
       "0  -170.7007316174498,-14.305711987770538,America...\n",
       "1  166.63800339749642,19.302045812215958,United S...\n",
       "2  -159.78768870952257,-21.222613253399842,Cook I...\n",
       "3  -149.40041671099763,-17.674684080120677,French...\n",
       "4  -169.86878106699083,-19.05230921680393,Niue,NU..."
      ]
     },
     "execution_count": 4,
     "metadata": {},
     "output_type": "execute_result"
    }
   ],
   "source": [
    "coords = pd.read_csv('countries.csv', sep='\\t')\n",
    "coords.head()"
   ]
  },
  {
   "cell_type": "code",
   "execution_count": 11,
   "id": "41180a00-688f-4d90-a6a8-f218682daddc",
   "metadata": {},
   "outputs": [
    {
     "ename": "ImportError",
     "evalue": "cannot import name 'wb' from 'pandas.io' (/root/tutorial-env/lib/python3.10/site-packages/pandas/io/__init__.py)",
     "output_type": "error",
     "traceback": [
      "\u001b[0;31m---------------------------------------------------------------------------\u001b[0m",
      "\u001b[0;31mImportError\u001b[0m                               Traceback (most recent call last)",
      "Cell \u001b[0;32mIn[11], line 1\u001b[0m\n\u001b[0;32m----> 1\u001b[0m \u001b[38;5;28;01mfrom\u001b[39;00m \u001b[38;5;21;01mpandas\u001b[39;00m\u001b[38;5;21;01m.\u001b[39;00m\u001b[38;5;21;01mio\u001b[39;00m \u001b[38;5;28;01mimport\u001b[39;00m wb\n\u001b[1;32m      2\u001b[0m wb\u001b[38;5;241m.\u001b[39msearch(\u001b[38;5;124m'\u001b[39m\u001b[38;5;124mgdp.*capita.*\u001b[39m\u001b[38;5;124m'\u001b[39m)\u001b[38;5;241m.\u001b[39miloc[:,:\u001b[38;5;241m2\u001b[39m]\n",
      "\u001b[0;31mImportError\u001b[0m: cannot import name 'wb' from 'pandas.io' (/root/tutorial-env/lib/python3.10/site-packages/pandas/io/__init__.py)"
     ]
    }
   ],
   "source": [
    "from pandas.io import wb\n",
    "wb.search('gdp.*capita.*').iloc[:,:2]"
   ]
  },
  {
   "cell_type": "code",
   "execution_count": null,
   "id": "9a05b53d-2447-4e63-8bfc-73bae880ac3b",
   "metadata": {},
   "outputs": [],
   "source": []
  },
  {
   "cell_type": "code",
   "execution_count": null,
   "id": "d8e7c344-2fc8-4ba1-89f2-20d4babb469d",
   "metadata": {},
   "outputs": [],
   "source": []
  }
 ],
 "metadata": {
  "kernelspec": {
   "display_name": "Python 3 (ipykernel)",
   "language": "python",
   "name": "python3"
  },
  "language_info": {
   "codemirror_mode": {
    "name": "ipython",
    "version": 3
   },
   "file_extension": ".py",
   "mimetype": "text/x-python",
   "name": "python",
   "nbconvert_exporter": "python",
   "pygments_lexer": "ipython3",
   "version": "3.9.13"
  }
 },
 "nbformat": 4,
 "nbformat_minor": 5
}
