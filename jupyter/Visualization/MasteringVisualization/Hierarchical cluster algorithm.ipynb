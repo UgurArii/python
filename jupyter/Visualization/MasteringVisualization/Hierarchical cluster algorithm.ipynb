{
 "cells": [
  {
   "cell_type": "code",
   "execution_count": 11,
   "id": "0fb7ae02-8e82-4e81-9ee7-4674c4b36f3a",
   "metadata": {},
   "outputs": [],
   "source": [
    "import astropy.coordinates as coord\n",
    "import astropy.units as u\n",
    "import astropy.constants as c\n",
    "import pandas as pd\n",
    "import numpy as np\n",
    "import matplotlib.pyplot as plt\n",
    "from matplotlib.patheffects import withStroke\n",
    "from matplotlib.patches import Ellipse\n",
    "import wooldridge as woo\n",
    "import statsmodels.api as sm\n",
    "import statsmodels.formula.api as smf\n",
    "import patsy as pt\n"
   ]
  },
  {
   "cell_type": "code",
   "execution_count": 12,
   "id": "94ad5590-c5a4-4f04-9474-da0f51a070b9",
   "metadata": {},
   "outputs": [
    {
     "ename": "NameError",
     "evalue": "name 'hac' is not defined",
     "output_type": "error",
     "traceback": [
      "\u001b[0;31m---------------------------------------------------------------------------\u001b[0m",
      "\u001b[0;31mNameError\u001b[0m                                 Traceback (most recent call last)",
      "Cell \u001b[0;32mIn[12], line 4\u001b[0m\n\u001b[1;32m      2\u001b[0m y \u001b[38;5;241m=\u001b[39m np\u001b[38;5;241m.\u001b[39marray([\u001b[38;5;241m8\u001b[39m,\u001b[38;5;241m8\u001b[39m,\u001b[38;5;241m8\u001b[39m,\u001b[38;5;241m7\u001b[39m,\u001b[38;5;241m1\u001b[39m,\u001b[38;5;241m2\u001b[39m,\u001b[38;5;241m2\u001b[39m,\u001b[38;5;241m3\u001b[39m])\n\u001b[1;32m      3\u001b[0m a \u001b[38;5;241m=\u001b[39m np\u001b[38;5;241m.\u001b[39marray([x,y])\u001b[38;5;241m.\u001b[39mT\n\u001b[0;32m----> 4\u001b[0m z \u001b[38;5;241m=\u001b[39m \u001b[43mhac\u001b[49m\u001b[38;5;241m.\u001b[39mlinkage(a, metric \u001b[38;5;241m=\u001b[39m \u001b[38;5;124m'\u001b[39m\u001b[38;5;124meuclidean\u001b[39m\u001b[38;5;124m'\u001b[39m, method\u001b[38;5;241m=\u001b[39m\u001b[38;5;124m'\u001b[39m\u001b[38;5;124mcentroid\u001b[39m\u001b[38;5;124m'\u001b[39m)\n\u001b[1;32m      5\u001b[0m fig, axs \u001b[38;5;241m=\u001b[39m plt\u001b[38;5;241m.\u001b[39msubplots(\u001b[38;5;241m1\u001b[39m, \u001b[38;5;241m2\u001b[39m, figsize\u001b[38;5;241m=\u001b[39m(\u001b[38;5;241m7\u001b[39m,\u001b[38;5;241m3\u001b[39m))\n\u001b[1;32m      6\u001b[0m axs[\u001b[38;5;241m0\u001b[39m]\u001b[38;5;241m.\u001b[39mscatter(x, y, marker\u001b[38;5;241m=\u001b[39m\u001b[38;5;124m'\u001b[39m\u001b[38;5;124mo\u001b[39m\u001b[38;5;124m'\u001b[39m, s\u001b[38;5;241m=\u001b[39m\u001b[38;5;241m40\u001b[39m, c\u001b[38;5;241m=\u001b[39m\u001b[38;5;124m'\u001b[39m\u001b[38;5;124mIndianRed\u001b[39m\u001b[38;5;124m'\u001b[39m)\n",
      "\u001b[0;31mNameError\u001b[0m: name 'hac' is not defined"
     ]
    }
   ],
   "source": [
    "x = np.array([1,2,2,1,6,7,8,5])\n",
    "y = np.array([8,8,8,7,1,2,2,3])\n",
    "a = np.array([x,y]).T\n",
    "z = hac.linkage(a, metric = 'euclidean', method='centroid')\n",
    "fig, axs = plt.subplots(1, 2, figsize=(7,3))\n",
    "axs[0].scatter(x, y, marker='o', s=40, c='IndianRed')\n",
    "axs[0].set_xlabel('X')\n",
    "axs[0].set_ylabel('Y')\n",
    "for i in range(len(x)):\n",
    "    axs[0].annotate(s=str(i), xy=(x[i]+0.1, y[i]+0.1))\n",
    "ellipse1 = Ellipse(xy = (1.6,8.2), width=2., height=1.2,\n",
    "                   zorder=32, fc='None', ec='k', lw=1.5)\n",
    "axs[0].add_artist(ellipse1)\n",
    "d_temp = hac.dendrogram(z, ax=axs[1])\n",
    "axs[1].annotate(s='8',xy=(np.mean(d_temp['icoord'][0][1:-1]),\n",
    "                d_temp['dcoord'][0][1]),\n",
    "                xytext=(3,3), textcoords='offset points') \n",
    "axs[1].annotate(s='9', xy=(np.mean(d_temp['icoord'][3][1:-1]),\n",
    "                d_temp['dcoord'][3][1]), xytext=(3,3), textcoords='offset points')\n",
    "axs[1].annotate(s='10', xy=(np.mean(d_temp['icoord'][1][1:-1])-2,\n",
    "                d_temp['dcoord'][1][1]), xytext=(3,3), textcoords='offset points',\n",
    "                ha='right')\n",
    "axs[1].annotate(s='Root', xy=(np.mean(d_temp['icoord'][-1][1:-1]),\n",
    "                d_temp['dcoord'][-1][1]-0.3), xytext=(5,5), textcoords='offset points',\n",
    "                va='top', ha='center')\n",
    "axs[1].set_xlabel('Leafs')\n",
    "\n",
    "    "
   ]
  },
  {
   "cell_type": "code",
   "execution_count": 13,
   "id": "da94a205-fc74-4ebb-9794-541cd74a5e5f",
   "metadata": {},
   "outputs": [
    {
     "ename": "NameError",
     "evalue": "name 'hac' is not defined",
     "output_type": "error",
     "traceback": [
      "\u001b[0;31m---------------------------------------------------------------------------\u001b[0m",
      "\u001b[0;31mNameError\u001b[0m                                 Traceback (most recent call last)",
      "Cell \u001b[0;32mIn[13], line 2\u001b[0m\n\u001b[1;32m      1\u001b[0m fig, ax \u001b[38;5;241m=\u001b[39m plt\u001b[38;5;241m.\u001b[39msubplots(\u001b[38;5;241m1\u001b[39m, figsize\u001b[38;5;241m=\u001b[39m(\u001b[38;5;241m8\u001b[39m,\u001b[38;5;241m6\u001b[39m))\n\u001b[0;32m----> 2\u001b[0m d0 \u001b[38;5;241m=\u001b[39m \u001b[43mhac\u001b[49m\u001b[38;5;241m.\u001b[39mdendrogram(z_centroid, p\u001b[38;5;241m=\u001b[39m\u001b[38;5;241m6\u001b[39m, truncate_mode\u001b[38;5;241m=\u001b[39m\u001b[38;5;124m'\u001b[39m\u001b[38;5;124mlevel\u001b[39m\u001b[38;5;124m'\u001b[39m,\n\u001b[1;32m      3\u001b[0m orientation\u001b[38;5;241m=\u001b[39m\u001b[38;5;124m'\u001b[39m\u001b[38;5;124mright\u001b[39m\u001b[38;5;124m'\u001b[39m, ax\u001b[38;5;241m=\u001b[39max)\n",
      "\u001b[0;31mNameError\u001b[0m: name 'hac' is not defined"
     ]
    },
    {
     "data": {
      "image/png": "[encoded data removed]",
      "text/plain": [
       "<Figure size 800x600 with 1 Axes>"
      ]
     },
     "metadata": {},
     "output_type": "display_data"
    }
   ],
   "source": [
    "fig, ax = plt.subplots(1, figsize=(8,6))\n",
    "d0 = hac.dendrogram(z_centroid, p=6, truncate_mode='level',\n",
    "orientation='right', ax=ax)"
   ]
  },
  {
   "cell_type": "code",
   "execution_count": 14,
   "id": "80d3bb26-cd5d-470d-a0fa-543f084375f9",
   "metadata": {},
   "outputs": [
    {
     "ename": "NameError",
     "evalue": "name 'hac' is not defined",
     "output_type": "error",
     "traceback": [
      "\u001b[0;31m---------------------------------------------------------------------------\u001b[0m",
      "\u001b[0;31mNameError\u001b[0m                                 Traceback (most recent call last)",
      "Cell \u001b[0;32mIn[14], line 2\u001b[0m\n\u001b[1;32m      1\u001b[0m nclust \u001b[38;5;241m=\u001b[39m \u001b[38;5;241m20\u001b[39m\n\u001b[0;32m----> 2\u001b[0m part_centroid \u001b[38;5;241m=\u001b[39m \u001b[43mhac\u001b[49m\u001b[38;5;241m.\u001b[39mfcluster(z_centroid, \u001b[38;5;241m20\u001b[39m, criterion\u001b[38;5;241m=\u001b[39m\u001b[38;5;124m'\u001b[39m\u001b[38;5;124mmaxclust\u001b[39m\u001b[38;5;124m'\u001b[39m)\n",
      "\u001b[0;31mNameError\u001b[0m: name 'hac' is not defined"
     ]
    }
   ],
   "source": [
    "nclust = 20\n",
    "part_centroid = hac.fcluster(z_centroid, 20, criterion='maxclust')"
   ]
  },
  {
   "cell_type": "code",
   "execution_count": 15,
   "id": "37d8603d-c443-4676-ab7b-55347873229f",
   "metadata": {},
   "outputs": [
    {
     "ename": "NameError",
     "evalue": "name 'part_centroid' is not defined",
     "output_type": "error",
     "traceback": [
      "\u001b[0;31m---------------------------------------------------------------------------\u001b[0m",
      "\u001b[0;31mNameError\u001b[0m                                 Traceback (most recent call last)",
      "Cell \u001b[0;32mIn[15], line 2\u001b[0m\n\u001b[1;32m      1\u001b[0m plt\u001b[38;5;241m.\u001b[39mfigure(figsize\u001b[38;5;241m=\u001b[39m(\u001b[38;5;241m7\u001b[39m,\u001b[38;5;241m6\u001b[39m))\n\u001b[0;32m----> 2\u001b[0m otpt \u001b[38;5;241m=\u001b[39m plt\u001b[38;5;241m.\u001b[39mhist(\u001b[43mpart_centroid\u001b[49m, color\u001b[38;5;241m=\u001b[39m\u001b[38;5;124m'\u001b[39m\u001b[38;5;124mSteelBlue\u001b[39m\u001b[38;5;124m'\u001b[39m, bins\u001b[38;5;241m=\u001b[39mnclust);\n\u001b[1;32m      3\u001b[0m plt\u001b[38;5;241m.\u001b[39mxlabel(\u001b[38;5;124m'\u001b[39m\u001b[38;5;124mCluster no.\u001b[39m\u001b[38;5;124m'\u001b[39m); plt\u001b[38;5;241m.\u001b[39mylabel(\u001b[38;5;124m'\u001b[39m\u001b[38;5;124mCounts\u001b[39m\u001b[38;5;124m'\u001b[39m)\n",
      "\u001b[0;31mNameError\u001b[0m: name 'part_centroid' is not defined"
     ]
    },
    {
     "data": {
      "text/plain": [
       "<Figure size 700x600 with 0 Axes>"
      ]
     },
     "metadata": {},
     "output_type": "display_data"
    }
   ],
   "source": [
    "plt.figure(figsize=(7,6))\n",
    "otpt = plt.hist(part_centroid, color='SteelBlue', bins=nclust);\n",
    "plt.xlabel('Cluster no.'); plt.ylabel('Counts')"
   ]
  },
  {
   "cell_type": "code",
   "execution_count": 17,
   "id": "82b34c39-c21d-4eca-bb9c-2824719ed0bd",
   "metadata": {},
   "outputs": [
    {
     "ename": "IndentationError",
     "evalue": "expected an indented block after 'for' statement on line 6 (3284386949.py, line 7)",
     "output_type": "error",
     "traceback": [
      "\u001b[0;36m  Cell \u001b[0;32mIn[17], line 7\u001b[0;36m\u001b[0m\n\u001b[0;31m    plt.scatter(mycat['Y'][part==n], -1*mycat['X'][part==n], s=12,color=color, edgecolor='None')\u001b[0m\n\u001b[0m    ^\u001b[0m\n\u001b[0;31mIndentationError\u001b[0m\u001b[0;31m:\u001b[0m expected an indented block after 'for' statement on line 6\n"
     ]
    }
   ],
   "source": [
    "plt.figure(figsize=(6,5))\n",
    "plt.subplot(111)\n",
    "part = part_centroid\n",
    "levels = np.arange(nclust)\n",
    "colors = plt.cm.rainbow(np.random.rand(len(levels)))\n",
    "for n, color in zip(levels, colors):\n",
    "plt.scatter(mycat['Y'][part==n], -1*mycat['X'][part==n], s=12,color=color, edgecolor='None')\n",
    "plt.plot(mycat['Y'][part==n].mean(),-1*mycat['X'][part==n].mean(),\n",
    "        'o', c='0.7', mec='k', ms=6,ls='None', mew=1.5, alpha=0.7)\n",
    "plt.xlabel('Y (Mpc)'); plt.ylabel('X (Mpc)')\n",
    "plt.scatter(mycat['Y'], -1*mycat['X'], s=10,\n",
    "            color='0.7', edgecolor='None',zorder=-1)\n",
    "plt.title('A slice of the Universe - Clusters identified')\n",
    "plt.axis('equal');"
   ]
  },
  {
   "cell_type": "code",
   "execution_count": null,
   "id": "863ef684-81fc-47cd-9c58-7cc851a465ad",
   "metadata": {},
   "outputs": [],
   "source": []
  }
 ],
 "metadata": {
  "kernelspec": {
   "display_name": "Python 3 (ipykernel)",
   "language": "python",
   "name": "python3"
  },
  "language_info": {
   "codemirror_mode": {
    "name": "ipython",
    "version": 3
   },
   "file_extension": ".py",
   "mimetype": "text/x-python",
   "name": "python",
   "nbconvert_exporter": "python",
   "pygments_lexer": "ipython3",
   "version": "3.9.13"
  }
 },
 "nbformat": 4,
 "nbformat_minor": 5
}
