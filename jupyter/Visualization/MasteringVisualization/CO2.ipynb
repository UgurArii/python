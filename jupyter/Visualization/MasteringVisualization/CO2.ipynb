{
 "cells": [
  {
   "cell_type": "code",
   "execution_count": 1,
   "id": "a5f21777-2ddb-4dcb-b5cd-ddcda595d599",
   "metadata": {},
   "outputs": [
    {
     "ename": "ModuleNotFoundError",
     "evalue": "No module named 'pymc'",
     "output_type": "error",
     "traceback": [
      "\u001b[0;31m---------------------------------------------------------------------------\u001b[0m",
      "\u001b[0;31mModuleNotFoundError\u001b[0m                       Traceback (most recent call last)",
      "\u001b[0;32m/tmp/ipykernel_4123/1568438765.py\u001b[0m in \u001b[0;36m<module>\u001b[0;34m\u001b[0m\n\u001b[1;32m      2\u001b[0m \u001b[0;32mimport\u001b[0m \u001b[0mpandas\u001b[0m \u001b[0;32mas\u001b[0m \u001b[0mpd\u001b[0m\u001b[0;34m\u001b[0m\u001b[0;34m\u001b[0m\u001b[0m\n\u001b[1;32m      3\u001b[0m \u001b[0;32mimport\u001b[0m \u001b[0mmatplotlib\u001b[0m\u001b[0;34m.\u001b[0m\u001b[0mpyplot\u001b[0m \u001b[0;32mas\u001b[0m \u001b[0mplt\u001b[0m\u001b[0;34m\u001b[0m\u001b[0;34m\u001b[0m\u001b[0m\n\u001b[0;32m----> 4\u001b[0;31m \u001b[0;32mimport\u001b[0m \u001b[0mpymc\u001b[0m\u001b[0;34m\u001b[0m\u001b[0;34m\u001b[0m\u001b[0m\n\u001b[0m",
      "\u001b[0;31mModuleNotFoundError\u001b[0m: No module named 'pymc'"
     ]
    }
   ],
   "source": [
    "import numpy as np\n",
    "import pandas as pd\n",
    "import matplotlib.pyplot as plt\n",
    "import pymc"
   ]
  },
  {
   "cell_type": "code",
   "execution_count": null,
   "id": "b8441914-2261-43bb-874b-5d0bb2813210",
   "metadata": {},
   "outputs": [],
   "source": [
    "co2_gr = pd.read_csv('co2_gr_gl.txt',delim_whitespace=True, skiprows=62, names=['year', 'rate', 'err'])\n",
    "\n",
    "co2_now = pd.read_csv('co2_annmean_gl.txt', delim_whitespace=True, skiprows=57, names=['year', 'co2', 'err'])\n",
    "\n",
    "co2_200 = pd.read_csv('siple2.013.dat')\n",
    "\n",
    "co2_1000 = pd.read_csv('lawdome.smoothed.yr75.dat', delim_whitespace=True, skiprows=22, names=['year', 'co2'])"
   ]
  },
  {
   "cell_type": "code",
   "execution_count": 2,
   "id": "15f3dbae-ee22-4406-8230-317e7d2091d0",
   "metadata": {},
   "outputs": [
    {
     "ename": "NameError",
     "evalue": "name 'co2_now' is not defined",
     "output_type": "error",
     "traceback": [
      "\u001b[0;31m---------------------------------------------------------------------------\u001b[0m",
      "\u001b[0;31mNameError\u001b[0m                                 Traceback (most recent call last)",
      "\u001b[0;32m/tmp/ipykernel_4123/4250269509.py\u001b[0m in \u001b[0;36m<module>\u001b[0;34m\u001b[0m\n\u001b[0;32m----> 1\u001b[0;31m \u001b[0mco2_now\u001b[0m\u001b[0;34m.\u001b[0m\u001b[0mtail\u001b[0m\u001b[0;34m(\u001b[0m\u001b[0;34m)\u001b[0m\u001b[0;34m\u001b[0m\u001b[0;34m\u001b[0m\u001b[0m\n\u001b[0m",
      "\u001b[0;31mNameError\u001b[0m: name 'co2_now' is not defined"
     ]
    }
   ],
   "source": [
    "co2_now.tail()"
   ]
  },
  {
   "cell_type": "code",
   "execution_count": 3,
   "id": "41849fbe-51a8-4f67-ab91-2abfc2b44adf",
   "metadata": {},
   "outputs": [
    {
     "ename": "NameError",
     "evalue": "name 'co2_now' is not defined",
     "output_type": "error",
     "traceback": [
      "\u001b[0;31m---------------------------------------------------------------------------\u001b[0m",
      "\u001b[0;31mNameError\u001b[0m                                 Traceback (most recent call last)",
      "\u001b[0;32m/tmp/ipykernel_4123/397246032.py\u001b[0m in \u001b[0;36m<module>\u001b[0;34m\u001b[0m\n\u001b[0;32m----> 1\u001b[0;31m \u001b[0mco2_now\u001b[0m \u001b[0;34m=\u001b[0m \u001b[0mco2_now\u001b[0m\u001b[0;34m[\u001b[0m\u001b[0;34m:\u001b[0m\u001b[0;34m-\u001b[0m\u001b[0;36m3\u001b[0m\u001b[0;34m]\u001b[0m\u001b[0;34m\u001b[0m\u001b[0;34m\u001b[0m\u001b[0m\n\u001b[0m",
      "\u001b[0;31mNameError\u001b[0m: name 'co2_now' is not defined"
     ]
    }
   ],
   "source": [
    "co2_now = co2_now[:-3]"
   ]
  },
  {
   "cell_type": "code",
   "execution_count": 4,
   "id": "74bd47a1-0060-4858-b9cf-6f5792ce428b",
   "metadata": {},
   "outputs": [
    {
     "ename": "NameError",
     "evalue": "name 'co2_now' is not defined",
     "output_type": "error",
     "traceback": [
      "\u001b[0;31m---------------------------------------------------------------------------\u001b[0m",
      "\u001b[0;31mNameError\u001b[0m                                 Traceback (most recent call last)",
      "\u001b[0;32m/tmp/ipykernel_4123/4053252863.py\u001b[0m in \u001b[0;36m<module>\u001b[0;34m\u001b[0m\n\u001b[0;32m----> 1\u001b[0;31m print( co2_now['year'].dtype, co2_1000['co2'].dtype,\n\u001b[0m\u001b[1;32m      2\u001b[0m co2_now['co2'].dtype, co2_gr['rate'].dtype)\n",
      "\u001b[0;31mNameError\u001b[0m: name 'co2_now' is not defined"
     ]
    }
   ],
   "source": [
    "print( co2_now['year'].dtype, co2_1000['co2'].dtype,\n",
    "co2_now['co2'].dtype, co2_gr['rate'].dtype)"
   ]
  },
  {
   "cell_type": "code",
   "execution_count": null,
   "id": "7f2e68a7-c53e-4c4c-ae8d-0101b5e69cf1",
   "metadata": {},
   "outputs": [],
   "source": [
    "co2_now['year'] = pd.to_numeric(co2_now['year'])\n",
    "co2_now['co2'] = pd.to_numeric(co2_now['co2'])\n",
    "co2_now['co2'].dtype,co2_now['year'].dtype"
   ]
  },
  {
   "cell_type": "code",
   "execution_count": null,
   "id": "c7cec9ee-8275-4871-ab18-4b1a55a4ed53",
   "metadata": {},
   "outputs": [],
   "source": [
    "fig, axs = plt.subplots(1,2,figsize=(10,4))\n",
    "ax2 = axs[0]\n",
    "ax2.errorbar(co2_now['year'], co2_now['co2'],\n",
    "#yerr=co2_now['err'],\n",
    "color='SteelBlue', ls='None', elinewidth=1.5, capthick=1.5, marker='.', ms=6)\n",
    "ax2.plot(co2_1000['year'], co2_1000['co2'], color='Green', ls='None', marker='.', ms=6)\n",
    "ax2.plot(co2_200['year'], co2_200['co2'], color='IndianRed', ls='None', marker='.', ms=6)\n",
    "ax2.axvline(1800, lw=2, color='Gray', dashes=(6,5))\n",
    "ax2.axvline(co2_gr['year'][0], lw=2, color='SteelBlue', dashes=(6,5))\n",
    "print(co2_gr['year'][0])\n",
    "ax2.legend(['Recent', 'LAW ice core', 'SIPLE ice core'],fontsize=15, loc=2)\n",
    "labels = ax2.get_xticklabels()\n",
    "plt.setp(labels, rotation=33, ha='right')\n",
    "ax2.set_ylabel('CO$_2$ (ppm)')\n",
    "ax2.set_xlabel('Year')\n",
    "ax2.set_title('Past CO$_2$')\n",
    "ax1 = axs[1]\n",
    "ax1.errorbar(co2_gr['year'], co2_gr['rate'], yerr=co2_gr['err'], color='SteelBlue', ls='None',\n",
    "elinewidth=1.5,capthick=1.5, marker='.', ms=8)\n",
    "labels = ax1.get_xticklabels()\n",
    "plt.setp(labels, rotation=33, ha='right')\n",
    "ax1.set_ylabel('CO$_2$ growth (ppm/yr)')\n",
    "ax1.set_xlabel('Year')\n",
    "ax1.set_xlim((1957,2016))\n",
    "ax1.set_title('Growth rate since 1960');"
   ]
  },
  {
   "cell_type": "code",
   "execution_count": null,
   "id": "a4829984-040b-4d4b-b6d5-f1a7c94908c2",
   "metadata": {},
   "outputs": [],
   "source": [
    "_ = plt.hist(co2_gr['err'], bins=20)\n",
    "plt.xlabel('Uncertainty')\n",
    "plt.ylabel('Count')"
   ]
  },
  {
   "cell_type": "code",
   "execution_count": null,
   "id": "ebf6420d-5acf-4af5-992b-4610ae44026f",
   "metadata": {},
   "outputs": [],
   "source": [
    "x = co2_gr['year'].values\n",
    "y = co2_gr['rate'].values\n",
    "y_error = co2_gr['err'].values"
   ]
  },
  {
   "cell_type": "code",
   "execution_count": null,
   "id": "ffb0ccb2-88fb-497f-a65a-c65278850102",
   "metadata": {},
   "outputs": [],
   "source": [
    "def model(x, y):\n",
    "    slope = pymc.Normal('slope', 0.1, 1.)\n",
    "    intercept = pymc.Normal('intercept', -50., 10.)\n",
    "    @pymc.deterministic(plot=False)\n",
    "    def linear(x=x, slope=slope, intercept=intercept):\n",
    "        return x * slope + intercept\n",
    "    f = pymc.Normal('f', mu=linear,\n",
    "                    tau=1.0/y_error, value=y, observed=True)\n",
    "    return locals()"
   ]
  },
  {
   "cell_type": "code",
   "execution_count": null,
   "id": "9c9fb8d1-ea30-4380-bbc1-87c4c4308797",
   "metadata": {},
   "outputs": [],
   "source": [
    "MDL = pymc.MCMC(model(x,y))\n",
    "MDL.sample(5e5, 5e4, 100)"
   ]
  },
  {
   "cell_type": "code",
   "execution_count": null,
   "id": "8f739754-4509-451b-99d2-9d67ca5568ca",
   "metadata": {},
   "outputs": [],
   "source": [
    "y_min = MDL.stats()['linear']['quantiles'][2.5]\n",
    "y_max = MDL.stats()['linear']['quantiles'][97.5]\n",
    "y_fit = MDL.stats()['linear']['mean']\n",
    "slope = MDL.stats()['slope']['mean']\n",
    "slope_err = MDL.stats()['slope']['standard deviation']\n",
    "intercept = MDL.stats()['intercept']['mean']\n",
    "intercept_err = MDL.stats()['intercept']['standard deviation']"
   ]
  },
  {
   "cell_type": "code",
   "execution_count": null,
   "id": "32e41290-4c46-41da-9024-ff871af463b5",
   "metadata": {},
   "outputs": [],
   "source": [
    "mcplt.plot(MDL)"
   ]
  },
  {
   "cell_type": "code",
   "execution_count": null,
   "id": "b3d11dc3-94aa-4023-a15f-0adc7211a161",
   "metadata": {},
   "outputs": [],
   "source": [
    "import statsmodels.formula.api as smf\n",
    "from statsmodels.sandbox.regression.predstd import wls_prediction_std\n",
    "ols_results = smf.ols(\"rate ~ year\", co2_gr).fit()"
   ]
  },
  {
   "cell_type": "code",
   "execution_count": null,
   "id": "0fc42a09-7b3c-45a8-83f6-f2492a592800",
   "metadata": {},
   "outputs": [],
   "source": [
    "prstd, iv_l, iv_u = wls_prediction_std(ols_results)\n",
    "ols_params = np.flipud(ols_results.params)\n",
    "ols_err = np.flipud(np.diag(ols_results.cov_params())**.5)"
   ]
  },
  {
   "cell_type": "code",
   "execution_count": null,
   "id": "66613f2a-0d3c-44ea-8d8e-483d6275e89c",
   "metadata": {},
   "outputs": [],
   "source": [
    "print('OLS: slope:{0:.3f}, intercept:{1:.2f}'.format(*ols_params))\n",
    "print('Bay: slope:{0:.3f}, intercept:{1:.2f}'.format(slope,intercept))"
   ]
  },
  {
   "cell_type": "code",
   "execution_count": null,
   "id": "468833bd-823b-4043-9657-a908fff0287f",
   "metadata": {},
   "outputs": [],
   "source": [
    "ols_results.conf_int(alpha=0.05)"
   ]
  },
  {
   "cell_type": "code",
   "execution_count": null,
   "id": "ddc5d185-f935-43bc-837c-ba767dbdf2e3",
   "metadata": {},
   "outputs": [],
   "source": [
    "MDL.stats(['intercept','slope'])"
   ]
  },
  {
   "cell_type": "code",
   "execution_count": null,
   "id": "4428a9f7-1ad8-40fe-8666-f4d157a99dff",
   "metadata": {},
   "outputs": [],
   "source": [
    "plt.figure(figsize=(10,6))\n",
    "plt.title('Growth rate since 1960');\n",
    "plt.errorbar(x,y,yerr=y_error, color='SteelBlue', ls='None', elinewidth=1.5, capthick=1.5,\n",
    "marker='.', ms=8, label='Observed')\n",
    "plt.xlabel('Year')\n",
    "plt.ylabel('CO$_2$ growth rate (ppm/yr)')\n",
    "plt.plot(x, y_fit, 'k', lw=2, label='pymc')\n",
    "plt.fill_between(x, y_min, y_max, color='0.5', alpha=0.5, label='Uncertainty')\n",
    "plt.plot([x.min(), x.max()], [ols_results.fittedvalues.min(), ols_results.fittedvalues.max()], 'r', dashes=(13,2), lw=1.5, label='OLS', zorder=32)\n",
    "plt.legend(loc=2, numpoints=1)"
   ]
  },
  {
   "cell_type": "code",
   "execution_count": null,
   "id": "33dd59cb-fb0a-4273-9f4a-4e3a6f96bba5",
   "metadata": {},
   "outputs": [],
   "source": []
  }
 ],
 "metadata": {
  "kernelspec": {
   "display_name": "Python 3 (ipykernel)",
   "language": "python",
   "name": "python3"
  },
  "language_info": {
   "codemirror_mode": {
    "name": "ipython",
    "version": 3
   },
   "file_extension": ".py",
   "mimetype": "text/x-python",
   "name": "python",
   "nbconvert_exporter": "python",
   "pygments_lexer": "ipython3",
   "version": "3.9.13"
  }
 },
 "nbformat": 4,
 "nbformat_minor": 5
}
