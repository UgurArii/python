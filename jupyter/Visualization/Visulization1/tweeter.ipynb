{
 "cells": [
  {
   "cell_type": "code",
   "execution_count": 3,
   "id": "33328861-04ce-4420-aae7-c7ff9fac1cb1",
   "metadata": {},
   "outputs": [
    {
     "ename": "ModuleNotFoundError",
     "evalue": "No module named 'tweepy'",
     "output_type": "error",
     "traceback": [
      "\u001b[0;31m---------------------------------------------------------------------------\u001b[0m",
      "\u001b[0;31mModuleNotFoundError\u001b[0m                       Traceback (most recent call last)",
      "Cell \u001b[0;32mIn[3], line 1\u001b[0m\n\u001b[0;32m----> 1\u001b[0m \u001b[38;5;28;01mimport\u001b[39;00m \u001b[38;5;21;01mtweepy\u001b[39;00m\n\u001b[1;32m      2\u001b[0m \u001b[38;5;28;01mimport\u001b[39;00m \u001b[38;5;21;01mjson\u001b[39;00m\n\u001b[1;32m      3\u001b[0m \u001b[38;5;28;01mimport\u001b[39;00m \u001b[38;5;21;01msys\u001b[39;00m\n",
      "\u001b[0;31mModuleNotFoundError\u001b[0m: No module named 'tweepy'"
     ]
    }
   ],
   "source": [
    "import tweepy\n",
    "import json\n",
    "import sys\n",
    "import codecs\n",
    "\n",
    "counter = 0\n",
    "MAX_TWEETS = 500\n",
    "#Variables that contains the user credentials to access Twitter API\n",
    "access_token = \"Access Token\"\n",
    "access_token_secret = \"Access Secret\"\n",
    "consumer_key = \"Consumer Key\"\n",
    "consumer_secret = \"Consumer Secret\"\n",
    "fp = codecs.open(\"filtered_tweets.txt\", \"w\", \"utf-8\")\n",
    "class CustomStreamListener(tweepy.StreamListener):\n",
    "    def on_status(self, status):\n",
    "        global counter\n",
    "        fp.write(status.text)\n",
    "        print(\"Tweet-count:\" +str(counter))\n",
    "        counter += 1\n",
    "        if counter >= MAX_TWEETS: sys.exit()\n",
    "    def on_error(self, status):\n",
    "        print(status)\n",
    "if __name__ == '__main__':\n",
    "    auth = tweepy.OAuthHandler(consumer_key, consumer_secret)\n",
    "    auth.set_access_token(access_token, access_token_secret)\n",
    "    streaming_api = tweepy.streaming.Stream(auth,CustomStreamListener(), timeout=60)\n",
    "    streaming_api.filter(track=['python program', 'statistics', 'data visualization', 'big data', 'machine learning'])"
   ]
  },
  {
   "cell_type": "code",
   "execution_count": null,
   "id": "5debe2e6-4b1e-4316-b75c-4f2a81b0a1a6",
   "metadata": {},
   "outputs": [],
   "source": []
  }
 ],
 "metadata": {
  "kernelspec": {
   "display_name": "Python 3 (ipykernel)",
   "language": "python",
   "name": "python3"
  },
  "language_info": {
   "codemirror_mode": {
    "name": "ipython",
    "version": 3
   },
   "file_extension": ".py",
   "mimetype": "text/x-python",
   "name": "python",
   "nbconvert_exporter": "python",
   "pygments_lexer": "ipython3",
   "version": "3.9.13"
  }
 },
 "nbformat": 4,
 "nbformat_minor": 5
}
