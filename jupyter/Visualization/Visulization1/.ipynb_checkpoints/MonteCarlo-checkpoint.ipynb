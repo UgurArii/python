{
 "cells": [
  {
   "cell_type": "markdown",
   "id": "cc0019e5-89d8-4881-9321-58e92c69e5aa",
   "metadata": {},
   "source": [
    "Monte Carlo"
   ]
  },
  {
   "cell_type": "code",
   "execution_count": 13,
   "id": "48fa28f3-6a42-46f6-9076-2eceea498cd9",
   "metadata": {},
   "outputs": [],
   "source": [
    "import numpy as np\n",
    "from math import log\n",
    "import matplotlib.pyplot as plt\n",
    "from numpy.random import rand\n"
   ]
  },
  {
   "cell_type": "code",
   "execution_count": 14,
   "id": "a8184f14-995b-4807-80ef-2b016a62c2ff",
   "metadata": {},
   "outputs": [],
   "source": [
    "x = []\n",
    "y = []\n"
   ]
  },
  {
   "cell_type": "code",
   "execution_count": 17,
   "id": "eb624e79-6e51-45c5-95e1-5ddc5a25dce0",
   "metadata": {},
   "outputs": [
    {
     "name": "stdout",
     "output_type": "stream",
     "text": [
      "Max Profit: 119.39999999999999\n"
     ]
    },
    {
     "data": {
      "image/png": "[encoded data removed]",
      "text/plain": [
       "<Figure size 640x480 with 1 Axes>"
      ]
     },
     "metadata": {},
     "output_type": "display_data"
    }
   ],
   "source": [
    "#Equation that defines Profit\n",
    "def generateProfit(d):\n",
    "    global s\n",
    "    if d >= s:\n",
    "        return 0.6*s\n",
    "    else:\n",
    "        return 0.6*d - 0.4*(s-d)\n",
    "# Although y comes from uniform distribution in [80,140]\n",
    "# we are running simulation for d in [20,305]\n",
    "maxprofit=0\n",
    "for s in range (20, 305):\n",
    "# Run a simulation for n = 1000\n",
    "# Even if we run for n = 10,000 the result would\n",
    "# be almost the same\n",
    "    for i in range(1,1000):\n",
    "        # generate a random value of d\n",
    "        d = np.random.randint(10,high=200)\n",
    "        # for this random value of d, find profit and\n",
    "        # update maxprofit\n",
    "        profit = generateProfit(d)\n",
    "        if profit > maxprofit:\n",
    "            maxprofit = profit\n",
    "        #store the value of s to be plotted along X axis\n",
    "    x.append(s)\n",
    "    #store the value of maxprofit plotted along Y axis\n",
    "    y.append(log(maxprofit)) # plotted on log scale\n",
    "plt.plot(x,y)\n",
    "print(\"Max Profit:\",maxprofit)\n",
    "# Will display this\n"
   ]
  },
  {
   "cell_type": "code",
   "execution_count": 19,
   "id": "6173fda1-410e-4ffe-b046-560f684dfe90",
   "metadata": {},
   "outputs": [
    {
     "name": "stdout",
     "output_type": "stream",
     "text": [
      "The probability of a shared birthday in a class of  30  is  0.7107\n"
     ]
    }
   ],
   "source": [
    "numstudents = 30\n",
    "numTrials = 10000\n",
    "numWithSameBday = 0\n",
    "for trial in range(numTrials):\n",
    "    year = [0] * 365\n",
    "    for i in range(numstudents):\n",
    "        newBDay = np.random.randint(365)\n",
    "        year[newBDay] = year[newBDay] + 1\n",
    "    haveSameBday = False\n",
    "    for num in year:\n",
    "        if num > 1:\n",
    "            haveSameBday = True\n",
    "    if haveSameBday == True:\n",
    "        numWithSameBday = numWithSameBday +1\n",
    "prob = float(numWithSameBday) / float(numTrials)\n",
    "print(\"The probability of a shared birthday in a class of \", numstudents, \" is \", prob)"
   ]
  },
  {
   "cell_type": "code",
   "execution_count": 20,
   "id": "17e10914-ad95-462f-90f4-f236a1692ca2",
   "metadata": {},
   "outputs": [],
   "source": [
    "import numpy as np\n",
    "import matplotlib.pyplot as plt"
   ]
  },
  {
   "cell_type": "code",
   "execution_count": 24,
   "id": "936dd91c-8f5d-4972-b5ed-0dea7f2a5f46",
   "metadata": {},
   "outputs": [
    {
     "ename": "IndentationError",
     "evalue": "expected an indented block after 'if' statement on line 62 (728762567.py, line 63)",
     "output_type": "error",
     "traceback": [
      "\u001b[0;36m  Cell \u001b[0;32mIn[24], line 63\u001b[0;36m\u001b[0m\n\u001b[0;31m    if (pointsDown > 0):\u001b[0m\n\u001b[0m    ^\u001b[0m\n\u001b[0;31mIndentationError\u001b[0m\u001b[0;31m:\u001b[0m expected an indented block after 'if' statement on line 62\n"
     ]
    }
   ],
   "source": [
    "colors = [(31, 119, 180), (174, 199, 232), (255, 127, 14),\n",
    "          (255, 187, 120), (44, 160, 44), (214, 39, 40), (148,103,189),\n",
    "          (152, 223, 138), (255,152,150), (197, 176, 213), (140, 86, 75),\n",
    "          (196, 156, 148), (227,119,194), (247, 182, 210), (127,127,127),\n",
    "          (199, 199, 199),(188,189, 34),(219, 219, 141), (23, 190,207),\n",
    "          (15, 218, 229),(217,217,217)]\n",
    "\n",
    "# Scale RGB values to the [0, 1] range, format matplotlib accepts.\n",
    "for i in range(len(colors)):\n",
    "    r, g, b = colors[i]\n",
    "    colors[i] = (r/255., g/255., b/255.)\n",
    "\n",
    "def attemptThree():\n",
    "    if np.random.randint(0, high=100) < threePtPercent:\n",
    "        if np.random.randint(0, high=100) < overtimePercent:\n",
    "            return True #We won!!\n",
    "    return False #We either missed the 3 or lost in OT\n",
    "\n",
    "def attemptTwo():\n",
    "    havePossession = True\n",
    "    pointsDown = 3\n",
    "    timeLeft = 30\n",
    "    while (timeLeft > 0):\n",
    "        #What to do if we have possession\n",
    "        if (havePossession):\n",
    "        #If we are down by 3 or more, we take the\n",
    "        #2 quickly. If we are down by 2 or less\n",
    "        #We run down the clock first\n",
    "            if (pointsDown >= 3):\n",
    "                timeLeft -= timeToShoot2\n",
    "            else:\n",
    "                timeLeft = 0\n",
    "            #Do we make the shot?\n",
    "            if (np.random.randint(0, high=100) < twoPtPercent):\n",
    "                pointsDown -= 2\n",
    "                havePossession = False\n",
    "            else:\n",
    "                #Does the opponent team rebound?\n",
    "                #If so, we lose possession.\n",
    "                #This doesn't really matter when we run\n",
    "                #the clock down\n",
    "                if (np.random.randint(0, high=100) >= offenseReboundPercent):\n",
    "                    havePossession = False\n",
    "                else:\n",
    "                    #cases where we don't have possession\n",
    "                    if (pointsDown > 0): #foul to get back possession\n",
    "                    #takes time to foul\n",
    "                        timeLeft -= timeToFoul\n",
    "                        #opponent takes 2 free throws\n",
    "                        if (np.random.randint(0, high=100) < oppFtPercent):\n",
    "                            pointsDown += 1\n",
    "                        if (np.random.randint(0, high=100) < oppFtPercent):\n",
    "                            pointsDown += 1\n",
    "                            havePossession = True\n",
    "                    else:\n",
    "                        if (np.random.randint(0, high=100) >= ftReboundPercent):\n",
    "                            #you were able to rebound the missed ft\n",
    "                            havePossession = True\n",
    "                        else:\n",
    "                            #tied or up so don't want to foul;\n",
    "                            #assume opponent to run out clock and take\n",
    "                            if (np.random.randint(0, high=100) < oppTwoPtPercent):\n",
    "        if (pointsDown > 0):\n",
    "            return False\n",
    "        else:\n",
    "            if (pointsDown < 0):\n",
    "                return True\n",
    "            else:\n",
    "                if (np.random.randint(0, high=100) < overtimePercent):\n",
    "                    return True\n",
    "                else:\n",
    "                    return False\n",
    "plt.figure(figsize=(14,14))\n",
    "names=['Lebron James', 'Kyrie Irving', 'Steph Curry',\n",
    "'Kyle Krover', 'Dirk Nowitzki']\n",
    "threePercents = [35.4,46.8,44.3,49.2, 38.0]\n",
    "twoPercents = [53.6,49.1,52.8, 47.0,48.6]\n",
    "colind=0\n",
    "for i in range(5): # can be run individually as well\n",
    "    x=[]\n",
    "    y1=[]\n",
    "    y2=[]\n",
    "    trials = 400 #Number of trials to run for simulation\n",
    "    threePtPercent = threePercents[i] # % chance of making 3-pt shot\n",
    "    twoPtPercent = twoPercents[i] # % chance of making a 2-pt shot\n",
    "    oppTwoPtPercent = 40 #Opponent % chance making 2-pter\n",
    "    oppFtPercent = 70 #Opponent's FT %\n",
    "    timeToShoot2 = 5 #How many seconds elapse to shoot a 2\n",
    "    timeToFoul = 5 #How many seconds elapse to foul opponent\n",
    "    offenseReboundPercent = 25 #% of regular offense rebound\n",
    "    ftReboundPercent = 15 #% of offense rebound after missed FT\n",
    "    overtimePercent = 50 #% chance of winning in overtime\n",
    "    winsTakingThree = 0\n",
    "    lossTakingThree = 0\n",
    "    winsTakingTwo = 0\n",
    "    lossTakingTwo = 0\n",
    "curTrial = 1\n",
    "while curTrial < trials:\n",
    "    #run a trial take the 3\n",
    "    if (attemptThree()):\n",
    "        winsTakingThree += 1\n",
    "    else:\n",
    "        lossTakingThree += 1\n",
    "        #run a trial taking a 2\n",
    "        if attemptTwo() == True :\n",
    "            winsTakingTwo += 1\n",
    "        else:\n",
    "            lossTakingTwo += 1\n",
    "        x.append(curTrial)\n",
    "        y1.append(winsTakingThree)\n",
    "        y2.append(winsTakingTwo)\n",
    "        curTrial += 1\n",
    "plt.plot(x,y1, color=colors[colind], label=names[i]+\" Wins Taking Three Point\", linewidth=2)\n",
    "plt.plot(x,y2, color=colors[20], label=names[i]+\" Wins Taking Two Point\", linewidth=1.2)\n",
    "colind += 2\n",
    "legend = plt.legend(loc='upper left', shadow=True,)\n",
    "for legobj in legend.legendHandles:\n",
    "legobj.set_linewidth(2.6)\n",
    "plt.show()"
   ]
  },
  {
   "cell_type": "code",
   "execution_count": null,
   "id": "fc90ace8-5075-497c-9543-74e70c18d100",
   "metadata": {},
   "outputs": [],
   "source": []
  }
 ],
 "metadata": {
  "kernelspec": {
   "display_name": "Python 3 (ipykernel)",
   "language": "python",
   "name": "python3"
  },
  "language_info": {
   "codemirror_mode": {
    "name": "ipython",
    "version": 3
   },
   "file_extension": ".py",
   "mimetype": "text/x-python",
   "name": "python",
   "nbconvert_exporter": "python",
   "pygments_lexer": "ipython3",
   "version": "3.10.8"
  }
 },
 "nbformat": 4,
 "nbformat_minor": 5
}
