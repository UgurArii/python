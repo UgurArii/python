{
 "cells": [
  {
   "cell_type": "code",
   "execution_count": 9,
   "id": "b6fabe21-11db-40d8-b237-ec29459f7dbf",
   "metadata": {},
   "outputs": [
    {
     "ename": "ImportError",
     "evalue": "cannot import name 'plotfile' from 'pylab' (/root/tutorial-env/lib/python3.10/site-packages/pylab.py)",
     "output_type": "error",
     "traceback": [
      "\u001b[0;31m---------------------------------------------------------------------------\u001b[0m",
      "\u001b[0;31mImportError\u001b[0m                               Traceback (most recent call last)",
      "Cell \u001b[0;32mIn[9], line 1\u001b[0m\n\u001b[0;32m----> 1\u001b[0m \u001b[38;5;28;01mfrom\u001b[39;00m \u001b[38;5;21;01mpylab\u001b[39;00m \u001b[38;5;28;01mimport\u001b[39;00m plotfile, show, gca\n\u001b[1;32m      2\u001b[0m \u001b[38;5;28;01mimport\u001b[39;00m \u001b[38;5;21;01mmatplotlib\u001b[39;00m\u001b[38;5;21;01m.\u001b[39;00m\u001b[38;5;21;01mcbook\u001b[39;00m \u001b[38;5;28;01mas\u001b[39;00m \u001b[38;5;21;01mcbook\u001b[39;00m\n\u001b[1;32m      3\u001b[0m fname \u001b[38;5;241m=\u001b[39m cbook\u001b[38;5;241m.\u001b[39mget_sample_data(\u001b[38;5;124m'\u001b[39m\u001b[38;5;124m/Users/MacBook/stocks/amzn.csv\u001b[39m\u001b[38;5;124m'\u001b[39m,\n\u001b[1;32m      4\u001b[0m asfileobj\u001b[38;5;241m=\u001b[39m\u001b[38;5;28;01mFalse\u001b[39;00m)\n",
      "\u001b[0;31mImportError\u001b[0m: cannot import name 'plotfile' from 'pylab' (/root/tutorial-env/lib/python3.10/site-packages/pylab.py)"
     ]
    }
   ],
   "source": [
    "from pylab import plotfile, show, gca\n",
    "import matplotlib.cbook as cbook\n",
    "fname = cbook.get_sample_data('amzn.csv',\n",
    "asfileobj=False)\n",
    "plotfile(fname, ('date', 'high', 'low', 'close'), subplots=False)\n",
    "show()"
   ]
  },
  {
   "cell_type": "code",
   "execution_count": 13,
   "id": "3cf95c5a-b022-48f2-8311-6165f1d1c758",
   "metadata": {},
   "outputs": [
    {
     "ename": "ModuleNotFoundError",
     "evalue": "No module named 'matplotlib.finance'",
     "output_type": "error",
     "traceback": [
      "\u001b[0;31m---------------------------------------------------------------------------\u001b[0m",
      "\u001b[0;31mModuleNotFoundError\u001b[0m                       Traceback (most recent call last)",
      "Cell \u001b[0;32mIn[13], line 1\u001b[0m\n\u001b[0;32m----> 1\u001b[0m \u001b[38;5;28;01mimport\u001b[39;00m \u001b[38;5;21;01mmatplotlib\u001b[39;00m\u001b[38;5;21;01m.\u001b[39;00m\u001b[38;5;21;01mfinance\u001b[39;00m \u001b[38;5;28;01mas\u001b[39;00m \u001b[38;5;21;01mfinance\u001b[39;00m\n\u001b[1;32m      2\u001b[0m \u001b[38;5;28;01mimport\u001b[39;00m \u001b[38;5;21;01mmatplotlib\u001b[39;00m\u001b[38;5;21;01m.\u001b[39;00m\u001b[38;5;21;01mmlab\u001b[39;00m \u001b[38;5;28;01mas\u001b[39;00m \u001b[38;5;21;01mmlab\u001b[39;00m\n\u001b[1;32m      3\u001b[0m \u001b[38;5;28;01mimport\u001b[39;00m \u001b[38;5;21;01mdatetime\u001b[39;00m\n",
      "\u001b[0;31mModuleNotFoundError\u001b[0m: No module named 'matplotlib.finance'"
     ]
    }
   ],
   "source": [
    "import matplotlib.finance as finance\n",
    "import matplotlib.mlab as mlab\n",
    "import datetime\n",
    "startdate = datetime.date(2014,4,12)\n",
    "today = enddate = datetime.date.today()\n",
    "fh = finance.fetch_historical_yahoo(ticker, startdate, enddate)\n",
    "r = mlab.csv2rec(fh); fh.close()\n",
    "r.sort()\n",
    "print(r[:2])"
   ]
  },
  {
   "cell_type": "code",
   "execution_count": null,
   "id": "db1b2373-2679-4ae6-bb9d-35a494b3939e",
   "metadata": {},
   "outputs": [],
   "source": []
  }
 ],
 "metadata": {
  "kernelspec": {
   "display_name": "Python 3 (ipykernel)",
   "language": "python",
   "name": "python3"
  },
  "language_info": {
   "codemirror_mode": {
    "name": "ipython",
    "version": 3
   },
   "file_extension": ".py",
   "mimetype": "text/x-python",
   "name": "python",
   "nbconvert_exporter": "python",
   "pygments_lexer": "ipython3",
   "version": "3.10.8"
  }
 },
 "nbformat": 4,
 "nbformat_minor": 5
}
