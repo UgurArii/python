{
 "cells": [
  {
   "cell_type": "code",
   "execution_count": 2,
   "id": "aef95a60-e2f5-4fad-9737-aff0e0177047",
   "metadata": {},
   "outputs": [],
   "source": [
    "from decimal import Decimal\n",
    "import matplotlib.pyplot as plt"
   ]
  },
  {
   "cell_type": "code",
   "execution_count": 12,
   "id": "cde7a4d0-5c29-4831-8949-79eebe4f6900",
   "metadata": {},
   "outputs": [
    {
     "ename": "TypeError",
     "evalue": "unsupported operand type(s) for -: 'decimal.Decimal' and 'float'",
     "output_type": "error",
     "traceback": [
      "\u001b[0;31m---------------------------------------------------------------------------\u001b[0m",
      "\u001b[0;31mTypeError\u001b[0m                                 Traceback (most recent call last)",
      "Cell \u001b[0;32mIn[12], line 77\u001b[0m\n\u001b[1;32m     74\u001b[0m markersize\u001b[38;5;241m=\u001b[39m[\u001b[38;5;241m8\u001b[39m,\u001b[38;5;241m8\u001b[39m,\u001b[38;5;241m8\u001b[39m,\u001b[38;5;241m12\u001b[39m,\u001b[38;5;241m8\u001b[39m,\u001b[38;5;241m8\u001b[39m,\u001b[38;5;241m8\u001b[39m,\u001b[38;5;241m12\u001b[39m,\u001b[38;5;241m8\u001b[39m,\u001b[38;5;241m8\u001b[39m,\u001b[38;5;241m8\u001b[39m,\u001b[38;5;241m8\u001b[39m,\u001b[38;5;241m8\u001b[39m,\u001b[38;5;241m8\u001b[39m,\u001b[38;5;241m8\u001b[39m,\u001b[38;5;241m8\u001b[39m,\u001b[38;5;241m8\u001b[39m,\u001b[38;5;241m8\u001b[39m,\u001b[38;5;241m8\u001b[39m,\u001b[38;5;241m8\u001b[39m,\u001b[38;5;241m8\u001b[39m,\u001b[38;5;241m8\u001b[39m,\u001b[38;5;241m8\u001b[39m,\u001b[38;5;241m8\u001b[39m,\u001b[38;5;241m8\u001b[39m]\n\u001b[1;32m     76\u001b[0m \u001b[38;5;28;01mfor\u001b[39;00m extra \u001b[38;5;129;01min\u001b[39;00m \u001b[38;5;28mrange\u001b[39m(\u001b[38;5;241m100\u001b[39m, \u001b[38;5;241m1700\u001b[39m, \u001b[38;5;241m100\u001b[39m):\n\u001b[0;32m---> 77\u001b[0m     xv, bv, saved \u001b[38;5;241m=\u001b[39m \u001b[43mamortization_table\u001b[49m\u001b[43m(\u001b[49m\u001b[38;5;241;43m450000\u001b[39;49m\u001b[43m,\u001b[49m\u001b[43m \u001b[49m\u001b[38;5;241;43m5\u001b[39;49m\u001b[43m,\u001b[49m\u001b[43m \u001b[49m\u001b[38;5;241;43m360\u001b[39;49m\u001b[43m,\u001b[49m\u001b[43m \u001b[49m\u001b[43mextra\u001b[49m\u001b[43m,\u001b[49m\u001b[43m \u001b[49m\u001b[38;5;28;43;01mFalse\u001b[39;49;00m\u001b[43m)\u001b[49m\n\u001b[1;32m     78\u001b[0m     \u001b[38;5;28;01mif\u001b[39;00m extra \u001b[38;5;241m==\u001b[39m \u001b[38;5;241m0\u001b[39m:\n\u001b[1;32m     79\u001b[0m         plt\u001b[38;5;241m.\u001b[39mplot(xv, bv, color\u001b[38;5;241m=\u001b[39mcolors[i], lw \u001b[38;5;241m=\u001b[39m \u001b[38;5;241m2.2\u001b[39m, label\u001b[38;5;241m=\u001b[39m\u001b[38;5;124m'\u001b[39m\u001b[38;5;124mPrincipal only\u001b[39m\u001b[38;5;124m'\u001b[39m, marker \u001b[38;5;241m=\u001b[39m markers[i], markersize\u001b[38;5;241m=\u001b[39mmarkersize[i])\n",
      "Cell \u001b[0;32mIn[12], line 40\u001b[0m, in \u001b[0;36mamortization_table\u001b[0;34m(principal, rate, term, extrapayment, printData)\u001b[0m\n\u001b[1;32m     38\u001b[0m \u001b[38;5;28;01mwhile\u001b[39;00m(num \u001b[38;5;241m<\u001b[39m term \u001b[38;5;241m+\u001b[39m \u001b[38;5;241m1\u001b[39m) \u001b[38;5;129;01mand\u001b[39;00m (endBal \u001b[38;5;241m>\u001b[39m \u001b[38;5;241m0\u001b[39m):\n\u001b[1;32m     39\u001b[0m     interest \u001b[38;5;241m=\u001b[39m \u001b[38;5;28mround\u001b[39m(begBal \u001b[38;5;241m*\u001b[39m (rate \u001b[38;5;241m/\u001b[39m (\u001b[38;5;241m12\u001b[39m \u001b[38;5;241m*\u001b[39m \u001b[38;5;241m100.0\u001b[39m)),\u001b[38;5;241m2\u001b[39m)\n\u001b[0;32m---> 40\u001b[0m     applied \u001b[38;5;241m=\u001b[39m extrapayment \u001b[38;5;241m+\u001b[39m \u001b[38;5;28mround\u001b[39m(\u001b[43mpayment\u001b[49m\u001b[43m \u001b[49m\u001b[38;5;241;43m-\u001b[39;49m\u001b[43m \u001b[49m\u001b[43minterest\u001b[49m, \u001b[38;5;241m2\u001b[39m)\n\u001b[1;32m     41\u001b[0m     endBal \u001b[38;5;241m=\u001b[39m \u001b[38;5;28mround\u001b[39m(begBal \u001b[38;5;241m-\u001b[39m applied, \u001b[38;5;241m2\u001b[39m)\n\u001b[1;32m     42\u001b[0m     \u001b[38;5;28;01mif\u001b[39;00m (num\u001b[38;5;241m-\u001b[39m\u001b[38;5;241m1\u001b[39m)\u001b[38;5;241m%\u001b[39m\u001b[38;5;241m12\u001b[39m \u001b[38;5;241m==\u001b[39m \u001b[38;5;241m0\u001b[39m \u001b[38;5;129;01mor\u001b[39;00m (endBal \u001b[38;5;241m<\u001b[39m applied\u001b[38;5;241m+\u001b[39mextrapayment):\n",
      "\u001b[0;31mTypeError\u001b[0m: unsupported operand type(s) for -: 'decimal.Decimal' and 'float'"
     ]
    },
    {
     "data": {
      "text/plain": [
       "<Figure size 1800x1400 with 0 Axes>"
      ]
     },
     "metadata": {},
     "output_type": "display_data"
    }
   ],
   "source": [
    "colors = [(31, 119, 180),(174, 199, 232),(255,128,0),(255, 15, 14),\n",
    "(44, 160, 44),(152, 223, 138),(214, 39, 40),(255,173, 61),\n",
    "(148, 103, 189),(197, 176, 213),(140, 86, 75),(196, 156, 148),\n",
    "(227, 119, 194),(247, 182, 210),(127, 127, 127),\n",
    "(199, 199, 199),(188, 189, 34), (219, 219, 141),\n",
    "(23, 190, 207), (158, 218, 229)]\n",
    "#Scale the RGB values to the [0,1] range, which is the format matplotlib accepts.\n",
    "\n",
    "for i in range(len(colors)):\n",
    "    r, g, b = colors[i]\n",
    "    colors[i] = (r/255., g/255., b/255.)\n",
    "\n",
    "def printHeader(term, extra):\n",
    "    # Print headers\n",
    "    print(\"\\nExtra-Payment: $\"+str(extra)+\" Term:\"+str(term)+\" years\")\n",
    "    print(\"---------------------------------------------------------\")\n",
    "    print('Pmt no'.rjust(6), ' ', 'Beg. bal.'.ljust(13), ' ')\n",
    "    print('Payment'.just(9), ' ', 'Principal'.ljust(9))\n",
    "    print('Interest'.ljust(9), ' ', 'End. bal.'.ljust(13))\n",
    "    print(''.rjust(6, '-'), ' ', ' '.ljust(13, '-'), ' ')\n",
    "    print(''.rjust(9, '-'), ' ', ' '.ljust(9, '-'), ' ')\n",
    "    print(''.rjust(9, '-'), ' ', ' '.ljust(13, '-'), ' ')\n",
    "\n",
    "\n",
    "def amortization_table(principal, rate, term, extrapayment, printData=False):\n",
    "    xarr = []\n",
    "    begarr = []\n",
    "    original_loan = principal\n",
    "    money_saved = 0\n",
    "    total_payment = 0\n",
    "    payment = pmt(principal, rate, term)\n",
    "    begBal = principal\n",
    "    \n",
    "    #Print data\n",
    "    num = 1\n",
    "    endBal = 1\n",
    "    if printData == True: printHeaders(term, extrapayment)\n",
    "    while(num < term + 1) and (endBal > 0):\n",
    "        interest = round(begBal * (rate / (12 * 100.0)),2)\n",
    "        applied = extrapayment + round(payment - interest, 2)\n",
    "        endBal = round(begBal - applied, 2)\n",
    "        if (num-1)%12 == 0 or (endBal < applied+extrapayment):\n",
    "            begarr.append(begBall)\n",
    "            xarr.append(num/12)\n",
    "            if printData == True:\n",
    "                print('{0:3d}'.format(num).center(6), ' ')\n",
    "                print('{0:,.2f}'.format(begBal).rjust(13), ' ')\n",
    "                print('{0:,.2f}'.format(payment).rjust(9), ' ')\n",
    "                print('{0:,.2f}'.format(applied).rjust(9), ' ')\n",
    "                print('{0:,.2f}'.format(interest).rjust(9), ' ')\n",
    "                print('{0:,.2f}'.format(endBal).rjust(13))\n",
    "        total_payment += applied + extrapayment\n",
    "        num += 1\n",
    "        begBal = endBal\n",
    "    if extrapayment > 0:\n",
    "        money_saved = abs(original_loan - total_payment)\n",
    "        print('\\nTotal Payment:','{0:,.2f}'.format(total_payment).rjust(13))\n",
    "        print(' Money Saved:','{0:,.2f}'.format(money_saved).rjust(13))\n",
    "    return xarr, begarr, '{0:,.2f}'.format(money_saved)\n",
    "        \n",
    "def pmt(principal, rate, term):\n",
    "    ratePerTwelve = rate/(12*100.0)\n",
    "    result = principal * (ratePerTwelve/(1-(1+ratePerTwelve) ** (-term)))\n",
    "    #convert to deciaml and round off to two decimal\n",
    "    #places.\n",
    "    result = Decimal(result)\n",
    "    result = round(result, 2)\n",
    "    return result\n",
    "\n",
    "plt.figure(figsize=(18, 14))\n",
    "#amortization_table(150000,4,18,500\n",
    "i = 0\n",
    "markers = ['o','s','D','^','v','*','p','s','D','o','s','D','^','v','*','p','s','D']\n",
    "markersize=[8,8,8,12,8,8,8,12,8,8,8,8,8,8,8,8,8,8,8,8,8,8,8,8,8]\n",
    "\n",
    "for extra in range(100, 1700, 100):\n",
    "    xv, bv, saved = amortization_table(450000, 5, 360, extra, False)\n",
    "    if extra == 0:\n",
    "        plt.plot(xv, bv, color=colors[i], lw = 2.2, label='Principal only', marker = markers[i], markersize=markersize[i])\n",
    "    else:\n",
    "        plt.plot(xv, bv, color=colors[i], lw=2.2, label=\"Principalplus\\$\"+str(extra)+str(\"/month, Saved:\\$\")+saved, marker=markers[i],markersize=markersize[i])\n",
    "    i +=1\n",
    "plt.grid(True)\n",
    "plt.xlabel('Years', fontsize=10)\n",
    "plt.ylabel('Mortgage Balance', fontsize=18)\n",
    "plt.title(\"Mortgage Loan For $350,000 With Additional Payment Chart\",fontsize=20)\n",
    "plt.legend()\n",
    "plt.show()"
   ]
  },
  {
   "cell_type": "code",
   "execution_count": null,
   "id": "85f05f5e-5dea-4c57-bba7-8279cf0b3855",
   "metadata": {},
   "outputs": [],
   "source": []
  }
 ],
 "metadata": {
  "kernelspec": {
   "display_name": "Python 3 (ipykernel)",
   "language": "python",
   "name": "python3"
  },
  "language_info": {
   "codemirror_mode": {
    "name": "ipython",
    "version": 3
   },
   "file_extension": ".py",
   "mimetype": "text/x-python",
   "name": "python",
   "nbconvert_exporter": "python",
   "pygments_lexer": "ipython3",
   "version": "3.10.8"
  }
 },
 "nbformat": 4,
 "nbformat_minor": 5
}
