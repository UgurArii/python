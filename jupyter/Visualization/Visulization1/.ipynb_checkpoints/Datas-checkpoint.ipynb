{
 "cells": [
  {
   "cell_type": "markdown",
   "id": "8a5addfe-012a-48a5-a30e-7e0980d0d70f",
   "metadata": {},
   "source": [
    "• http://grouplens.org (from the University of Minnesota)\n",
    "• http://ichart.finance.yahoo.com/table.csv?s=YHOO&c=1962\n",
    "• http://datawrangling.com/some-datasets-available-on-the-web\n",
    "• http://weather-warehouse.com (weather data)\n",
    "• http://www.bjs.gov/developer/ncvs/ (Bureau of Justice Statistics)\n",
    "• http://census.ire.org/data/bulkdata.html (census data)\n",
    "• http://ww.pro-football-reference.com (football reference)\n",
    "• http://www.basketball-reference.com (basketball reference)\n",
    "• http://www.baseball-reference.com (baseball reference)\n",
    "• http://archive.ics.uci.edu/ml/datasets.html (machine learning)\n",
    "• http://www.pewresearch.org/data/download-datasets/\n",
    "• http://archive.ics.uci.edu/ml/datasets/Heart+Disease (heart\n",
    "disease)"
   ]
  }
 ],
 "metadata": {
  "kernelspec": {
   "display_name": "Python 3 (ipykernel)",
   "language": "python",
   "name": "python3"
  },
  "language_info": {
   "codemirror_mode": {
    "name": "ipython",
    "version": 3
   },
   "file_extension": ".py",
   "mimetype": "text/x-python",
   "name": "python",
   "nbconvert_exporter": "python",
   "pygments_lexer": "ipython3",
   "version": "3.10.8"
  }
 },
 "nbformat": 4,
 "nbformat_minor": 5
}
