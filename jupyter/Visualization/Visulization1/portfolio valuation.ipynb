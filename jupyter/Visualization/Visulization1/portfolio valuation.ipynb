{
 "cells": [
  {
   "cell_type": "markdown",
   "id": "6f42a105-c31d-403e-b8a1-726535a15401",
   "metadata": {},
   "source": [
    "The portfolio valuation"
   ]
  },
  {
   "cell_type": "code",
   "execution_count": 3,
   "id": "16370232-ef8b-48c1-8875-35a0d54ecf21",
   "metadata": {},
   "outputs": [
    {
     "ename": "ModuleNotFoundError",
     "evalue": "No module named 'pandas.io.data'",
     "output_type": "error",
     "traceback": [
      "\u001b[0;31m---------------------------------------------------------------------------\u001b[0m",
      "\u001b[0;31mModuleNotFoundError\u001b[0m                       Traceback (most recent call last)",
      "Cell \u001b[0;32mIn[3], line 2\u001b[0m\n\u001b[1;32m      1\u001b[0m \u001b[38;5;28;01mimport\u001b[39;00m \u001b[38;5;21;01mpandas\u001b[39;00m \u001b[38;5;28;01mas\u001b[39;00m \u001b[38;5;21;01mpd\u001b[39;00m\n\u001b[0;32m----> 2\u001b[0m \u001b[38;5;28;01mfrom\u001b[39;00m \u001b[38;5;21;01mpandas\u001b[39;00m\u001b[38;5;21;01m.\u001b[39;00m\u001b[38;5;21;01mio\u001b[39;00m\u001b[38;5;21;01m.\u001b[39;00m\u001b[38;5;21;01mdata\u001b[39;00m \u001b[38;5;28;01mimport\u001b[39;00m get_data_yahoo\n\u001b[1;32m      3\u001b[0m \u001b[38;5;28;01mimport\u001b[39;00m \u001b[38;5;21;01mmatplotlib\u001b[39;00m\u001b[38;5;21;01m.\u001b[39;00m\u001b[38;5;21;01mpyplot\u001b[39;00m \u001b[38;5;28;01mas\u001b[39;00m \u001b[38;5;21;01mplt\u001b[39;00m\n\u001b[1;32m      4\u001b[0m \u001b[38;5;66;03m# get data\u001b[39;00m\n",
      "\u001b[0;31mModuleNotFoundError\u001b[0m: No module named 'pandas.io.data'"
     ]
    }
   ],
   "source": [
    "import pandas as pd\n",
    "from pandas.io.data import get_data_yahoo\n",
    "import matplotlib.pyplot as plt\n",
    "# get data\n",
    "data = get_data_yahoo([\"vus.to\",\"vre.to\",\"vee.to\"],\n",
    "start = '2014-01-01')['Adj Close']\n",
    "data.plot(figsize=(10,10), lw=2)\n",
    "plt.show()"
   ]
  },
  {
   "cell_type": "code",
   "execution_count": 4,
   "id": "13fe4e1d-afc4-4442-9b17-db6893fdc0da",
   "metadata": {},
   "outputs": [
    {
     "ename": "NameError",
     "evalue": "name 'data' is not defined",
     "output_type": "error",
     "traceback": [
      "\u001b[0;31m---------------------------------------------------------------------------\u001b[0m",
      "\u001b[0;31mNameError\u001b[0m                                 Traceback (most recent call last)",
      "Cell \u001b[0;32mIn[4], line 2\u001b[0m\n\u001b[1;32m      1\u001b[0m \u001b[38;5;66;03m#convert prices to log returns\u001b[39;00m\n\u001b[0;32m----> 2\u001b[0m retn\u001b[38;5;241m=\u001b[39m\u001b[43mdata\u001b[49m\u001b[38;5;241m.\u001b[39mapply(pd\u001b[38;5;241m.\u001b[39mnp\u001b[38;5;241m.\u001b[39mlog)\u001b[38;5;241m.\u001b[39mdiff()\n\u001b[1;32m      3\u001b[0m \u001b[38;5;66;03m# make corr matrix\u001b[39;00m\n\u001b[1;32m      4\u001b[0m retn\u001b[38;5;241m.\u001b[39mcorr()\n",
      "\u001b[0;31mNameError\u001b[0m: name 'data' is not defined"
     ]
    }
   ],
   "source": [
    "#convert prices to log returns\n",
    "retn=data.apply(pd.np.log).diff()\n",
    "# make corr matrix\n",
    "retn.corr()\n",
    "#make scatterplot to show correlation\n",
    "pd.tools.plotting.scatter_matrix(retn, figsize=(10,10))\n",
    "plt.show()\n",
    "# some more stats\n",
    "retn.skew()\n",
    "retn.kurt()\n",
    "# Outpu"
   ]
  },
  {
   "cell_type": "code",
   "execution_count": null,
   "id": "6ee0a0fb-28e4-4267-95b1-397eea756752",
   "metadata": {},
   "outputs": [],
   "source": []
  }
 ],
 "metadata": {
  "kernelspec": {
   "display_name": "Python 3 (ipykernel)",
   "language": "python",
   "name": "python3"
  },
  "language_info": {
   "codemirror_mode": {
    "name": "ipython",
    "version": 3
   },
   "file_extension": ".py",
   "mimetype": "text/x-python",
   "name": "python",
   "nbconvert_exporter": "python",
   "pygments_lexer": "ipython3",
   "version": "3.9.13"
  }
 },
 "nbformat": 4,
 "nbformat_minor": 5
}
