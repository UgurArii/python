{
 "cells": [
  {
   "cell_type": "code",
   "execution_count": 1,
   "id": "e20a3e7f-25af-4150-b4b5-85e67101c44a",
   "metadata": {},
   "outputs": [],
   "source": [
    "import numpy as np\n",
    "import matplotlib.pyplot as plt"
   ]
  },
  {
   "cell_type": "code",
   "execution_count": 4,
   "id": "65526219-f80a-4517-b208-28a551996fef",
   "metadata": {},
   "outputs": [
    {
     "data": {
      "image/png": "[encoded data removed]",
      "text/plain": [
       "<Figure size 400x400 with 1 Axes>"
      ]
     },
     "metadata": {},
     "output_type": "display_data"
    }
   ],
   "source": [
    "\"\"\"\n",
    "SquareBox diagrams are useful for visualizing values of a 2D array,\n",
    "Where black color representing sparse areas.\n",
    "\"\"\"\n",
    "def sparseDisplay(nonzero, squaresize, ax=None):\n",
    "    ax = ax if ax is not None else plt.gca()\n",
    "    ax.patch.set_facecolor('black')\n",
    "    ax.set_aspect('equal', 'box')\n",
    "    for row in range(0, squaresize):\n",
    "        for col in range(0,squaresize):\n",
    "            if(row, col) in nonzero.keys():\n",
    "                el = nonzero[(row,col)]\n",
    "                if el ==0: color='black'\n",
    "                else: color='#008000'\n",
    "                rect = plt.Rectangle([col, row],1,1, facecolor=color, edgecolor=color)\n",
    "                ax.add_patch(rect)\n",
    "    ax.autoscale_view()\n",
    "    ax.invert_yaxis()\n",
    "if __name__ == '__main__':\n",
    "    nonzero={(0,4): 2, (0,7): 1, (1,1): 4, (1,3): 3, (1,8): 1,\n",
    "(2,0): 6, (0,9): 2, (2,2): 1, (2,5): 7, (3,9): 1, (5,0): 3,\n",
    "(5,2): 2, (5,8): 3, (6,3): 2, (6,6): 1, (7,8): 1, (8,0): 3, (8,2): 2,\n",
    "(8,9): 1, (9,1): 3}\n",
    "    plt.figure(figsize=(4,4))\n",
    "    sparseDisplay(nonzero, 10)\n",
    "    plt.show()\n"
   ]
  },
  {
   "cell_type": "markdown",
   "id": "da58528b-ac36-4b0a-a9bf-fbe6c53d3672",
   "metadata": {},
   "source": [
    "Fibonacci"
   ]
  },
  {
   "cell_type": "code",
   "execution_count": 5,
   "id": "ec9d5226-c8ee-48d1-b0a2-8f345a90ca84",
   "metadata": {},
   "outputs": [
    {
     "name": "stdout",
     "output_type": "stream",
     "text": [
      "[0, 1, 1, 2, 3, 5, 8, 13, 21, 34, 55, 89, 144, 233, 377, 610, 987, 1597, 2584, 4181, 6765, 10946, 17711, 28657, 46368, 75025, 121393, 196418, 317811, 514229, 832040, 1346269, 2178309, 3524578, 5702887, 9227465, 14930352, 24157817, 39088169, 63245986, 102334155, 165580141, 267914296, 433494437, 701408733, 1134903170, 1836311903, 2971215073, 4807526976, 7778742049, 12586269025]\n"
     ]
    }
   ],
   "source": [
    "fibvalues = {0:0, 1:1, 2:1, 3:2, 4:3, 5:5}\n",
    "\n",
    "def fibonacci(n):\n",
    "    if n not in fibvalues:\n",
    "        sumvalue = fibonacci(n-1) + fibonacci(n-2)\n",
    "        fibvalues[n] = sumvalue\n",
    "    return fibvalues[n]\n",
    "fibonacci(50)\n",
    "print(sorted(fibvalues.values()))"
   ]
  },
  {
   "cell_type": "code",
   "execution_count": 8,
   "id": "0fc5adee-0bc4-422c-a8b3-e4e43c742f9e",
   "metadata": {},
   "outputs": [
    {
     "name": "stdout",
     "output_type": "stream",
     "text": [
      "The ratio of time-2/time-1 :0.04081632653061224\n",
      "The ratio of time-2/time-1 :0.052083333333333336\n",
      "The ratio of time-2/time-1 :0.002145922746781116\n",
      "The ratio of time-2/time-1 :0.0425531914893617\n",
      "The ratio of time-2/time-1 :0.03296703296703297\n",
      "The ratio of time-2/time-1 :0.03636363636363636\n",
      "The ratio of time-2/time-1 :0.02702702702702703\n",
      "The ratio of time-2/time-1 :0.03361344537815126\n",
      "The ratio of time-2/time-1 :0.031496062992125984\n",
      "The ratio of time-2/time-1 :0.03305785123966942\n",
      "The ratio of time-2/time-1 :0.022222222222222223\n"
     ]
    }
   ],
   "source": [
    "from time import time\n",
    "for nval in range(16,27):\n",
    "    fibvalues = {0: 0, 1: 1, 2:1, 3:2, 4:3, 5:5}\n",
    "    t3 = time()\n",
    "    fibonacci(nval)\n",
    "    diftime1 = time()-t3\n",
    "    t2 = time()\n",
    "    fibonacci(nval)\n",
    "    diftime2 = time()-t2\n",
    "    print(\"The ratio of time-2/time-1 :\"+str(diftime2/diftime1))"
   ]
  },
  {
   "cell_type": "code",
   "execution_count": 12,
   "id": "b9dca0b5-c3e4-49d1-8194-8a0a628ad4e6",
   "metadata": {},
   "outputs": [
    {
     "name": "stdout",
     "output_type": "stream",
     "text": [
      "{'f': {'o': {'o': {'_end_': '_end_'}}}, 'b': {'a': {'r': {'_end_': '_end_', 'z': {'_end_': '_end_'}}, 'z': {'_end_': '_end_'}}}}\n",
      "True\n",
      "False\n",
      "{'f': {'o': {'o': {'_end_': '_end_'}}}, 'b': {'a': {'r': {'_end_': '_end_', 'z': {'_end_': '_end_'}, 's': {'_end_': '_end_'}}, 'z': {'_end_': '_end_'}}}}\n",
      "True\n"
     ]
    }
   ],
   "source": [
    "_end = '_end_'\n",
    "# to search if a word is in trie\n",
    "def in_trie(trie, word):\n",
    "    current_dict = trie\n",
    "    for letter in word:\n",
    "        if letter in current_dict:\n",
    "            current_dict = current_dict[letter]\n",
    "        else:\n",
    "            return False\n",
    "    else:\n",
    "        if _end in current_dict:\n",
    "            return True\n",
    "        else:\n",
    "            return False\n",
    "#create trie stored with words\n",
    "def create_trie(*words):\n",
    "    root = dict()\n",
    "    for word in words:\n",
    "        current_dict = root\n",
    "        for letter in word:\n",
    "            current_dict = current_dict.setdefault(letter, {})\n",
    "        current_dict = current_dict.setdefault(_end, _end)\n",
    "    return root\n",
    "def insert_word(trie, word):\n",
    "    if in_trie(trie, word): return\n",
    "    current_dict = trie\n",
    "    for letter in word:\n",
    "        current_dict = current_dict.setdefault(letter, {})\n",
    "    current_dict = current_dict.setdefault(_end, _end)\n",
    "def remove_word(trie, word):\n",
    "    current_dict = trie\n",
    "    for letter in word:\n",
    "        current_dict = current_dict.get(letter, None)\n",
    "        if current_dict is None:\n",
    "# the trie doesn't contain this word.\n",
    "            break\n",
    "    else:\n",
    "        del current_dict[_end]\n",
    "dict = create_trie('foo', 'bar', 'baz', 'barz', 'bar')\n",
    "print(dict)\n",
    "print(in_trie(dict, 'bar'))\n",
    "print(in_trie(dict, 'bars'))\n",
    "insert_word(dict, 'bars')\n",
    "print(dict)\n",
    "print(in_trie(dict, 'bars'))"
   ]
  },
  {
   "cell_type": "code",
   "execution_count": null,
   "id": "13a1cbd5-a9bb-4942-9413-448a2048a19c",
   "metadata": {},
   "outputs": [],
   "source": []
  }
 ],
 "metadata": {
  "kernelspec": {
   "display_name": "Python 3 (ipykernel)",
   "language": "python",
   "name": "python3"
  },
  "language_info": {
   "codemirror_mode": {
    "name": "ipython",
    "version": 3
   },
   "file_extension": ".py",
   "mimetype": "text/x-python",
   "name": "python",
   "nbconvert_exporter": "python",
   "pygments_lexer": "ipython3",
   "version": "3.9.13"
  }
 },
 "nbformat": 4,
 "nbformat_minor": 5
}
