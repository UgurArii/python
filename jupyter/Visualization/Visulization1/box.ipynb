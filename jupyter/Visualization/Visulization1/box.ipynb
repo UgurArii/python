{
 "cells": [
  {
   "cell_type": "markdown",
   "id": "00022a76-27ca-46dc-bc91-407dabfa9b43",
   "metadata": {},
   "source": [
    "Box plots are also known as box-and-whisker plots. This is a standardized way ofdisplaying the distribution of data based on the five number summaries: minimum, first quartile, median, third quartile, and maximum. The following diagram shows how a box plot can be read:"
   ]
  }
 ],
 "metadata": {
  "kernelspec": {
   "display_name": "Python 3 (ipykernel)",
   "language": "python",
   "name": "python3"
  },
  "language_info": {
   "codemirror_mode": {
    "name": "ipython",
    "version": 3
   },
   "file_extension": ".py",
   "mimetype": "text/x-python",
   "name": "python",
   "nbconvert_exporter": "python",
   "pygments_lexer": "ipython3",
   "version": "3.9.13"
  }
 },
 "nbformat": 4,
 "nbformat_minor": 5
}
