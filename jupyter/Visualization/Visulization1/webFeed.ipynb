{
 "cells": [
  {
   "cell_type": "code",
   "execution_count": 2,
   "id": "ae9bc9d6-f3cf-422b-a3a6-7014ad943e51",
   "metadata": {},
   "outputs": [
    {
     "ename": "NameError",
     "evalue": "name '__file__' is not defined",
     "output_type": "error",
     "traceback": [
      "\u001b[0;31m---------------------------------------------------------------------------\u001b[0m",
      "\u001b[0;31mNameError\u001b[0m                                 Traceback (most recent call last)",
      "Cell \u001b[0;32mIn[2], line 4\u001b[0m\n\u001b[1;32m      2\u001b[0m \u001b[38;5;28;01mfrom\u001b[39;00m \u001b[38;5;21;01mos\u001b[39;00m \u001b[38;5;28;01mimport\u001b[39;00m path\n\u001b[1;32m      3\u001b[0m \u001b[38;5;28;01mimport\u001b[39;00m \u001b[38;5;21;01mre\u001b[39;00m\n\u001b[0;32m----> 4\u001b[0m d \u001b[38;5;241m=\u001b[39m path\u001b[38;5;241m.\u001b[39mdirname(\u001b[38;5;18;43m__file__\u001b[39;49m)\n\u001b[1;32m      5\u001b[0m mystopwords \u001b[38;5;241m=\u001b[39m [ \u001b[38;5;124m'\u001b[39m\u001b[38;5;124mtest\u001b[39m\u001b[38;5;124m'\u001b[39m, \u001b[38;5;124m'\u001b[39m\u001b[38;5;124mquot\u001b[39m\u001b[38;5;124m'\u001b[39m, \u001b[38;5;124m'\u001b[39m\u001b[38;5;124mnbsp\u001b[39m\u001b[38;5;124m'\u001b[39m]\n\u001b[1;32m      6\u001b[0m feedlist \u001b[38;5;241m=\u001b[39m [\u001b[38;5;124m'\u001b[39m\u001b[38;5;124mhttp://www.techcrunch.com/rssfeeds/\u001b[39m\u001b[38;5;124m'\u001b[39m,\n\u001b[1;32m      7\u001b[0m \u001b[38;5;124m'\u001b[39m\u001b[38;5;124mhttp://www.computerweekly.com/rss\u001b[39m\u001b[38;5;124m'\u001b[39m,\n\u001b[1;32m      8\u001b[0m \u001b[38;5;124m'\u001b[39m\u001b[38;5;124mhttp://feeds.twit.tv/tnt.xml\u001b[39m\u001b[38;5;124m'\u001b[39m,\n\u001b[0;32m   (...)\u001b[0m\n\u001b[1;32m     25\u001b[0m \u001b[38;5;124m'\u001b[39m\u001b[38;5;124mhttp://slashdot.org/slashdot.rdf\u001b[39m\u001b[38;5;124m'\u001b[39m,\n\u001b[1;32m     26\u001b[0m \u001b[38;5;124m'\u001b[39m\u001b[38;5;124mhttp://bbc.com/news/technology/\u001b[39m\u001b[38;5;124m'\u001b[39m]\n",
      "\u001b[0;31mNameError\u001b[0m: name '__file__' is not defined"
     ]
    }
   ],
   "source": [
    "import feedparser\n",
    "from os import path\n",
    "import re\n",
    "d = path.dirname(__file__)\n",
    "mystopwords = [ 'test', 'quot', 'nbsp']\n",
    "feedlist = ['http://www.techcrunch.com/rssfeeds/',\n",
    "'http://www.computerweekly.com/rss',\n",
    "'http://feeds.twit.tv/tnt.xml',\n",
    "'https://www.apple.com/pr/feeds/pr.rss',\n",
    "'https://news.google.com/?output=rss'\n",
    "'http://www.forbes.com/technology/feed/'\n",
    "'http://rss.nytimes.com/services/xml/rss/nyt/Technology.xml',\n",
    "'http://www.nytimes.com/roomfordebate/topics/technology.rss',\n",
    "'http://feeds.webservice.techradar.com/us/rss/reviews'\n",
    "'http://feeds.webservice.techradar.com/us/rss/news/software',\n",
    "'http://feeds.webservice.techradar.com/us/rss',\n",
    "'http://www.cnet.com/rss/',\n",
    "'http://feeds.feedburner.com/ibm-big-data-hub?format=xml',\n",
    "'http://feeds.feedburner.com/ResearchDiscussions-DataScienceCentral?format=xml',\n",
    "'http://feeds.feedburner.com/BdnDailyPressReleasesDiscussions-BigDataNews?format=xml',\n",
    "'http://http://feeds.feedburner.com/ibm-big-data-hub-galleries?format=xml',\n",
    "'http://http://feeds.feedburner.com/PlanetBigData?format=xml',\n",
    "'http://rss.cnn.com/rss/cnn_tech.rss',\n",
    "'http://news.yahoo.com/rss/tech',\n",
    "'http://slashdot.org/slashdot.rdf',\n",
    "'http://bbc.com/news/technology/']"
   ]
  },
  {
   "cell_type": "code",
   "execution_count": 4,
   "id": "0704aee7-ea2a-4b90-be09-9e6cdb47994a",
   "metadata": {},
   "outputs": [],
   "source": [
    "def extractPlainText(ht):\n",
    "    plaintxt=''\n",
    "    s=0\n",
    "    for char in ht:\n",
    "        if char == '<': s = 1\n",
    "        elif char == '>':\n",
    "            s = 0\n",
    "            plaintxt += ' '\n",
    "        elif s == 0: plaintxt += char\n",
    "    return plaintxt\n",
    "def separatewords(text):\n",
    "    splitter = re.compile('\\\\W*')\n",
    "    return [s.lower() for s in splitter.split(text) if len(s) > 3]\n",
    "def combineWordsFromFeed(filename):\n",
    "    with open(filename, 'w') as wfile:\n",
    "        for feed in feedlist:\n",
    "            print(\"Parsing \" + feed)\n",
    "            fp = feedparser.parse(feed)\n",
    "            for e in fp.entries:\n",
    "                txt = e.title.encode('utf8') + extractPlainText(e.description.encode('utf8'))\n",
    "                words = separatewords(txt)\n",
    "                for word in words:\n",
    "                    if word.isdigit() == False and word not in mystopwords:\n",
    "                        wfile.write(word)\n",
    "                        wfile.write(\" \")\n",
    "                    wfile.write(\"\\n\")\n",
    "        wfile.close()\n",
    "        return"
   ]
  },
  {
   "cell_type": "code",
   "execution_count": null,
   "id": "8d3f3d47-ebab-482f-8920-324fcb1c42a4",
   "metadata": {},
   "outputs": [],
   "source": []
  }
 ],
 "metadata": {
  "kernelspec": {
   "display_name": "Python 3 (ipykernel)",
   "language": "python",
   "name": "python3"
  },
  "language_info": {
   "codemirror_mode": {
    "name": "ipython",
    "version": 3
   },
   "file_extension": ".py",
   "mimetype": "text/x-python",
   "name": "python",
   "nbconvert_exporter": "python",
   "pygments_lexer": "ipython3",
   "version": "3.10.8"
  }
 },
 "nbformat": 4,
 "nbformat_minor": 5
}
