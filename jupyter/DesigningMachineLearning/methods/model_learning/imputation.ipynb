{
 "cells": [
  {
   "cell_type": "code",
   "execution_count": 3,
   "id": "4b9293e2-81d4-42c9-aec3-5ac0039994ce",
   "metadata": {},
   "outputs": [
    {
     "name": "stdout",
     "output_type": "stream",
     "text": [
      "[[0 1 2]\n",
      " [3 4 5]\n",
      " [6 7 8]]\n",
      "[[ 1.  0.  1.  2.  0.  0.  0.  1.  2.  4.]\n",
      " [ 1.  3.  4.  5.  9. 12. 15. 16. 20. 25.]\n",
      " [ 1.  6.  7.  8. 36. 42. 48. 49. 56. 64.]]\n"
     ]
    }
   ],
   "source": [
    "from sklearn.preprocessing import PolynomialFeatures\n",
    "import numpy as np\n",
    "X=np.arange(9).reshape(3,3)\n",
    "poly=PolynomialFeatures(degree=2)\n",
    "print(X)\n",
    "print(poly.fit_transform(X))"
   ]
  },
  {
   "cell_type": "code",
   "execution_count": 4,
   "id": "9a5bbcf6-85c5-484d-997a-a11a9da66cbd",
   "metadata": {},
   "outputs": [
    {
     "name": "stdout",
     "output_type": "stream",
     "text": [
      "[[ 1.38340578]\n",
      " [ 2.22189802]\n",
      " [ 3.6053038 ]\n",
      " [-1.38340578]\n",
      " [-2.22189802]\n",
      " [-3.6053038 ]]\n"
     ]
    }
   ],
   "source": [
    "from sklearn.decomposition import PCA\n",
    "import numpy as np\n",
    "X = np.array([[-1, -1], [-2, -1], [-3, -2], [1, 1], [2, 1], [3, 2]])\n",
    "pca = PCA(n_components=1)\n",
    "pca.fit(X)\n",
    "print(pca.transform(X))"
   ]
  },
  {
   "cell_type": "code",
   "execution_count": 6,
   "id": "c48ee782-677b-49a4-8f4f-8e5d70f799ea",
   "metadata": {},
   "outputs": [
    {
     "name": "stdout",
     "output_type": "stream",
     "text": [
      "0.94925\n"
     ]
    }
   ],
   "source": [
    "from sklearn.ensemble import BaggingClassifier\n",
    "from sklearn.tree import DecisionTreeClassifier\n",
    "from sklearn import datasets\n",
    "bcls=BaggingClassifier(DecisionTreeClassifier(),max_samples=0.5, max_features=0.5, n_estimators=50)\n",
    "X,y=datasets.make_blobs(n_samples=8000,centers=2, random_state=0,\n",
    "cluster_std=4)\n",
    "bcls.fit(X,y)\n",
    "print(bcls.score(X,y))"
   ]
  },
  {
   "cell_type": "code",
   "execution_count": 11,
   "id": "e71ac506-4694-4a93-b999-b233ef752de8",
   "metadata": {},
   "outputs": [],
   "source": [
    "from sklearn import model_selection\n",
    "import numpy as np\n",
    "import matplotlib.pyplot as plt\n",
    "from sklearn.linear_model import LogisticRegression\n",
    "from sklearn.naive_bayes import GaussianNB\n",
    "from sklearn.ensemble import RandomForestClassifier\n",
    "from sklearn.ensemble import ExtraTreesClassifier\n",
    "from sklearn.ensemble import VotingClassifier\n",
    "from sklearn import datasets"
   ]
  },
  {
   "cell_type": "code",
   "execution_count": 13,
   "id": "5e3f8a60-2d18-47d0-880b-2b9def4c4dcc",
   "metadata": {},
   "outputs": [],
   "source": [
    "def vclas(w1,w2,w3, w4):\n",
    "    X , y = datasets.make_classification(n_features= 10, n_informative=4,\n",
    "    n_samples=500, n_clusters_per_class=5)\n",
    "    Xtrain,Xtest, ytrain,ytest= cross_validation.train_test_\n",
    "    split(X,y,test_size=0.4)\n",
    "    clf1 = LogisticRegression(random_state=123)\n",
    "    clf2 = GaussianNB()\n",
    "    clf3 = RandomForestClassifier(n_estimators=10,bootstrap=True, random_state=123)\n",
    "    clf4= ExtraTreesClassifier(n_estimators=10, bootstrap=True,random_state=123)\n",
    "    clfes=[clf1,clf2,clf3,clf4]\n",
    "    eclf = VotingClassifier(estimators=[('lr', clf1), ('gnb', clf2),\n",
    "    ('rf', clf3),('et',clf4)],voting='soft', weights=[w1, w2, w3,w4])\n",
    "    [c.fit(Xtrain, ytrain) for c in (clf1, clf2, clf3,clf4, eclf)]\n",
    "    N = 5\n",
    "    ind = np.arange(N)\n",
    "    width = 0.3\n",
    "    fig, ax = plt.subplots()\n",
    "    for i, clf in enumerate(clfes):\n",
    "        print(clf,i)\n",
    "        p1=ax.bar(i,clfes[i].score(Xtrain,ytrain,),\n",
    "        width=width,color=\"black\")\n",
    "        p2=ax.bar(i+width,clfes[i].score(Xtest,ytest,),\n",
    "        width=width,color=\"grey\")\n",
    "    ax.bar(len(clfes)+width,eclf.score(Xtrain,ytrain,),\n",
    "    width=width,color=\"black\")\n",
    "    ax.bar(len(clfes)+width *2,eclf.score(Xtest,ytest,),\n",
    "    width=width,color=\"grey\")\n",
    "    plt.axvline(3.8, color='k', linestyle='dashed')\n",
    "    ax.set_xticks(ind + width)\n",
    "    ax.set_xticklabels(['LogisticRegression',\n",
    "    'GaussianNB', 'RandomForestClassifier',\n",
    "    'ExtraTrees', 'VotingClassifier'], rotation=40,\n",
    "    ha='right')\n",
    "    plt.title('Training and test score for different classifiers')\n",
    "    plt.legend([p1[0], p2[0]], ['training', 'test'], loc='lower left')\n",
    "    plt.show()"
   ]
  },
  {
   "cell_type": "code",
   "execution_count": null,
   "id": "53ab75a9-2d15-44d6-bd29-849294e2f02a",
   "metadata": {},
   "outputs": [],
   "source": []
  }
 ],
 "metadata": {
  "kernelspec": {
   "display_name": "Python 3 (ipykernel)",
   "language": "python",
   "name": "python3"
  },
  "language_info": {
   "codemirror_mode": {
    "name": "ipython",
    "version": 3
   },
   "file_extension": ".py",
   "mimetype": "text/x-python",
   "name": "python",
   "nbconvert_exporter": "python",
   "pygments_lexer": "ipython3",
   "version": "3.9.13"
  }
 },
 "nbformat": 4,
 "nbformat_minor": 5
}
