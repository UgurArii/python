{
 "cells": [
  {
   "cell_type": "code",
   "execution_count": 11,
   "id": "18bda5c3-8a79-43a2-bba0-d4c4e7b77a86",
   "metadata": {},
   "outputs": [],
   "source": [
    "from sklearn import model_selection\n",
    "from sklearn.tree import DecisionTreeClassifier\n",
    "from sklearn import svm\n",
    "from sklearn.linear_model import LogisticRegression\n",
    "from sklearn.datasets import make_blobs\n",
    "from sklearn.preprocessing import LabelEncoder\n",
    "from sklearn.preprocessing import StandardScaler\n",
    "from sklearn.model_selection import cross_val_score\n",
    "from sklearn.pipeline import Pipeline"
   ]
  },
  {
   "cell_type": "code",
   "execution_count": 13,
   "id": "04cfd39e-7fae-4eb3-bd82-6a044d889562",
   "metadata": {},
   "outputs": [
    {
     "ename": "AttributeError",
     "evalue": "'function' object has no attribute 'make_classification'",
     "output_type": "error",
     "traceback": [
      "\u001b[0;31m---------------------------------------------------------------------------\u001b[0m",
      "\u001b[0;31mAttributeError\u001b[0m                            Traceback (most recent call last)",
      "\u001b[0;32m/tmp/ipykernel_12097/2867036430.py\u001b[0m in \u001b[0;36m<module>\u001b[0;34m\u001b[0m\n\u001b[0;32m----> 1\u001b[0;31m X, y = make_blobs.make_classification(n_samples=1000, n_informative=5, \n\u001b[0m\u001b[1;32m      2\u001b[0m                                              n_redundant=0, random_state=42)\n\u001b[1;32m      3\u001b[0m \u001b[0mle\u001b[0m \u001b[0;34m=\u001b[0m \u001b[0mLabelEncoder\u001b[0m\u001b[0;34m(\u001b[0m\u001b[0;34m)\u001b[0m\u001b[0;34m\u001b[0m\u001b[0;34m\u001b[0m\u001b[0m\n\u001b[1;32m      4\u001b[0m \u001b[0my\u001b[0m \u001b[0;34m=\u001b[0m \u001b[0mle\u001b[0m\u001b[0;34m.\u001b[0m\u001b[0mfit_transform\u001b[0m\u001b[0;34m(\u001b[0m\u001b[0my\u001b[0m\u001b[0;34m)\u001b[0m\u001b[0;34m\u001b[0m\u001b[0;34m\u001b[0m\u001b[0m\n\u001b[1;32m      5\u001b[0m \u001b[0mXtrain\u001b[0m\u001b[0;34m,\u001b[0m \u001b[0mX_test\u001b[0m\u001b[0;34m,\u001b[0m \u001b[0mytrain\u001b[0m\u001b[0;34m,\u001b[0m \u001b[0mytest\u001b[0m \u001b[0;34m=\u001b[0m \u001b[0mmodel_selection\u001b[0m\u001b[0;34m.\u001b[0m\u001b[0mtrain_test_split\u001b[0m\u001b[0;34m(\u001b[0m\u001b[0mx\u001b[0m\u001b[0;34m,\u001b[0m \u001b[0my\u001b[0m\u001b[0;34m,\u001b[0m \u001b[0mtest_size\u001b[0m\u001b[0;34m=\u001b[0m\u001b[0;36m0.5\u001b[0m\u001b[0;34m,\u001b[0m \u001b[0mrandom_state\u001b[0m\u001b[0;34m=\u001b[0m\u001b[0;36m1\u001b[0m\u001b[0;34m)\u001b[0m\u001b[0;34m\u001b[0m\u001b[0;34m\u001b[0m\u001b[0m\n",
      "\u001b[0;31mAttributeError\u001b[0m: 'function' object has no attribute 'make_classification'"
     ]
    }
   ],
   "source": [
    "X, y = make_blobs.make_classification(n_samples=1000, n_informative=5, \n",
    "                                             n_redundant=0, random_state=42)\n",
    "le = LabelEncoder()\n",
    "y = le.fit_transform(y)\n",
    "Xtrain, X_test, ytrain, ytest = model_selection.train_test_split(x, y, test_size=0.5, random_state=1)\n",
    "clf1 = DecisionTreeClassifier(max_depth=2, criterion='gini').fit(Xtrain, ytrain)\n",
    "clf2 = svm.SVC(kernel='linear', probability=True, random_state=0).fit(Xtrain, ytrain)\n",
    "clf3 = LogisticRegression(penalty='12', C=0.001).fit(X_train, ytrain)\n",
    "pipel = Pipeline([['sc',StandardScaler()],['mod', clf1]])\n",
    "mod_labels = ['Decision Tree', 'SVM','Logistic Regression']\n",
    "print('10 fold cross validation: \\n')\n",
    "\n",
    "for mod, label in zip([pipe1, clf2, clf3], mod_labels):\n",
    "    #print(label)\n",
    "    auc_scores = cross_val_score(estimator=mod, X = Xtrain, y=ytrain, cv=10, scoring='roc_auc')\n",
    "    p_scores = cross_val_score(estimator=mod, X = Xtrain, y = ytrain, cv = 10, scoring='precision_macro')\n",
    "    r_scores= cross_val_score(estimator= mod, X=Xtrain, y=ytrain, cv=10,scoring ='recall_macro')\n",
    "    f_scores= cross_val_score(estimator= mod, X=Xtrain, y=ytrain, cv=10,scoring ='f1_macro')\n",
    "    print(label)\n",
    "\n"
   ]
  },
  {
   "cell_type": "code",
   "execution_count": null,
   "id": "e7e980f8-f689-417a-9d0a-bd68b2e168e8",
   "metadata": {},
   "outputs": [],
   "source": []
  }
 ],
 "metadata": {
  "kernelspec": {
   "display_name": "Python 3 (ipykernel)",
   "language": "python",
   "name": "python3"
  },
  "language_info": {
   "codemirror_mode": {
    "name": "ipython",
    "version": 3
   },
   "file_extension": ".py",
   "mimetype": "text/x-python",
   "name": "python",
   "nbconvert_exporter": "python",
   "pygments_lexer": "ipython3",
   "version": "3.9.13"
  }
 },
 "nbformat": 4,
 "nbformat_minor": 5
}
