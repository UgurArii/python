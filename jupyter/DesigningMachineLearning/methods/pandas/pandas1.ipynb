{
 "cells": [
  {
   "cell_type": "code",
   "execution_count": null,
   "id": "ea77aaf0-e5b4-4d5f-9fa5-883d930ad0af",
   "metadata": {},
   "outputs": [],
   "source": [
    "import pandas as pd\n",
    "df=pd.read_csv('data/sampleData.csv')\n",
    "del df['Bureau of Meteorology station number']\n",
    "del df['Product code']\n",
    "del df['Days of accumulation of maximum temperature']\n",
    "df=df.rename(columns={'Maximum temperature (Degree C)':'maxtemp'})\n",
    "df=df[(df.Quality=='Y')]\n",
    "df.describe()\n",
    "import matplotlib.pyplot as plt\n",
    "plt.plot(df.Year, df.maxtemp)"
   ]
  }
 ],
 "metadata": {
  "kernelspec": {
   "display_name": "Python 3 (ipykernel)",
   "language": "python",
   "name": "python3"
  },
  "language_info": {
   "codemirror_mode": {
    "name": "ipython",
    "version": 3
   },
   "file_extension": ".py",
   "mimetype": "text/x-python",
   "name": "python",
   "nbconvert_exporter": "python",
   "pygments_lexer": "ipython3",
   "version": "3.9.13"
  }
 },
 "nbformat": 4,
 "nbformat_minor": 5
}
