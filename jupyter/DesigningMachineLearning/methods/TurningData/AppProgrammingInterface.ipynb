{
 "cells": [
  {
   "cell_type": "code",
   "execution_count": null,
   "id": "d6b161a1-cfc9-4968-9271-48a5167ec00c",
   "metadata": {},
   "outputs": [],
   "source": [
    "from twitter import Twitter, OAuth\n",
    "#create our twitter object\n",
    "t = Twitter(auth=OAuth(accesToken, secretToken, apiKey, apiSecret))\n",
    "#get our home time line\n",
    "home=t.statuses.home_timeline()\n",
    "#get a public timeline\n",
    "anyone= t.statuses.user_timeline(screen_name=\"abc730\")\n",
    "#search for a hash tag\n",
    "pycon=t.search.tweets(q=\"#pycon\")\n",
    "#The screen name of the user who wrote the first 'tweet'\n",
    "user=anyone[0]['user']['screen_name']\n",
    "#time tweet was created\n",
    "created=anyone[0]['created_at']\n",
    "#the text of the tweet\n",
    "text= anyone[0]['text']"
   ]
  }
 ],
 "metadata": {
  "kernelspec": {
   "display_name": "Python 3 (ipykernel)",
   "language": "python",
   "name": "python3"
  },
  "language_info": {
   "codemirror_mode": {
    "name": "ipython",
    "version": 3
   },
   "file_extension": ".py",
   "mimetype": "text/x-python",
   "name": "python",
   "nbconvert_exporter": "python",
   "pygments_lexer": "ipython3",
   "version": "3.9.13"
  }
 },
 "nbformat": 4,
 "nbformat_minor": 5
}
