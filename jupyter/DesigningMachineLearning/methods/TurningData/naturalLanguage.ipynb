{
 "cells": [
  {
   "cell_type": "code",
   "execution_count": 2,
   "id": "c57e1126-16cd-41b0-a3d7-ee6b76be5e92",
   "metadata": {},
   "outputs": [],
   "source": [
    "from nltk.corpus import PlaintextCorpusReader"
   ]
  },
  {
   "cell_type": "code",
   "execution_count": null,
   "id": "507e0822-896e-4bcc-b95f-e4e05d98ef4b",
   "metadata": {},
   "outputs": [],
   "source": [
    "corpusRoot= 'path/to/corpus'\n",
    "yourCorpus=PlaintextCorpusReader(corpusRoot, '.*')"
   ]
  },
  {
   "cell_type": "code",
   "execution_count": 4,
   "id": "b3797387-33f4-45c8-b603-d127809065ee",
   "metadata": {},
   "outputs": [
    {
     "data": {
      "text/plain": [
       "['adventure',\n",
       " 'belles_lettres',\n",
       " 'editorial',\n",
       " 'fiction',\n",
       " 'government',\n",
       " 'hobbies',\n",
       " 'humor',\n",
       " 'learned',\n",
       " 'lore',\n",
       " 'mystery',\n",
       " 'news',\n",
       " 'religion',\n",
       " 'reviews',\n",
       " 'romance',\n",
       " 'science_fiction']"
      ]
     },
     "execution_count": 4,
     "metadata": {},
     "output_type": "execute_result"
    }
   ],
   "source": [
    "from nltk.corpus import brown\n",
    "cats = brown.categories()\n",
    "cats"
   ]
  },
  {
   "cell_type": "code",
   "execution_count": 7,
   "id": "9ee3febb-ffbc-4500-b1fc-253d75c16f14",
   "metadata": {},
   "outputs": [
    {
     "name": "stdout",
     "output_type": "stream",
     "text": [
      "adventure positive: 56\n",
      "adventure negative: 29\n",
      "ration= 1.9310344827586208\n",
      "\n",
      "belles_lettres positive: 195\n",
      "belles_lettres negative: 27\n",
      "ration= 7.222222222222222\n",
      "\n",
      "editorial positive: 84\n",
      "editorial negative: 12\n",
      "ration= 7.0\n",
      "\n",
      "fiction positive: 98\n",
      "fiction negative: 38\n",
      "ration= 2.5789473684210527\n",
      "\n",
      "government positive: 27\n",
      "government negative: 2\n",
      "ration= 13.5\n",
      "\n",
      "hobbies positive: 128\n",
      "hobbies negative: 3\n",
      "ration= 42.666666666666664\n",
      "\n",
      "humor positive: 23\n",
      "humor negative: 4\n",
      "ration= 5.75\n",
      "\n",
      "learned positive: 67\n",
      "learned negative: 38\n",
      "ration= 1.763157894736842\n",
      "\n",
      "lore positive: 120\n",
      "lore negative: 16\n",
      "ration= 7.5\n",
      "\n",
      "mystery positive: 67\n",
      "mystery negative: 23\n",
      "ration= 2.9130434782608696\n",
      "\n",
      "news positive: 70\n",
      "news negative: 7\n",
      "ration= 10.0\n",
      "\n",
      "religion positive: 56\n",
      "religion negative: 9\n",
      "ration= 6.222222222222222\n",
      "\n",
      "reviews positive: 62\n",
      "reviews negative: 8\n",
      "ration= 7.75\n",
      "\n",
      "romance positive: 123\n",
      "romance negative: 34\n",
      "ration= 3.6176470588235294\n",
      "\n",
      "science_fiction positive: 28\n",
      "science_fiction negative: 5\n",
      "ration= 5.6\n",
      "\n"
     ]
    }
   ],
   "source": [
    "for cat in cats:\n",
    "    text = brown.words(categories=cat)\n",
    "    fdist = nltk.FreqDist(w.lower() for w in text)\n",
    "    posmod = ['love','happy','good','clean']\n",
    "    negmod = ['hate', 'sad', 'bad', 'dirty']\n",
    "    pcount = []\n",
    "    ncount = []\n",
    "    for m in posmod:\n",
    "        pcount.append(fdist[m])\n",
    "    for m in negmod:\n",
    "        ncount.append(fdist[m])\n",
    "    \n",
    "    print(cat + ' positive: ' + str(sum(pcount)))\n",
    "    print(cat + ' negative: ' + str(sum(ncount)))\n",
    "    rat = sum(pcount)/sum(ncount)\n",
    "    print('ration= %s'%rat)\n",
    "    print()\n",
    "        "
   ]
  },
  {
   "cell_type": "code",
   "execution_count": null,
   "id": "5387b098-01d0-4cc6-b209-982a5054037e",
   "metadata": {},
   "outputs": [],
   "source": []
  }
 ],
 "metadata": {
  "kernelspec": {
   "display_name": "Python 3 (ipykernel)",
   "language": "python",
   "name": "python3"
  },
  "language_info": {
   "codemirror_mode": {
    "name": "ipython",
    "version": 3
   },
   "file_extension": ".py",
   "mimetype": "text/x-python",
   "name": "python",
   "nbconvert_exporter": "python",
   "pygments_lexer": "ipython3",
   "version": "3.9.13"
  }
 },
 "nbformat": 4,
 "nbformat_minor": 5
}
