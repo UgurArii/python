{
 "cells": [
  {
   "cell_type": "code",
   "execution_count": 3,
   "id": "4a055cbd-9456-4e41-8dc0-3f3c68c743b1",
   "metadata": {},
   "outputs": [],
   "source": [
    "import scipy.cluster\n",
    "from scipy.optimize import linprog "
   ]
  },
  {
   "cell_type": "code",
   "execution_count": 7,
   "id": "d44e54f7-5c0a-461b-a8e2-7827a1e2da7a",
   "metadata": {},
   "outputs": [
    {
     "name": "stdout",
     "output_type": "stream",
     "text": [
      "           con: array([], dtype=float64)\n",
      " crossover_nit: 0\n",
      "         eqlin:  marginals: array([], dtype=float64)\n",
      "  residual: array([], dtype=float64)\n",
      "           fun: -2.3333333333333335\n",
      "       ineqlin:  marginals: array([-0.33333333, -0.33333333])\n",
      "  residual: array([0., 0.])\n",
      "         lower:  marginals: array([0., 0.])\n",
      "  residual: array([1.66666667, 0.66666667])\n",
      "       message: 'Optimization terminated successfully. (HiGHS Status 7: Optimal)'\n",
      "           nit: 2\n",
      "         slack: array([0., 0.])\n",
      "        status: 0\n",
      "       success: True\n",
      "         upper:  marginals: array([0., 0.])\n",
      "  residual: array([inf, inf])\n",
      "             x: array([1.66666667, 0.66666667])\n"
     ]
    }
   ],
   "source": [
    "objective = [-1, -1]\n",
    "con1 = [[2,1],[1,2]]\n",
    "con2=[4,3]\n",
    "res = linprog(objective, con1, con2)\n",
    "print(res)"
   ]
  },
  {
   "cell_type": "code",
   "execution_count": null,
   "id": "bd026762-6296-482e-a6f1-2be0e4f40045",
   "metadata": {},
   "outputs": [],
   "source": []
  }
 ],
 "metadata": {
  "kernelspec": {
   "display_name": "Python 3 (ipykernel)",
   "language": "python",
   "name": "python3"
  },
  "language_info": {
   "codemirror_mode": {
    "name": "ipython",
    "version": 3
   },
   "file_extension": ".py",
   "mimetype": "text/x-python",
   "name": "python",
   "nbconvert_exporter": "python",
   "pygments_lexer": "ipython3",
   "version": "3.9.13"
  }
 },
 "nbformat": 4,
 "nbformat_minor": 5
}
