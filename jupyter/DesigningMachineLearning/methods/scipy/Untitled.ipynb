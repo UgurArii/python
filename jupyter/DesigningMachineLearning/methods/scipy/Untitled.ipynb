{
 "cells": [
  {
   "cell_type": "code",
   "execution_count": 1,
   "id": "d09ee921-db54-4da3-a8f5-4c0168859aed",
   "metadata": {},
   "outputs": [],
   "source": [
    "import numpy as np\n",
    "from scipy.optimize import minimize"
   ]
  },
  {
   "cell_type": "code",
   "execution_count": 6,
   "id": "03d6262c-369f-49e9-8eeb-8c72014837d8",
   "metadata": {},
   "outputs": [],
   "source": [
    "def rosen(x):\n",
    "    return sum(100.0*(x[1:]-x[:-1]**2.0)**2.0 + (1-x[:-1])**2.0)\n",
    "\n",
    "def nMin(funct, x0):\n",
    "    return(minimize(rosen, x, method='nelder-mead', options={'xtol':1e-8, 'disp':True}))"
   ]
  },
  {
   "cell_type": "code",
   "execution_count": 11,
   "id": "c4ce85d1-aa9a-4382-822f-addfead98beb",
   "metadata": {},
   "outputs": [],
   "source": [
    "x0 = np.array([1.3, 0.7, 0.8, 1.9, 1.2])\n",
    "x=5"
   ]
  },
  {
   "cell_type": "code",
   "execution_count": 12,
   "id": "4b80a0d3-4d77-4222-bd5f-0a5fdb6113c5",
   "metadata": {},
   "outputs": [
    {
     "name": "stdout",
     "output_type": "stream",
     "text": [
      "Optimization terminated successfully.\n",
      "         Current function value: 0.000000\n",
      "         Iterations: 13\n",
      "         Function evaluations: 38\n"
     ]
    },
    {
     "name": "stderr",
     "output_type": "stream",
     "text": [
      "/tmp/ipykernel_15659/2736436359.py:5: OptimizeWarning: Unknown solver options: xtol\n",
      "  return(minimize(rosen, x, method='nelder-mead', options={'xtol':1e-8, 'disp':True}))\n"
     ]
    },
    {
     "data": {
      "text/plain": [
       " final_simplex: (array([[5.        ],\n",
       "       [5.00006104]]), array([0., 0.]))\n",
       "           fun: 0.0\n",
       "       message: 'Optimization terminated successfully.'\n",
       "          nfev: 38\n",
       "           nit: 13\n",
       "        status: 0\n",
       "       success: True\n",
       "             x: array([5.])"
      ]
     },
     "execution_count": 12,
     "metadata": {},
     "output_type": "execute_result"
    }
   ],
   "source": [
    "nMin(rosen, x0)"
   ]
  },
  {
   "cell_type": "code",
   "execution_count": null,
   "id": "0497a7aa-c254-48d3-b02f-5ce70a255d53",
   "metadata": {},
   "outputs": [],
   "source": []
  }
 ],
 "metadata": {
  "kernelspec": {
   "display_name": "Python 3 (ipykernel)",
   "language": "python",
   "name": "python3"
  },
  "language_info": {
   "codemirror_mode": {
    "name": "ipython",
    "version": 3
   },
   "file_extension": ".py",
   "mimetype": "text/x-python",
   "name": "python",
   "nbconvert_exporter": "python",
   "pygments_lexer": "ipython3",
   "version": "3.9.13"
  }
 },
 "nbformat": 4,
 "nbformat_minor": 5
}
