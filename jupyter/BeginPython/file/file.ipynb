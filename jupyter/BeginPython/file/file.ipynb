{
 "cells": [
  {
   "cell_type": "code",
   "execution_count": 5,
   "id": "6dd55632-7137-4a34-9ee0-6957f20f599e",
   "metadata": {},
   "outputs": [],
   "source": [
    "import fileinput\n",
    "import sys\n",
    "\n",
    "for line in sys.stdin:\n",
    "    process(line)"
   ]
  },
  {
   "cell_type": "code",
   "execution_count": 6,
   "id": "cadf3704-6a21-4834-bd2e-6a1d2e0ab5c0",
   "metadata": {},
   "outputs": [
    {
     "data": {
      "text/plain": [
       "['First line\\n', 'Second line\\n', 'Third line\\n']"
      ]
     },
     "execution_count": 6,
     "metadata": {},
     "output_type": "execute_result"
    }
   ],
   "source": [
    "f = open('some.txt','w')\n",
    "f.write('First line\\n')\n",
    "f.write('Second line\\n')\n",
    "f.write('Third line\\n')\n",
    "f.close()\n",
    "lines = list(open('some.txt'))\n",
    "lines"
   ]
  },
  {
   "cell_type": "code",
   "execution_count": 7,
   "id": "9b0f567f-fb46-4a9c-9a05-bc71bb0b0279",
   "metadata": {},
   "outputs": [
    {
     "data": {
      "text/plain": [
       "'First line\\n'"
      ]
     },
     "execution_count": 7,
     "metadata": {},
     "output_type": "execute_result"
    }
   ],
   "source": [
    "first, second, third = open('some.txt')\n",
    "first"
   ]
  },
  {
   "cell_type": "code",
   "execution_count": null,
   "id": "9585e781-50e1-407b-a0f4-df0909f4a237",
   "metadata": {},
   "outputs": [],
   "source": []
  }
 ],
 "metadata": {
  "kernelspec": {
   "display_name": "Python 3 (ipykernel)",
   "language": "python",
   "name": "python3"
  },
  "language_info": {
   "codemirror_mode": {
    "name": "ipython",
    "version": 3
   },
   "file_extension": ".py",
   "mimetype": "text/x-python",
   "name": "python",
   "nbconvert_exporter": "python",
   "pygments_lexer": "ipython3",
   "version": "3.10.8"
  }
 },
 "nbformat": 4,
 "nbformat_minor": 5
}
