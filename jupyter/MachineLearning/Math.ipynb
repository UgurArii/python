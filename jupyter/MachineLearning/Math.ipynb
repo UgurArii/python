{
 "cells": [
  {
   "cell_type": "code",
   "execution_count": 1,
   "id": "0d57a111-a9b9-422d-bb1c-51cb7274d889",
   "metadata": {},
   "outputs": [
    {
     "data": {
      "text/plain": [
       "Text(0.5, 1.0, '$\\\\alpha > \\\\beta$')"
      ]
     },
     "execution_count": 1,
     "metadata": {},
     "output_type": "execute_result"
    },
    {
     "data": {
      "image/png": "[encoded data removed]",
      "text/plain": [
       "<Figure size 640x480 with 1 Axes>"
      ]
     },
     "metadata": {},
     "output_type": "display_data"
    }
   ],
   "source": [
    "import matplotlib.pyplot as plt\n",
    "%matplotlib inline\n",
    "plt.title(r'$\\alpha > \\beta$')"
   ]
  },
  {
   "cell_type": "code",
   "execution_count": 2,
   "id": "66475ef0-3f10-4c29-92f7-0d5741eb776d",
   "metadata": {},
   "outputs": [
    {
     "data": {
      "text/latex": [
       "$\\displaystyle F(k) = \\int_{-\\infty}^{\\infty} f(x) e^{2\\pi i k} dx$"
      ],
      "text/plain": [
       "<IPython.core.display.Math object>"
      ]
     },
     "metadata": {},
     "output_type": "display_data"
    }
   ],
   "source": [
    "from IPython.display import display, Math, Latex\n",
    "display(Math(r'F(k) = \\int_{-\\infty}^{\\infty} f(x) e^{2\\pi i k} dx'))"
   ]
  },
  {
   "cell_type": "code",
   "execution_count": 3,
   "id": "98763136-271b-4afb-bad5-b67a92bc483d",
   "metadata": {},
   "outputs": [
    {
     "data": {
      "text/latex": [
       "$\\displaystyle \\alpha_i > \\beta_i$"
      ],
      "text/plain": [
       "<IPython.core.display.Math object>"
      ]
     },
     "metadata": {},
     "output_type": "display_data"
    }
   ],
   "source": [
    "display(Math(r'$\\alpha_i > \\beta_i$'))"
   ]
  },
  {
   "cell_type": "code",
   "execution_count": 4,
   "id": "b13bad77-de64-4ec7-8f86-6569b2904820",
   "metadata": {},
   "outputs": [
    {
     "data": {
      "text/latex": [
       "$\\displaystyle \\sum_{i=0}^\\infty x_i$"
      ],
      "text/plain": [
       "<IPython.core.display.Math object>"
      ]
     },
     "metadata": {},
     "output_type": "display_data"
    }
   ],
   "source": [
    "display(Math(r'$\\sum_{i=0}^\\infty x_i$'))"
   ]
  },
  {
   "cell_type": "code",
   "execution_count": 5,
   "id": "44b3a3e8-2b79-4c3d-a90d-5f9b41daa5da",
   "metadata": {},
   "outputs": [
    {
     "data": {
      "text/latex": [
       "$\\displaystyle \\frac{3}{4} \\binom{3}{4} \\stackrel{3}{4}$"
      ],
      "text/plain": [
       "<IPython.core.display.Math object>"
      ]
     },
     "metadata": {},
     "output_type": "display_data"
    }
   ],
   "source": [
    "display(Math(r'$\\frac{3}{4} \\binom{3}{4} \\stackrel{3}{4}$'))"
   ]
  },
  {
   "cell_type": "code",
   "execution_count": 6,
   "id": "9561dfe1-e752-437b-bf4c-a7749c4d53bb",
   "metadata": {},
   "outputs": [
    {
     "data": {
      "text/latex": [
       "$\\displaystyle \\sqrt{2}$"
      ],
      "text/plain": [
       "<IPython.core.display.Math object>"
      ]
     },
     "metadata": {},
     "output_type": "display_data"
    }
   ],
   "source": [
    "display(Math(r'$\\sqrt{2}$'))"
   ]
  },
  {
   "cell_type": "code",
   "execution_count": 8,
   "id": "e7055daa-dec3-42f1-ac63-76d3bf1cc47d",
   "metadata": {},
   "outputs": [
    {
     "data": {
      "text/latex": [
       "$\\displaystyle \\mathrm{Roman}$"
      ],
      "text/plain": [
       "<IPython.core.display.Math object>"
      ]
     },
     "metadata": {},
     "output_type": "display_data"
    },
    {
     "data": {
      "text/latex": [
       "$\\displaystyle \\mathit{Italic}$"
      ],
      "text/plain": [
       "<IPython.core.display.Math object>"
      ]
     },
     "metadata": {},
     "output_type": "display_data"
    },
    {
     "data": {
      "text/latex": [
       "$\\displaystyle \\mathtt{Typewriter}$"
      ],
      "text/plain": [
       "<IPython.core.display.Math object>"
      ]
     },
     "metadata": {},
     "output_type": "display_data"
    },
    {
     "data": {
      "text/latex": [
       "$\\displaystyle \\mathcal{CALLIGRAPHY}$"
      ],
      "text/plain": [
       "<IPython.core.display.Math object>"
      ]
     },
     "metadata": {},
     "output_type": "display_data"
    }
   ],
   "source": [
    "from IPython.display import display, Math, Latex\n",
    "display(Math(r'\\mathrm{Roman}'))\n",
    "display(Math(r'\\mathit{Italic}'))\n",
    "display(Math(r'\\mathtt{Typewriter}'))\n",
    "display(Math(r'\\mathcal{CALLIGRAPHY}'))"
   ]
  },
  {
   "cell_type": "markdown",
   "id": "ec020058-17bf-466b-ba36-3973c63678e1",
   "metadata": {},
   "source": [
    "Lowercase Greek\n",
    "\\alpha \\beta \\chi \\delta \\digamma\n",
    "\\epsilon \\eta \\gamma \\iota \\kappa\n",
    "\\lambda \\mu \\nu \\omega \\phi\n",
    "\\pi \\psi \\rho \\sigma \\tau\n",
    "\\theta \\upsilon \\varepsilon \\varkappa \\varphi\n",
    "\\varpi \\varrho \\varsigma \\vartheta \\xi\n",
    "\\zeta\n",
    "\\acute a or \\'a\n",
    "\\bar a\n",
    "\\breve a\n",
    "\\ddot a or \\\"a\n",
    "\\dot a or \\.a\n",
    "\\grave a or \\`a\n",
    "\\hat a or \\^a\n",
    "\\tilde a or \\~a\n",
    "\\vec a\n",
    "\\overline{abc}\n",
    "Delta \\Gamma \\Lambda \\Omega \\Phi \\Pi\n",
    "\\Psi \\Sigma \\Theta \\Upsilon \\Xi \\mho\n",
    "\\nabla\n",
    "\\beth \\daleth / [ \\Downarrow \\Uparrow \\Vert \\backslash\n",
    "\\downarrow \\langle \\lceil \\lfloor \\llcorner \\lrcorner\n",
    "\\rangle \\rceil \\rfloor \\ulcorner \\uparrow \\urcorner\n",
    "\\vert \\{ \\| \\} ] |\n",
    "\\aleph\n",
    "\\gimel\n",
    "igcap \\bigcup \\bigodot \\bigoplus \\bigotimes\n",
    "\\biguplus \\bigvee \\bigwedge \\coprod \\int\n",
    "\\oint \\prod \\sum\n",
    "Pr\n",
    "\\arg\n",
    "\\arctan\n",
    "\\arcsin\n",
    "\\cos\n",
    "\\cot\n",
    "\\cosh\n",
    "\\csc \\deg \\det\n",
    "\\dim \\exp \\gcd \\hom\n",
    "\\inf \\ker\n",
    "\\coth\n",
    "\\liminf\n",
    "\\max\n",
    "\\sinh\n",
    "\\lim\n",
    "\\lg\n",
    "\\limsup\n",
    "\\ln\n",
    "\\log\n",
    "\\sec\n",
    "\\min\n",
    "\\sup\n",
    "\\sin\n",
    "\\tanh\n",
    "\\Bumpeq\n",
    "\\Doteq\n",
    "\\Cap\n",
    "\\Cup\n",
    "\\Join \\Subset\n",
    "\\Supset \\Vdash \\Vvdash\n",
    "\\approx \\approxeq \\ast\n",
    "\\asymp \\backepsilon \\backsim\n",
    "\\backsimeq\n",
    "\\between\n",
    "\\bigtriangleup\n",
    "\\barwedge\n",
    "\\bigcirc\n",
    "\\blacktriangleleft\n",
    "\\because\n",
    "\\bigtriangledown\n",
    "\\blacktriangleright\n",
    "\\bot \\bowtie \\boxdot\n",
    "\\boxminus \\boxplus \\boxtimes\n",
    "\\bullet \\bumpeq \\cap\n",
    "\\cdot \\circ \\circeq\n",
    "\\coloneq \\cong \\cup\n",
    "\\curlyeqprec \\curlyeqsucc \\curlyvee\n",
    "\\curlywedge \\dag \\dashv\n",
    "ddag\n",
    "\\diamond\n",
    "\\divideontimes\n",
    "\\dotplus\n",
    "Writing Mathematical Expressions with LaTeX\n",
    "\\div\n",
    "\\doteq\n",
    "\\doteqdot\n",
    "\\doublebarwedge \\eqcirc\n",
    "\\eqcolon \\eqsim \\eqslantgtr\n",
    "\\eqslantless \\equiv \\fallingdotseq\n",
    "\\frown \\geq \\geqq\n",
    "\\geqslant \\gg \\ggg\n",
    "\\gnapprox \\gneqq \\gnsim\n",
    "\\gtrapprox \\gtrdot \\gtreqless\n",
    "\\gtreqqless \\gtrless \\gtrsim\n",
    "\\in \\intercal \\leftthreetimes\n",
    "\\leq \\leqq \\leqslant\n",
    "\\lessapprox \\lessdot \\lesseqgtr\n",
    "\\lesseqqgtr \\lessgtr \\lesssim\n",
    "\\ll \\lll \\lnapprox\n",
    "\\lneqq \\lnsim \\ltimes\n",
    "\\mid \\models \\mp\n",
    "\\nVDash \\nVdash \\napprox\n",
    "\\ncong \\ne \\neq\n",
    "\\neq \\nequiv \\ngeq\n",
    "\\ngtr \\ni \\nleq\n",
    "\\nless \\nmid \\notin\n",
    "\\nparallel \\nprec \\nsim\n",
    "\\nsubset \\nsubseteq \\nsucc\n",
    "\\nsupset \\nsupseteq \\ntriangleleft\n",
    "\\ntrianglelefteq \\ntriangleright \\ntrianglerighteq\n",
    "\\nvDash \\nvdash \\odot\n",
    "\\ominus \\oplus \\oslash\n",
    "\\otimes \\parallel \\perp\n",
    "\\pitchfork \\pm \\prec\n",
    "\\precapprox \\preccurlyeq \\preceq\n",
    "\\precnapprox \\precnsim \\precsim\n",
    "\\propto \\rightthreetimes \\risingdotseq\n",
    "\\rtimes \\sim \\simeq\n",
    "\\slash \\smile \\sqcap\n",
    "\\sqcup \\sqsubset \\sqsubset\n",
    "\\sqsubseteq \\sqsupset \\sqsupset\n",
    "\\sqsupseteq \\star \\subset\n",
    "\\subseteq \\subseteqq \\subsetneq\n",
    "\\subsetneqq \\succ \\succapprox\n",
    "\\succcurlyeq \\succeq \\succnapprox\n",
    "\\succnsim \\succsim \\supset\n",
    "\\supseteq \\supseteqq \\supsetneq\n",
    "\\supsetneqq \\therefore \\times\n",
    "\\top \\triangleleft \\trianglelefteq\n",
    "\\triangleq \\triangleright \\trianglerighteq\n",
    "\\uplus \\vDash \\varpropto\n",
    "\\vartriangleleft \\vartriangleright \\vdash\n",
    "\\vee \\veebar \\wedge\n",
    "\\Downarrow\n",
    "\\Leftrightarrow\n",
    "\\Longleftarrow\n",
    "\\Longrightarrow\n",
    "\\Nearrow\n",
    "\\Rightarrow\n",
    "\\Leftarrow\n",
    "\\Lleftarrow\n",
    "\\Longleftrightarrow\n",
    "\\Lsh\n",
    "\\Nwarrow\n",
    "\\Rrightarrow\n",
    "\\Rsh \\Searrow\n",
    "\\Swarrow \\Uparrow\n",
    "\\Updownarrow \\circlearrowleft\n",
    "\\circlearrowright \\curvearrowleft\n",
    "\\curvearrowright \\dashleftarrow\n",
    "\\dashrightarrow \\downarrow\n",
    "\\downdownarrows \\downharpoonleft\n",
    "\\downharpoonright \\hookleftarrow\n",
    "\\hookrightarrow \\leadsto\n",
    "\\leftarrow \\leftarrowtail\n",
    "\\leftharpoondown \\leftharpoonup\n",
    "\\leftleftarrows \\leftrightarrow\n",
    "\\leftrightarrows \\leftrightharpoons\n",
    "\\leftrightsquigarrow \\leftsquigarrow\n",
    "\\longleftarrow\n",
    "\\longmapsto\n",
    "\\longleftrightarrow\n",
    "\\longrightarrow\n",
    "\\looparrowleft \\looparrowright\n",
    "\\mapsto \\multimap\n",
    "\\nLeftarrow \\nLeftrightarrow\n",
    "\\nRightarrow \\nearrow\n",
    "\\nleftarrow \\nleftrightarrow"
   ]
  }
 ],
 "metadata": {
  "kernelspec": {
   "display_name": "Python 3 (ipykernel)",
   "language": "python",
   "name": "python3"
  },
  "language_info": {
   "codemirror_mode": {
    "name": "ipython",
    "version": 3
   },
   "file_extension": ".py",
   "mimetype": "text/x-python",
   "name": "python",
   "nbconvert_exporter": "python",
   "pygments_lexer": "ipython3",
   "version": "3.10.8"
  }
 },
 "nbformat": 4,
 "nbformat_minor": 5
}
