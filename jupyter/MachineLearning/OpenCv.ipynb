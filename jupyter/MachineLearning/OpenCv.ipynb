{
 "cells": [
  {
   "cell_type": "markdown",
   "id": "e101059e-9024-46cc-b633-fbd548964994",
   "metadata": {},
   "source": [
    "First Approaches to Image Processing and Analysis"
   ]
  },
  {
   "cell_type": "code",
   "execution_count": null,
   "id": "24d0b9f5-a0db-4204-9d93-31d5016ce8dc",
   "metadata": {},
   "outputs": [],
   "source": [
    "import numpy as np\n",
    "import cv2"
   ]
  },
  {
   "cell_type": "code",
   "execution_count": null,
   "id": "4dedb464-7b27-4f83-b905-f2b63e64563d",
   "metadata": {},
   "outputs": [],
   "source": [
    "img = cv2.imread('italy2018.jpg')\n"
   ]
  },
  {
   "cell_type": "code",
   "execution_count": null,
   "id": "1b27ef45-19a3-4452-90a8-59c03b83b715",
   "metadata": {},
   "outputs": [],
   "source": [
    "img[0]\n",
    "cv2.imshow('Image',img)\n",
    "cv2.waitKey(0)\n",
    "a = 5\n",
    "a "
   ]
  },
  {
   "cell_type": "code",
   "execution_count": null,
   "id": "2a898b8a-6e6f-45de-9f52-a832a1b0c860",
   "metadata": {},
   "outputs": [],
   "source": [
    "csv2.imshow('Image',img)\n",
    "csv2.waitKey(2000)\n",
    "cv2.destroyWindow('Image')"
   ]
  },
  {
   "cell_type": "code",
   "execution_count": null,
   "id": "51c9390e-18ab-4b23-9ad4-db0bb86f9f76",
   "metadata": {},
   "outputs": [],
   "source": [
    "b,r,g = cv2.split(img)\n",
    "a = 5\n",
    "a "
   ]
  },
  {
   "cell_type": "code",
   "execution_count": null,
   "id": "16d03216-b0ea-4757-ac1c-5031824509ff",
   "metadata": {},
   "outputs": [],
   "source": [
    "img2 = cv2.merge((b,g,r))\n",
    "a = 5\n",
    "a "
   ]
  },
  {
   "cell_type": "code",
   "execution_count": null,
   "id": "0c9ccb52-dc57-4e4c-9c2c-50f17e784cdb",
   "metadata": {},
   "outputs": [],
   "source": [
    "cv2.imshow('Image2', img2)\n",
    "csv2.waitKey(0)\n"
   ]
  },
  {
   "cell_type": "markdown",
   "id": "1f87bce7-efa4-457e-94fe-e27599ee2c0d",
   "metadata": {},
   "source": [
    "Save the New Image"
   ]
  },
  {
   "cell_type": "code",
   "execution_count": null,
   "id": "b7e8cdf5-a84f-4fab-9241-2a24065f75e2",
   "metadata": {},
   "outputs": [],
   "source": [
    "cv2.imwrite('italy2018altered.png',img2)"
   ]
  },
  {
   "cell_type": "code",
   "execution_count": null,
   "id": "97ffe031-6a04-4219-a399-536ae4401ef2",
   "metadata": {},
   "outputs": [],
   "source": [
    "img2 = cv2.imread('soccer.jpg')\n",
    "cv2.imshow('Image2', img2)\n",
    "cv2.waitKey(0)\n",
    "                  "
   ]
  },
  {
   "cell_type": "code",
   "execution_count": null,
   "id": "6665748e-d6ed-449a-9c2e-6964baf56a05",
   "metadata": {},
   "outputs": [],
   "source": [
    "img = cv2.add(img, img2)\n",
    "cv2.imshow('Sum', img)\n"
   ]
  },
  {
   "cell_type": "code",
   "execution_count": null,
   "id": "ba04f562-eae6-42bf-b716-c2369e940364",
   "metadata": {},
   "outputs": [],
   "source": [
    "img3 = cv2.subtract(img, img2)\n",
    "cv2.imshow('Sub1', img3)\n",
    "cv2.waitKey(0)"
   ]
  },
  {
   "cell_type": "code",
   "execution_count": null,
   "id": "39aa29da-243d-46ff-8df6-045732f84625",
   "metadata": {},
   "outputs": [],
   "source": [
    "img3 = cv3.subtract(img2,img)\n",
    "cv2.imshow('Sub1', img3)\n",
    "cv2.waitKey(0)"
   ]
  },
  {
   "cell_type": "code",
   "execution_count": null,
   "id": "625b281f-e107-43a1-8380-d9f52d430730",
   "metadata": {},
   "outputs": [],
   "source": [
    "img = img1 + img2"
   ]
  },
  {
   "cell_type": "code",
   "execution_count": null,
   "id": "3dd947ab-2bb9-489e-acab-7fb86fac5804",
   "metadata": {},
   "outputs": [],
   "source": [
    "img3 = img + img2\n",
    "cv2.imshow('numpy', img3)\n",
    "cv2.waitKey(0)"
   ]
  },
  {
   "cell_type": "code",
   "execution_count": null,
   "id": "c2f3b9d3-4183-4d0d-9d7b-34b3b96524e9",
   "metadata": {},
   "outputs": [],
   "source": [
    "img3 = cv2.addWeighted(img, 0.3, img2, 0.7, 0)\n",
    "cv2.imshow('numpy', img3)\n",
    "cv2.waitKey(0)"
   ]
  },
  {
   "cell_type": "code",
   "execution_count": null,
   "id": "a38393de-bbb1-4d81-9d6b-9a17f2637635",
   "metadata": {},
   "outputs": [],
   "source": [
    "from matplotlib import pyplot as plt\n",
    "%matplotlib inline\n",
    "img = cv2.imread('blackandwhite.jpg',0)\n",
    "laplacian = cv2.Laplacian(img, cv2.CV_64F)\n",
    "sobelx = cv2.Sobel(img,cv2.CV_64F,1,0,ksize=5)\n",
    "sobely = cv2.Sobel(img,cv2.CV_64F,0,1,ksize=5)\n",
    "plt.subplot(2,2,1),plt.imshow(img,cmap = 'gray')\n",
    "plt.title('Original'), plt.xticks([]), plt.yticks([])\n",
    "plt.subplot(2,2,2),plt.imshow(laplacian,cmap = 'gray')\n",
    "plt.title('Laplacian'), plt.xticks([]), plt.yticks([])\n",
    "plt.subplot(2,2,3),plt.imshow(sobelx,cmap = 'gray')\n",
    "plt.title('Sobel Y'), plt.xticks([]), plt.yticks([])\n",
    "plt.subplot(2,2,4),plt.imshow(sobely,cmap = 'gray')\n",
    "plt.title('Sobel Y'), plt.xticks([]), plt.yticks([])\n",
    "plt.show()"
   ]
  },
  {
   "cell_type": "code",
   "execution_count": null,
   "id": "d541c628-6706-4959-81f3-0f516fb0ebac",
   "metadata": {},
   "outputs": [],
   "source": [
    "laplacian = cv2.Laplacian(img,cv2.CV_8U)\n",
    "sobelx = cv2.Sobel(img, cv2.CV_8U,1,0,ksize=5)\n",
    "sobely = cv2.Sobel(img, cv2.CV_8U,0,1,ksize=5)\n",
    "laplacian = np.uint8(np.absolute(laplacian64))\n",
    "sobelx = np.uint8(np.absolute(sobelx64))\n",
    "sobely = np.uint8(np.absolute(sobely64))\n",
    "plt.subplot(2,2,1),plt.imshow(img,cmap = 'gray')\n",
    "plt.title('Original'), plt.xticks([]), plt.yticks([])\n",
    "plt.subplot(2,2,2),plt.imshow(laplacian,cmap = 'gray')\n",
    "plt.title('Laplacian'), plt.xticks([]), plt.yticks([])\n",
    "plt.subplot(2,2,3),plt.imshow(sobelx,cmap = 'gray')\n",
    "plt.title('Sobel Y'), plt.xticks([]), plt.yticks([])\n",
    "plt.subplot(2,2,4),plt.imshow(sobely,cmap = 'gray')\n",
    "plt.title('Sobel Y'), plt.xticks([]), plt.yticks([])\n",
    "plt.show()"
   ]
  },
  {
   "cell_type": "code",
   "execution_count": null,
   "id": "fe0c441d-0596-4421-a57c-fe749aba2873",
   "metadata": {},
   "outputs": [],
   "source": [
    "from matplotlib import pyplot as plt\n",
    "img = cv2.imread('gradients.jpg',0)\n",
    "laplacian = cv2.Laplacian(img, cv2.CV_64F)\n",
    "sobelx = cv2.Sobel(img,cv2.CV_64F,1,0,ksize=5)\n",
    "sobely = cv2.Sobel(img,cv2.CV_64F,0,1,ksize=5)\n",
    "laplacian64 = cv2.Laplacian(img, cv2.CV_64F)\n",
    "sobelx64 = cv2.Sobel(img,cv2.CV_64F,1,0,ksize=5)\n",
    "sobely64 = cv2.Sobel(img,cv2.CV_64F,0,1,ksize=5)\n",
    "laplacian = np.uint8(np.absolute(laplacian64))\n",
    "sobelx = np.uint8(np.absolute(sobelx64))\n",
    "sobely = np.uint8(np.absolute(sobely64))\n",
    "plt.imshow(laplacian,cmap = 'gray')\n",
    "plt.title('Laplacian'), plt.xticks([]), plt.yticks([])\n",
    "plt.show()"
   ]
  },
  {
   "cell_type": "code",
   "execution_count": null,
   "id": "8e2f46bd-6ec5-474a-8c8d-1a8200e73c26",
   "metadata": {},
   "outputs": [],
   "source": [
    "net = cv2.dnn.readNetFromCaffe('deploy.prototxt.txt', 'res10_300x300_ssd_iter_140000.caffemodel')"
   ]
  },
  {
   "cell_type": "code",
   "execution_count": null,
   "id": "aa0d8f3d-9297-4714-b072-2e582a3f2d59",
   "metadata": {},
   "outputs": [],
   "source": [
    "image = cv2.imread('italy2018.jpg')\n",
    "(h, w) = image.shape[:2]"
   ]
  },
  {
   "cell_type": "code",
   "execution_count": null,
   "id": "dbfb6851-a497-46fa-a716-0b395e869b45",
   "metadata": {},
   "outputs": [],
   "source": [
    "blob = cv2.dnn.blobFromImage(cv2.resize(image, (300,300)), 1.0,(300,300),(104.0,177.0,123.0))"
   ]
  },
  {
   "cell_type": "code",
   "execution_count": null,
   "id": "03b205b7-102d-4423-ae67-9c629eb22983",
   "metadata": {},
   "outputs": [],
   "source": [
    "confidence_threshold = 0.5"
   ]
  },
  {
   "cell_type": "code",
   "execution_count": null,
   "id": "c1d026e4-be7b-4dbd-855f-b6e7568f795f",
   "metadata": {},
   "outputs": [],
   "source": [
    "net.setInput(blob)"
   ]
  },
  {
   "cell_type": "code",
   "execution_count": null,
   "id": "80d1e820-d4c4-4a1a-b97b-20a49a889cb0",
   "metadata": {},
   "outputs": [],
   "source": [
    "detections = net.forward()"
   ]
  },
  {
   "cell_type": "code",
   "execution_count": null,
   "id": "36f256ae-c74f-4ea4-8578-868219fe5b1b",
   "metadata": {},
   "outputs": [],
   "source": [
    "for i in range(0, detections.shape[2]):\n",
    "    confidence = detections[0,0,i,2]\n",
    "    if confidence > confidence_threshold:\n",
    "        box = detections[0,0,i,3:7] * np.array([w, h, w, h])\n",
    "        (startX, startY, endX, endY) = box.astype(\"int\")\n",
    "        text = \"{:.2f}%\".format(confidence * 100)\n",
    "        y = startY - 10 if startY - 10 > 10 else startY + 10\n",
    "        cv2.rectangle(image, (startX, startY),(endX, endY),(0, 0,255),2)\n",
    "        cv2.putText(image, text, (startX, y), cv2.FONT_HERSHEY_SIMPLEX, 0.45, (0,0,255),2)\n",
    "cv2.imshow(\"Output\",image)\n",
    "cv2.waitKey(0)"
   ]
  },
  {
   "cell_type": "markdown",
   "id": "52e7d91a-9899-49c2-b89c-30909d27056d",
   "metadata": {},
   "source": [
    "Writing Mathematical\n",
    "Expressions with LaTeX"
   ]
  },
  {
   "cell_type": "code",
   "execution_count": null,
   "id": "bdecafa2-901f-49c7-883f-ac6918378f21",
   "metadata": {},
   "outputs": [],
   "source": [
    "import matplotlib.pyplot as plt\n",
    "%matplotlib inline\n",
    "plt.title(r'$\\alpha > \\beta$')"
   ]
  },
  {
   "cell_type": "code",
   "execution_count": null,
   "id": "925fdd3e-9581-4b81-bf9f-173a85975644",
   "metadata": {},
   "outputs": [],
   "source": [
    "from IPython.display import display, Math, Latex\n",
    "display(Math(r'F(k) = \\int_{-\\infty}^{\\infty} f(x) e^{2\\pi i k} dx'))"
   ]
  },
  {
   "cell_type": "code",
   "execution_count": null,
   "id": "c6bd4d33-0ec5-47ca-b201-a85d238a034c",
   "metadata": {},
   "outputs": [],
   "source": [
    "display(Math(r'$\\alpha_i > \\beta_i$'))"
   ]
  },
  {
   "cell_type": "code",
   "execution_count": null,
   "id": "5856840f-bbcd-47b8-9227-97dacebe4d97",
   "metadata": {},
   "outputs": [],
   "source": [
    "display(Math(r'$\\alpha_i > \\beta_i$'))"
   ]
  },
  {
   "cell_type": "code",
   "execution_count": null,
   "id": "d7ad7f79-d185-4941-aafd-2b93642e9d0f",
   "metadata": {},
   "outputs": [],
   "source": []
  },
  {
   "cell_type": "code",
   "execution_count": null,
   "id": "e59fde59-e000-4454-91fd-2e39b0e925fd",
   "metadata": {},
   "outputs": [],
   "source": []
  }
 ],
 "metadata": {
  "kernelspec": {
   "display_name": "Python 3 (ipykernel)",
   "language": "python",
   "name": "python3"
  },
  "language_info": {
   "codemirror_mode": {
    "name": "ipython",
    "version": 3
   },
   "file_extension": ".py",
   "mimetype": "text/x-python",
   "name": "python",
   "nbconvert_exporter": "python",
   "pygments_lexer": "ipython3",
   "version": "3.10.8"
  }
 },
 "nbformat": 4,
 "nbformat_minor": 5
}
