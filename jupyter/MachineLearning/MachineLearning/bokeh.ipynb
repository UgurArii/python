{
 "cells": [
  {
   "cell_type": "code",
   "execution_count": 4,
   "id": "d84e18bc-1668-4e26-a126-38bf32b69838",
   "metadata": {},
   "outputs": [
    {
     "ename": "RuntimeError",
     "evalue": "bokeh sample data directory does not exist, please execute bokeh.sampledata.download()",
     "output_type": "error",
     "traceback": [
      "\u001b[0;31m---------------------------------------------------------------------------\u001b[0m",
      "\u001b[0;31mRuntimeError\u001b[0m                              Traceback (most recent call last)",
      "Cell \u001b[0;32mIn[4], line 2\u001b[0m\n\u001b[1;32m      1\u001b[0m \u001b[38;5;28;01mimport\u001b[39;00m \u001b[38;5;21;01mcollections\u001b[39;00m\n\u001b[0;32m----> 2\u001b[0m \u001b[38;5;28;01mfrom\u001b[39;00m \u001b[38;5;21;01mbokeh\u001b[39;00m\u001b[38;5;21;01m.\u001b[39;00m\u001b[38;5;21;01msampledata\u001b[39;00m \u001b[38;5;28;01mimport\u001b[39;00m us_counties, unemployment\n\u001b[1;32m      3\u001b[0m \u001b[38;5;28;01mfrom\u001b[39;00m \u001b[38;5;21;01mbokeh\u001b[39;00m\u001b[38;5;21;01m.\u001b[39;00m\u001b[38;5;21;01mplotting\u001b[39;00m \u001b[38;5;28;01mimport\u001b[39;00m figure, show, output_file\n\u001b[1;32m      4\u001b[0m \u001b[38;5;28;01mfrom\u001b[39;00m \u001b[38;5;21;01mbokeh\u001b[39;00m\u001b[38;5;21;01m.\u001b[39;00m\u001b[38;5;21;01mmodels\u001b[39;00m \u001b[38;5;28;01mimport\u001b[39;00m HoverTool\n",
      "File \u001b[0;32m~/tutorial-env/lib/python3.10/site-packages/bokeh/sampledata/us_counties.py:123\u001b[0m\n\u001b[1;32m    117\u001b[0m     \u001b[38;5;28;01mreturn\u001b[39;00m data\n\u001b[1;32m    119\u001b[0m \u001b[38;5;66;03m#-----------------------------------------------------------------------------\u001b[39;00m\n\u001b[1;32m    120\u001b[0m \u001b[38;5;66;03m# Code\u001b[39;00m\n\u001b[1;32m    121\u001b[0m \u001b[38;5;66;03m#-----------------------------------------------------------------------------\u001b[39;00m\n\u001b[0;32m--> 123\u001b[0m data \u001b[38;5;241m=\u001b[39m \u001b[43m_read_data\u001b[49m\u001b[43m(\u001b[49m\u001b[43m)\u001b[49m\n",
      "File \u001b[0;32m~/tutorial-env/lib/python3.10/site-packages/bokeh/sampledata/us_counties.py:92\u001b[0m, in \u001b[0;36m_read_data\u001b[0;34m()\u001b[0m\n\u001b[1;32m     87\u001b[0m \u001b[38;5;124;03m'''\u001b[39;00m\n\u001b[1;32m     88\u001b[0m \n\u001b[1;32m     89\u001b[0m \u001b[38;5;124;03m'''\u001b[39;00m\n\u001b[1;32m     90\u001b[0m data: \u001b[38;5;28mdict\u001b[39m[\u001b[38;5;28mtuple\u001b[39m[State, County], CountyData] \u001b[38;5;241m=\u001b[39m {}\n\u001b[0;32m---> 92\u001b[0m \u001b[38;5;28;01mwith\u001b[39;00m open_csv(\u001b[43mexternal_path\u001b[49m\u001b[43m(\u001b[49m\u001b[38;5;124;43m'\u001b[39;49m\u001b[38;5;124;43mUS_Counties.csv\u001b[39;49m\u001b[38;5;124;43m'\u001b[39;49m\u001b[43m)\u001b[49m) \u001b[38;5;28;01mas\u001b[39;00m f:\n\u001b[1;32m     93\u001b[0m     \u001b[38;5;28mnext\u001b[39m(f)\n\u001b[1;32m     94\u001b[0m     reader \u001b[38;5;241m=\u001b[39m csv\u001b[38;5;241m.\u001b[39mreader(f, delimiter\u001b[38;5;241m=\u001b[39m\u001b[38;5;124m\"\u001b[39m\u001b[38;5;124m,\u001b[39m\u001b[38;5;124m\"\u001b[39m, quotechar\u001b[38;5;241m=\u001b[39m\u001b[38;5;124m'\u001b[39m\u001b[38;5;124m\"\u001b[39m\u001b[38;5;124m'\u001b[39m)\n",
      "File \u001b[0;32m~/tutorial-env/lib/python3.10/site-packages/bokeh/util/sampledata.py:124\u001b[0m, in \u001b[0;36mexternal_path\u001b[0;34m(filename)\u001b[0m\n\u001b[1;32m    123\u001b[0m \u001b[38;5;28;01mdef\u001b[39;00m \u001b[38;5;21mexternal_path\u001b[39m(filename: \u001b[38;5;28mstr\u001b[39m \u001b[38;5;241m|\u001b[39m Path) \u001b[38;5;241m-\u001b[39m\u001b[38;5;241m>\u001b[39m Path:\n\u001b[0;32m--> 124\u001b[0m     data_dir \u001b[38;5;241m=\u001b[39m \u001b[43mexternal_data_dir\u001b[49m\u001b[43m(\u001b[49m\u001b[43m)\u001b[49m\n\u001b[1;32m    125\u001b[0m     fn \u001b[38;5;241m=\u001b[39m data_dir \u001b[38;5;241m/\u001b[39m filename\n\u001b[1;32m    126\u001b[0m     \u001b[38;5;28;01mif\u001b[39;00m \u001b[38;5;129;01mnot\u001b[39;00m fn\u001b[38;5;241m.\u001b[39mexists() \u001b[38;5;129;01mor\u001b[39;00m \u001b[38;5;129;01mnot\u001b[39;00m fn\u001b[38;5;241m.\u001b[39mis_file():\n",
      "File \u001b[0;32m~/tutorial-env/lib/python3.10/site-packages/bokeh/util/sampledata.py:111\u001b[0m, in \u001b[0;36mexternal_data_dir\u001b[0;34m(create)\u001b[0m\n\u001b[1;32m    109\u001b[0m \u001b[38;5;28;01mif\u001b[39;00m \u001b[38;5;129;01mnot\u001b[39;00m data_dir\u001b[38;5;241m.\u001b[39mexists():\n\u001b[1;32m    110\u001b[0m     \u001b[38;5;28;01mif\u001b[39;00m \u001b[38;5;129;01mnot\u001b[39;00m create:\n\u001b[0;32m--> 111\u001b[0m         \u001b[38;5;28;01mraise\u001b[39;00m \u001b[38;5;167;01mRuntimeError\u001b[39;00m(\u001b[38;5;124m'\u001b[39m\u001b[38;5;124mbokeh sample data directory does not exist, please execute bokeh.sampledata.download()\u001b[39m\u001b[38;5;124m'\u001b[39m)\n\u001b[1;32m    112\u001b[0m     \u001b[38;5;28mprint\u001b[39m(\u001b[38;5;124mf\u001b[39m\u001b[38;5;124m\"\u001b[39m\u001b[38;5;124mCreating \u001b[39m\u001b[38;5;132;01m{\u001b[39;00mdata_dir\u001b[38;5;132;01m}\u001b[39;00m\u001b[38;5;124m directory\u001b[39m\u001b[38;5;124m\"\u001b[39m)\n\u001b[1;32m    113\u001b[0m     \u001b[38;5;28;01mtry\u001b[39;00m:\n",
      "\u001b[0;31mRuntimeError\u001b[0m: bokeh sample data directory does not exist, please execute bokeh.sampledata.download()"
     ]
    }
   ],
   "source": [
    "import collections\n",
    "from bokeh.sampledata import us_counties, unemployment\n",
    "from bokeh.plotting import figure, show, output_file\n",
    "from bokeh.models import HoverTool"
   ]
  },
  {
   "cell_type": "code",
   "execution_count": 6,
   "id": "754d2339-f882-45b1-b5f2-1cbce67f8675",
   "metadata": {},
   "outputs": [
    {
     "ename": "NameError",
     "evalue": "name 'us_counties' is not defined",
     "output_type": "error",
     "traceback": [
      "\u001b[0;31m---------------------------------------------------------------------------\u001b[0m",
      "\u001b[0;31mNameError\u001b[0m                                 Traceback (most recent call last)",
      "Cell \u001b[0;32mIn[6], line 2\u001b[0m\n\u001b[1;32m      1\u001b[0m county_coordinate_xs\u001b[38;5;241m=\u001b[39m[\n\u001b[0;32m----> 2\u001b[0m us_counties\u001b[38;5;241m.\u001b[39mdata[code][\u001b[38;5;124m'\u001b[39m\u001b[38;5;124mlons\u001b[39m\u001b[38;5;124m'\u001b[39m] \u001b[38;5;28;01mfor\u001b[39;00m code \u001b[38;5;129;01min\u001b[39;00m \u001b[43mus_counties\u001b[49m\u001b[38;5;241m.\u001b[39mdata \n\u001b[1;32m      3\u001b[0m     \u001b[38;5;28;01mif\u001b[39;00m us_counties\u001b[38;5;241m.\u001b[39mdata[code][\u001b[38;5;124m'\u001b[39m\u001b[38;5;124mstate\u001b[39m\u001b[38;5;124m'\u001b[39m]\u001b[38;5;241m==\u001b[39m\u001b[38;5;124m'\u001b[39m\u001b[38;5;124mca\u001b[39m\u001b[38;5;124m'\u001b[39m]\n\u001b[1;32m      4\u001b[0m county_coordinate_ys\u001b[38;5;241m=\u001b[39m[us_counties\u001b[38;5;241m.\u001b[39mdata[code][\u001b[38;5;124m'\u001b[39m\u001b[38;5;124mlats\u001b[39m\u001b[38;5;124m'\u001b[39m] \u001b[38;5;28;01mfor\u001b[39;00m code \u001b[38;5;129;01min\u001b[39;00m us_counties\u001b[38;5;241m.\u001b[39mdata\n\u001b[1;32m      5\u001b[0m                       \u001b[38;5;28;01mif\u001b[39;00m us_counties\u001b[38;5;241m.\u001b[39mdata[code][\u001b[38;5;124m'\u001b[39m\u001b[38;5;124mstate\u001b[39m\u001b[38;5;124m'\u001b[39m] \u001b[38;5;241m==\u001b[39m\u001b[38;5;124m'\u001b[39m\u001b[38;5;124mca\u001b[39m\u001b[38;5;124m'\u001b[39m ]\n\u001b[1;32m      6\u001b[0m code \u001b[38;5;129;01min\u001b[39;00m us_counties\u001b[38;5;241m.\u001b[39mdata \u001b[38;5;241m==\u001b[39m \u001b[38;5;124m'\u001b[39m\u001b[38;5;124mca\u001b[39m\u001b[38;5;124m'\u001b[39m\n",
      "\u001b[0;31mNameError\u001b[0m: name 'us_counties' is not defined"
     ]
    }
   ],
   "source": [
    "county_coordinate_xs=[\n",
    "us_counties.data[code]['lons'] for code in us_counties.data \n",
    "    if us_counties.data[code]['state']=='ca']\n",
    "county_coordinate_ys=[us_counties.data[code]['lats'] for code in us_counties.data\n",
    "                      if us_counties.data[code]['state'] =='ca' ]\n",
    "code in us_counties.data == 'ca'\n",
    "code in us_counties.data == 'ca'\n",
    "colors = [\"#e6f2ff\", \"#cce5ff\", \"#99cbff\", \"#b2d8ff\", \"#73abe5\", \"#5985b2\"]\n",
    "county_colors = []\n",
    "for county_id in us_counties.data:\n",
    "    if us_counties.data[county_id]['state'] != 'ca':\n",
    "        continue\n",
    "    try:\n",
    "        rate = unemployment.data[county_id]\n",
    "        idx = min(int(rate/2), 5)\n",
    "        county_colors.append(colors[idx])\n",
    "    except KeyError:\n",
    "        county_colors.append(\"black\")\n",
    "output_file(\"california.html\", title=\"california.py example\")\n",
    "TOOLS=\"pan,wheel_zoom,box_zoom,reset,hover,save\"\n",
    "p = figure(title=\"California Unemployment 2009\", width=1000,\n",
    "height=1000, tools=TOOLS)\n",
    "p.patches(county_coordinate_xs, county_coordinate_ys,\n",
    "fill_color=county_colors, fill_alpha=0.7,\n",
    "line_color=\"white\", line_width=0.5)\n",
    "mouse_hover = p.select(dict(type=HoverTool))\n",
    "mouse_hover.point_policy = \"follow_mouse\"\n",
    "mouse_hover.tooltips = collections.OrderedDict([\n",
    "(\"index\", \"$index\"), (\"(x,y)\", \"($x, $y)\"),\n",
    "(\"fill color\", \"$color[hex, swatch]:fill_color\"),\n",
    "])\n",
    "plt.show(p)"
   ]
  },
  {
   "cell_type": "code",
   "execution_count": null,
   "id": "3088cae4-2f64-46e3-be75-5f68d5f15473",
   "metadata": {},
   "outputs": [],
   "source": []
  }
 ],
 "metadata": {
  "kernelspec": {
   "display_name": "Python 3 (ipykernel)",
   "language": "python",
   "name": "python3"
  },
  "language_info": {
   "codemirror_mode": {
    "name": "ipython",
    "version": 3
   },
   "file_extension": ".py",
   "mimetype": "text/x-python",
   "name": "python",
   "nbconvert_exporter": "python",
   "pygments_lexer": "ipython3",
   "version": "3.10.8"
  }
 },
 "nbformat": 4,
 "nbformat_minor": 5
}
