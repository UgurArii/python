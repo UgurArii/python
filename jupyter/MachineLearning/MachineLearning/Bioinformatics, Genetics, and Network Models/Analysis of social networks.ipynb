{
 "cells": [
  {
   "cell_type": "code",
   "execution_count": 1,
   "id": "9c039874-70b8-4f8c-b879-18b85276badc",
   "metadata": {},
   "outputs": [
    {
     "ename": "ModuleNotFoundError",
     "evalue": "No module named 'cPickle'",
     "output_type": "error",
     "traceback": [
      "\u001b[0;31m---------------------------------------------------------------------------\u001b[0m",
      "\u001b[0;31mModuleNotFoundError\u001b[0m                       Traceback (most recent call last)",
      "Cell \u001b[0;32mIn[1], line 1\u001b[0m\n\u001b[0;32m----> 1\u001b[0m \u001b[38;5;28;01mimport\u001b[39;00m \u001b[38;5;21;01mcPickle\u001b[39;00m\n\u001b[1;32m      2\u001b[0m \u001b[38;5;28;01mimport\u001b[39;00m \u001b[38;5;21;01mos\u001b[39;00m\n\u001b[1;32m      3\u001b[0m \u001b[38;5;28;01mimport\u001b[39;00m \u001b[38;5;21;01mtwitter\u001b[39;00m\n",
      "\u001b[0;31mModuleNotFoundError\u001b[0m: No module named 'cPickle'"
     ]
    }
   ],
   "source": [
    "import cPickle\n",
    "import os\n",
    "import twitter\n",
    "# https://github.com/ianozsvald/python-twitter"
   ]
  },
  {
   "cell_type": "code",
   "execution_count": null,
   "id": "c9b090d3-617f-4757-aa23-b19fdda8772e",
   "metadata": {},
   "outputs": [],
   "source": [
    "# Usage:\n",
    "# $ # setup CONSUMER_KEY, CONSUMER_SECRET, ACCESS_TOKEN_KEY, ACCESS_\n",
    "TOKEN_SECRET\n",
    "# as environment variables\n",
    "# $ python get_data.py # downloads friend and follower data to ./data\n",
    "# Errors seen at runtime:\n",
    "# raise URLError(err)\n",
    "# urllib2.URLError: <urlopen error [Errno 104] Connection reset by\n",
    "peer>\n",
    "DATA_DIR = \"data\"\n",
    "# storage directory for friend/follower data\n",
    "# list of screen names that we'll want to analyze\n",
    "screen_names = [ 'KirthiRaman', 'Lebron' ]\n",
    "def get_filenames(screen_name):\n",
    "\"\"\"Build the friends and followers filenames\"\"\"\n",
    "    return os.path.join(DATA_DIR, \"%s.friends.pickle\" % (screen_name)), os.path.join(DATA_DIR, \"%s.followers.pickle\" % (screen_name))\n",
    "if __name__ == \"__main__\":\n",
    "# deliberately stripped my keys\n",
    "    t = twitter.Api(consumer_key='k7atkBNgoGrioMS...',\n",
    "        consumer_secret='eBOx1ikHMkFc...',\n",
    "        access_token_key='8959...',\n",
    "        access_token_secret='O7it0...');\n",
    "print t.VerifyCredentials()\n",
    "for screen_name in screen_names:\n",
    "    fr_filename, fo_filename = get_filenames(screen_name)\n",
    "    print \"Checking for:\", fr_filename, fo_filename\n",
    "    if not os.path.exists(fr_filename):\n",
    "        print \"Getting friends for\", screen_name\n",
    "        fr = t.GetFriends(screen_name=screen_name)\n",
    "        cPickle.dump(fr, open(fr_filename, \"w\"), protocol=2)\n",
    "    if not os.path.exists(fo_filename):\n",
    "        print \"Getting followers for\", screen_name\n",
    "        fo = t.GetFollowers(screen_name=screen_name)\n",
    "        cPickle.dump(fo, open(fo_filename, \"w\"), protocol=2)"
   ]
  }
 ],
 "metadata": {
  "kernelspec": {
   "display_name": "Python 3 (ipykernel)",
   "language": "python",
   "name": "python3"
  },
  "language_info": {
   "codemirror_mode": {
    "name": "ipython",
    "version": 3
   },
   "file_extension": ".py",
   "mimetype": "text/x-python",
   "name": "python",
   "nbconvert_exporter": "python",
   "pygments_lexer": "ipython3",
   "version": "3.10.8"
  }
 },
 "nbformat": 4,
 "nbformat_minor": 5
}
