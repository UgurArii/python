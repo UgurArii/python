{
 "cells": [
  {
   "cell_type": "code",
   "execution_count": 2,
   "id": "35d20962-11bc-4b20-bf71-78bc674095b8",
   "metadata": {},
   "outputs": [
    {
     "ename": "ModuleNotFoundError",
     "evalue": "No module named 'graph_tool'",
     "output_type": "error",
     "traceback": [
      "\u001b[0;31m---------------------------------------------------------------------------\u001b[0m",
      "\u001b[0;31mModuleNotFoundError\u001b[0m                       Traceback (most recent call last)",
      "Cell \u001b[0;32mIn[2], line 1\u001b[0m\n\u001b[0;32m----> 1\u001b[0m \u001b[38;5;28;01mimport\u001b[39;00m \u001b[38;5;21;01mgraph_tool\u001b[39;00m\u001b[38;5;21;01m.\u001b[39;00m\u001b[38;5;21;01mall\u001b[39;00m \u001b[38;5;28;01mas\u001b[39;00m \u001b[38;5;21;01mgtool\u001b[39;00m\n",
      "\u001b[0;31mModuleNotFoundError\u001b[0m: No module named 'graph_tool'"
     ]
    }
   ],
   "source": [
    "import graph_tool.all as gtool"
   ]
  },
  {
   "cell_type": "code",
   "execution_count": 3,
   "id": "458f3e20-ce4b-4106-b750-3b66efdd85d0",
   "metadata": {},
   "outputs": [
    {
     "ename": "NameError",
     "evalue": "name 'gtool' is not defined",
     "output_type": "error",
     "traceback": [
      "\u001b[0;31m---------------------------------------------------------------------------\u001b[0m",
      "\u001b[0;31mNameError\u001b[0m                                 Traceback (most recent call last)",
      "Cell \u001b[0;32mIn[3], line 1\u001b[0m\n\u001b[0;32m----> 1\u001b[0m gr \u001b[38;5;241m=\u001b[39m \u001b[43mgtool\u001b[49m\u001b[38;5;241m.\u001b[39mcollection\u001b[38;5;241m.\u001b[39mdata[\u001b[38;5;124m\"\u001b[39m\u001b[38;5;124mpolblogs\u001b[39m\u001b[38;5;124m\"\u001b[39m]\n\u001b[1;32m      2\u001b[0m gr \u001b[38;5;241m=\u001b[39m gtool\u001b[38;5;241m.\u001b[39mGraphView(gr, vfilt\u001b[38;5;241m=\u001b[39mgtool\u001b[38;5;241m.\u001b[39mlabel_largest_component(gr))\n\u001b[1;32m      3\u001b[0m cness \u001b[38;5;241m=\u001b[39m gtool\u001b[38;5;241m.\u001b[39mcloseness(gr)\n",
      "\u001b[0;31mNameError\u001b[0m: name 'gtool' is not defined"
     ]
    }
   ],
   "source": [
    "gr = gtool.collection.data[\"polblogs\"]\n",
    "gr = gtool.GraphView(gr, vfilt=gtool.label_largest_component(gr))\n",
    "cness = gtool.closeness(gr)\n",
    "gtool.graph_draw(gr, pos=gr.vp[\"pos\"], vertex_fill_color=cness, vertex_size=gtool.prop_to_size(cness, mi=5,ma=15),\n",
    "                 vorder=cness, vcmap=matplotlib.cm.gist_heat, output=\"political_closeness.pdf\")"
   ]
  },
  {
   "cell_type": "code",
   "execution_count": null,
   "id": "e1df538c-ec2b-4193-a852-4ae1e9b1fd95",
   "metadata": {},
   "outputs": [],
   "source": []
  }
 ],
 "metadata": {
  "kernelspec": {
   "display_name": "Python 3 (ipykernel)",
   "language": "python",
   "name": "python3"
  },
  "language_info": {
   "codemirror_mode": {
    "name": "ipython",
    "version": 3
   },
   "file_extension": ".py",
   "mimetype": "text/x-python",
   "name": "python",
   "nbconvert_exporter": "python",
   "pygments_lexer": "ipython3",
   "version": "3.10.8"
  }
 },
 "nbformat": 4,
 "nbformat_minor": 5
}
