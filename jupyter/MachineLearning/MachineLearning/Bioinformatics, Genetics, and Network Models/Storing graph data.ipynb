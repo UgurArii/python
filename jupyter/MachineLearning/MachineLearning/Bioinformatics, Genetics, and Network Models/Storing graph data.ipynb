{
 "cells": [
  {
   "cell_type": "code",
   "execution_count": 1,
   "id": "2a40a4cc-aa3c-493b-b1b0-4b1fb19c9ea6",
   "metadata": {},
   "outputs": [],
   "source": [
    "import scipy.sparse as sparse"
   ]
  },
  {
   "cell_type": "code",
   "execution_count": 2,
   "id": "36937596-2b89-468a-8fad-ff14e7d35545",
   "metadata": {},
   "outputs": [
    {
     "name": "stdout",
     "output_type": "stream",
     "text": [
      "  (0, 1)\t25\n",
      "  (0, 2)\t26\n",
      "  (1, 2)\t85\n",
      "  (1, 3)\t5\n",
      "  (1, 4)\t10\n",
      "  (2, 0)\t26\n",
      "  (2, 1)\t85\n",
      "  (2, 5)\t10\n",
      "  (3, 5)\t11\n",
      "  (4, 3)\t9\n",
      "  (4, 5)\t88\n",
      "  (5, 3)\t11\n",
      "  (5, 4)\t88\n"
     ]
    }
   ],
   "source": [
    "matrixA = sparse.lil_matrix((6,6))\n",
    "matrixA = sparse.lil_matrix( [[0,25,26,0,0,0], [0,0,85,5,10,0],\n",
    "[26,85,0,0,0,10], [0,0,0,0,0,11],[0,0,0,9,0,88],[0,0,0,11,88,0]])\n",
    "print(matrixA)"
   ]
  },
  {
   "cell_type": "code",
   "execution_count": 4,
   "id": "4b448488-4de8-46cf-a541-6df5de3df8dd",
   "metadata": {},
   "outputs": [],
   "source": [
    "from igraph import *\n"
   ]
  },
  {
   "cell_type": "code",
   "execution_count": 5,
   "id": "215556ed-e159-45df-bcfa-b3f3b159716f",
   "metadata": {},
   "outputs": [],
   "source": [
    "vertices = [\"A\", \"B\", \"C\", \"D\", \"E\", \"F\", \"G\", \"H\", \"I\", \"J\"]\n",
    "edges = [(0,1),(1,2),(2,3),(3,4),(4,5),(5,6),(6,7),(7,1),\n",
    "(1,8), (8,2),(2,4),(4,9),(9,5),(5,7),(7,0)]\n",
    "\n",
    "graphStyle = {'vertex_size':20}\n",
    "g = Graph(vertex_attrs={\"label\":vertices}, edges=edges, directed=True)\n",
    "g.write_svg(\"simple_star.svg\", width=500, height=300, **graphStyle)"
   ]
  },
  {
   "cell_type": "code",
   "execution_count": 6,
   "id": "e4f6374c-6a9f-4508-87e7-d48ffb02ec23",
   "metadata": {},
   "outputs": [],
   "source": [
    "from igraph import read"
   ]
  },
  {
   "cell_type": "code",
   "execution_count": 12,
   "id": "7cecfcf0-c2e3-4574-9c0c-6ee5c6d3c655",
   "metadata": {},
   "outputs": [
    {
     "ename": "InternalError",
     "evalue": "Error at src/io/pajek.c:213: Parse error in Pajek file, line 1 (syntax error, unexpected ALNUM, expecting *vertices line). -- Parse error",
     "output_type": "error",
     "traceback": [
      "\u001b[0;31m---------------------------------------------------------------------------\u001b[0m",
      "\u001b[0;31mInternalError\u001b[0m                             Traceback (most recent call last)",
      "Cell \u001b[0;32mIn[12], line 1\u001b[0m\n\u001b[0;32m----> 1\u001b[0m g \u001b[38;5;241m=\u001b[39m \u001b[43mread\u001b[49m\u001b[43m(\u001b[49m\u001b[38;5;124;43m\"\u001b[39;49m\u001b[38;5;124;43mregusa.html\u001b[39;49m\u001b[38;5;124;43m\"\u001b[39;49m\u001b[43m,\u001b[49m\u001b[43m \u001b[49m\u001b[38;5;28;43mformat\u001b[39;49m\u001b[38;5;241;43m=\u001b[39;49m\u001b[38;5;124;43m\"\u001b[39;49m\u001b[38;5;124;43mpajek\u001b[39;49m\u001b[38;5;124;43m\"\u001b[39;49m\u001b[43m)\u001b[49m\n\u001b[1;32m      2\u001b[0m g\u001b[38;5;241m.\u001b[39mvs[\u001b[38;5;124m\"\u001b[39m\u001b[38;5;124mcolor\u001b[39m\u001b[38;5;124m\"\u001b[39m] \u001b[38;5;241m=\u001b[39m \u001b[38;5;124m\"\u001b[39m\u001b[38;5;124m#3d679d\u001b[39m\u001b[38;5;124m\"\u001b[39m\n\u001b[1;32m      3\u001b[0m g\u001b[38;5;241m.\u001b[39mes[\u001b[38;5;124m\"\u001b[39m\u001b[38;5;124mcolor\u001b[39m\u001b[38;5;124m\"\u001b[39m] \u001b[38;5;241m=\u001b[39m \u001b[38;5;124m\"\u001b[39m\u001b[38;5;124mred\u001b[39m\u001b[38;5;124m\"\u001b[39m\n",
      "File \u001b[0;32m~/tutorial-env/lib/python3.10/site-packages/igraph/__init__.py:1015\u001b[0m, in \u001b[0;36mread\u001b[0;34m(filename, *args, **kwds)\u001b[0m\n\u001b[1;32m   1007\u001b[0m \u001b[38;5;28;01mdef\u001b[39;00m \u001b[38;5;21mread\u001b[39m(filename, \u001b[38;5;241m*\u001b[39margs, \u001b[38;5;241m*\u001b[39m\u001b[38;5;241m*\u001b[39mkwds):\n\u001b[1;32m   1008\u001b[0m     \u001b[38;5;124;03m\"\"\"Loads a graph from the given filename.\u001b[39;00m\n\u001b[1;32m   1009\u001b[0m \n\u001b[1;32m   1010\u001b[0m \u001b[38;5;124;03m    This is just a convenience function, calls L{Graph.Read} directly.\u001b[39;00m\n\u001b[0;32m   (...)\u001b[0m\n\u001b[1;32m   1013\u001b[0m \u001b[38;5;124;03m    @param filename: the name of the file to be loaded\u001b[39;00m\n\u001b[1;32m   1014\u001b[0m \u001b[38;5;124;03m    \"\"\"\u001b[39;00m\n\u001b[0;32m-> 1015\u001b[0m     \u001b[38;5;28;01mreturn\u001b[39;00m \u001b[43mGraph\u001b[49m\u001b[38;5;241;43m.\u001b[39;49m\u001b[43mRead\u001b[49m\u001b[43m(\u001b[49m\u001b[43mfilename\u001b[49m\u001b[43m,\u001b[49m\u001b[43m \u001b[49m\u001b[38;5;241;43m*\u001b[39;49m\u001b[43margs\u001b[49m\u001b[43m,\u001b[49m\u001b[43m \u001b[49m\u001b[38;5;241;43m*\u001b[39;49m\u001b[38;5;241;43m*\u001b[39;49m\u001b[43mkwds\u001b[49m\u001b[43m)\u001b[49m\n",
      "File \u001b[0;32m~/tutorial-env/lib/python3.10/site-packages/igraph/io/files.py:295\u001b[0m, in \u001b[0;36m_construct_graph_from_file\u001b[0;34m(cls, f, format, *args, **kwds)\u001b[0m\n\u001b[1;32m    293\u001b[0m     \u001b[38;5;28;01mraise\u001b[39;00m \u001b[38;5;167;01mIOError\u001b[39;00m(\u001b[38;5;124m\"\u001b[39m\u001b[38;5;124mno reader method for file format: \u001b[39m\u001b[38;5;132;01m%s\u001b[39;00m\u001b[38;5;124m\"\u001b[39m \u001b[38;5;241m%\u001b[39m \u001b[38;5;28mstr\u001b[39m(\u001b[38;5;28mformat\u001b[39m))\n\u001b[1;32m    294\u001b[0m reader \u001b[38;5;241m=\u001b[39m \u001b[38;5;28mgetattr\u001b[39m(\u001b[38;5;28mcls\u001b[39m, reader)\n\u001b[0;32m--> 295\u001b[0m \u001b[38;5;28;01mreturn\u001b[39;00m \u001b[43mreader\u001b[49m\u001b[43m(\u001b[49m\u001b[43mf\u001b[49m\u001b[43m,\u001b[49m\u001b[43m \u001b[49m\u001b[38;5;241;43m*\u001b[39;49m\u001b[43margs\u001b[49m\u001b[43m,\u001b[49m\u001b[43m \u001b[49m\u001b[38;5;241;43m*\u001b[39;49m\u001b[38;5;241;43m*\u001b[39;49m\u001b[43mkwds\u001b[49m\u001b[43m)\u001b[49m\n",
      "\u001b[0;31mInternalError\u001b[0m: Error at src/io/pajek.c:213: Parse error in Pajek file, line 1 (syntax error, unexpected ALNUM, expecting *vertices line). -- Parse error"
     ]
    }
   ],
   "source": [
    "g = read(\"regusa.html\", format=\"pajek\")\n",
    "g.vs[\"color\"] = \"#3d679d\"\n",
    "g.es[\"color\"] = \"red\"\n",
    "\n",
    "graphStyle={'vertex_size':12, 'margin':6}\n",
    "#graphStyle[\"layout\"] = gçlayout(\"fr\")\n",
    "g.write_svg(\"regusa_graph.svg\", width=600, height=600, **graphStyle)"
   ]
  },
  {
   "cell_type": "code",
   "execution_count": null,
   "id": "a1deae97-42f6-4a7d-98dc-a1d6620e0ed4",
   "metadata": {},
   "outputs": [],
   "source": []
  },
  {
   "cell_type": "code",
   "execution_count": null,
   "id": "2470cb22-57bf-4eac-a9aa-7d985e7f2682",
   "metadata": {},
   "outputs": [],
   "source": []
  }
 ],
 "metadata": {
  "kernelspec": {
   "display_name": "Python 3 (ipykernel)",
   "language": "python",
   "name": "python3"
  },
  "language_info": {
   "codemirror_mode": {
    "name": "ipython",
    "version": 3
   },
   "file_extension": ".py",
   "mimetype": "text/x-python",
   "name": "python",
   "nbconvert_exporter": "python",
   "pygments_lexer": "ipython3",
   "version": "3.10.8"
  }
 },
 "nbformat": 4,
 "nbformat_minor": 5
}
