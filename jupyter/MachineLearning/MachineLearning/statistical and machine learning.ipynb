{
 "cells": [
  {
   "cell_type": "markdown",
   "id": "48140985-70b7-4935-9528-bce24c071f76",
   "metadata": {},
   "source": [
    "An overview of statistical and machine learning"
   ]
  },
  {
   "cell_type": "markdown",
   "id": "e2719e34-202c-4c7b-8758-5fbd8e8054e3",
   "metadata": {},
   "source": [
    "Let's leave this debate to the experts and select\n",
    "a few areas to discuss in this chapter. Later in the following chapter, there will be\n",
    "elaborate examples of machine learning. Here are some of the algorithms:\n",
    "• Regression or forecasting\n",
    "• Linear and quadratic discriminant analysis\n",
    "• Classification\n",
    "• Nearest neighbor\n",
    "• Naïve Bayes\n",
    "• Support vector machines\n",
    "• Decision trees\n",
    "• Clustering"
   ]
  },
  {
   "cell_type": "markdown",
   "id": "a4795ba0-8ccb-4fd9-a61d-5e97c8d097e1",
   "metadata": {},
   "source": [
    "Classification methods—decision tree and linear and k-nearest neighbors Naïve Bayes, linear regression, and logistic regression Support vector machines Tree-based regression and unsupervised learning Principal component analysis Clustering based on similarity Measuring performance for classification"
   ]
  },
  {
   "cell_type": "markdown",
   "id": "0d06c6fa-c3ba-46d1-bea1-6569915b2c11",
   "metadata": {},
   "source": [
    "Classification methods\n",
    "Machine learning algorithms are useful in many real-world applications, for example, if someone is interested in making accurate predictions about the climate or in the diagnosis of a disease. The learning is usually based on some known behavior\n",
    "or observations. This means that machine learning is about learning to improve on something in the future based on the experience or observations of the past. Machine learning algorithms are broadly categorized as supervised learning, unsupervised learning, reinforced learning, and deep learning. The supervised learning method of classification (where the test data is labeled) is similar to a teacher who supervises different classes. Supervised learning relies on the algorithm\n",
    "to learn from data when we specify a target variable. Building an accurate classifier requires the following features:\n",
    "• A good set of training examples\n",
    "• A reasonably good performance on the training set\n",
    "• A classifier method that is closely related to prior  expectations\n",
    "A binary classifier takes the data items and places them in one of the two classes (for higher dimensions, the data items are placed in k classes). The examples of a binary classifier determines whether a person's results can be diagnosed with the possibility of being positive on some disease or negative. The classifier algorithm is probabilistic. With some margin of error, someone can be diagnosed as either positive or negative. In any of these algorithms, there is a general approach to accomplish this, which goes in the following order:\n",
    "• Collecting data from a reliable source.\n",
    "• Preparing or reorganizing data with a specific structure. For a binary\n",
    "classifier, a distance calculation is required.\n",
    "• Analyzing data with any appropriate method.\n",
    "• Training (this is not applicable for a binary classifier).\n",
    "• Testing (calculating the error rate).\n",
    "\n",
    "\n"
   ]
  }
 ],
 "metadata": {
  "kernelspec": {
   "display_name": "Python 3 (ipykernel)",
   "language": "python",
   "name": "python3"
  },
  "language_info": {
   "codemirror_mode": {
    "name": "ipython",
    "version": 3
   },
   "file_extension": ".py",
   "mimetype": "text/x-python",
   "name": "python",
   "nbconvert_exporter": "python",
   "pygments_lexer": "ipython3",
   "version": "3.10.8"
  }
 },
 "nbformat": 4,
 "nbformat_minor": 5
}
