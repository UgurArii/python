{
 "cells": [
  {
   "cell_type": "code",
   "execution_count": 2,
   "id": "7ddd38bb-1b49-41d6-b605-1bf4b4c28d94",
   "metadata": {},
   "outputs": [
    {
     "ename": "NameError",
     "evalue": "name 'plotNode' is not defined",
     "output_type": "error",
     "traceback": [
      "\u001b[0;31m---------------------------------------------------------------------------\u001b[0m",
      "\u001b[0;31mNameError\u001b[0m                                 Traceback (most recent call last)",
      "Cell \u001b[0;32mIn[2], line 15\u001b[0m\n\u001b[1;32m     13\u001b[0m     plotNode(\u001b[38;5;124m'\u001b[39m\u001b[38;5;124ma leaf node\u001b[39m\u001b[38;5;124m'\u001b[39m, (\u001b[38;5;241m0.8\u001b[39m, \u001b[38;5;241m0.1\u001b[39m), (\u001b[38;5;241m0.3\u001b[39m, \u001b[38;5;241m0.8\u001b[39m), leafNode)\n\u001b[1;32m     14\u001b[0m     plt\u001b[38;5;241m.\u001b[39mshow()\n\u001b[0;32m---> 15\u001b[0m \u001b[43mcreatePlot\u001b[49m\u001b[43m(\u001b[49m\u001b[43m)\u001b[49m\n",
      "Cell \u001b[0;32mIn[2], line 11\u001b[0m, in \u001b[0;36mcreatePlot\u001b[0;34m()\u001b[0m\n\u001b[1;32m      9\u001b[0m fig\u001b[38;5;241m.\u001b[39mclf()\n\u001b[1;32m     10\u001b[0m createPlot\u001b[38;5;241m.\u001b[39max1 \u001b[38;5;241m=\u001b[39m plt\u001b[38;5;241m.\u001b[39msubplot(\u001b[38;5;241m111\u001b[39m, frameon\u001b[38;5;241m=\u001b[39m\u001b[38;5;28;01mFalse\u001b[39;00m) \u001b[38;5;66;03m#ticks for demo     purposes\u001b[39;00m\n\u001b[0;32m---> 11\u001b[0m \u001b[43mplotNode\u001b[49m(\u001b[38;5;124m'\u001b[39m\u001b[38;5;124mfrom here\u001b[39m\u001b[38;5;124m'\u001b[39m, (\u001b[38;5;241m0.3\u001b[39m,\u001b[38;5;241m0.8\u001b[39m), (\u001b[38;5;241m0.3\u001b[39m, \u001b[38;5;241m0.8\u001b[39m), startNode)\n\u001b[1;32m     12\u001b[0m plotNode(\u001b[38;5;124m'\u001b[39m\u001b[38;5;124ma decision node\u001b[39m\u001b[38;5;124m'\u001b[39m, (\u001b[38;5;241m0.5\u001b[39m, \u001b[38;5;241m0.1\u001b[39m), (\u001b[38;5;241m0.3\u001b[39m, \u001b[38;5;241m0.8\u001b[39m), branchNode)\n\u001b[1;32m     13\u001b[0m plotNode(\u001b[38;5;124m'\u001b[39m\u001b[38;5;124ma leaf node\u001b[39m\u001b[38;5;124m'\u001b[39m, (\u001b[38;5;241m0.8\u001b[39m, \u001b[38;5;241m0.1\u001b[39m), (\u001b[38;5;241m0.3\u001b[39m, \u001b[38;5;241m0.8\u001b[39m), leafNode)\n",
      "\u001b[0;31mNameError\u001b[0m: name 'plotNode' is not defined"
     ]
    },
    {
     "data": {
      "image/png": "[encoded data removed]",
      "text/plain": [
       "<Figure size 640x480 with 1 Axes>"
      ]
     },
     "metadata": {},
     "output_type": "display_data"
    }
   ],
   "source": [
    "import matplotlib.pyplot as plt\n",
    "#create nodes here\n",
    "branchNode = dict(boxstyle=\"sawtooth\", fc=\"0.8\")\n",
    "leafNode = dict(boxstyle=\"round4\", fc=\"0.8\")\n",
    "startNode = dict(boxstyle=\"sawtooth\", fc=\"0.9\")\n",
    "\n",
    "def createPlot():\n",
    "    fig = plt.figure(1, facecolor='white')\n",
    "    fig.clf()\n",
    "    createPlot.ax1 = plt.subplot(111, frameon=False) #ticks for demo     purposes\n",
    "    plotNode('from here', (0.3,0.8), (0.3, 0.8), startNode)\n",
    "    plotNode('a decision node', (0.5, 0.1), (0.3, 0.8), branchNode)\n",
    "    plotNode('a leaf node', (0.8, 0.1), (0.3, 0.8), leafNode)\n",
    "    plt.show()\n",
    "createPlot()"
   ]
  },
  {
   "cell_type": "code",
   "execution_count": null,
   "id": "cb1108ca-c489-48f0-8a86-a97bf579cb76",
   "metadata": {},
   "outputs": [],
   "source": []
  }
 ],
 "metadata": {
  "kernelspec": {
   "display_name": "Python 3 (ipykernel)",
   "language": "python",
   "name": "python3"
  },
  "language_info": {
   "codemirror_mode": {
    "name": "ipython",
    "version": 3
   },
   "file_extension": ".py",
   "mimetype": "text/x-python",
   "name": "python",
   "nbconvert_exporter": "python",
   "pygments_lexer": "ipython3",
   "version": "3.10.8"
  }
 },
 "nbformat": 4,
 "nbformat_minor": 5
}
