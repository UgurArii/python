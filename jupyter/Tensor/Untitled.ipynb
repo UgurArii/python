{
 "cells": [
  {
   "cell_type": "code",
   "execution_count": null,
   "id": "1f853aef-2dc8-4a3f-bf9d-67716ffffb60",
   "metadata": {},
   "outputs": [],
   "source": []
  }
 ],
 "metadata": {
  "kernelspec": {
   "display_name": "SysML",
   "language": "sysml",
   "name": "sysml"
  },
  "language_info": {
   "codemirror_mode": "sysml",
   "file_extension": ".sysml",
   "mimetype": "text/x-sysml",
   "name": "SysML",
   "pygments_lexer": "java",
   "version": "1.0.0"
  }
 },
 "nbformat": 4,
 "nbformat_minor": 5
}
