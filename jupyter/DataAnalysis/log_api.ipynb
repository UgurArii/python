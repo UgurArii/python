{
 "cells": [
  {
   "cell_type": "code",
   "execution_count": 1,
   "id": "f646aa35-1986-443b-ad94-891cd94ee9b9",
   "metadata": {},
   "outputs": [],
   "source": [
    "from pkg_resources import get_distribution\n",
    "from pkg_resources import resource_filename\n",
    "import logging\n",
    "import logging.config\n",
    "import pprint\n",
    "from appdirs import AppDirs\n",
    "import os"
   ]
  },
  {
   "cell_type": "code",
   "execution_count": 2,
   "id": "349020d7-0013-4272-8837-0d523348476d",
   "metadata": {},
   "outputs": [],
   "source": [
    "def get_logger(name):\n",
    "    log_config = resource_filename(__name__, 'long.conf')\n",
    "    logging.config.fileConfig(log_config)\n",
    "    logger = logging.getLogger(name)\n",
    "    \n",
    "    return logger\n",
    "\n",
    "def shorten(module_name):\n",
    "    dot_i = module_name.find('.')\n",
    "    \n",
    "    return modele_name[:dot_i]\n",
    "\n",
    "def log(modules, name):\n",
    "    skiplist = ['pkg_resources','distutils']\n",
    "    logger = get_logger(name)\n",
    "    logger.debug('Inside the log function')\n",
    "    \n",
    "    for k in modules.keys():\n",
    "        str_k = str(k)\n",
    "        if '.version' in str_k:\n",
    "            short = shorten(str_k)\n",
    "            \n",
    "            if short in skiplist:\n",
    "                continue \n",
    "            \n",
    "            try:\n",
    "                logger.info('%s=%s' % (short, get_distribution(short).version))\n",
    "            except ImportError:\n",
    "                logger.warn('Could not import', short)\n",
    "            \n",
    "class VersionsLogFileHandler(logging.FileHandler):\n",
    "    def __init__(self, fName):\n",
    "        dirs = AppDirs(\"PythonDataAnalysis\",\"Ivan Idris\")\n",
    "        path = dirs.user_log_dir\n",
    "        print(path)\n",
    "        \n",
    "        if not os.path.exists(path):\n",
    "            os.mkdir(path)\n",
    "            \n",
    "        super(VersionsLogFileHandler, self).__init__(os.path.join(path, fName))\n",
    "        "
   ]
  },
  {
   "cell_type": "code",
   "execution_count": null,
   "id": "4e28c038-0b85-4676-8059-319f6d53782c",
   "metadata": {},
   "outputs": [],
   "source": []
  }
 ],
 "metadata": {
  "kernelspec": {
   "display_name": "Python 3 (ipykernel)",
   "language": "python",
   "name": "python3"
  },
  "language_info": {
   "codemirror_mode": {
    "name": "ipython",
    "version": 3
   },
   "file_extension": ".py",
   "mimetype": "text/x-python",
   "name": "python",
   "nbconvert_exporter": "python",
   "pygments_lexer": "ipython3",
   "version": "3.9.13"
  }
 },
 "nbformat": 4,
 "nbformat_minor": 5
}
