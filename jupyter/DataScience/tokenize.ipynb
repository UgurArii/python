{
 "cells": [
  {
   "cell_type": "code",
   "execution_count": 19,
   "id": "7985d1d6-ccbe-4bff-91bb-6e27afd01fd0",
   "metadata": {},
   "outputs": [],
   "source": [
    "# Load Libraries\n",
    "from nltk.tokenize import sent_tokenize\n",
    "from nltk.tokenize import word_tokenize\n",
    "from collections import defaultdict"
   ]
  },
  {
   "cell_type": "code",
   "execution_count": 20,
   "id": "3c4fde9a-b028-41e8-ad5b-f26fa3013036",
   "metadata": {},
   "outputs": [
    {
     "name": "stdout",
     "output_type": "stream",
     "text": [
      "No sentences = 3\n",
      "Sentences\n",
      "Peter Piper picked a peck of pickled peppers.\n",
      "A peck of pickled peppers, Peter Piper picked !!!\n",
      "If Peter Piper picked a peck of pickled  peppers, Wheres the peck of pickled peppers Peter Piper picked?\n"
     ]
    }
   ],
   "source": [
    "# 1.Let us use a very simple text to demonstrate tokenization\n",
    "# at sentence level and word level. You have seen this example in the\n",
    "# dictionary recipe, except for some punctuation which are added.\n",
    "\n",
    "sentence = \"Peter Piper picked a peck of pickled peppers. A peck of pickled peppers, Peter Piper picked !!! If Peter Piper picked a peck of pickled  peppers, Wheres the peck of pickled peppers Peter Piper picked? \"\n",
    "\n",
    "# 2.Using nltk sentence tokenizer, we tokenize the given text into sentences\n",
    "# and verify the output using some print statements.\n",
    "sent_list = sent_tokenize(sentence)\n",
    "print(\"No sentences = %d\"%(len(sent_list)))\n",
    "print(\"Sentences\")\n",
    "for sent in sent_list:\n",
    "    print(sent)"
   ]
  },
  {
   "cell_type": "code",
   "execution_count": 21,
   "id": "248bcd04-9119-4320-ba8e-55159da10fec",
   "metadata": {},
   "outputs": [],
   "source": [
    "# 3.With the sentences extracted let us proceed to extract\n",
    "# words from these sentences.\n",
    "word_dict = defaultdict(list)\n",
    "for i,sent in enumerate(sent_list):\n",
    "    word_dict[i].extend(word_tokenize(sent))"
   ]
  },
  {
   "cell_type": "code",
   "execution_count": 22,
   "id": "36f464e3-9f8e-4f5f-9700-4bedb1189fe6",
   "metadata": {},
   "outputs": [],
   "source": [
    "from nltk.corpus import stopwords"
   ]
  },
  {
   "cell_type": "code",
   "execution_count": 23,
   "id": "068403f7-6a6b-490b-8791-bf01a66288f9",
   "metadata": {},
   "outputs": [
    {
     "name": "stdout",
     "output_type": "stream",
     "text": [
      "['i', 'me', 'my', 'myself', 'we', 'our', 'ours', 'ourselves', 'you', \"you're\", \"you've\", \"you'll\", \"you'd\", 'your', 'yours', 'yourself', 'yourselves', 'he', 'him', 'his', 'himself', 'she', \"she's\", 'her', 'hers', 'herself', 'it', \"it's\", 'its', 'itself', 'they', 'them', 'their', 'theirs', 'themselves', 'what', 'which', 'who', 'whom', 'this', 'that', \"that'll\", 'these', 'those', 'am', 'is', 'are', 'was', 'were', 'be', 'been', 'being', 'have', 'has', 'had', 'having', 'do', 'does', 'did', 'doing', 'a', 'an', 'the', 'and', 'but', 'if', 'or', 'because', 'as', 'until', 'while', 'of', 'at', 'by', 'for', 'with', 'about', 'against', 'between', 'into', 'through', 'during', 'before', 'after', 'above', 'below', 'to', 'from', 'up', 'down', 'in', 'out', 'on', 'off', 'over', 'under', 'again', 'further', 'then', 'once', 'here', 'there', 'when', 'where', 'why', 'how', 'all', 'any', 'both', 'each', 'few', 'more', 'most', 'other', 'some', 'such', 'no', 'nor', 'not', 'only', 'own', 'same', 'so', 'than', 'too', 'very', 's', 't', 'can', 'will', 'just', 'don', \"don't\", 'should', \"should've\", 'now', 'd', 'll', 'm', 'o', 're', 've', 'y', 'ain', 'aren', \"aren't\", 'couldn', \"couldn't\", 'didn', \"didn't\", 'doesn', \"doesn't\", 'hadn', \"hadn't\", 'hasn', \"hasn't\", 'haven', \"haven't\", 'isn', \"isn't\", 'ma', 'mightn', \"mightn't\", 'mustn', \"mustn't\", 'needn', \"needn't\", 'shan', \"shan't\", 'shouldn', \"shouldn't\", 'wasn', \"wasn't\", 'weren', \"weren't\", 'won', \"won't\", 'wouldn', \"wouldn't\"]\n"
     ]
    }
   ],
   "source": [
    "print(stopwords.words('english'))"
   ]
  },
  {
   "cell_type": "code",
   "execution_count": 24,
   "id": "d15fdc3d-f375-4125-8ce6-ad3a63eb91b6",
   "metadata": {},
   "outputs": [
    {
     "name": "stdout",
     "output_type": "stream",
     "text": [
      "[nltk_data] Downloading package punkt to /root/nltk_data...\n",
      "[nltk_data]   Package punkt is already up-to-date!\n",
      "[nltk_data] Downloading package stopwords to /root/nltk_data...\n",
      "[nltk_data]   Package stopwords is already up-to-date!\n",
      "[nltk_data] Error loading corpus: Package 'corpus' not found in index\n"
     ]
    },
    {
     "data": {
      "text/plain": [
       "False"
      ]
     },
     "execution_count": 24,
     "metadata": {},
     "output_type": "execute_result"
    }
   ],
   "source": []
  },
  {
   "cell_type": "code",
   "execution_count": null,
   "id": "b8bb411e-10c6-4671-a970-7cee25fc5963",
   "metadata": {},
   "outputs": [],
   "source": []
  }
 ],
 "metadata": {
  "kernelspec": {
   "display_name": "Python 3 (ipykernel)",
   "language": "python",
   "name": "python3"
  },
  "language_info": {
   "codemirror_mode": {
    "name": "ipython",
    "version": 3
   },
   "file_extension": ".py",
   "mimetype": "text/x-python",
   "name": "python",
   "nbconvert_exporter": "python",
   "pygments_lexer": "ipython3",
   "version": "3.9.13"
  }
 },
 "nbformat": 4,
 "nbformat_minor": 5
}
