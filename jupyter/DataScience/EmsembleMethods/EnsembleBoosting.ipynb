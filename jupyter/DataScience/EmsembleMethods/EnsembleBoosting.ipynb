{
 "cells": [
  {
   "cell_type": "code",
   "execution_count": 3,
   "id": "515fba36-c76f-4027-a111-f5256e00f183",
   "metadata": {},
   "outputs": [],
   "source": [
    "from sklearn.datasets import make_classification\n",
    "from sklearn.ensemble import AdaBoostClassifier\n",
    "from sklearn.metrics import classification_report,zero_one_loss\n",
    "from sklearn.model_selection import train_test_split\n",
    "from sklearn.tree import DecisionTreeClassifier\n",
    "import numpy as np\n",
    "import matplotlib.pyplot as plt\n",
    "import itertools"
   ]
  },
  {
   "cell_type": "code",
   "execution_count": 4,
   "id": "ef1b16b1-3faa-4a19-9b81-67da204a80b8",
   "metadata": {},
   "outputs": [],
   "source": [
    "def get_data():\n",
    "    \"\"\"\n",
    "    Make a sample classification dataset\n",
    "    Returns : Independent variable y, dependent variable x\n",
    "    \"\"\"\n",
    "    no_features = 30\n",
    "    redundant_features = int(0.1*no_features)\n",
    "    informative_features = int(0.6*no_features)\n",
    "    print()\n",
    "    no_features, redundant_features, informative_Features, repeated_features, x, y = make_classification(n_samples=500, n_features=no_features,\n",
    "            flip_y = 0.03, n_informative = informative_features, n_redundant = redundant_features, n_repeated = repeated_features, random_state=7)\n",
    "    \n",
    "    return x, y\n",
    "\n",
    "def build_single_model(x, y):\n",
    "    model = DecisionTreeClassifier()\n",
    "    model.fit(x, y)\n",
    "    return model\n",
    "\n",
    "def view_model(model):\n",
    "    print(\"\\nEstimator weights and Error\\n\")\n",
    "    for i, weight in enumerate(model.estimator_weights_):\n",
    "        print(\"Estimator %d weight = %0.4f error = %0.4f\"%(i+1, weight, model.esmimator_errors_i[i]))\n",
    "    plt.figure(1)\n",
    "    plt.title(\"Model weight vs error\")\n",
    "    plt.xlabel(\"Weight\")\n",
    "    plt.ylabel(\"Error\")\n",
    "    plt.plot(model.estimator_weights_, model.estimator_errors_)\n",
    "\n",
    "def number_estimators_vs_err_rate(x, y, x_dev, y_dev):\n",
    "    no_estimators = range(20,120,10)\n",
    "    misclassy_rate = []\n",
    "    misclassy_rate_dev = []\n",
    "    \n",
    "    for no_estimator in no_estimators:\n",
    "        boosting = build_boosting_model(x, y, no_estimators=no_estimator)\n",
    "        predicted_y = boosting.predict(x)\n",
    "        predicted_y_dev = boosting.predict(x_dev)\n",
    "        misclassy_rate.append(zero_one_loss(y, predicted_y))\n",
    "        misclassy_rate_dev.append(zero_one_loss(y_dev, predicted_y_dev))\n",
    "        \n",
    "    plt.figure(2)\n",
    "    plt.title(\"No estimators vs Mis-classification rate\")\n",
    "    plt.xlabel(\"No of estimators\")\n",
    "    plt.ylabel(\"Mis-classification rate\")\n",
    "    plt.plot(no_estimators, misclassy_rate, label='Train')\n",
    "    plt.plot(no_estimators, misclassy_rate_dev, label='Dev')\n",
    "    plt.show()\n",
    "\n",
    "    "
   ]
  },
  {
   "cell_type": "code",
   "execution_count": 9,
   "id": "136b33f1-cd33-4b40-98a3-18b585459c1c",
   "metadata": {},
   "outputs": [
    {
     "ename": "SyntaxError",
     "evalue": "invalid syntax (3442718412.py, line 22)",
     "output_type": "error",
     "traceback": [
      "\u001b[0;36m  File \u001b[0;32m\"/tmp/ipykernel_1824/3442718412.py\"\u001b[0;36m, line \u001b[0;32m22\u001b[0m\n\u001b[0;31m    view_model(boosting))\u001b[0m\n\u001b[0m    ^\u001b[0m\n\u001b[0;31mSyntaxError\u001b[0m\u001b[0;31m:\u001b[0m invalid syntax\n"
     ]
    }
   ],
   "source": [
    "if __name__ == '__main__':\n",
    "    x,y = get_data()\n",
    "    plot_data(x, y)\n",
    "    # Divide the data into Train, dev and test\n",
    "    x_train,x_test_all,y_train,y_test_all = train_test_split(x,y,test_size\n",
    "    = 0.3,random_state=9)\n",
    "    x_dev,x_test,y_dev,y_test = train_test_split(x_test_all,y_test_all,test_size=0.3,random_state=9)\n",
    "    # Build a single model\n",
    "    model = build_single_model(x_train,y_train)\n",
    "    predicted_y = model.predict(x_train)\n",
    "    print(\"\\n Single Model Accuracy on training data\\n\")\n",
    "    print(classification_report(y_train,predicted_y))\n",
    "    print(\"Fraction of misclassfication = %0.2f\"%\n",
    "    (zero_one_loss(y_train,predicted_y)*100),\"%\")\n",
    "    # Build a bag of models\n",
    "    boosting = build_boosting_model(x_train,y_train, no_estimators=85)\n",
    "    predicted_y = boosting.predict(x_train)\n",
    "    print(\"\\n Boosting Model Accuracy on training data\\n\")\n",
    "    print(classification_report(y_train,predicted_y))\n",
    "    print(\"Fraction of misclassfication = %0.2f\"%\n",
    "    (zero_one_loss(y_train,predicted_y)*100),\"%\"view_model(boosting))\n",
    "    # Look at the dev set\n",
    "    predicted_y = model.predict(x_dev)\n",
    "    print(\"\\n Single Model Accuracy on Dev data\\n\")\n",
    "    print(classification_report(y_dev,predicted_y))\n",
    "    print(\"Fraction of misclassfication = %0.2f\"%\n",
    "    (zero_one_loss(y_dev,predicted_y)*100),\"%\")\n",
    "    print(\"\\n Boosting Model Accuracy on Dev data\\n\"\n",
    "    predicted_y = boosting.predict(x_dev))\n",
    "    print(classification_report(y_dev,predicted_y))\n",
    "    print(\"Fraction of misclassfication = %0.2f\"%\n",
    "    (zero_one_loss(y_dev,predicted_y)*100),\"%\")\n",
    "    number_estimators_vs_err_rate(x_train,y_train,x_dev,y_dev)"
   ]
  },
  {
   "cell_type": "code",
   "execution_count": null,
   "id": "e761802e-5820-48a0-a326-2b62d13f9207",
   "metadata": {},
   "outputs": [],
   "source": []
  }
 ],
 "metadata": {
  "kernelspec": {
   "display_name": "Python 3 (ipykernel)",
   "language": "python",
   "name": "python3"
  },
  "language_info": {
   "codemirror_mode": {
    "name": "ipython",
    "version": 3
   },
   "file_extension": ".py",
   "mimetype": "text/x-python",
   "name": "python",
   "nbconvert_exporter": "python",
   "pygments_lexer": "ipython3",
   "version": "3.9.13"
  }
 },
 "nbformat": 4,
 "nbformat_minor": 5
}
