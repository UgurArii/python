{
 "cells": [
  {
   "cell_type": "code",
   "execution_count": 2,
   "id": "6bddcade-4f9b-4942-9065-80519e08ef4b",
   "metadata": {},
   "outputs": [],
   "source": [
    "from sklearn.datasets import make_classification\n",
    "from sklearn.neighbors import KNeighborsClassifier\n",
    "from sklearn.ensemble import BaggingClassifier\n",
    "from sklearn.metrics import classification_report\n",
    "from sklearn.model_selection import train_test_split\n",
    "import numpy as np\n",
    "import pandas as pd"
   ]
  },
  {
   "cell_type": "code",
   "execution_count": 6,
   "id": "f3805402-69f8-4aba-ac44-2d7b291cdb5a",
   "metadata": {},
   "outputs": [],
   "source": [
    "def get_data():\n",
    "    \"\"\"\n",
    "    Make a sample classification dataset\n",
    "    Returns : Independent variable y, dependent variabel x\n",
    "    \"\"\"\n",
    "    no_features = 30\n",
    "    redundant_features = int(0.1*no_features)\n",
    "    informative_features = int(0.6*no_features)\n",
    "    repeated_features = int(0.1*no_features)\n",
    "    print()\n",
    "    no_features,redundant_features,informative_features,repeated_featuresx,y =     make_classification(n_samples=500,n_features=no_features,flip_y=0.03,\\\n",
    "    n_informative = informative_features, n_redundant =     redundant_features ,n_repeated = repeated_features,random_state=7)\n",
    "    return x,y\n",
    "\n",
    "def build_single_model(x, y):\n",
    "    model = KNeighborsClassifier()\n",
    "    model.fit(x, y)\n",
    "    return model\n",
    "\n",
    "def build_bagging_model(x, y):\n",
    "    bagging = BaggingClassifier(KNeighborsClassifier(), n_estimators=100, random_state=9, max_samples=1.0, max_features=0.7, bootstrap=True, bootstrap_features=True)\n",
    "    bagging.fit(x, y)\n",
    "    return bagging\n",
    "\n",
    "def view_model(model):\n",
    "    print(\"\\n Sampled attributes in top 10 estimators\\n\")\n",
    "    for i, feature_set in enumerate(model.estimators_features_[0:10]):\n",
    "        print(\"estimator %d\"%(i+1), feature_Set)\n"
   ]
  },
  {
   "cell_type": "code",
   "execution_count": 8,
   "id": "80c92136-383d-4068-9e16-1b9ac325d80f",
   "metadata": {},
   "outputs": [
    {
     "name": "stdout",
     "output_type": "stream",
     "text": [
      "\n"
     ]
    },
    {
     "ename": "ValueError",
     "evalue": "not enough values to unpack (expected 5, got 2)",
     "output_type": "error",
     "traceback": [
      "\u001b[0;31m---------------------------------------------------------------------------\u001b[0m",
      "\u001b[0;31mValueError\u001b[0m                                Traceback (most recent call last)",
      "\u001b[0;32m/tmp/ipykernel_18242/1108405311.py\u001b[0m in \u001b[0;36m<module>\u001b[0;34m\u001b[0m\n\u001b[1;32m      1\u001b[0m \u001b[0;32mif\u001b[0m \u001b[0m__name__\u001b[0m \u001b[0;34m==\u001b[0m \u001b[0;34m\"__main__\"\u001b[0m\u001b[0;34m:\u001b[0m\u001b[0;34m\u001b[0m\u001b[0;34m\u001b[0m\u001b[0m\n\u001b[0;32m----> 2\u001b[0;31m     \u001b[0mx\u001b[0m\u001b[0;34m,\u001b[0m \u001b[0my\u001b[0m \u001b[0;34m=\u001b[0m \u001b[0mget_data\u001b[0m\u001b[0;34m(\u001b[0m\u001b[0;34m)\u001b[0m\u001b[0;34m\u001b[0m\u001b[0;34m\u001b[0m\u001b[0m\n\u001b[0m\u001b[1;32m      3\u001b[0m     \u001b[0;31m#Divide the data into Train, dev and test\u001b[0m\u001b[0;34m\u001b[0m\u001b[0;34m\u001b[0m\u001b[0m\n\u001b[1;32m      4\u001b[0m     \u001b[0mx_train\u001b[0m\u001b[0;34m,\u001b[0m \u001b[0mx_test_all\u001b[0m\u001b[0;34m,\u001b[0m \u001b[0my_train\u001b[0m\u001b[0;34m,\u001b[0m \u001b[0my_test_all\u001b[0m \u001b[0;34m=\u001b[0m \u001b[0mtrain_test_split\u001b[0m\u001b[0;34m(\u001b[0m\u001b[0mx\u001b[0m\u001b[0;34m,\u001b[0m \u001b[0my\u001b[0m\u001b[0;34m,\u001b[0m \u001b[0mtest_size\u001b[0m \u001b[0;34m=\u001b[0m \u001b[0;36m0.3\u001b[0m\u001b[0;34m,\u001b[0m \u001b[0mrandom_state\u001b[0m\u001b[0;34m=\u001b[0m\u001b[0;36m9\u001b[0m\u001b[0;34m)\u001b[0m\u001b[0;34m\u001b[0m\u001b[0;34m\u001b[0m\u001b[0m\n\u001b[1;32m      5\u001b[0m     \u001b[0mx_dev\u001b[0m\u001b[0;34m,\u001b[0m \u001b[0mx_test\u001b[0m\u001b[0;34m,\u001b[0m \u001b[0my_dev\u001b[0m\u001b[0;34m,\u001b[0m \u001b[0my_test\u001b[0m \u001b[0;34m=\u001b[0m \u001b[0mtrain_test_split\u001b[0m\u001b[0;34m(\u001b[0m\u001b[0mx_test_all\u001b[0m\u001b[0;34m,\u001b[0m \u001b[0my_test_all\u001b[0m\u001b[0;34m,\u001b[0m \u001b[0mtest_size\u001b[0m\u001b[0;34m=\u001b[0m\u001b[0;36m0.3\u001b[0m\u001b[0;34m,\u001b[0m \u001b[0mrandom_state\u001b[0m\u001b[0;34m=\u001b[0m\u001b[0;36m9\u001b[0m\u001b[0;34m)\u001b[0m\u001b[0;34m\u001b[0m\u001b[0;34m\u001b[0m\u001b[0m\n",
      "\u001b[0;32m/tmp/ipykernel_18242/2104495559.py\u001b[0m in \u001b[0;36mget_data\u001b[0;34m()\u001b[0m\n\u001b[1;32m      9\u001b[0m     \u001b[0mrepeated_features\u001b[0m \u001b[0;34m=\u001b[0m \u001b[0mint\u001b[0m\u001b[0;34m(\u001b[0m\u001b[0;36m0.1\u001b[0m\u001b[0;34m*\u001b[0m\u001b[0mno_features\u001b[0m\u001b[0;34m)\u001b[0m\u001b[0;34m\u001b[0m\u001b[0;34m\u001b[0m\u001b[0m\n\u001b[1;32m     10\u001b[0m     \u001b[0mprint\u001b[0m\u001b[0;34m(\u001b[0m\u001b[0;34m)\u001b[0m\u001b[0;34m\u001b[0m\u001b[0;34m\u001b[0m\u001b[0m\n\u001b[0;32m---> 11\u001b[0;31m     no_features,redundant_features,informative_features,repeated_featuresx,y =     make_classification(n_samples=500,n_features=no_features,flip_y=0.03,\\\n\u001b[0m\u001b[1;32m     12\u001b[0m     n_informative = informative_features, n_redundant =     redundant_features ,n_repeated = repeated_features,random_state=7)\n\u001b[1;32m     13\u001b[0m     \u001b[0;32mreturn\u001b[0m \u001b[0mx\u001b[0m\u001b[0;34m,\u001b[0m\u001b[0my\u001b[0m\u001b[0;34m\u001b[0m\u001b[0;34m\u001b[0m\u001b[0m\n",
      "\u001b[0;31mValueError\u001b[0m: not enough values to unpack (expected 5, got 2)"
     ]
    }
   ],
   "source": [
    "if __name__ == \"__main__\":\n",
    "    x, y = get_data()\n",
    "    #Divide the data into Train, dev and test\n",
    "    x_train, x_test_all, y_train, y_test_all = train_test_split(x, y, test_size = 0.3, random_state=9)\n",
    "    x_dev, x_test, y_dev, y_test = train_test_split(x_test_all, y_test_all, test_size=0.3, random_state=9)\n",
    "    \n",
    "    #Build a single model\n",
    "    model = build_single_model(x_train, y_train)\n",
    "    predicted_y = model.predict(x_train)\n",
    "    print(\"\\nSingle Model Accuracy on training data\\n\")\n",
    "    print(classification_report(y_train,predicted_y))\n",
    "    # Build a bag of models\n",
    "    bagging = build_bagging_model(x_train,y_train)\n",
    "    predicted_y = bagging.predict(x_train)\n",
    "    print(\"\\n Bagging Model Accuracy on training data\\n\")\n",
    "    print(classification_report(y_train,predicted_y))\n",
    "    view_model(bagging)\n",
    "    # Look at the dev set\n",
    "    predicted_y = model.predict(x_dev)\n",
    "    print(\"\\n Single Model Accuracy on Dev data\\n\")\n",
    "    print(classification_report(y_dev,predicted_y))\n",
    "    print(\"\\n Bagging Model Accuracy on Dev data\\n\")\n",
    "    predicted_y = bagging.predict(x_dev)\n",
    "    print(classification_report(y_dev,predicted_y))"
   ]
  },
  {
   "cell_type": "code",
   "execution_count": null,
   "id": "adb1ad84-9db2-48d2-9cc2-52fd82f0328f",
   "metadata": {},
   "outputs": [],
   "source": []
  }
 ],
 "metadata": {
  "kernelspec": {
   "display_name": "Python 3 (ipykernel)",
   "language": "python",
   "name": "python3"
  },
  "language_info": {
   "codemirror_mode": {
    "name": "ipython",
    "version": 3
   },
   "file_extension": ".py",
   "mimetype": "text/x-python",
   "name": "python",
   "nbconvert_exporter": "python",
   "pygments_lexer": "ipython3",
   "version": "3.9.13"
  }
 },
 "nbformat": 4,
 "nbformat_minor": 5
}
