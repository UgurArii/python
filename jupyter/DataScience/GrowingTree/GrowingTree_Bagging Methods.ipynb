{
 "cells": [
  {
   "cell_type": "code",
   "execution_count": 4,
   "id": "c24a0521-25bc-4161-aa24-dcba74382999",
   "metadata": {},
   "outputs": [],
   "source": [
    "from sklearn.datasets import make_classification\n",
    "from sklearn.metrics import classification_report, accuracy_score\n",
    "from sklearn.model_selection import train_test_split\n",
    "from sklearn.ensemble import RandomForestClassifier\n",
    "from sklearn.model_selection import RandomizedSearchCV\n",
    "from operator import itemgetter\n",
    "import numpy as np"
   ]
  },
  {
   "cell_type": "code",
   "execution_count": 9,
   "id": "392503d2-d7a1-4cb5-a0ce-d255b3cb0450",
   "metadata": {},
   "outputs": [
    {
     "name": "stdout",
     "output_type": "stream",
     "text": [
      "Training Accuracy = 1.00 Dev Accuracy = 0.83\n"
     ]
    }
   ],
   "source": [
    "def get_data():\n",
    "    \"\"\"\n",
    "    Make a sample classification dataset\n",
    "    Returns : Independent variable y, dependent variable x\n",
    "    \"\"\"\n",
    "    no_features = 30\n",
    "    redundant_features = int(0.1*no_features)\n",
    "    informative_features = int(0.6*no_features)\n",
    "    repeated_features = int(0.1*no_features)\n",
    "    x, y = make_classification(n_samples=500,n_features=no_features,flip_y=0.03, n_informative = informative_features, n_redundant = redundant_features,\n",
    "                               n_repeated = repeated_features,random_state=7)\n",
    "    return x, y\n",
    "\n",
    "def build_forest(x, y, x_dev, y_dev):\n",
    "    \"\"\"\n",
    "    Build a random forest of fully grown trees\n",
    "    and evaluate peformance\n",
    "    \"\"\"\n",
    "    no_tress = 100\n",
    "    estimator = RandomForestClassifier(n_estimators=no_tress)\n",
    "    estimator.fit(x,y)\n",
    "    \n",
    "    train_predicted = estimator.predict(x)\n",
    "    train_score = accuracy_score(y, train_predicted)\n",
    "    dev_predicted = estimator.predict(x_dev)\n",
    "    dev_score = accuracy_score(y_dev, dev_predicted)\n",
    "    print(\"Training Accuracy = %0.2f Dev Accuracy = %0.2f\"%(train_score, dev_score))\n",
    "    \n",
    "def search_parameters(x, y, x_dev, y_dev):\n",
    "    \"\"\"\n",
    "    Search the parameters of random forest algorithm\n",
    "    \"\"\"\n",
    "    estimator = RandomForestClassifier()\n",
    "    no_features = x.shape[1]\n",
    "    no_iterations = 20\n",
    "    sqr_no_features = int(np.sqrt(no_features))\n",
    "    parameters = {\"n_estimators\" : np.random.randint(75,200,no_iterations),\n",
    "                 \"criterion\" : [\"gini\",\"entropy\"],\n",
    "                  \"max_features\" : [sqr_no_features,sqr_no_features*2,sqr_no_features*3,sqr_no_features+10]\n",
    "                 }\n",
    "    grid = RandomizedSearchCV(estimator=estimator,param_distributions=parameters,\n",
    "                              verbose=1, n_iter=no_iterations,random_state=77,n_jobs=-1,cv=5)\n",
    "    grid.fit(x,y)\n",
    "    print_model_worth(grid, x_dev, y_dev)\n",
    "    \n",
    "    return grid.best_estimator_\n",
    "\n",
    "def print_model_worth(grid, x_dev, y_dev):\n",
    "    # Print the goodness of the models\n",
    "    # We take the top 5 models\n",
    "    scores = sorted(grid.grid_scores_, key=itemgetter(1), reverse=True)[0:5]\n",
    "    for model_no, score in enumerate(scores):\n",
    "        print(\"Model %d, Score=%0.3f\")\n",
    "        print(\"Parameters = {0}\".format(score.parameters))\n",
    "    print()\n",
    "    dev_predicted = grid.predict(x_dev)\n",
    "    print(classification_report(y_dev, dev_predicted))\n",
    "    \n",
    "if __name__ == \"__main__\":\n",
    "    x, y = get_data()\n",
    "    \n",
    "    #Divide the data into Train, dev and test\n",
    "    x_train, x_test_all, y_train, y_test_all = train_test_split(x, y, test_size = 0.3, random_state = 9)\n",
    "    x_dev, x_test, y_dev, y_test = train_test_split(x_test_all, y_test_all, test_size = 0.3, random_state=9)\n",
    "    \n",
    "    build_forest(x_train, y_train, x_dev, y_dev)\n",
    "    #get_feature_importance(model)\n",
    "    "
   ]
  },
  {
   "cell_type": "code",
   "execution_count": null,
   "id": "b37f9c6c-5d5f-4a42-a544-51bcd6b94fbb",
   "metadata": {},
   "outputs": [],
   "source": []
  }
 ],
 "metadata": {
  "kernelspec": {
   "display_name": "Python 3 (ipykernel)",
   "language": "python",
   "name": "python3"
  },
  "language_info": {
   "codemirror_mode": {
    "name": "ipython",
    "version": 3
   },
   "file_extension": ".py",
   "mimetype": "text/x-python",
   "name": "python",
   "nbconvert_exporter": "python",
   "pygments_lexer": "ipython3",
   "version": "3.9.13"
  }
 },
 "nbformat": 4,
 "nbformat_minor": 5
}
