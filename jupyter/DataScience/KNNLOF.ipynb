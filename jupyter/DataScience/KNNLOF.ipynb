{
 "cells": [
  {
   "cell_type": "markdown",
   "id": "c610b9d4-df2a-421b-b09d-2a254d2647b8",
   "metadata": {},
   "source": [
    "we looked at univariate data. In this one, we will use multivariate data and try to find outliers. Let’s use a very small dataset to understand the LOF algorithm for outlier detection.\n",
    "We will create a 5 X 2 matrix, and looking at the data, we know that the last tuple is an\n",
    "outlier. Let’s also plot it as a scatter plot:"
   ]
  },
  {
   "cell_type": "code",
   "execution_count": 2,
   "id": "9665ebd4-6d61-4bee-937d-e1b366ed6b85",
   "metadata": {},
   "outputs": [],
   "source": [
    "from collections import defaultdict\n",
    "import numpy as np\n",
    "import matplotlib.pyplot as plt"
   ]
  },
  {
   "cell_type": "code",
   "execution_count": 11,
   "id": "aaac1d8d-ede4-4e91-87a2-990514c35b4d",
   "metadata": {},
   "outputs": [],
   "source": [
    "instances = np.matrix([[0,0],[0,1],[1,1],[1,0],[5,0]])"
   ]
  },
  {
   "cell_type": "code",
   "execution_count": 12,
   "id": "828b609f-d630-41b8-83ca-be29a355dcda",
   "metadata": {},
   "outputs": [],
   "source": [
    "x = np.squeeze(np.array(instances[:,0]))\n",
    "y = np.squeeze(np.array(instances[:,1]))"
   ]
  },
  {
   "cell_type": "code",
   "execution_count": 13,
   "id": "74bb76e6-e723-4f96-8f9a-790ec26dc503",
   "metadata": {},
   "outputs": [
    {
     "data": {
      "image/png": "[encoded data removed]",
      "text/plain": [
       "<Figure size 640x480 with 1 Axes>"
      ]
     },
     "metadata": {},
     "output_type": "display_data"
    }
   ],
   "source": [
    "plt.cla()\n",
    "plt.figure(1)\n",
    "plt.scatter(x, y)\n",
    "plt.show()"
   ]
  },
  {
   "cell_type": "code",
   "execution_count": 14,
   "id": "a57b639f-e32b-453a-8e57-7f8b0e028f0f",
   "metadata": {},
   "outputs": [],
   "source": [
    "#Let’s get the pairwise distance between the points:\n",
    "k = 2\n",
    "distance = 'manhattan'"
   ]
  },
  {
   "cell_type": "code",
   "execution_count": 15,
   "id": "674f86b8-f403-4b57-bcb4-2c72cdfa85c4",
   "metadata": {},
   "outputs": [
    {
     "name": "stderr",
     "output_type": "stream",
     "text": [
      "/root/anaconda3/lib/python3.9/site-packages/sklearn/utils/validation.py:593: FutureWarning: np.matrix usage is deprecated in 1.0 and will raise a TypeError in 1.2. Please convert to a numpy array with np.asarray. For more information see: https://numpy.org/doc/stable/reference/generated/numpy.matrix.html\n",
      "  warnings.warn(\n"
     ]
    }
   ],
   "source": [
    "from sklearn.metrics import pairwise_distances\n",
    "dist = pairwise_distances(instances,metric=distance)"
   ]
  },
  {
   "cell_type": "code",
   "execution_count": 20,
   "id": "2190e4e2-adee-4d73-a031-9487f33e3a4b",
   "metadata": {},
   "outputs": [],
   "source": [
    "#Let’s calculate the k-distance. We will use heapq and get the k-nearest neighbors:\n",
    "#calculate K distance \n",
    "import heapq\n",
    "k_distance = defaultdict(tuple)\n",
    "#For each data point\n",
    "for i in range(instances.shape[0]):\n",
    "    # Get its distance to all the other points.\n",
    "    # Convert array into list for convienience\n",
    "    distances = dist[i].tolist()\n",
    "    \n",
    "    #Get the K nearest neighbours\n",
    "    ksmallest = heapq.nsmallest(k+1, distances)[1:][k-1]\n",
    "    \n",
    "    #get their indices\n",
    "    ksmallest_idx = distances.index(ksmallest)\n",
    "    \n",
    "    #For each data point store the K th nearest neighbour and its distance\n",
    "    k_distance[i] = (ksmallest, ksmallest_idx)\n",
    "    \n",
    "#Calculate the k-distance neighborhood: \n",
    "def all_indices(value, inlist):\n",
    "    out_indices = []\n",
    "    idx = -1\n",
    "    while True:\n",
    "        try:\n",
    "            idx = inlist.index(value, idx+1)\n",
    "            out_indices.append(idx)\n",
    "        except ValueError:\n",
    "            break\n",
    "    return out_indices"
   ]
  },
  {
   "cell_type": "code",
   "execution_count": 21,
   "id": "a0dbb787-cd6d-405d-bbbc-4ae6a118e6aa",
   "metadata": {},
   "outputs": [
    {
     "name": "stdout",
     "output_type": "stream",
     "text": [
      "K distance neighbourhood 0\n",
      "[0.0, 1.0, 2.0, 1.0, 5.0]\n",
      "[1.0, 1.0]\n",
      "{1.0}\n",
      "[1.0, 1.0]\n",
      "{1.0}\n",
      "K distance neighbourhood 1\n",
      "[1.0, 0.0, 1.0, 2.0, 6.0]\n",
      "[1.0, 1.0]\n",
      "{1.0}\n",
      "[1.0, 1.0]\n",
      "{1.0}\n",
      "K distance neighbourhood 2\n",
      "[2.0, 1.0, 0.0, 1.0, 5.0]\n",
      "[1.0, 1.0]\n",
      "{1.0}\n",
      "[1.0, 1.0]\n",
      "{1.0}\n",
      "K distance neighbourhood 3\n",
      "[1.0, 2.0, 1.0, 0.0, 4.0]\n",
      "[1.0, 1.0]\n",
      "{1.0}\n",
      "[1.0, 1.0]\n",
      "{1.0}\n",
      "K distance neighbourhood 4\n",
      "[5.0, 6.0, 5.0, 4.0, 0.0]\n",
      "[4.0, 5.0]\n",
      "{4.0, 5.0}\n",
      "[4.0, 5.0]\n",
      "{4.0, 5.0}\n"
     ]
    }
   ],
   "source": [
    "#Calculate K distance neighbourhood\n",
    "k_distance_neig = defaultdict(list)\n",
    "\n",
    "#for each data point\n",
    "for i in range(instances.shape[0]):\n",
    "    #Get the points distances to its neighbours\n",
    "    distances = dist[i].tolist()\n",
    "    print(\"K distance neighbourhood\", i)\n",
    "    print(distances)\n",
    "    #Get the 1 to K nearest neighbours\n",
    "    ksmallest = heapq.nsmallest(k+1, distances)[1:]\n",
    "    print(ksmallest)\n",
    "    ksmallest_set = set(ksmallest)\n",
    "    print(ksmallest_set)\n",
    "    \n",
    "    \n",
    "    print(ksmallest)\n",
    "    ksmallest_set = set(ksmallest)\n",
    "    print(ksmallest_set)\n",
    "    ksmallest_idx = []\n",
    "    \n",
    "    #Get the indices of the K smallest elements\n",
    "    for x in ksmallest_set:\n",
    "        ksmallest_idx.append(all_indices(x, distances))\n",
    "    \n",
    "    #Change a list of list to list\n",
    "    ksmallest_idx = [item for sublist in ksmallest_idx for item in sublist]\n",
    "    \n",
    "    #For each data pont store the K distance neighbourhood \n",
    "    k_distance_neig[i].extend(zip(ksmallest, ksmallest_idx))"
   ]
  },
  {
   "cell_type": "code",
   "execution_count": 23,
   "id": "eefa16ad-9408-48a4-8725-005957baf556",
   "metadata": {},
   "outputs": [],
   "source": [
    "#Then, calculate the reachability distance and LRD:\n",
    "#Local reachable density\n",
    "local_reach_density = defaultdict(float)\n",
    "for i in range(instances.shape[0]):\n",
    "    #LRDs numerator, number of K distance neighbourhood\n",
    "    no_neighbours = len(k_distance_neig[i])\n",
    "    denom_sum = 0\n",
    "    #reachability distance sum\n",
    "    for neigh in k_distance_neig[i]:\n",
    "        #maximum(K-Distance(P), Distance(P,Q))\n",
    "        denom_sum += max(k_distance[neigh[1]][0], neigh[0])\n",
    "    local_reach_density[i] = no_neighbours/(1.0*denom_sum)"
   ]
  },
  {
   "cell_type": "code",
   "execution_count": 24,
   "id": "a3832fa9-c94f-45c7-92a5-4ea9696bdb6d",
   "metadata": {},
   "outputs": [],
   "source": [
    "#Calculate LOF:\n",
    "lof_list = []\n",
    "#Local Outlier Factor\n",
    "\n",
    "for i in range(instances.shape[0]):\n",
    "    lrd_sum = 0\n",
    "    rdist_sum = 0\n",
    "    for neigh in k_distance_neig[i]:\n",
    "        lrd_sum += local_reach_density[neigh[1]]\n",
    "        rdist_sum += max(k_distance[neigh[1]][0], neigh[0])\n",
    "    lof_list.append((i, lrd_sum * rdist_sum))"
   ]
  },
  {
   "cell_type": "code",
   "execution_count": null,
   "id": "85c213e1-9fc2-437a-a297-e2a7572aab57",
   "metadata": {},
   "outputs": [],
   "source": []
  }
 ],
 "metadata": {
  "kernelspec": {
   "display_name": "Python 3 (ipykernel)",
   "language": "python",
   "name": "python3"
  },
  "language_info": {
   "codemirror_mode": {
    "name": "ipython",
    "version": 3
   },
   "file_extension": ".py",
   "mimetype": "text/x-python",
   "name": "python",
   "nbconvert_exporter": "python",
   "pygments_lexer": "ipython3",
   "version": "3.9.13"
  }
 },
 "nbformat": 4,
 "nbformat_minor": 5
}
