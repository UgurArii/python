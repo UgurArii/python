{
 "cells": [
  {
   "cell_type": "code",
   "execution_count": 1,
   "id": "269e33fd-a5c1-4941-a26c-a08842ee81a4",
   "metadata": {},
   "outputs": [],
   "source": [
    "from sklearn.datasets import load_iris\n",
    "import numpy as np\n",
    "from sklearn.metrics import euclidean_distances\n",
    "from sklearn.preprocessing import MinMaxScaler"
   ]
  },
  {
   "cell_type": "code",
   "execution_count": 2,
   "id": "8609de6d-d3b8-48a6-87e2-276865d6e1cc",
   "metadata": {},
   "outputs": [],
   "source": [
    "data = load_iris()\n",
    "x = data['data']\n",
    "y = data['target']\n",
    "\n",
    "#Scale the variables\n",
    "minmax = MinMaxScaler()\n",
    "x = minmax.fit_transform(x)"
   ]
  },
  {
   "cell_type": "code",
   "execution_count": 3,
   "id": "ad90d087-fb7b-426c-8360-2c498ea51f40",
   "metadata": {},
   "outputs": [],
   "source": [
    "#Let’s first declare the parameters for LVQ:\n",
    "R = 2\n",
    "n_classes = 3\n",
    "epsilon = 0.9\n",
    "epsilon_dec_factor = 0.001"
   ]
  },
  {
   "cell_type": "code",
   "execution_count": 4,
   "id": "84953edc-85a2-49de-a44f-ac60a0e2ea38",
   "metadata": {},
   "outputs": [],
   "source": [
    "#Define a class to hold the prototype vectors:\n",
    "class prototype(object):\n",
    "    \"\"\"\n",
    "    Class to hold prototype vectors\n",
    "    \"\"\"\n",
    "    \n",
    "    def __init__(self, class_id, p_vector, eplsilon):\n",
    "        self.class_id = class_id\n",
    "        self.p_vector = p_vector\n",
    "        self.epsilon = epsilon\n",
    "    \n",
    "    def update(self, u_vector, increment=True):\n",
    "              \n",
    "        if increment:\n",
    "            # Move the prototype vector closer to input vector\n",
    "            self.p_vector = self.p_vector + self.epsilon * (u_vector - self.p_vector)\n",
    "        else:\n",
    "            # Move the prototype vector away from input vector\n",
    "            self.p_vector = self.ğ_vector - self.epsilon * (u_vector - self.p_vector)            "
   ]
  },
  {
   "cell_type": "code",
   "execution_count": 5,
   "id": "df92d4f8-359b-4aeb-924c-d9598a5d4a18",
   "metadata": {},
   "outputs": [],
   "source": [
    "#This is the function to find the closest prototype vector for a given vector:\n",
    "def find_closest(int_vector, proto_vectors):\n",
    "    closest = None\n",
    "    closest_distance = 99999\n",
    "    for p_v in proto_vectors:\n",
    "        distance = euclidean_distances(int_vector, p_v.p_vector)\n",
    "        if distance < closest_distance:\n",
    "            closest_distance = distance\n",
    "            closest = p_v\n",
    "    return closest\n"
   ]
  },
  {
   "cell_type": "code",
   "execution_count": 6,
   "id": "5d3bb143-103d-4bf0-9314-f3993c283344",
   "metadata": {},
   "outputs": [],
   "source": [
    "#A convenient function to find the class ID of the closest prototype vector is as\n",
    "#follows:\n",
    "def find_class_id(test_vector, p_vectors):\n",
    "    return find_closest(test_vector, p_vectors).class_id"
   ]
  },
  {
   "cell_type": "code",
   "execution_count": 7,
   "id": "f2f8578f-fa64-4de2-8319-9e94c1474bde",
   "metadata": {},
   "outputs": [
    {
     "name": "stdout",
     "output_type": "stream",
     "text": [
      "class id\t Initial protype vector\n",
      "\n",
      "0 \t [0.30555556 0.79166667 0.11864407 0.125     ]\n",
      "\n",
      "0 \t [0.38888889 0.75       0.11864407 0.08333333]\n",
      "\n",
      "1 \t [0.47222222 0.29166667 0.69491525 0.625     ]\n",
      "\n",
      "1 \t [0.47222222 0.375      0.59322034 0.58333333]\n",
      "\n",
      "2 \t [0.86111111 0.33333333 0.86440678 0.75      ]\n",
      "\n",
      "2 \t [0.41666667 0.29166667 0.69491525 0.75      ]\n",
      "\n"
     ]
    }
   ],
   "source": [
    "#Choose the initial K * number of classes of prototype vectors:\n",
    "# Choose R initial prototypes for each class\n",
    "p_vectors = []\n",
    "for i in range(n_classes):\n",
    "    #select a class\n",
    "    y_subset = np.where(y == i)\n",
    "    \n",
    "    #Select tuples for choosen class\n",
    "    x_subset = x[y_subset]\n",
    "    \n",
    "    #Get R random indices between 0 and 50\n",
    "    samples = np.random.randint(0, len(x_subset),R)\n",
    "    \n",
    "    #Select p_vectors\n",
    "    for sample in samples:\n",
    "        s = x_subset[sample]\n",
    "        p = prototype(i, s, epsilon)\n",
    "        p_vectors.append(p)\n",
    "print(\"class id\\t Initial protype vector\\n\")\n",
    "for p_v in p_vectors:\n",
    "    print(p_v.class_id,'\\t', p_v.p_vector)\n",
    "    print()"
   ]
  },
  {
   "cell_type": "code",
   "execution_count": 8,
   "id": "0617de07-e09c-4bb2-8c28-b6b6122d20bd",
   "metadata": {},
   "outputs": [
    {
     "ename": "ValueError",
     "evalue": "Expected 2D array, got 1D array instead:\narray=[0.08333333 0.45833333 0.08474576 0.04166667].\nReshape your data either using array.reshape(-1, 1) if your data has a single feature or array.reshape(1, -1) if it contains a single sample.",
     "output_type": "error",
     "traceback": [
      "\u001b[0;31m---------------------------------------------------------------------------\u001b[0m",
      "\u001b[0;31mValueError\u001b[0m                                Traceback (most recent call last)",
      "\u001b[0;32m/tmp/ipykernel_2632/1541208791.py\u001b[0m in \u001b[0;36m<module>\u001b[0;34m\u001b[0m\n\u001b[1;32m      9\u001b[0m     \u001b[0mepsilon\u001b[0m \u001b[0;34m=\u001b[0m \u001b[0mepsilon\u001b[0m \u001b[0;34m-\u001b[0m \u001b[0mepsilon_dec_factor\u001b[0m\u001b[0;34m\u001b[0m\u001b[0;34m\u001b[0m\u001b[0m\n\u001b[1;32m     10\u001b[0m     \u001b[0;31m# Find closes prototype vector to given point\u001b[0m\u001b[0;34m\u001b[0m\u001b[0;34m\u001b[0m\u001b[0m\n\u001b[0;32m---> 11\u001b[0;31m     \u001b[0mclosest_pvector\u001b[0m \u001b[0;34m=\u001b[0m \u001b[0mfind_closest\u001b[0m\u001b[0;34m(\u001b[0m\u001b[0mrnd_s\u001b[0m\u001b[0;34m,\u001b[0m\u001b[0mp_vectors\u001b[0m\u001b[0;34m)\u001b[0m\u001b[0;34m\u001b[0m\u001b[0;34m\u001b[0m\u001b[0m\n\u001b[0m\u001b[1;32m     12\u001b[0m     \u001b[0;31m# Update closes prototype vector\u001b[0m\u001b[0;34m\u001b[0m\u001b[0;34m\u001b[0m\u001b[0m\n\u001b[1;32m     13\u001b[0m     \u001b[0;32mif\u001b[0m \u001b[0mtarget_y\u001b[0m \u001b[0;34m==\u001b[0m \u001b[0mclosest_pvector\u001b[0m\u001b[0;34m.\u001b[0m\u001b[0mclass_id\u001b[0m\u001b[0;34m:\u001b[0m\u001b[0;34m\u001b[0m\u001b[0;34m\u001b[0m\u001b[0m\n",
      "\u001b[0;32m/tmp/ipykernel_2632/2209587403.py\u001b[0m in \u001b[0;36mfind_closest\u001b[0;34m(int_vector, proto_vectors)\u001b[0m\n\u001b[1;32m      4\u001b[0m     \u001b[0mclosest_distance\u001b[0m \u001b[0;34m=\u001b[0m \u001b[0;36m99999\u001b[0m\u001b[0;34m\u001b[0m\u001b[0;34m\u001b[0m\u001b[0m\n\u001b[1;32m      5\u001b[0m     \u001b[0;32mfor\u001b[0m \u001b[0mp_v\u001b[0m \u001b[0;32min\u001b[0m \u001b[0mproto_vectors\u001b[0m\u001b[0;34m:\u001b[0m\u001b[0;34m\u001b[0m\u001b[0;34m\u001b[0m\u001b[0m\n\u001b[0;32m----> 6\u001b[0;31m         \u001b[0mdistance\u001b[0m \u001b[0;34m=\u001b[0m \u001b[0meuclidean_distances\u001b[0m\u001b[0;34m(\u001b[0m\u001b[0mint_vector\u001b[0m\u001b[0;34m,\u001b[0m \u001b[0mp_v\u001b[0m\u001b[0;34m.\u001b[0m\u001b[0mp_vector\u001b[0m\u001b[0;34m)\u001b[0m\u001b[0;34m\u001b[0m\u001b[0;34m\u001b[0m\u001b[0m\n\u001b[0m\u001b[1;32m      7\u001b[0m         \u001b[0;32mif\u001b[0m \u001b[0mdistance\u001b[0m \u001b[0;34m<\u001b[0m \u001b[0mclosest_distance\u001b[0m\u001b[0;34m:\u001b[0m\u001b[0;34m\u001b[0m\u001b[0;34m\u001b[0m\u001b[0m\n\u001b[1;32m      8\u001b[0m             \u001b[0mclosest_distance\u001b[0m \u001b[0;34m=\u001b[0m \u001b[0mdistance\u001b[0m\u001b[0;34m\u001b[0m\u001b[0;34m\u001b[0m\u001b[0m\n",
      "\u001b[0;32m~/anaconda3/lib/python3.9/site-packages/sklearn/metrics/pairwise.py\u001b[0m in \u001b[0;36meuclidean_distances\u001b[0;34m(X, Y, Y_norm_squared, squared, X_norm_squared)\u001b[0m\n\u001b[1;32m    300\u001b[0m            [1.41421356]])\n\u001b[1;32m    301\u001b[0m     \"\"\"\n\u001b[0;32m--> 302\u001b[0;31m     \u001b[0mX\u001b[0m\u001b[0;34m,\u001b[0m \u001b[0mY\u001b[0m \u001b[0;34m=\u001b[0m \u001b[0mcheck_pairwise_arrays\u001b[0m\u001b[0;34m(\u001b[0m\u001b[0mX\u001b[0m\u001b[0;34m,\u001b[0m \u001b[0mY\u001b[0m\u001b[0;34m)\u001b[0m\u001b[0;34m\u001b[0m\u001b[0;34m\u001b[0m\u001b[0m\n\u001b[0m\u001b[1;32m    303\u001b[0m \u001b[0;34m\u001b[0m\u001b[0m\n\u001b[1;32m    304\u001b[0m     \u001b[0;32mif\u001b[0m \u001b[0mX_norm_squared\u001b[0m \u001b[0;32mis\u001b[0m \u001b[0;32mnot\u001b[0m \u001b[0;32mNone\u001b[0m\u001b[0;34m:\u001b[0m\u001b[0;34m\u001b[0m\u001b[0;34m\u001b[0m\u001b[0m\n",
      "\u001b[0;32m~/anaconda3/lib/python3.9/site-packages/sklearn/metrics/pairwise.py\u001b[0m in \u001b[0;36mcheck_pairwise_arrays\u001b[0;34m(X, Y, precomputed, dtype, accept_sparse, force_all_finite, copy)\u001b[0m\n\u001b[1;32m    154\u001b[0m         )\n\u001b[1;32m    155\u001b[0m     \u001b[0;32melse\u001b[0m\u001b[0;34m:\u001b[0m\u001b[0;34m\u001b[0m\u001b[0;34m\u001b[0m\u001b[0m\n\u001b[0;32m--> 156\u001b[0;31m         X = check_array(\n\u001b[0m\u001b[1;32m    157\u001b[0m             \u001b[0mX\u001b[0m\u001b[0;34m,\u001b[0m\u001b[0;34m\u001b[0m\u001b[0;34m\u001b[0m\u001b[0m\n\u001b[1;32m    158\u001b[0m             \u001b[0maccept_sparse\u001b[0m\u001b[0;34m=\u001b[0m\u001b[0maccept_sparse\u001b[0m\u001b[0;34m,\u001b[0m\u001b[0;34m\u001b[0m\u001b[0;34m\u001b[0m\u001b[0m\n",
      "\u001b[0;32m~/anaconda3/lib/python3.9/site-packages/sklearn/utils/validation.py\u001b[0m in \u001b[0;36mcheck_array\u001b[0;34m(array, accept_sparse, accept_large_sparse, dtype, order, copy, force_all_finite, ensure_2d, allow_nd, ensure_min_samples, ensure_min_features, estimator)\u001b[0m\n\u001b[1;32m    767\u001b[0m             \u001b[0;31m# If input is 1D raise error\u001b[0m\u001b[0;34m\u001b[0m\u001b[0;34m\u001b[0m\u001b[0m\n\u001b[1;32m    768\u001b[0m             \u001b[0;32mif\u001b[0m \u001b[0marray\u001b[0m\u001b[0;34m.\u001b[0m\u001b[0mndim\u001b[0m \u001b[0;34m==\u001b[0m \u001b[0;36m1\u001b[0m\u001b[0;34m:\u001b[0m\u001b[0;34m\u001b[0m\u001b[0;34m\u001b[0m\u001b[0m\n\u001b[0;32m--> 769\u001b[0;31m                 raise ValueError(\n\u001b[0m\u001b[1;32m    770\u001b[0m                     \u001b[0;34m\"Expected 2D array, got 1D array instead:\\narray={}.\\n\"\u001b[0m\u001b[0;34m\u001b[0m\u001b[0;34m\u001b[0m\u001b[0m\n\u001b[1;32m    771\u001b[0m                     \u001b[0;34m\"Reshape your data either using array.reshape(-1, 1) if \"\u001b[0m\u001b[0;34m\u001b[0m\u001b[0;34m\u001b[0m\u001b[0m\n",
      "\u001b[0;31mValueError\u001b[0m: Expected 2D array, got 1D array instead:\narray=[0.08333333 0.45833333 0.08474576 0.04166667].\nReshape your data either using array.reshape(-1, 1) if your data has a single feature or array.reshape(1, -1) if it contains a single sample."
     ]
    }
   ],
   "source": [
    "#Perform iteration to adjust the prototype vector in order to classify/cluster any new\n",
    "#incoming points using the existing data points:\n",
    "while epsilon >= 0.01:\n",
    "    # Sample a training instance randonly\n",
    "    rnd_i = np.random.randint(0,149)\n",
    "    rnd_s = x[rnd_i]\n",
    "    target_y = y[rnd_i]\n",
    "    # Decrement epsilon value for next iteration\n",
    "    epsilon = epsilon - epsilon_dec_factor\n",
    "    # Find closes prototype vector to given point\n",
    "    closest_pvector = find_closest(rnd_s,p_vectors)\n",
    "    # Update closes prototype vector\n",
    "    if target_y == closest_pvector.class_id:\n",
    "        closest_pvector.update(rnd_s)\n",
    "    else:\n",
    "        closest_pvector.update(rnd_s,False)\n",
    "    closest_pvector.epsilon = epsilon\n",
    "print(\"class id \\t Final Prototype Vector\\n\")\n",
    "for p_vector in p_vectors:\n",
    "    print(p_vector.class_id, '\\t', p_vector.p_vector)\n",
    "       \n",
    "    "
   ]
  },
  {
   "cell_type": "code",
   "execution_count": 9,
   "id": "57392c63-0002-4205-a912-23f2a0e35e9b",
   "metadata": {},
   "outputs": [
    {
     "ename": "IndentationError",
     "evalue": "unexpected indent (773753333.py, line 4)",
     "output_type": "error",
     "traceback": [
      "\u001b[0;36m  File \u001b[0;32m\"/tmp/ipykernel_2632/773753333.py\"\u001b[0;36m, line \u001b[0;32m4\u001b[0m\n\u001b[0;31m    print()\u001b[0m\n\u001b[0m    ^\u001b[0m\n\u001b[0;31mIndentationError\u001b[0m\u001b[0;31m:\u001b[0m unexpected indent\n"
     ]
    }
   ],
   "source": [
    "#The following is a small test to verify the correctness of our method:\n",
    "#predicted_y = [find_class_id(instance,p_vectors) for instance in x ]\n",
    "from sklearn.metrics import classification_report\n",
    "    print()\n",
    "    print(classification_report)(y,predicted_y,target_names=['Iris-Setosa','Iris-Versicolour', 'Iris-Virginica'])"
   ]
  },
  {
   "cell_type": "code",
   "execution_count": null,
   "id": "dc45c613-3d3e-4cc8-b296-945b242664ff",
   "metadata": {},
   "outputs": [],
   "source": []
  }
 ],
 "metadata": {
  "kernelspec": {
   "display_name": "Python 3 (ipykernel)",
   "language": "python",
   "name": "python3"
  },
  "language_info": {
   "codemirror_mode": {
    "name": "ipython",
    "version": 3
   },
   "file_extension": ".py",
   "mimetype": "text/x-python",
   "name": "python",
   "nbconvert_exporter": "python",
   "pygments_lexer": "ipython3",
   "version": "3.9.13"
  }
 },
 "nbformat": 4,
 "nbformat_minor": 5
}
