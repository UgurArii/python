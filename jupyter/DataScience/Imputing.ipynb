{
 "cells": [
  {
   "cell_type": "code",
   "execution_count": 3,
   "id": "a5b3cca1-c906-4973-bbd6-a41923be06ef",
   "metadata": {},
   "outputs": [],
   "source": [
    "# Load Libraries\n",
    "from sklearn.datasets import load_iris\n",
    "from sklearn.impute import SimpleImputer\n",
    "import numpy as np\n",
    "import numpy.ma as ma"
   ]
  },
  {
   "cell_type": "code",
   "execution_count": 4,
   "id": "38591171-663f-417b-ab33-119a2ccacd4b",
   "metadata": {},
   "outputs": [],
   "source": [
    "# 1. Load Iris Data Set\n",
    "data = load_iris()\n",
    "x = data['data']\n",
    "y = data['target']\n",
    "# Make a copy of hte original x value\n",
    "x_t = x.copy()"
   ]
  },
  {
   "cell_type": "code",
   "execution_count": 5,
   "id": "d04ee608-448c-424b-b65b-f3d4eb8387de",
   "metadata": {},
   "outputs": [],
   "source": [
    "# 2.Introduce missing values into second row\n",
    "x_t[2,:] = np.repeat(0,x.shape[1])"
   ]
  },
  {
   "cell_type": "code",
   "execution_count": 9,
   "id": "b0ea285f-e403-4e28-b7c3-a95037161f77",
   "metadata": {},
   "outputs": [
    {
     "name": "stdout",
     "output_type": "stream",
     "text": [
      "[5.851006711409397 3.0563758389261757 3.7744966442953043\n",
      " 1.2060402684563765]\n",
      "[5.85100671 3.05637584 3.77449664 1.20604027]\n"
     ]
    }
   ],
   "source": [
    "# 3.Now create an imputer object with strategy as mean,\n",
    "# i.e. fill the missing values with the mean value of the missing column.\n",
    "imputer = SimpleImputer(missing_values=0,strategy=\"mean\")\n",
    "x_imputed = imputer.fit_transform(x_t)\n",
    "mask = np.zeros_like(x_t)\n",
    "mask[2,:] = 1\n",
    "x_t_m = ma.masked_array(x_t,mask)\n",
    "print(np.mean(x_t_m,axis=0))\n",
    "print(x_imputed[2,:])"
   ]
  },
  {
   "cell_type": "code",
   "execution_count": null,
   "id": "a2897ae8-351f-43f5-ac46-479de4fd7c56",
   "metadata": {},
   "outputs": [],
   "source": []
  }
 ],
 "metadata": {
  "kernelspec": {
   "display_name": "Python 3 (ipykernel)",
   "language": "python",
   "name": "python3"
  },
  "language_info": {
   "codemirror_mode": {
    "name": "ipython",
    "version": 3
   },
   "file_extension": ".py",
   "mimetype": "text/x-python",
   "name": "python",
   "nbconvert_exporter": "python",
   "pygments_lexer": "ipython3",
   "version": "3.9.13"
  }
 },
 "nbformat": 4,
 "nbformat_minor": 5
}
