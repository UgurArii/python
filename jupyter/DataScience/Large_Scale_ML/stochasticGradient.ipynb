{
 "cells": [
  {
   "cell_type": "code",
   "execution_count": 1,
   "id": "9ca3178f-5551-4238-bcce-76c4a3168467",
   "metadata": {},
   "outputs": [],
   "source": [
    "from sklearn.datasets import make_regression\n",
    "from sklearn.linear_model import SGDRegressor\n",
    "from sklearn.metrics import mean_absolute_error, mean_squared_error\n",
    "from sklearn.model_selection import train_test_split"
   ]
  },
  {
   "cell_type": "code",
   "execution_count": 6,
   "id": "d7fa7845-ab6f-477c-b084-458c574223e3",
   "metadata": {},
   "outputs": [],
   "source": [
    "def get_data():\n",
    "    \"\"\"\n",
    "    Make a sample classification dataset\n",
    "    Returns : Independent variable y, dependent variable x\n",
    "    \"\"\"\n",
    "    no_features = 30\n",
    "    x,y = make_regression(n_samples=1000,n_features=no_features,\n",
    "random_state=51)\n",
    "    \n",
    "    return x, y\n",
    "\n",
    "def build_model(x, y):\n",
    "    estimator = SGDRegressor(n_iter = 10, shuffle=True, loss=\"squared_loss\", \n",
    "                             learning_rate='constant', eta0=0.01, fit_intercept =True, penalty='none')\n",
    "    estimator.fit(x, y)\n",
    "    \n",
    "    return estimator\n",
    "\n",
    "def model_worth(model, x, y):\n",
    "    predicted_y = model.predict(x)\n",
    "    print(\"\\Mean absolute error=%0.2f\"%(mean_absolute_error(y, predicted_y)))\n",
    "    \n",
    "def inspect_model(model):\n",
    "    print(\"\\nModel Itercept {0}\".format(model_intercept_))\n",
    "    print()\n",
    "    for i, coef in enumerate(model.coef_):\n",
    "        print(\"Coefficient {0} = {1:.3f}\".format(i+1, coef))\n",
    "    \n",
    "    "
   ]
  },
  {
   "cell_type": "code",
   "execution_count": 7,
   "id": "4023e10e-85cc-471d-9cc3-15a370a01ca1",
   "metadata": {},
   "outputs": [
    {
     "ename": "TypeError",
     "evalue": "__init__() got an unexpected keyword argument 'n_iter'",
     "output_type": "error",
     "traceback": [
      "\u001b[0;31m---------------------------------------------------------------------------\u001b[0m",
      "\u001b[0;31mTypeError\u001b[0m                                 Traceback (most recent call last)",
      "\u001b[0;32m/tmp/ipykernel_13175/4226075681.py\u001b[0m in \u001b[0;36m<module>\u001b[0;34m\u001b[0m\n\u001b[1;32m      6\u001b[0m     \u001b[0mx_dev\u001b[0m\u001b[0;34m,\u001b[0m \u001b[0mx_test\u001b[0m\u001b[0;34m,\u001b[0m \u001b[0my_dev\u001b[0m\u001b[0;34m,\u001b[0m \u001b[0my_test\u001b[0m \u001b[0;34m=\u001b[0m \u001b[0mtrain_test_split\u001b[0m\u001b[0;34m(\u001b[0m\u001b[0mx_test_all\u001b[0m\u001b[0;34m,\u001b[0m \u001b[0my_test_all\u001b[0m\u001b[0;34m,\u001b[0m \u001b[0mtest_size\u001b[0m\u001b[0;34m=\u001b[0m\u001b[0;36m0.3\u001b[0m\u001b[0;34m,\u001b[0m \u001b[0mrandom_state\u001b[0m\u001b[0;34m=\u001b[0m\u001b[0;36m9\u001b[0m\u001b[0;34m)\u001b[0m\u001b[0;34m\u001b[0m\u001b[0;34m\u001b[0m\u001b[0m\n\u001b[1;32m      7\u001b[0m \u001b[0;34m\u001b[0m\u001b[0m\n\u001b[0;32m----> 8\u001b[0;31m     \u001b[0mmodel\u001b[0m \u001b[0;34m=\u001b[0m \u001b[0mbuild_model\u001b[0m\u001b[0;34m(\u001b[0m\u001b[0mx_train\u001b[0m\u001b[0;34m,\u001b[0m \u001b[0my_train\u001b[0m\u001b[0;34m)\u001b[0m\u001b[0;34m\u001b[0m\u001b[0;34m\u001b[0m\u001b[0m\n\u001b[0m\u001b[1;32m      9\u001b[0m \u001b[0;34m\u001b[0m\u001b[0m\n\u001b[1;32m     10\u001b[0m     \u001b[0minspect_model\u001b[0m\u001b[0;34m(\u001b[0m\u001b[0mmodel\u001b[0m\u001b[0;34m)\u001b[0m\u001b[0;34m\u001b[0m\u001b[0;34m\u001b[0m\u001b[0m\n",
      "\u001b[0;32m/tmp/ipykernel_13175/3670744773.py\u001b[0m in \u001b[0;36mbuild_model\u001b[0;34m(x, y)\u001b[0m\n\u001b[1;32m     11\u001b[0m \u001b[0;34m\u001b[0m\u001b[0m\n\u001b[1;32m     12\u001b[0m \u001b[0;32mdef\u001b[0m \u001b[0mbuild_model\u001b[0m\u001b[0;34m(\u001b[0m\u001b[0mx\u001b[0m\u001b[0;34m,\u001b[0m \u001b[0my\u001b[0m\u001b[0;34m)\u001b[0m\u001b[0;34m:\u001b[0m\u001b[0;34m\u001b[0m\u001b[0;34m\u001b[0m\u001b[0m\n\u001b[0;32m---> 13\u001b[0;31m     estimator = SGDRegressor(n_iter = 10, shuffle=True, loss=\"squared_loss\", \n\u001b[0m\u001b[1;32m     14\u001b[0m                              learning_rate='constant', eta0=0.01, fit_intercept =True, penalty='none')\n\u001b[1;32m     15\u001b[0m     \u001b[0mestimator\u001b[0m\u001b[0;34m.\u001b[0m\u001b[0mfit\u001b[0m\u001b[0;34m(\u001b[0m\u001b[0mx\u001b[0m\u001b[0;34m,\u001b[0m \u001b[0my\u001b[0m\u001b[0;34m)\u001b[0m\u001b[0;34m\u001b[0m\u001b[0;34m\u001b[0m\u001b[0m\n",
      "\u001b[0;31mTypeError\u001b[0m: __init__() got an unexpected keyword argument 'n_iter'"
     ]
    }
   ],
   "source": [
    "if __name__ == \"__main__\":\n",
    "    x, y = get_data()\n",
    "    \n",
    "    #Divide the data into Train, dev and test\n",
    "    x_train, x_test_all, y_train, y_test_all = train_test_split(x, y, test_size=0.3, random_state = 9)\n",
    "    x_dev, x_test, y_dev, y_test = train_test_split(x_test_all, y_test_all, test_size=0.3, random_state=9)\n",
    "    \n",
    "    model = build_model(x_train, y_train)\n",
    "    \n",
    "    inspect_model(model)\n",
    "    \n",
    "    print(\"Model worth on train data\")\n",
    "    model_worth(model, x_train, y_train)\n",
    "    print(\"Model worth on dev data\")\n",
    "    model_worth(model, x_dev, y_dev)\n",
    "    \n",
    "    #Building model with 12 regularization \n",
    "    model = build_model_regularized(x_train, y_train)\n",
    "    inspect_model(model)\n",
    "    \n",
    "    "
   ]
  },
  {
   "cell_type": "code",
   "execution_count": null,
   "id": "59c3281e-7b3d-4e43-bdc8-ce777880e633",
   "metadata": {},
   "outputs": [],
   "source": []
  }
 ],
 "metadata": {
  "kernelspec": {
   "display_name": "Python 3 (ipykernel)",
   "language": "python",
   "name": "python3"
  },
  "language_info": {
   "codemirror_mode": {
    "name": "ipython",
    "version": 3
   },
   "file_extension": ".py",
   "mimetype": "text/x-python",
   "name": "python",
   "nbconvert_exporter": "python",
   "pygments_lexer": "ipython3",
   "version": "3.9.13"
  }
 },
 "nbformat": 4,
 "nbformat_minor": 5
}
