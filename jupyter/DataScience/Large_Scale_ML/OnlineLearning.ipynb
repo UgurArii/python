{
 "cells": [
  {
   "cell_type": "code",
   "execution_count": 1,
   "id": "bb79cb25-c1e8-472d-8980-ab84e926374d",
   "metadata": {},
   "outputs": [],
   "source": [
    "from sklearn.datasets import make_classification\n",
    "from sklearn.metrics import classification_report\n",
    "from sklearn.preprocessing import scale\n",
    "import numpy as np"
   ]
  },
  {
   "cell_type": "code",
   "execution_count": 6,
   "id": "f4e4ed33-0ae1-4edd-a63d-71c1d5560ca1",
   "metadata": {},
   "outputs": [],
   "source": [
    "def get_data(batch_size):\n",
    "    \"\"\"\n",
    "    Make a sample classification dataset\n",
    "    Returns : Independent variable y, dependent variable x\n",
    "    \"\"\"\n",
    "    b_size = 0\n",
    "    no_features = 30\n",
    "    redundant_features = int(0.1*no_features)\n",
    "    informative_features = int(0.8*no_features)\n",
    "    repeated_features = int(0.1*no_features)\n",
    "    while b_size < batch_size: \n",
    "        x, y = make_classification(n_samples=1000,n_features=no_features,flip_y=0.03,\n",
    "                         n_informative = informative_features, n_redundant = redundant_features, \n",
    "                               n_repeated = repeated_features, random_state=51)\n",
    "        y_indx = y < 1\n",
    "        y[y_indx] = -1\n",
    "        x = scale(x, with_mean=True, with_std=True)\n",
    "        yield x, y\n",
    "        b_size += 1\n",
    "        \n",
    "def build_forest(x,y,weights, epochs, alpha=0.5):\n",
    "    \"\"\"\n",
    "    Simple Perceptron\n",
    "    \"\"\"\n",
    "    for i in range(epochs):\n",
    "        #Shuffle the dataset\n",
    "        shuff_index = np.random.shuffle(range(len(y)))\n",
    "        x_train = x[shuff_index, :].reshape(x.shape)\n",
    "        y_train = np.ravel(y[shuff_index,:])\n",
    "        \n",
    "        #Build weights one instance at a time\n",
    "        for index in range(len(y)):\n",
    "            prediction = np.sign(np.sum(x_train[index,:] * weights))\n",
    "            if prediction != y_train[index]:\n",
    "                weights = weights + alpha * (y_train[index] * x_train[index, :])\n",
    "    return weights\n",
    "\n",
    "def model_worth(x, y, weights):\n",
    "    prediction = np.sign(np.sum(x * weights, axis=1))\n",
    "    print(classification_report(y, prediction))"
   ]
  },
  {
   "cell_type": "markdown",
   "id": "171d244c-a558-4f71-aac5-e18a6763d251",
   "metadata": {},
   "source": [
    "#We will proceed to write two functions, one to build our perceptron model and the other one to test the worthiness of our model"
   ]
  },
  {
   "cell_type": "code",
   "execution_count": 10,
   "id": "b32eaf77-e3e9-46ee-806a-55deab8f5d78",
   "metadata": {},
   "outputs": [
    {
     "ename": "NameError",
     "evalue": "name 'build_model' is not defined",
     "output_type": "error",
     "traceback": [
      "\u001b[0;31m---------------------------------------------------------------------------\u001b[0m",
      "\u001b[0;31mNameError\u001b[0m                                 Traceback (most recent call last)",
      "\u001b[0;32m/tmp/ipykernel_9565/2941451118.py\u001b[0m in \u001b[0;36m<module>\u001b[0;34m\u001b[0m\n\u001b[1;32m      5\u001b[0m     \u001b[0;32mfor\u001b[0m \u001b[0mi\u001b[0m \u001b[0;32min\u001b[0m \u001b[0mrange\u001b[0m\u001b[0;34m(\u001b[0m\u001b[0;36m10\u001b[0m\u001b[0;34m)\u001b[0m\u001b[0;34m:\u001b[0m\u001b[0;34m\u001b[0m\u001b[0;34m\u001b[0m\u001b[0m\n\u001b[1;32m      6\u001b[0m         \u001b[0mepochs\u001b[0m \u001b[0;34m=\u001b[0m \u001b[0;36m100\u001b[0m\u001b[0;34m\u001b[0m\u001b[0;34m\u001b[0m\u001b[0m\n\u001b[0;32m----> 7\u001b[0;31m         \u001b[0meights\u001b[0m \u001b[0;34m=\u001b[0m \u001b[0mbuild_model\u001b[0m\u001b[0;34m(\u001b[0m\u001b[0mx\u001b[0m\u001b[0;34m,\u001b[0m \u001b[0my\u001b[0m\u001b[0;34m,\u001b[0m \u001b[0mweights\u001b[0m\u001b[0;34m,\u001b[0m \u001b[0mepochs\u001b[0m\u001b[0;34m)\u001b[0m\u001b[0;34m\u001b[0m\u001b[0;34m\u001b[0m\u001b[0m\n\u001b[0m\u001b[1;32m      8\u001b[0m         \u001b[0mprint\u001b[0m\u001b[0;34m(\u001b[0m\u001b[0;34m)\u001b[0m\u001b[0;34m\u001b[0m\u001b[0;34m\u001b[0m\u001b[0m\n\u001b[1;32m      9\u001b[0m         \u001b[0mprint\u001b[0m\u001b[0;34m(\u001b[0m\u001b[0;34m\"Model worth after receiving dataset batch %d\"\u001b[0m\u001b[0;34m%\u001b[0m\u001b[0;34m(\u001b[0m\u001b[0mi\u001b[0m\u001b[0;34m+\u001b[0m\u001b[0;36m1\u001b[0m\u001b[0;34m)\u001b[0m\u001b[0;34m)\u001b[0m\u001b[0;34m\u001b[0m\u001b[0;34m\u001b[0m\u001b[0m\n",
      "\u001b[0;31mNameError\u001b[0m: name 'build_model' is not defined"
     ]
    }
   ],
   "source": [
    "if __name__ == \"__main__\":\n",
    "    data = get_data(10)\n",
    "    x, y = next(data)\n",
    "    weights = np.zeros(x.shape[1])\n",
    "    for i in range(10):\n",
    "        epochs = 100\n",
    "        eights = build_model(x, y, weights, epochs)\n",
    "        print()\n",
    "        print(\"Model worth after receiving dataset batch %d\"%(i+1))\n",
    "        model_worth(x, y, weights)\n",
    "        print()\n",
    "        if i < 9:\n",
    "            x, y = data.next()\n",
    "            "
   ]
  },
  {
   "cell_type": "code",
   "execution_count": null,
   "id": "e615409e-f28e-4f83-b3c6-97b16492f8af",
   "metadata": {},
   "outputs": [],
   "source": []
  }
 ],
 "metadata": {
  "kernelspec": {
   "display_name": "Python 3 (ipykernel)",
   "language": "python",
   "name": "python3"
  },
  "language_info": {
   "codemirror_mode": {
    "name": "ipython",
    "version": 3
   },
   "file_extension": ".py",
   "mimetype": "text/x-python",
   "name": "python",
   "nbconvert_exporter": "python",
   "pygments_lexer": "ipython3",
   "version": "3.9.13"
  }
 },
 "nbformat": 4,
 "nbformat_minor": 5
}
