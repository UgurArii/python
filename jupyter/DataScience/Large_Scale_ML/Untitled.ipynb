{
 "cells": [
  {
   "cell_type": "code",
   "execution_count": 2,
   "id": "aec1588f-f4be-4034-9bc9-8c267e6ce8ac",
   "metadata": {},
   "outputs": [],
   "source": [
    "from sklearn.datasets import make_classification\n",
    "from sklearn.metrics import accuracy_score\n",
    "from sklearn.model_selection import train_test_split\n",
    "from sklearn.linear_model import SGDClassifier\n",
    "import numpy as np"
   ]
  },
  {
   "cell_type": "code",
   "execution_count": 6,
   "id": "c475591a-7275-40ed-920e-4ce790ba41a9",
   "metadata": {},
   "outputs": [],
   "source": [
    "def get_data():\n",
    "    \"\"\"\n",
    "    Make a sample classification dataset\n",
    "    Returns : Independent variable y, dependent variable x\n",
    "    \"\"\"\n",
    "    no_features = 30\n",
    "    redundant_features = int(0.1*no_features)\n",
    "    informative_features = int(0.6*no_features)\n",
    "    repeated_features = int(0.1*no_features)\n",
    "    x,y = make_classification(n_samples=1000,n_features=no_features,flip_y=0.03,\n",
    "    n_informative = informative_features, n_redundant = redundant_features,\n",
    "    n_repeated = repeated_features,random_state=7)\n",
    "    return x,y\n",
    "\n",
    "def build_model(x,y,x_dev,y_dev):\n",
    "    estimator = SGDClassifier(n_iter=50,shuffle=True,loss=\"log\", learning_rate = \"constant\",eta0=0.0001,fit_intercept=True,\n",
    "    penalty=\"none\")\n",
    "    estimator.fit(x,y)\n",
    "    train_predcited = estimator.predict(x)\n",
    "    train_score = accuracy_score(y,train_predcited)\n",
    "    dev_predicted = estimator.predict(x_dev)\n",
    "    dev_score = accuracy_score(y_dev,dev_predicted)\n",
    "    print()\n",
    "    print(\"Training Accuracy = %0.2f Dev Accuracy = %0.2f\"%(train_score,dev_score))\n",
    "    "
   ]
  },
  {
   "cell_type": "code",
   "execution_count": 7,
   "id": "ce4a174c-873d-4b8a-be88-2491c1ce5d8e",
   "metadata": {},
   "outputs": [
    {
     "ename": "TypeError",
     "evalue": "__init__() got an unexpected keyword argument 'n_iter'",
     "output_type": "error",
     "traceback": [
      "\u001b[0;31m---------------------------------------------------------------------------\u001b[0m",
      "\u001b[0;31mTypeError\u001b[0m                                 Traceback (most recent call last)",
      "\u001b[0;32m/tmp/ipykernel_16317/2599069387.py\u001b[0m in \u001b[0;36m<module>\u001b[0;34m\u001b[0m\n\u001b[1;32m      4\u001b[0m     \u001b[0mx_train\u001b[0m\u001b[0;34m,\u001b[0m\u001b[0mx_test_all\u001b[0m\u001b[0;34m,\u001b[0m\u001b[0my_train\u001b[0m\u001b[0;34m,\u001b[0m\u001b[0my_test_all\u001b[0m \u001b[0;34m=\u001b[0m \u001b[0mtrain_test_split\u001b[0m\u001b[0;34m(\u001b[0m\u001b[0mx\u001b[0m\u001b[0;34m,\u001b[0m\u001b[0my\u001b[0m\u001b[0;34m,\u001b[0m\u001b[0mtest_size\u001b[0m \u001b[0;34m=\u001b[0m \u001b[0;36m0.3\u001b[0m\u001b[0;34m,\u001b[0m\u001b[0mrandom_state\u001b[0m\u001b[0;34m=\u001b[0m\u001b[0;36m9\u001b[0m\u001b[0;34m)\u001b[0m\u001b[0;34m\u001b[0m\u001b[0;34m\u001b[0m\u001b[0m\n\u001b[1;32m      5\u001b[0m     \u001b[0mx_dev\u001b[0m\u001b[0;34m,\u001b[0m\u001b[0mx_test\u001b[0m\u001b[0;34m,\u001b[0m\u001b[0my_dev\u001b[0m\u001b[0;34m,\u001b[0m\u001b[0my_test\u001b[0m \u001b[0;34m=\u001b[0m \u001b[0mtrain_test_split\u001b[0m\u001b[0;34m(\u001b[0m\u001b[0mx_test_all\u001b[0m\u001b[0;34m,\u001b[0m\u001b[0my_test_all\u001b[0m\u001b[0;34m,\u001b[0m\u001b[0mtest_size\u001b[0m\u001b[0;34m=\u001b[0m\u001b[0;36m0.3\u001b[0m\u001b[0;34m,\u001b[0m\u001b[0mrandom_state\u001b[0m\u001b[0;34m=\u001b[0m\u001b[0;36m9\u001b[0m\u001b[0;34m)\u001b[0m\u001b[0;34m\u001b[0m\u001b[0;34m\u001b[0m\u001b[0m\n\u001b[0;32m----> 6\u001b[0;31m     \u001b[0mbuild_model\u001b[0m\u001b[0;34m(\u001b[0m\u001b[0mx_train\u001b[0m\u001b[0;34m,\u001b[0m\u001b[0my_train\u001b[0m\u001b[0;34m,\u001b[0m\u001b[0mx_dev\u001b[0m\u001b[0;34m,\u001b[0m\u001b[0my_dev\u001b[0m\u001b[0;34m)\u001b[0m\u001b[0;34m\u001b[0m\u001b[0;34m\u001b[0m\u001b[0m\n\u001b[0m",
      "\u001b[0;32m/tmp/ipykernel_16317/2505637636.py\u001b[0m in \u001b[0;36mbuild_model\u001b[0;34m(x, y, x_dev, y_dev)\u001b[0m\n\u001b[1;32m     14\u001b[0m \u001b[0;34m\u001b[0m\u001b[0m\n\u001b[1;32m     15\u001b[0m \u001b[0;32mdef\u001b[0m \u001b[0mbuild_model\u001b[0m\u001b[0;34m(\u001b[0m\u001b[0mx\u001b[0m\u001b[0;34m,\u001b[0m\u001b[0my\u001b[0m\u001b[0;34m,\u001b[0m\u001b[0mx_dev\u001b[0m\u001b[0;34m,\u001b[0m\u001b[0my_dev\u001b[0m\u001b[0;34m)\u001b[0m\u001b[0;34m:\u001b[0m\u001b[0;34m\u001b[0m\u001b[0;34m\u001b[0m\u001b[0m\n\u001b[0;32m---> 16\u001b[0;31m     estimator = SGDClassifier(n_iter=50,shuffle=True,loss=\"log\", learning_rate = \"constant\",eta0=0.0001,fit_intercept=True,\n\u001b[0m\u001b[1;32m     17\u001b[0m     penalty=\"none\")\n\u001b[1;32m     18\u001b[0m     \u001b[0mestimator\u001b[0m\u001b[0;34m.\u001b[0m\u001b[0mfit\u001b[0m\u001b[0;34m(\u001b[0m\u001b[0mx\u001b[0m\u001b[0;34m,\u001b[0m\u001b[0my\u001b[0m\u001b[0;34m)\u001b[0m\u001b[0;34m\u001b[0m\u001b[0;34m\u001b[0m\u001b[0m\n",
      "\u001b[0;31mTypeError\u001b[0m: __init__() got an unexpected keyword argument 'n_iter'"
     ]
    }
   ],
   "source": [
    "if __name__ == \"__main__\":\n",
    "    x,y = get_data()\n",
    "    # Divide the data into Train, dev and test\n",
    "    x_train,x_test_all,y_train,y_test_all = train_test_split(x,y,test_size = 0.3,random_state=9)\n",
    "    x_dev,x_test,y_dev,y_test = train_test_split(x_test_all,y_test_all,test_size=0.3,random_state=9)\n",
    "    build_model(x_train,y_train,x_dev,y_dev)"
   ]
  },
  {
   "cell_type": "code",
   "execution_count": null,
   "id": "44f06afd-849f-4029-983a-2bfad6313990",
   "metadata": {},
   "outputs": [],
   "source": []
  }
 ],
 "metadata": {
  "kernelspec": {
   "display_name": "Python 3 (ipykernel)",
   "language": "python",
   "name": "python3"
  },
  "language_info": {
   "codemirror_mode": {
    "name": "ipython",
    "version": 3
   },
   "file_extension": ".py",
   "mimetype": "text/x-python",
   "name": "python",
   "nbconvert_exporter": "python",
   "pygments_lexer": "ipython3",
   "version": "3.9.13"
  }
 },
 "nbformat": 4,
 "nbformat_minor": 5
}
