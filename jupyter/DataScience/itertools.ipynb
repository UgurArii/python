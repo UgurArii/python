{
 "cells": [
  {
   "cell_type": "code",
   "execution_count": 3,
   "id": "70db8711-5347-4672-8f04-17bb3bbf865f",
   "metadata": {},
   "outputs": [],
   "source": [
    "# Load libraries\n",
    "from itertools import chain,compress,combinations,count,islice"
   ]
  },
  {
   "cell_type": "code",
   "execution_count": 4,
   "id": "dff2bd40-89a2-42c7-a905-d244ebad3ec4",
   "metadata": {},
   "outputs": [
    {
     "name": "stdout",
     "output_type": "stream",
     "text": [
      "[1, 2, 3, 'a', 'b', 'c']\n"
     ]
    }
   ],
   "source": [
    "# 1.Chain example, where different iterables can be combined together.\n",
    "a = [1,2,3]\n",
    "b = ['a','b','c']\n",
    "print(list(chain(a,b))) # prints [1, 2, 3, 'a', 'b', 'c'])"
   ]
  },
  {
   "cell_type": "code",
   "execution_count": 5,
   "id": "92334e42-51b2-4b4c-b295-11bd54fb0250",
   "metadata": {},
   "outputs": [
    {
     "name": "stdout",
     "output_type": "stream",
     "text": [
      "[1, 3]\n"
     ]
    }
   ],
   "source": [
    "# 2.Compress example, a data selector, where the data in the first iterator\n",
    "# is selected based on the second iterator.\n",
    "a = [1,2,3]\n",
    "b = [1,0,1]\n",
    "print(list(compress(a,b))) # prints [1, 3]"
   ]
  },
  {
   "cell_type": "code",
   "execution_count": 6,
   "id": "4f42fb87-456a-4f70-9338-020c473280da",
   "metadata": {},
   "outputs": [
    {
     "name": "stdout",
     "output_type": "stream",
     "text": [
      "[(1, 2), (1, 3), (1, 4), (2, 3), (2, 4), (3, 4)]\n"
     ]
    }
   ],
   "source": [
    "# 3.From a given list, return n length sub sequences.\n",
    "a = [1,2,3,4]\n",
    "print(list(combinations(a,2))) # prints [(1, 2), (1, 3), (1, 4), (2, 3), (2,4), (3, 4)]"
   ]
  },
  {
   "cell_type": "code",
   "execution_count": 8,
   "id": "e4a5645a-aa91-45c1-914d-ea320bcf557a",
   "metadata": {},
   "outputs": [
    {
     "name": "stdout",
     "output_type": "stream",
     "text": [
      "(2, 0)\n",
      "(3, 1)\n",
      "(4, 2)\n",
      "(5, 3)\n",
      "(6, 4)\n"
     ]
    }
   ],
   "source": [
    "a = range(5)\n",
    "b = zip(count(2), a)\n",
    "for element in b:\n",
    "    print(element)"
   ]
  },
  {
   "cell_type": "code",
   "execution_count": 9,
   "id": "63ddff17-4729-4977-a422-aa3079df661d",
   "metadata": {},
   "outputs": [
    {
     "name": "stdout",
     "output_type": "stream",
     "text": [
      "[0, 2, 4, 6, 8, 10, 12, 14, 16, 18, 20, 22, 24, 26, 28, 30, 32, 34, 36, 38, 40, 42, 44, 46, 48, 50, 52, 54, 56, 58, 60, 62, 64, 66, 68, 70, 72, 74, 76, 78, 80, 82, 84, 86, 88, 90, 92, 94, 96, 98]\n"
     ]
    }
   ],
   "source": [
    "# 5.Extract an iterator from another iterator,\n",
    "# let us say we want an iterator which only returns every\n",
    "# alternate elements from the input iterator\n",
    "a = range(100)\n",
    "b = islice(a,0,100,2)\n",
    "print(list(b))"
   ]
  },
  {
   "cell_type": "code",
   "execution_count": null,
   "id": "e84b590f-e4c5-43d7-8685-36ba8d382087",
   "metadata": {},
   "outputs": [],
   "source": []
  }
 ],
 "metadata": {
  "kernelspec": {
   "display_name": "Python 3 (ipykernel)",
   "language": "python",
   "name": "python3"
  },
  "language_info": {
   "codemirror_mode": {
    "name": "ipython",
    "version": 3
   },
   "file_extension": ".py",
   "mimetype": "text/x-python",
   "name": "python",
   "nbconvert_exporter": "python",
   "pygments_lexer": "ipython3",
   "version": "3.9.13"
  }
 },
 "nbformat": 4,
 "nbformat_minor": 5
}
