{
 "cells": [
  {
   "cell_type": "code",
   "execution_count": 1,
   "id": "934d053e-d8e6-4b0c-a871-3f0ccd9ba5a1",
   "metadata": {},
   "outputs": [],
   "source": [
    "# Load libraries\n",
    "from sklearn.datasets import load_iris\n",
    "import numpy as np"
   ]
  },
  {
   "cell_type": "code",
   "execution_count": 2,
   "id": "056691bd-c69f-4f7d-9d78-4b48059096c2",
   "metadata": {},
   "outputs": [],
   "source": [
    "data = load_iris()\n",
    "x = data['data']"
   ]
  },
  {
   "cell_type": "code",
   "execution_count": 4,
   "id": "8c1b39f9-95d8-4489-9283-dabf141141c5",
   "metadata": {},
   "outputs": [
    {
     "name": "stdout",
     "output_type": "stream",
     "text": [
      "[[6.1 3.  4.9 1.8]\n",
      " [4.4 2.9 1.4 0.2]\n",
      " [6.3 2.5 4.9 1.5]\n",
      " [5.7 2.8 4.1 1.3]\n",
      " [4.6 3.6 1.  0.2]\n",
      " [5.4 3.  4.5 1.5]\n",
      " [7.1 3.  5.9 2.1]\n",
      " [6.  3.  4.8 1.8]\n",
      " [6.5 3.2 5.1 2. ]\n",
      " [6.1 2.6 5.6 1.4]]\n"
     ]
    }
   ],
   "source": [
    "#Randomly sample 10 records from the loaded dataset\n",
    "no_records = 10\n",
    "x_sample_indx = np.random.choice(range(x.shape[0]), no_records)\n",
    "print(x[x_sample_indx,:])\n"
   ]
  },
  {
   "cell_type": "code",
   "execution_count": null,
   "id": "74a388db-2fd0-43be-8cdd-34145a842b3f",
   "metadata": {},
   "outputs": [],
   "source": []
  }
 ],
 "metadata": {
  "kernelspec": {
   "display_name": "Python 3 (ipykernel)",
   "language": "python",
   "name": "python3"
  },
  "language_info": {
   "codemirror_mode": {
    "name": "ipython",
    "version": 3
   },
   "file_extension": ".py",
   "mimetype": "text/x-python",
   "name": "python",
   "nbconvert_exporter": "python",
   "pygments_lexer": "ipython3",
   "version": "3.9.13"
  }
 },
 "nbformat": 4,
 "nbformat_minor": 5
}
