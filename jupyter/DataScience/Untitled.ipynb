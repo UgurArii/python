{
 "cells": [
  {
   "cell_type": "code",
   "execution_count": 4,
   "id": "05ef4e00-1444-48c1-92c8-f1c780d4f52a",
   "metadata": {},
   "outputs": [
    {
     "name": "stderr",
     "output_type": "stream",
     "text": [
      "<?xml version=\"1.0\" encoding=\"UTF-8\"?>\n",
      "<SOAP-ENV:Envelope xmlns:SOAP-ENV=\"http://schemas.xmlsoap.org/soap/envelope/\" xmlns:xsi=\"http://www.w3.org/2001/XMLSchema-instance\" xmlns:ns0=\"http://auth.cxf.wokmws.thomsonreuters.com\" xmlns:ns1=\"http://schemas.xmlsoap.org/soap/envelope/\">\n",
      "   <SOAP-ENV:Header/>\n",
      "   <ns1:Body>\n",
      "      <ns0:authenticate/>\n",
      "   </ns1:Body>\n",
      "</SOAP-ENV:Envelope>\n"
     ]
    },
    {
     "name": "stdout",
     "output_type": "stream",
     "text": [
      "Failed to connect to the Web of Science database: b\"Server raised fault: 'No matches returned for Username narjesmottaghi@gmail.com'\"\n"
     ]
    },
    {
     "ename": "NameError",
     "evalue": "name 'articles' is not defined",
     "output_type": "error",
     "traceback": [
      "\u001b[0;31m---------------------------------------------------------------------------\u001b[0m",
      "\u001b[0;31mNameError\u001b[0m                                 Traceback (most recent call last)",
      "\u001b[0;32m/tmp/ipykernel_1923/1251478046.py\u001b[0m in \u001b[0;36m<module>\u001b[0;34m\u001b[0m\n\u001b[1;32m     39\u001b[0m 'Title20', 'Country/Region', 'SCIE', 'SSCI', 'AHCI', 'ESCI'])\n\u001b[1;32m     40\u001b[0m \u001b[0;31m# Loop through the article dataframe and extract the data\u001b[0m\u001b[0;34m\u001b[0m\u001b[0;34m\u001b[0m\u001b[0m\n\u001b[0;32m---> 41\u001b[0;31m \u001b[0;32mfor\u001b[0m \u001b[0mi\u001b[0m\u001b[0;34m,\u001b[0m \u001b[0mrow\u001b[0m \u001b[0;32min\u001b[0m \u001b[0marticles\u001b[0m\u001b[0;34m.\u001b[0m\u001b[0miterrows\u001b[0m\u001b[0;34m(\u001b[0m\u001b[0;34m)\u001b[0m\u001b[0;34m:\u001b[0m\u001b[0;34m\u001b[0m\u001b[0;34m\u001b[0m\u001b[0m\n\u001b[0m\u001b[1;32m     42\u001b[0m     \u001b[0mut\u001b[0m \u001b[0;34m=\u001b[0m \u001b[0mrow\u001b[0m\u001b[0;34m[\u001b[0m\u001b[0;34m'UT (Unique WOS ID)'\u001b[0m\u001b[0;34m]\u001b[0m\u001b[0;34m\u001b[0m\u001b[0;34m\u001b[0m\u001b[0m\n\u001b[1;32m     43\u001b[0m     \u001b[0mwos_categories\u001b[0m \u001b[0;34m=\u001b[0m \u001b[0mrow\u001b[0m\u001b[0;34m[\u001b[0m\u001b[0;34m'WoS Categories'\u001b[0m\u001b[0;34m]\u001b[0m\u001b[0;34m\u001b[0m\u001b[0;34m\u001b[0m\u001b[0m\n",
      "\u001b[0;31mNameError\u001b[0m: name 'articles' is not defined"
     ]
    }
   ],
   "source": [
    "import wos\n",
    "from wos import WosClient\n",
    "import pandas as pd\n",
    "# Set up your Web of Science access credentials\n",
    "wos_username = 'narjesmottaghi@gmail.com'\n",
    "wos_password = '09.....'\n",
    "# Set up the Web of Science client and connect to the database\n",
    "wos_client = wos.WosClient(user=wos_username, password=wos_password)\n",
    "try:\n",
    "    wos_client.connect()\n",
    "except Exception as e:\n",
    "    print(f\"Failed to connect to the Web of Science database: {str(e)}\")\n",
    "    exit()\n",
    "# Function to extract WOS data\n",
    "def get_wos_data(ut, field):\n",
    "    # Look up the record in the WOS database\n",
    "    wos_client = WosClient()\n",
    "    wos_client.connect()\n",
    "    record = wos_client.search(ut)\n",
    "    # Extract the desired field from the record\n",
    "    if field == 'Title':\n",
    "        return record.title\n",
    "    elif field == 'Title20':\n",
    "        return record.title_20\n",
    "    elif field == 'Country/Region':\n",
    "        return record.countries\n",
    "    elif field == 'SCIE':\n",
    "        return record.is_in_category('SCIE')\n",
    "    elif field == 'SSCI':\n",
    "        return record.is_in_category('SSCI')\n",
    "    elif field == 'AHCI':\n",
    "        return record.is_in_category('AHCI')\n",
    "    elif field == 'ESCI':\n",
    "        return record.is_in_category('ESCI')\n",
    "    else:\n",
    "        return None\n",
    "# Create a new dataframe to store the extracted data\n",
    "wos_data  = pd.DataFrame(columns=['WoS Categories', 'Unique WOS ID', 'Title',\n",
    "'Title20', 'Country/Region', 'SCIE', 'SSCI', 'AHCI', 'ESCI'])\n",
    "# Loop through the article dataframe and extract the data\n",
    "for i, row in articles.iterrows():\n",
    "    ut = row['UT (Unique WOS ID)']\n",
    "    wos_categories = row['WoS Categories']\n",
    "    title = get_wos_data(ut, 'Title')\n",
    "    title20 = get_wos_data(ut, 'Title20')\n",
    "    country_region = get_wos_data(ut, 'Country/Region')\n",
    "    scie = get_wos_data(ut, 'SCIE')\n",
    "    ssci = get_wos_data(ut, 'SSCI')\n",
    "    ahci = get_wos_data(ut, 'AHCI')\n",
    "    esci = get_wos_data(ut, 'ESCI')\n",
    "    wos_data.loc[i] = [wos_categories, ut, title, title20, country_region, scie, ssci, ahci, esci]\n",
    "# Print the resulting dataframe\n",
    "print(wos_data)\n",
    "\n"
   ]
  },
  {
   "cell_type": "code",
   "execution_count": null,
   "id": "af3bff8c-38b1-4434-ae3a-5d4239a50a7b",
   "metadata": {},
   "outputs": [],
   "source": []
  },
  {
   "cell_type": "code",
   "execution_count": null,
   "id": "f947b653-15c4-46d2-b7c1-20021d5ce293",
   "metadata": {},
   "outputs": [],
   "source": []
  }
 ],
 "metadata": {
  "kernelspec": {
   "display_name": "Python 3 (ipykernel)",
   "language": "python",
   "name": "python3"
  },
  "language_info": {
   "codemirror_mode": {
    "name": "ipython",
    "version": 3
   },
   "file_extension": ".py",
   "mimetype": "text/x-python",
   "name": "python",
   "nbconvert_exporter": "python",
   "pygments_lexer": "ipython3",
   "version": "3.9.13"
  }
 },
 "nbformat": 4,
 "nbformat_minor": 5
}
