{
 "cells": [
  {
   "cell_type": "code",
   "execution_count": 1,
   "id": "12ffefc4-8054-40aa-9001-69a0120923f5",
   "metadata": {},
   "outputs": [],
   "source": [
    "import numpy as np\n",
    "#creating arrays\n",
    "a_list = [1,2,3]\n",
    "an_array = np.array(a_list)\n",
    "#Specify the datatype\n",
    "an_array = np.array(a_list, dtype=float)"
   ]
  },
  {
   "cell_type": "code",
   "execution_count": 2,
   "id": "55256c55-450b-4382-b3b5-fbf6faf39bae",
   "metadata": {},
   "outputs": [],
   "source": [
    "#Creating matrices\n",
    "a_listoflist = [[1,2,3],[5,6,7],[8,9,10]]\n",
    "a_matrix = np.matrix(a_listoflist, dtype=float)"
   ]
  },
  {
   "cell_type": "code",
   "execution_count": 3,
   "id": "0f8450f3-4160-410a-a102-9fb481878113",
   "metadata": {},
   "outputs": [
    {
     "name": "stdout",
     "output_type": "stream",
     "text": [
      "\n",
      "[[ 1.  2.  3.]\n",
      " [ 5.  6.  7.]\n",
      " [ 8.  9. 10.]]\n",
      "\n",
      "Number of elements in a = 9\n",
      "Number of dimesions in a = 2\n",
      "Rows and Columns in a  (3, 3)\n",
      "\n"
     ]
    }
   ],
   "source": [
    "# A simple function to examine given numpy object\n",
    "def display_shape(a):\n",
    "    print()\n",
    "    print(a)\n",
    "    print()\n",
    "    print(\"Number of elements in a = %d\"%(a.size))\n",
    "    print(\"Number of dimesions in a = %d\"%(a.ndim))\n",
    "    print(\"Rows and Columns in a \", a.shape)\n",
    "    print()\n",
    "display_shape(a_matrix)"
   ]
  },
  {
   "cell_type": "code",
   "execution_count": 4,
   "id": "3f920221-5c92-4786-a0a8-c8f6843ae56d",
   "metadata": {},
   "outputs": [
    {
     "name": "stdout",
     "output_type": "stream",
     "text": [
      "\n",
      "[1. 2. 3. 4. 5. 6. 7. 8. 9.]\n",
      "\n",
      "Number of elements in a = 9\n",
      "Number of dimesions in a = 1\n",
      "Rows and Columns in a  (9,)\n",
      "\n"
     ]
    }
   ],
   "source": [
    "#alternate ways of creating arrays\n",
    "#1.Leverage np.arange to create numpy array\n",
    "created_array = np.arange(1, 10, dtype=float)\n",
    "display_shape(created_array)"
   ]
  },
  {
   "cell_type": "code",
   "execution_count": 5,
   "id": "39783048-ee6f-423c-8bdd-37d1bf425aa7",
   "metadata": {},
   "outputs": [
    {
     "name": "stdout",
     "output_type": "stream",
     "text": [
      "\n",
      "[ 1.          1.18367347  1.36734694  1.55102041  1.73469388  1.91836735\n",
      "  2.10204082  2.28571429  2.46938776  2.65306122  2.83673469  3.02040816\n",
      "  3.20408163  3.3877551   3.57142857  3.75510204  3.93877551  4.12244898\n",
      "  4.30612245  4.48979592  4.67346939  4.85714286  5.04081633  5.2244898\n",
      "  5.40816327  5.59183673  5.7755102   5.95918367  6.14285714  6.32653061\n",
      "  6.51020408  6.69387755  6.87755102  7.06122449  7.24489796  7.42857143\n",
      "  7.6122449   7.79591837  7.97959184  8.16326531  8.34693878  8.53061224\n",
      "  8.71428571  8.89795918  9.08163265  9.26530612  9.44897959  9.63265306\n",
      "  9.81632653 10.        ]\n",
      "\n",
      "Number of elements in a = 50\n",
      "Number of dimesions in a = 1\n",
      "Rows and Columns in a  (50,)\n",
      "\n"
     ]
    }
   ],
   "source": [
    "# 2. Using np.linspace to create numpy array\n",
    "created_array = np.linspace(1,10)\n",
    "display_shape(created_array)"
   ]
  },
  {
   "cell_type": "code",
   "execution_count": 6,
   "id": "fce4e350-1e70-4e7d-989b-c3e370653e34",
   "metadata": {},
   "outputs": [
    {
     "name": "stdout",
     "output_type": "stream",
     "text": [
      "\n",
      "[1.00000000e+01 1.52641797e+01 2.32995181e+01 3.55648031e+01\n",
      " 5.42867544e+01 8.28642773e+01 1.26485522e+02 1.93069773e+02\n",
      " 2.94705170e+02 4.49843267e+02 6.86648845e+02 1.04811313e+03\n",
      " 1.59985872e+03 2.44205309e+03 3.72759372e+03 5.68986603e+03\n",
      " 8.68511374e+03 1.32571137e+04 2.02358965e+04 3.08884360e+04\n",
      " 4.71486636e+04 7.19685673e+04 1.09854114e+05 1.67683294e+05\n",
      " 2.55954792e+05 3.90693994e+05 5.96362332e+05 9.10298178e+05\n",
      " 1.38949549e+06 2.12095089e+06 3.23745754e+06 4.94171336e+06\n",
      " 7.54312006e+06 1.15139540e+07 1.75751062e+07 2.68269580e+07\n",
      " 4.09491506e+07 6.25055193e+07 9.54095476e+07 1.45634848e+08\n",
      " 2.22299648e+08 3.39322177e+08 5.17947468e+08 7.90604321e+08\n",
      " 1.20679264e+09 1.84206997e+09 2.81176870e+09 4.29193426e+09\n",
      " 6.55128557e+09 1.00000000e+10]\n",
      "\n",
      "Number of elements in a = 50\n",
      "Number of dimesions in a = 1\n",
      "Rows and Columns in a  (50,)\n",
      "\n"
     ]
    }
   ],
   "source": [
    "# 3. Create numpy arrays in using np.logspace\n",
    "created_array = np.logspace(1,10,base=10.0)\n",
    "display_shape(created_array)"
   ]
  },
  {
   "cell_type": "code",
   "execution_count": 7,
   "id": "42bbf795-0d69-46b7-bd04-c109c5c10136",
   "metadata": {},
   "outputs": [
    {
     "name": "stdout",
     "output_type": "stream",
     "text": [
      "\n",
      "[[1. 1. 1.]\n",
      " [1. 1. 1.]\n",
      " [1. 1. 1.]]\n",
      "\n",
      "Number of elements in a = 9\n",
      "Number of dimesions in a = 2\n",
      "Rows and Columns in a  (3, 3)\n",
      "\n",
      "\n",
      "[[0. 0. 0.]\n",
      " [0. 0. 0.]\n",
      " [0. 0. 0.]]\n",
      "\n",
      "Number of elements in a = 9\n",
      "Number of dimesions in a = 2\n",
      "Rows and Columns in a  (3, 3)\n",
      "\n"
     ]
    }
   ],
   "source": [
    "# Create a matrix will all elements as 1\n",
    "ones_matrix = np.ones((3,3))\n",
    "display_shape(ones_matrix)\n",
    "# Create a matrix with all elements as 0\n",
    "zeros_matrix = np.zeros((3,3))\n",
    "display_shape(zeros_matrix)"
   ]
  },
  {
   "cell_type": "code",
   "execution_count": 8,
   "id": "5f5c282c-ea99-4998-a1b1-faa2d5286321",
   "metadata": {},
   "outputs": [
    {
     "name": "stdout",
     "output_type": "stream",
     "text": [
      "\n",
      "[[0 1 2]\n",
      " [3 4 5]\n",
      " [6 7 8]]\n",
      "\n",
      "Number of elements in a = 9\n",
      "Number of dimesions in a = 2\n",
      "Rows and Columns in a  (3, 3)\n",
      "\n"
     ]
    }
   ],
   "source": [
    "# Array shaping\n",
    "a_matrix = np.arange(9).reshape(3,3)\n",
    "display_shape(a_matrix)"
   ]
  },
  {
   "cell_type": "code",
   "execution_count": 9,
   "id": "227939af-8161-4d5a-9e9d-279f5da9cdb6",
   "metadata": {},
   "outputs": [
    {
     "name": "stdout",
     "output_type": "stream",
     "text": [
      "[-0.06914786  0.39187276  0.08505161  0.41197474  0.32349246  0.33867399\n",
      "  0.10495481  0.31785254  0.00196702  0.39638762]\n"
     ]
    }
   ],
   "source": [
    "uniform_rnd_numbers = np.random.normal(loc=0.2,scale=0.2,size=10)\n",
    "print(uniform_rnd_numbers)"
   ]
  },
  {
   "cell_type": "code",
   "execution_count": null,
   "id": "2b219519-ca72-468c-9040-4af0b2c708ec",
   "metadata": {},
   "outputs": [],
   "source": []
  }
 ],
 "metadata": {
  "kernelspec": {
   "display_name": "Python 3 (ipykernel)",
   "language": "python",
   "name": "python3"
  },
  "language_info": {
   "codemirror_mode": {
    "name": "ipython",
    "version": 3
   },
   "file_extension": ".py",
   "mimetype": "text/x-python",
   "name": "python",
   "nbconvert_exporter": "python",
   "pygments_lexer": "ipython3",
   "version": "3.9.13"
  }
 },
 "nbformat": 4,
 "nbformat_minor": 5
}
