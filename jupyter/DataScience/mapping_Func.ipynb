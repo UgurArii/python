{
 "cells": [
  {
   "cell_type": "code",
   "execution_count": 1,
   "id": "0fb964b4-5666-431d-b631-35f4152c1b29",
   "metadata": {},
   "outputs": [],
   "source": [
    "import numpy as np\n",
    "#Simple example to illustrate Kernek Function concept\n",
    "# 3 Dimensional input space\n",
    "x = np.array([10,20,30])\n",
    "y = np.array([8,9,10])\n",
    "\n",
    "# Let us find a mapping function to transform this space\n",
    "# phi(x1,x2,x3) = (x1x2,x1x3,x2x3,x1x1,x2x2,x3x3)\n",
    "# this will transorm the input space into 6 dimesions\n",
    "\n",
    "def mapping_function(x):\n",
    "    output_list = []\n",
    "    for i in range(len(x)):\n",
    "        output_list.append(x[i] * x[i])\n",
    "    output_list.append(x[0]*x[1])\n",
    "    output_list.append(x[0]*x[2])\n",
    "    output_list.append(x[1]*x[0])\n",
    "    output_list.append(x[1]*x[2])\n",
    "    output_list.append(x[2]*x[1])\n",
    "    output_list.append(x[2]*x[0])\n",
    "    return np.array(output_list)"
   ]
  },
  {
   "cell_type": "code",
   "execution_count": 2,
   "id": "6ee657e2-f828-49ec-b3c9-6af9facbcc55",
   "metadata": {},
   "outputs": [
    {
     "name": "stdout",
     "output_type": "stream",
     "text": [
      "[100 400 900 200 300 200 600 600 300]\n",
      "313600\n",
      "313600\n"
     ]
    }
   ],
   "source": [
    "if __name__ == \"__main__\":\n",
    "    \n",
    "    # Apply the mapping function\n",
    "    tranf_x = mapping_function(x)\n",
    "    tranf_y = mapping_function(y)\n",
    "    # Print the output\n",
    "    print(tranf_x)\n",
    "    print(np.dot(tranf_x,tranf_y))\n",
    "    # Print the equivalent kernel functions\n",
    "    # transformation output.\n",
    "    output = np.power((np.dot(x,y)),2)\n",
    "    print(output)"
   ]
  },
  {
   "cell_type": "code",
   "execution_count": null,
   "id": "b629b5e9-f0c1-45f8-82b1-32d34b3dd06f",
   "metadata": {},
   "outputs": [],
   "source": []
  }
 ],
 "metadata": {
  "kernelspec": {
   "display_name": "Python 3 (ipykernel)",
   "language": "python",
   "name": "python3"
  },
  "language_info": {
   "codemirror_mode": {
    "name": "ipython",
    "version": 3
   },
   "file_extension": ".py",
   "mimetype": "text/x-python",
   "name": "python",
   "nbconvert_exporter": "python",
   "pygments_lexer": "ipython3",
   "version": "3.9.13"
  }
 },
 "nbformat": 4,
 "nbformat_minor": 5
}
