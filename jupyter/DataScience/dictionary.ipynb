{
 "cells": [
  {
   "cell_type": "code",
   "execution_count": 1,
   "id": "32f09333-81a8-41fe-a12c-ce2f8b549830",
   "metadata": {},
   "outputs": [
    {
     "name": "stdout",
     "output_type": "stream",
     "text": [
      "defaultdict(<function <lambda> at 0x7fbf15264790>, {'Alice': defaultdict(<class 'int'>, {'LOR1': 4, 'LOR2': 5, 'LOR3': 3, 'SW1': 5, 'SW2': 3})})\n"
     ]
    }
   ],
   "source": [
    "from collections import defaultdict\n",
    "user_movie_rating = defaultdict(lambda : defaultdict(int))\n",
    "\n",
    "#initialize ratings for Alice\n",
    "user_movie_rating[\"Alice\"][\"LOR1\"] = 4\n",
    "user_movie_rating[\"Alice\"][\"LOR2\"] = 5\n",
    "user_movie_rating[\"Alice\"][\"LOR3\"] = 3\n",
    "user_movie_rating[\"Alice\"][\"SW1\"] = 5\n",
    "user_movie_rating[\"Alice\"][\"SW2\"] = 3\n",
    "\n",
    "print(user_movie_rating)"
   ]
  },
  {
   "cell_type": "code",
   "execution_count": 2,
   "id": "0d0fe49d-2da9-4cfb-8330-9f7eff9a3e2d",
   "metadata": {},
   "outputs": [
    {
     "name": "stdout",
     "output_type": "stream",
     "text": [
      "(1, 4, 1, 4, 'd', 9, 16, 9, 'a')\n"
     ]
    }
   ],
   "source": [
    "def process(x):\n",
    "    if isinstance(x,str):\n",
    "        return x.lower()\n",
    "    elif isinstance(x, int):\n",
    "        return x*x\n",
    "    else: \n",
    "        return -9\n",
    "\n",
    "a = (1,2,-1,-2,'D',3,4,-3,'A')\n",
    "b = tuple(process(x) for x in a)\n",
    "print(b)\n",
    "    "
   ]
  },
  {
   "cell_type": "code",
   "execution_count": 4,
   "id": "3b4f3945-8162-4dcb-8292-0e88fd1b8702",
   "metadata": {},
   "outputs": [
    {
     "name": "stdout",
     "output_type": "stream",
     "text": [
      "285\n"
     ]
    }
   ],
   "source": [
    "#simple iterator\n",
    "class SimpleCounter(object):\n",
    "    def __init__(self, start, end):\n",
    "        self.current = start\n",
    "        self.end = end\n",
    "    \n",
    "    def __iter__(self):\n",
    "        'Return itself as an iterator object'\n",
    "        return self\n",
    "    \n",
    "    def next(self):\n",
    "        'Returns the next value till current is lower than end'\n",
    "        if self.current > self.end:\n",
    "            raise StopIteration\n",
    "        else:\n",
    "            self.current += 1\n",
    "            return self.current - 1\n",
    "        \"\"\"\n",
    "# 2.Now let us try to access the iterator\n",
    "c = SimpleCounter(1, 3)\n",
    "print(c.next())\n",
    "print(c.next())\n",
    "print(c.next())\n",
    "print(c.next())\n",
    "\n",
    "#3. Another way to access\n",
    "for entry in iter(c):\n",
    "    print(entry)\"\"\"\n",
    "SimpleCounter = (x**2 for x in range(1,10))\n",
    "tot = 0\n",
    "for val in SimpleCounter:\n",
    "    tot += val\n",
    "print(tot)\n"
   ]
  },
  {
   "cell_type": "code",
   "execution_count": 5,
   "id": "2d16a1ca-e659-4316-a949-654e4a629c39",
   "metadata": {},
   "outputs": [
    {
     "name": "stdout",
     "output_type": "stream",
     "text": [
      "1\n",
      "4\n",
      "9\n",
      "16\n",
      "25\n",
      "36\n",
      "49\n",
      "64\n",
      "81\n"
     ]
    }
   ],
   "source": [
    "def my_gen(low, high):\n",
    "    for x in range(low, high):\n",
    "        yield x**2\n",
    "\n",
    "tot = 0\n",
    "for val in my_gen(1,10):\n",
    "    print(val)"
   ]
  },
  {
   "cell_type": "code",
   "execution_count": 3,
   "id": "eb7dabd2-a7e5-4d0d-94c8-dbed272e6846",
   "metadata": {},
   "outputs": [
    {
     "name": "stdout",
     "output_type": "stream",
     "text": [
      "Volume of cylinder of radius 10 and height 10 = 3141.00 cubic units\n",
      "Volume of cylinder of radius 10 and height 20 = 6282.00 cubic units\n"
     ]
    }
   ],
   "source": [
    "def cylinder_vol(r):\n",
    "    pi = 3.141\n",
    "    def get_vol(h):\n",
    "        return pi * r**2 * h\n",
    "    return get_vol\n",
    "\n",
    "radius = 10\n",
    "find_volume = cylinder_vol(radius)\n",
    "\n",
    "height = 10\n",
    "print(\"Volume of cylinder of radius %d and height %d = %.2f cubic units\" %(radius, height, find_volume(height)))\n",
    "\n",
    "height = 20\n",
    "print(\"Volume of cylinder of radius %d and height %d = %.2f cubic units\" %(radius, height, find_volume(height)))\n",
    "\n"
   ]
  },
  {
   "cell_type": "code",
   "execution_count": 4,
   "id": "7b84d7cc-8bf5-4510-93ca-4053fa359ab8",
   "metadata": {},
   "outputs": [
    {
     "name": "stdout",
     "output_type": "stream",
     "text": [
      "['string', 'with', 'punctuation']\n"
     ]
    }
   ],
   "source": [
    "from string import punctuation\n",
    "def pipeline_wrapper(func):\n",
    "    def to_lower(x):\n",
    "        return x.lower()\n",
    "    def remove_punc(x):\n",
    "        for p in punctuation:\n",
    "            x = x.replace(p,'')\n",
    "        return x\n",
    "    def wrapper(*args, **kwargs):\n",
    "        x = to_lower(*args, **kwargs)\n",
    "        x = remove_punc(x)\n",
    "        return func(x)\n",
    "    return wrapper\n",
    "\n",
    "@pipeline_wrapper\n",
    "def tokenize_whitespace(inText):\n",
    "    return inText.split()\n",
    "\n",
    "s = \"string. With. Punctuation?\"\n",
    "print(tokenize_whitespace(s))\n",
    "    "
   ]
  },
  {
   "cell_type": "code",
   "execution_count": 5,
   "id": "c8b291a6-03a4-4191-812e-1d191cdffef0",
   "metadata": {},
   "outputs": [
    {
     "name": "stdout",
     "output_type": "stream",
     "text": [
      "1400\n",
      "36000\n"
     ]
    }
   ],
   "source": [
    "a = [10,20,30]\n",
    "\n",
    "def do_list(a_list, func):\n",
    "    total = 0\n",
    "    for element in a_list:\n",
    "        total += func(element)\n",
    "    return total\n",
    "\n",
    "print(do_list(a, lambda x:x**2))\n",
    "print(do_list(a, lambda x:x**3))"
   ]
  },
  {
   "cell_type": "code",
   "execution_count": 9,
   "id": "672e539b-33e8-4feb-a5eb-ad3b3fbd11c6",
   "metadata": {},
   "outputs": [
    {
     "name": "stdout",
     "output_type": "stream",
     "text": [
      "<map object at 0x7f9a2922c730>\n"
     ]
    },
    {
     "data": {
      "text/plain": [
       "<map at 0x7f9a2923b850>"
      ]
     },
     "execution_count": 9,
     "metadata": {},
     "output_type": "execute_result"
    }
   ],
   "source": [
    "a = [10,20,30]\n",
    "b = [1,2,3]\n",
    "print(map(lambda x: x**2, a))\n",
    "map(pow,a,b)"
   ]
  },
  {
   "cell_type": "code",
   "execution_count": 12,
   "id": "a569e6b0-fc22-4a90-aea8-3dc39be514d4",
   "metadata": {},
   "outputs": [
    {
     "name": "stdout",
     "output_type": "stream",
     "text": [
      "<filter object at 0x7f9a2922c940>\n"
     ]
    }
   ],
   "source": [
    "a = [10,20,30,40,50]\n",
    "b = filter(lambda x:x>10,a)\n",
    "print(b)"
   ]
  },
  {
   "cell_type": "code",
   "execution_count": null,
   "id": "6d40c00d-cdee-4dc3-bf06-121cc1bd19ef",
   "metadata": {},
   "outputs": [],
   "source": []
  }
 ],
 "metadata": {
  "kernelspec": {
   "display_name": "Python 3 (ipykernel)",
   "language": "python",
   "name": "python3"
  },
  "language_info": {
   "codemirror_mode": {
    "name": "ipython",
    "version": 3
   },
   "file_extension": ".py",
   "mimetype": "text/x-python",
   "name": "python",
   "nbconvert_exporter": "python",
   "pygments_lexer": "ipython3",
   "version": "3.9.13"
  }
 },
 "nbformat": 4,
 "nbformat_minor": 5
}
