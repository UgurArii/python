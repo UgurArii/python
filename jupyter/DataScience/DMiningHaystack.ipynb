{
 "cells": [
  {
   "cell_type": "code",
   "execution_count": 1,
   "id": "c50a9b9f-7666-4ddf-b7eb-e070ca509d59",
   "metadata": {},
   "outputs": [],
   "source": [
    "#distance measures\n",
    "import numpy as np"
   ]
  },
  {
   "cell_type": "code",
   "execution_count": 6,
   "id": "23e5e8c6-1861-4918-bda4-c50c7d88d079",
   "metadata": {},
   "outputs": [
    {
     "name": "stdout",
     "output_type": "stream",
     "text": [
      "0.0\n",
      "0.0\n",
      "0.0\n",
      "cosine distance\n",
      "0.7071067811865475\n",
      "0.0\n"
     ]
    },
    {
     "ename": "NameError",
     "evalue": "name 'char2' is not defined",
     "output_type": "error",
     "traceback": [
      "\u001b[0;31m---------------------------------------------------------------------------\u001b[0m",
      "\u001b[0;31mNameError\u001b[0m                                 Traceback (most recent call last)",
      "\u001b[0;32m/tmp/ipykernel_4497/2858757590.py\u001b[0m in \u001b[0;36m<module>\u001b[0;34m\u001b[0m\n\u001b[1;32m     62\u001b[0m     \u001b[0mx\u001b[0m \u001b[0;34m=\u001b[0m\u001b[0;34m[\u001b[0m\u001b[0;36m11001\u001b[0m\u001b[0;34m]\u001b[0m\u001b[0;34m\u001b[0m\u001b[0;34m\u001b[0m\u001b[0m\n\u001b[1;32m     63\u001b[0m     \u001b[0my\u001b[0m \u001b[0;34m=\u001b[0m\u001b[0;34m[\u001b[0m\u001b[0;36m11011\u001b[0m\u001b[0;34m]\u001b[0m\u001b[0;34m\u001b[0m\u001b[0;34m\u001b[0m\u001b[0m\n\u001b[0;32m---> 64\u001b[0;31m     \u001b[0mprint\u001b[0m\u001b[0;34m(\u001b[0m\u001b[0mhamming_distance\u001b[0m\u001b[0;34m(\u001b[0m\u001b[0mx\u001b[0m\u001b[0;34m,\u001b[0m\u001b[0my\u001b[0m\u001b[0;34m)\u001b[0m\u001b[0;34m)\u001b[0m\u001b[0;34m\u001b[0m\u001b[0;34m\u001b[0m\u001b[0m\n\u001b[0m",
      "\u001b[0;32m/tmp/ipykernel_4497/2858757590.py\u001b[0m in \u001b[0;36mhamming_distance\u001b[0;34m(x, y)\u001b[0m\n\u001b[1;32m     29\u001b[0m     \u001b[0;32mif\u001b[0m \u001b[0mlen\u001b[0m\u001b[0;34m(\u001b[0m\u001b[0mx\u001b[0m\u001b[0;34m)\u001b[0m \u001b[0;34m==\u001b[0m \u001b[0mlen\u001b[0m\u001b[0;34m(\u001b[0m\u001b[0my\u001b[0m\u001b[0;34m)\u001b[0m\u001b[0;34m:\u001b[0m\u001b[0;34m\u001b[0m\u001b[0;34m\u001b[0m\u001b[0m\n\u001b[1;32m     30\u001b[0m         \u001b[0;32mfor\u001b[0m \u001b[0mchar1\u001b[0m\u001b[0;34m,\u001b[0m \u001b[0mchart2\u001b[0m \u001b[0;32min\u001b[0m \u001b[0mzip\u001b[0m\u001b[0;34m(\u001b[0m\u001b[0mx\u001b[0m\u001b[0;34m,\u001b[0m\u001b[0my\u001b[0m\u001b[0;34m)\u001b[0m\u001b[0;34m:\u001b[0m\u001b[0;34m\u001b[0m\u001b[0;34m\u001b[0m\u001b[0m\n\u001b[0;32m---> 31\u001b[0;31m             \u001b[0;32mif\u001b[0m \u001b[0mchar1\u001b[0m \u001b[0;34m!=\u001b[0m \u001b[0mchar2\u001b[0m\u001b[0;34m:\u001b[0m\u001b[0;34m\u001b[0m\u001b[0;34m\u001b[0m\u001b[0m\n\u001b[0m\u001b[1;32m     32\u001b[0m                 \u001b[0mdiff\u001b[0m\u001b[0;34m+=\u001b[0m\u001b[0;36m1\u001b[0m\u001b[0;34m\u001b[0m\u001b[0;34m\u001b[0m\u001b[0m\n\u001b[1;32m     33\u001b[0m         \u001b[0;32mreturn\u001b[0m \u001b[0mdiff\u001b[0m\u001b[0;34m\u001b[0m\u001b[0;34m\u001b[0m\u001b[0m\n",
      "\u001b[0;31mNameError\u001b[0m: name 'char2' is not defined"
     ]
    }
   ],
   "source": [
    "def euclidean_distance(x, y):\n",
    "    if len(x) == len(y):\n",
    "        return np.sqrt(np.sum(np.power((x-y),2)))\n",
    "    else:\n",
    "        print('Input should be of equal length')\n",
    "    return None\n",
    "\n",
    "def lrNorm_distance(x,y,power):\n",
    "    if len(x) == len(y):\n",
    "        return np.power(np.sum (np.power((x-y),power)),(1/(1.0*power)))\n",
    "    else:\n",
    "        print(\"Input should be of equal length\")\n",
    "    return None\n",
    "\n",
    "def cosine_distance(x, y):\n",
    "    if len(x) == len(y):\n",
    "        return np.dot(x,y)/np.sqrt(np.dot(x,x)*np.dot(y,y))\n",
    "    else:\n",
    "        print('Input should be of equal length')\n",
    "    return None\n",
    "\n",
    "def jaccard_distance(x,y):\n",
    "    set_x = set(x)\n",
    "    set_y = set(y)\n",
    "    return 1-len(set_x.intersection(set_y))/len(set_x.union(set_y))\n",
    "\n",
    "def hamming_distance(x,y):\n",
    "    diff = 0\n",
    "    if len(x) == len(y):\n",
    "        for char1, chart2 in zip(x,y):\n",
    "            if char1 != char2:\n",
    "                diff+=1\n",
    "        return diff\n",
    "    else:\n",
    "        print('Input should be of equal length')\n",
    "    return None\n",
    "\n",
    "if __name__ == \"__main__\":\n",
    "    #Sample data, 2 vectors of dimension 3\n",
    "    x = np.array([1,2,3])\n",
    "    y = np.array([1,2,3])\n",
    "    \n",
    "    #print euclidean distance\n",
    "    print(euclidean_distance(x,y))\n",
    "    #Print euclidean by invoking lr norm with r value of 2\n",
    "    print(lrNorm_distance(x, y, 2))\n",
    "    #Manhattan or citi_block distance\n",
    "    print(lrNorm_distance(x, y, 1))\n",
    "    \n",
    "    #Sample data for cosine distance\n",
    "    x = [1,1]\n",
    "    y = [1,0]\n",
    "    print('cosine distance')\n",
    "    print(cosine_distance(x,y))\n",
    "    \n",
    "    # Sample data for jaccard distance\n",
    "    x = [1,2,3]\n",
    "    y = [1,2,3]\n",
    "    print(jaccard_distance(x,y))\n",
    "    \n",
    "    # Sample data for hamming distance\n",
    "    x =[11001]\n",
    "    y =[11011]\n",
    "    print(hamming_distance(x,y))"
   ]
  },
  {
   "cell_type": "code",
   "execution_count": null,
   "id": "cae011f9-e0f0-49b0-929b-c1b7f2217366",
   "metadata": {},
   "outputs": [],
   "source": []
  },
  {
   "cell_type": "code",
   "execution_count": null,
   "id": "8eb0035f-491c-4f1e-8a4c-7e2a486209c2",
   "metadata": {},
   "outputs": [],
   "source": []
  }
 ],
 "metadata": {
  "kernelspec": {
   "display_name": "Python 3 (ipykernel)",
   "language": "python",
   "name": "python3"
  },
  "language_info": {
   "codemirror_mode": {
    "name": "ipython",
    "version": 3
   },
   "file_extension": ".py",
   "mimetype": "text/x-python",
   "name": "python",
   "nbconvert_exporter": "python",
   "pygments_lexer": "ipython3",
   "version": "3.9.13"
  }
 },
 "nbformat": 4,
 "nbformat_minor": 5
}
