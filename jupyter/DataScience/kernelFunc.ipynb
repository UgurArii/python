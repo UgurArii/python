{
 "cells": [
  {
   "cell_type": "code",
   "execution_count": null,
   "id": "35cc2e89-0af4-47d6-9d49-5bb8fc98d16d",
   "metadata": {},
   "outputs": [],
   "source": [
    "import numpy as np\n",
    "# Simple example to illustrate Kernel Function concept.\n",
    "# 3 Dimensional input space\n",
    "x = "
   ]
  }
 ],
 "metadata": {
  "kernelspec": {
   "display_name": "Python 3 (ipykernel)",
   "language": "python",
   "name": "python3"
  },
  "language_info": {
   "codemirror_mode": {
    "name": "ipython",
    "version": 3
   },
   "file_extension": ".py",
   "mimetype": "text/x-python",
   "name": "python",
   "nbconvert_exporter": "python",
   "pygments_lexer": "ipython3",
   "version": "3.9.13"
  }
 },
 "nbformat": 4,
 "nbformat_minor": 5
}
