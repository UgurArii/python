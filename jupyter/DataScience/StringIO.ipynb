{
 "cells": [
  {
   "cell_type": "code",
   "execution_count": 3,
   "id": "6910d4e2-1b1f-467a-8697-8778638fee61",
   "metadata": {},
   "outputs": [
    {
     "data": {
      "text/plain": [
       "array([[10, 20, 30],\n",
       "       [56, 89, 90],\n",
       "       [33, 46, 89]])"
      ]
     },
     "execution_count": 3,
     "metadata": {},
     "output_type": "execute_result"
    }
   ],
   "source": [
    "import numpy as np\n",
    "from io import StringIO\n",
    "\n",
    "in_data = StringIO(\"10,20,30\\n56,89,90\\n33,46,89\")\n",
    "\n",
    "#Read the input using numpyâ€TMs genfromtext to create a nummpy array.\n",
    "data = np.genfromtxt(in_data, dtype=int, delimiter=\",\")\n",
    "data"
   ]
  },
  {
   "cell_type": "code",
   "execution_count": 4,
   "id": "943fa7e0-eb45-43db-a32f-0ac35ff1d375",
   "metadata": {},
   "outputs": [
    {
     "data": {
      "text/plain": [
       "array([[10, 20],\n",
       "       [56, 89],\n",
       "       [33, 46]])"
      ]
     },
     "execution_count": 4,
     "metadata": {},
     "output_type": "execute_result"
    }
   ],
   "source": [
    "# cases where we may not need to use some columns.\n",
    "in_data = StringIO(\"10,20,30\\n56,89,90\\n33,46,89\")\n",
    "data = np.genfromtxt(in_data,dtype=int,delimiter=\",\",usecols=(0,1))\n",
    "data"
   ]
  },
  {
   "cell_type": "code",
   "execution_count": 5,
   "id": "49253383-ddc9-475d-9eeb-18c2eec87552",
   "metadata": {},
   "outputs": [
    {
     "data": {
      "text/plain": [
       "array([(10, 20, 30), (56, 89, 90), (33, 46, 89)],\n",
       "      dtype=[('a', '<i8'), ('b', '<i8'), ('c', '<i8')])"
      ]
     },
     "execution_count": 5,
     "metadata": {},
     "output_type": "execute_result"
    }
   ],
   "source": [
    "# providing column names\n",
    "in_data = StringIO(\"10,20,30\\n56,89,90\\n33,46,89\")\n",
    "data = np.genfromtxt(in_data,dtype=int,delimiter=\",\",names=\"a,b,c\")\n",
    "data"
   ]
  },
  {
   "cell_type": "code",
   "execution_count": 6,
   "id": "7a7671f7-626c-41f3-b515-79ef79570212",
   "metadata": {},
   "outputs": [
    {
     "data": {
      "text/plain": [
       "array([(10, 20, 30), (56, 89, 90), (33, 46, 89)],\n",
       "      dtype=[('a', '<i8'), ('b', '<i8'), ('c', '<i8')])"
      ]
     },
     "execution_count": 6,
     "metadata": {},
     "output_type": "execute_result"
    }
   ],
   "source": [
    "# using column names from data\n",
    "in_data = StringIO(\"a,b,c\\n10,20,30\\n56,89,90\\n33,46,89\")\n",
    "data = np.genfromtxt(in_data,dtype=int,delimiter=\",\",names=True)\n",
    "data"
   ]
  },
  {
   "cell_type": "code",
   "execution_count": 7,
   "id": "fd910844-dee6-44aa-8d98-6ea83837d576",
   "metadata": {},
   "outputs": [
    {
     "data": {
      "text/plain": [
       "array([[  nan,   nan, 31.11, 56.33,  1.  ],\n",
       "       [  nan,   nan, 12.  , 16.7 ,  2.  ]])"
      ]
     },
     "execution_count": 7,
     "metadata": {},
     "output_type": "execute_result"
    }
   ],
   "source": [
    "in_data = StringIO(\"30kg,inr2000,31.11,56.33,1\\n52kg,inr8000.35,12,16.7,2\")\n",
    "data = np.genfromtxt(in_data,delimiter=\",\")\n",
    "data"
   ]
  },
  {
   "cell_type": "code",
   "execution_count": null,
   "id": "677db007-0384-4f5a-a9ea-bee2fc679fd2",
   "metadata": {},
   "outputs": [],
   "source": []
  },
  {
   "cell_type": "code",
   "execution_count": null,
   "id": "f6619b98-83fb-4374-ba21-555a4aefd775",
   "metadata": {},
   "outputs": [],
   "source": []
  }
 ],
 "metadata": {
  "kernelspec": {
   "display_name": "Python 3 (ipykernel)",
   "language": "python",
   "name": "python3"
  },
  "language_info": {
   "codemirror_mode": {
    "name": "ipython",
    "version": 3
   },
   "file_extension": ".py",
   "mimetype": "text/x-python",
   "name": "python",
   "nbconvert_exporter": "python",
   "pygments_lexer": "ipython3",
   "version": "3.9.13"
  }
 },
 "nbformat": 4,
 "nbformat_minor": 5
}
