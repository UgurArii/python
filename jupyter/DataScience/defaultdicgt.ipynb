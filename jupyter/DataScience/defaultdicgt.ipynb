{
 "cells": [
  {
   "cell_type": "code",
   "execution_count": 2,
   "id": "0318c29f-45d5-45bf-8057-44bdc65e098c",
   "metadata": {},
   "outputs": [
    {
     "name": "stdout",
     "output_type": "stream",
     "text": [
      "defaultdict(<class 'int'>, {'Peter': 1})\n",
      "defaultdict(<class 'int'>, {'Peter': 1, 'Piper': 1})\n",
      "defaultdict(<class 'int'>, {'Peter': 1, 'Piper': 1, 'picked': 1})\n",
      "defaultdict(<class 'int'>, {'Peter': 1, 'Piper': 1, 'picked': 1, 'a': 1})\n",
      "defaultdict(<class 'int'>, {'Peter': 1, 'Piper': 1, 'picked': 1, 'a': 1, 'peck': 1})\n",
      "defaultdict(<class 'int'>, {'Peter': 1, 'Piper': 1, 'picked': 1, 'a': 1, 'peck': 1, 'of': 1})\n",
      "defaultdict(<class 'int'>, {'Peter': 1, 'Piper': 1, 'picked': 1, 'a': 1, 'peck': 1, 'of': 1, 'pickled': 1})\n",
      "defaultdict(<class 'int'>, {'Peter': 1, 'Piper': 1, 'picked': 1, 'a': 1, 'peck': 1, 'of': 1, 'pickled': 1, 'peppers': 1})\n",
      "defaultdict(<class 'int'>, {'Peter': 1, 'Piper': 1, 'picked': 1, 'a': 1, 'peck': 1, 'of': 1, 'pickled': 1, 'peppers': 1, 'A': 1})\n",
      "defaultdict(<class 'int'>, {'Peter': 1, 'Piper': 1, 'picked': 1, 'a': 1, 'peck': 2, 'of': 1, 'pickled': 1, 'peppers': 1, 'A': 1})\n",
      "defaultdict(<class 'int'>, {'Peter': 1, 'Piper': 1, 'picked': 1, 'a': 1, 'peck': 2, 'of': 2, 'pickled': 1, 'peppers': 1, 'A': 1})\n",
      "defaultdict(<class 'int'>, {'Peter': 1, 'Piper': 1, 'picked': 1, 'a': 1, 'peck': 2, 'of': 2, 'pickled': 2, 'peppers': 1, 'A': 1})\n",
      "defaultdict(<class 'int'>, {'Peter': 1, 'Piper': 1, 'picked': 1, 'a': 1, 'peck': 2, 'of': 2, 'pickled': 2, 'peppers': 2, 'A': 1})\n",
      "defaultdict(<class 'int'>, {'Peter': 2, 'Piper': 1, 'picked': 1, 'a': 1, 'peck': 2, 'of': 2, 'pickled': 2, 'peppers': 2, 'A': 1})\n",
      "defaultdict(<class 'int'>, {'Peter': 2, 'Piper': 2, 'picked': 1, 'a': 1, 'peck': 2, 'of': 2, 'pickled': 2, 'peppers': 2, 'A': 1})\n",
      "defaultdict(<class 'int'>, {'Peter': 2, 'Piper': 2, 'picked': 2, 'a': 1, 'peck': 2, 'of': 2, 'pickled': 2, 'peppers': 2, 'A': 1})\n",
      "defaultdict(<class 'int'>, {'Peter': 2, 'Piper': 2, 'picked': 2, 'a': 1, 'peck': 2, 'of': 2, 'pickled': 2, 'peppers': 2, 'A': 1, 'If': 1})\n",
      "defaultdict(<class 'int'>, {'Peter': 3, 'Piper': 2, 'picked': 2, 'a': 1, 'peck': 2, 'of': 2, 'pickled': 2, 'peppers': 2, 'A': 1, 'If': 1})\n",
      "defaultdict(<class 'int'>, {'Peter': 3, 'Piper': 3, 'picked': 2, 'a': 1, 'peck': 2, 'of': 2, 'pickled': 2, 'peppers': 2, 'A': 1, 'If': 1})\n",
      "defaultdict(<class 'int'>, {'Peter': 3, 'Piper': 3, 'picked': 3, 'a': 1, 'peck': 2, 'of': 2, 'pickled': 2, 'peppers': 2, 'A': 1, 'If': 1})\n",
      "defaultdict(<class 'int'>, {'Peter': 3, 'Piper': 3, 'picked': 3, 'a': 2, 'peck': 2, 'of': 2, 'pickled': 2, 'peppers': 2, 'A': 1, 'If': 1})\n",
      "defaultdict(<class 'int'>, {'Peter': 3, 'Piper': 3, 'picked': 3, 'a': 2, 'peck': 3, 'of': 2, 'pickled': 2, 'peppers': 2, 'A': 1, 'If': 1})\n",
      "defaultdict(<class 'int'>, {'Peter': 3, 'Piper': 3, 'picked': 3, 'a': 2, 'peck': 3, 'of': 2, 'pickled': 2, 'peppers': 2, 'A': 1, 'If': 1, 'ofpickled': 1})\n",
      "defaultdict(<class 'int'>, {'Peter': 3, 'Piper': 3, 'picked': 3, 'a': 2, 'peck': 3, 'of': 2, 'pickled': 2, 'peppers': 3, 'A': 1, 'If': 1, 'ofpickled': 1})\n",
      "defaultdict(<class 'int'>, {'Peter': 3, 'Piper': 3, 'picked': 3, 'a': 2, 'peck': 3, 'of': 2, 'pickled': 2, 'peppers': 3, 'A': 1, 'If': 1, 'ofpickled': 1, 'Wheres': 1})\n",
      "defaultdict(<class 'int'>, {'Peter': 3, 'Piper': 3, 'picked': 3, 'a': 2, 'peck': 3, 'of': 2, 'pickled': 2, 'peppers': 3, 'A': 1, 'If': 1, 'ofpickled': 1, 'Wheres': 1, 'the': 1})\n",
      "defaultdict(<class 'int'>, {'Peter': 3, 'Piper': 3, 'picked': 3, 'a': 2, 'peck': 4, 'of': 2, 'pickled': 2, 'peppers': 3, 'A': 1, 'If': 1, 'ofpickled': 1, 'Wheres': 1, 'the': 1})\n",
      "defaultdict(<class 'int'>, {'Peter': 3, 'Piper': 3, 'picked': 3, 'a': 2, 'peck': 4, 'of': 3, 'pickled': 2, 'peppers': 3, 'A': 1, 'If': 1, 'ofpickled': 1, 'Wheres': 1, 'the': 1})\n",
      "defaultdict(<class 'int'>, {'Peter': 3, 'Piper': 3, 'picked': 3, 'a': 2, 'peck': 4, 'of': 3, 'pickled': 3, 'peppers': 3, 'A': 1, 'If': 1, 'ofpickled': 1, 'Wheres': 1, 'the': 1})\n",
      "defaultdict(<class 'int'>, {'Peter': 3, 'Piper': 3, 'picked': 3, 'a': 2, 'peck': 4, 'of': 3, 'pickled': 3, 'peppers': 4, 'A': 1, 'If': 1, 'ofpickled': 1, 'Wheres': 1, 'the': 1})\n",
      "defaultdict(<class 'int'>, {'Peter': 4, 'Piper': 3, 'picked': 3, 'a': 2, 'peck': 4, 'of': 3, 'pickled': 3, 'peppers': 4, 'A': 1, 'If': 1, 'ofpickled': 1, 'Wheres': 1, 'the': 1})\n",
      "defaultdict(<class 'int'>, {'Peter': 4, 'Piper': 4, 'picked': 3, 'a': 2, 'peck': 4, 'of': 3, 'pickled': 3, 'peppers': 4, 'A': 1, 'If': 1, 'ofpickled': 1, 'Wheres': 1, 'the': 1})\n",
      "defaultdict(<class 'int'>, {'Peter': 4, 'Piper': 4, 'picked': 4, 'a': 2, 'peck': 4, 'of': 3, 'pickled': 3, 'peppers': 4, 'A': 1, 'If': 1, 'ofpickled': 1, 'Wheres': 1, 'the': 1})\n"
     ]
    }
   ],
   "source": [
    "from collections import defaultdict\n",
    "sentence = \"Peter Piper picked a peck of pickled peppers A peck of pickled peppers Peter Piper picked If Peter Piper picked a peck ofpickled peppers Wheres the peck of pickled peppers Peter Piper picked\"\n",
    "word_dict = defaultdict(int)\n",
    "\n",
    "for word in sentence.split():\n",
    "    word_dict[word] +=1\n",
    "    print(word_dict)"
   ]
  },
  {
   "cell_type": "code",
   "execution_count": 6,
   "id": "afe4b1e1-55fa-4e51-ba03-63755efb13d0",
   "metadata": {},
   "outputs": [
    {
     "name": "stdout",
     "output_type": "stream",
     "text": [
      "4\n",
      "defaultdict(<class 'int'>, {'Peter': 4, 'Piper': 4, 'picked': 4, 'a': 2, 'peck': 4, 'of': 3, 'pickled': 3, 'peppers': 4, 'A': 1, 'If': 1, 'ofpickled': 1, 'Wheres': 1, 'the': 1})\n"
     ]
    }
   ],
   "source": [
    "from collections import Counter\n",
    "words = sentence.split()\n",
    "word_count = Counter(words)\n",
    "\n",
    "print(word_count['Peter'])\n",
    "print(word_dict)"
   ]
  },
  {
   "cell_type": "code",
   "execution_count": null,
   "id": "536d8367-7209-48da-9903-1da0f2d8ce89",
   "metadata": {},
   "outputs": [],
   "source": []
  }
 ],
 "metadata": {
  "kernelspec": {
   "display_name": "Python 3 (ipykernel)",
   "language": "python",
   "name": "python3"
  },
  "language_info": {
   "codemirror_mode": {
    "name": "ipython",
    "version": 3
   },
   "file_extension": ".py",
   "mimetype": "text/x-python",
   "name": "python",
   "nbconvert_exporter": "python",
   "pygments_lexer": "ipython3",
   "version": "3.9.13"
  }
 },
 "nbformat": 4,
 "nbformat_minor": 5
}
