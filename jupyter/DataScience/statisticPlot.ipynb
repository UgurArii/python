{
 "cells": [
  {
   "cell_type": "code",
   "execution_count": 1,
   "id": "2b302a44-ac5f-45ef-8e4c-639711439b72",
   "metadata": {},
   "outputs": [],
   "source": [
    "# Load Libraries\n",
    "from sklearn.datasets import load_iris\n",
    "import numpy as np\n",
    "from scipy.stats import trim_mean"
   ]
  },
  {
   "cell_type": "code",
   "execution_count": 2,
   "id": "a62918b5-0ca6-4e4d-af89-dad89aa6ff8c",
   "metadata": {},
   "outputs": [
    {
     "name": "stdout",
     "output_type": "stream",
     "text": [
      "col name, mean value\n",
      "sepal length (cm), 5.84\n",
      "sepal width (cm), 3.06\n",
      "petal length (cm), 3.76\n",
      "petal width (cm), 1.20\n",
      "\n",
      "\n",
      "col name, trimmed mean value\n",
      "sepal length (cm), 5.81\n",
      "sepal width (cm), 3.04\n",
      "petal length (cm), 3.76\n",
      "petal width (cm), 1.18\n",
      "('petal width (cm)', 2.5, 0.1, 2.4)\n",
      "\n",
      "col_names, variance, std-dev\n",
      "sepal length (cm),0.68,0.83\n",
      "sepal width (cm),0.19,0.43\n",
      "petal length (cm),3.10,1.76\n",
      "petal width (cm),0.58,0.76\n",
      "\n",
      "sepal length (cm),0.69\n",
      "sepal width (cm),0.34\n",
      "petal length (cm),1.56\n",
      "petal width (cm),0.66\n",
      "\n",
      "col_names,median,median abs dev,inter quartile range\n",
      "sepal length (cm),5.80,0.70,5.30\n",
      "sepal width (cm),3.00,0.30,2.20\n",
      "petal length (cm),4.35,1.25,4.07\n",
      "petal width (cm),1.30,0.70,0.62\n",
      "\n"
     ]
    }
   ],
   "source": [
    "#load iris data\n",
    "data = load_iris()\n",
    "x = data['data']\n",
    "y = data['target']\n",
    "col_names = data['feature_names']\n",
    "\n",
    "# 1.Calculate and print the mean value of each column in the Iris dataset\n",
    "print(\"col name, mean value\")\n",
    "for i, col_name in enumerate(col_names):\n",
    "    print(\"%s, %0.2f\" %(col_name, np.mean(x[:,i])))\n",
    "print()\n",
    "\n",
    "#2. Trimmed mean calculation.\n",
    "p = 0.1 #10% trimmed mean\n",
    "print()\n",
    "print(\"col name, trimmed mean value\")\n",
    "for i, col_name in enumerate(col_names):\n",
    "    print(\"%s, %0.2f\"%(col_name, trim_mean(x[:,i],p)))\n",
    "print((col_name, max(x[:,i]), min(x[:,i]), max(x[:,i])-min(x[:,i])))\n",
    "print()\n",
    "# 4.Data dispersion, variance and standard deviation\n",
    "print(\"col_names, variance, std-dev\")\n",
    "for i, col_name in enumerate(col_names):\n",
    "    print(\"%s,%0.2f,%0.2f\"%(col_name,np.var(x[:,i]),np.std(x[:,i])))\n",
    "print()\n",
    "\n",
    "# 5.Mean absolute deviation calculation\n",
    "def mad(x,axis=None):\n",
    "    mean = np.mean(x,axis=axis)\n",
    "    return np.sum(np.abs(x-mean))/(1.0 * len(x))\n",
    "\n",
    "for i, col_name in enumerate(col_names):\n",
    "    print(\"%s,%0.2f\"%(col_name,mad(x[:,i])))\n",
    "print()\n",
    "\n",
    "# 6.Median absolute deviation calculation\n",
    "def mdad(x,axis=None):\n",
    "    median = np.median(x,axis=axis)\n",
    "    return np.median(np.abs(x-median))\n",
    "print(\"col_names,median,median abs dev,inter quartile range\")\n",
    "for i,col_name in enumerate(col_names):\n",
    "    iqr = np.percentile(x[:,i],75) - np.percentile(x[i,:],25)\n",
    "    print(\"%s,%0.2f,%0.2f,%0.2f\"%(col_name,np.median(x[:,i]),\n",
    "mdad(x[:,i]),iqr))\n",
    "print()\n"
   ]
  },
  {
   "cell_type": "code",
   "execution_count": null,
   "id": "985ce343-2d8b-4f66-9558-e96c9a47d8f3",
   "metadata": {},
   "outputs": [],
   "source": []
  },
  {
   "cell_type": "code",
   "execution_count": null,
   "id": "fa74603c-09b5-4185-a335-53106858097a",
   "metadata": {},
   "outputs": [],
   "source": []
  }
 ],
 "metadata": {
  "kernelspec": {
   "display_name": "Python 3 (ipykernel)",
   "language": "python",
   "name": "python3"
  },
  "language_info": {
   "codemirror_mode": {
    "name": "ipython",
    "version": 3
   },
   "file_extension": ".py",
   "mimetype": "text/x-python",
   "name": "python",
   "nbconvert_exporter": "python",
   "pygments_lexer": "ipython3",
   "version": "3.9.13"
  }
 },
 "nbformat": 4,
 "nbformat_minor": 5
}
