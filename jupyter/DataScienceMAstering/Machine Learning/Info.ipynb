{
 "cells": [
  {
   "cell_type": "markdown",
   "id": "36dc7fc7-2c2c-46c7-a629-1923e8c41456",
   "metadata": {},
   "source": [
    "Unsupervised learning\n",
    "1. The k-means clustering\n",
    "2. Hierarchical clustering\n",
    "\n",
    "Reinforcement learning\n",
    "1. Temporal difference learning\n",
    "2. Q learning\n",
    "\n",
    "Decision trees\n",
    "\n",
    "Linear regression\n",
    "\n",
    "Logistic regression\n",
    "The naive Bayes classifier\n",
    "The k-means clustering\n",
    "Hierarchical clustering\n",
    "• Agglomerative hierarchical clustering: This is a bottom-up method where each observation starts in its own cluster and two other clusters as they go up a hierarchy\n",
    "• Divisive hierarchical clustering: This is a top-down approach where observations start off in a single cluster and then they are split into two as they go down a hierarchy"
   ]
  }
 ],
 "metadata": {
  "kernelspec": {
   "display_name": "Python 3 (ipykernel)",
   "language": "python",
   "name": "python3"
  },
  "language_info": {
   "codemirror_mode": {
    "name": "ipython",
    "version": 3
   },
   "file_extension": ".py",
   "mimetype": "text/x-python",
   "name": "python",
   "nbconvert_exporter": "python",
   "pygments_lexer": "ipython3",
   "version": "3.9.13"
  }
 },
 "nbformat": 4,
 "nbformat_minor": 5
}
