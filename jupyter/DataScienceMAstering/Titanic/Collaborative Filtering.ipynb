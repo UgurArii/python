{
 "cells": [
  {
   "cell_type": "code",
   "execution_count": 31,
   "id": "7f009380-dd07-4bdf-9ec4-c3788e7f2cac",
   "metadata": {},
   "outputs": [],
   "source": [
    "import pandas as pd\n",
    "import numpy as np\n",
    "import matplotlib.pyplot as plt\n",
    "import math\n",
    "from scipy.stats.stats import pearsonr"
   ]
  },
  {
   "cell_type": "code",
   "execution_count": 9,
   "id": "ce2ebf82-d6dd-4935-aab1-d2ab97915d3a",
   "metadata": {},
   "outputs": [
    {
     "data": {
      "text/plain": [
       "7.0"
      ]
     },
     "execution_count": 9,
     "metadata": {},
     "output_type": "execute_result"
    }
   ],
   "source": [
    "#Recommendation data\n",
    "movie_user_preferences={'Jill': {'Avenger: Age of Ultron': 7.0,\n",
    "'Django Unchained': 6.5,\n",
    "'Gone Girl': 9.0,\n",
    "'Kill the Messenger': 8.0},\n",
    "'Julia': {'Avenger: Age of Ultron': 10.0,\n",
    "'Django Unchained': 6.0,\n",
    "'Gone Girl': 6.5,\n",
    "'Kill the Messenger': 6.0,\n",
    "'Zoolander': 6.5},\n",
    "'Max': {'Avenger: Age of Ultron': 7.0,\n",
    "'Django Unchained': 7.0,\n",
    "'Gone Girl': 10.0,\n",
    "'Horrible Bosses 2': 6.0,\n",
    "'Kill the Messenger': 5.0,\n",
    "'Zoolander': 10.0},\n",
    "'Robert': {'Avenger: Age of Ultron': 8.0,\n",
    "'Django Unchained': 7.0,\n",
    "'Horrible Bosses 2': 5.0,\n",
    "'Kill the Messenger': 9.0,\n",
    "'Zoolander': 9.0},\n",
    "'Sam': {'Avenger: Age of Ultron': 10.0,\n",
    "'Django Unchained': 7.5,\n",
    "'Gone Girl': 6.0,\n",
    "'Horrible Bosses 2': 3.0,\n",
    "'Kill the Messenger': 5.5,\n",
    "'Zoolander': 7.0},\n",
    "'Toby': {'Avenger: Age of Ultron': 8.5,\n",
    "'Django Unchained': 9.0,\n",
    "'Zoolander': 2.0},\n",
    "'William': {'Avenger: Age of Ultron': 6.0,\n",
    "'Django Unchained': 8.0,\n",
    "'Gone Girl': 7.0,\n",
    "'Horrible Bosses 2': 4.0,\n",
    "'Kill the Messenger': 6.5,\n",
    "'Zoolander': 4.0}}\n",
    "movie_user_preferences['William']['Gone Girl']"
   ]
  },
  {
   "cell_type": "markdown",
   "id": "e8a47490-da52-4436-ac1c-dee94cb3e542",
   "metadata": {},
   "source": [
    "We'll create a DataFrame that contains the user , django , and avenger columns,\n",
    "where django and avenger contain the ratings given by the user"
   ]
  },
  {
   "cell_type": "code",
   "execution_count": 10,
   "id": "fc264b27-054f-4bf1-b898-3a53aa59e3b4",
   "metadata": {},
   "outputs": [
    {
     "data": {
      "text/html": [
       "<div>\n",
       "<style scoped>\n",
       "    .dataframe tbody tr th:only-of-type {\n",
       "        vertical-align: middle;\n",
       "    }\n",
       "\n",
       "    .dataframe tbody tr th {\n",
       "        vertical-align: top;\n",
       "    }\n",
       "\n",
       "    .dataframe thead th {\n",
       "        text-align: right;\n",
       "    }\n",
       "</style>\n",
       "<table border=\"1\" class=\"dataframe\">\n",
       "  <thead>\n",
       "    <tr style=\"text-align: right;\">\n",
       "      <th></th>\n",
       "      <th>user</th>\n",
       "      <th>django</th>\n",
       "      <th>avenger</th>\n",
       "    </tr>\n",
       "  </thead>\n",
       "  <tbody>\n",
       "    <tr>\n",
       "      <th>0</th>\n",
       "      <td>Jill</td>\n",
       "      <td>6.5</td>\n",
       "      <td>7.0</td>\n",
       "    </tr>\n",
       "    <tr>\n",
       "      <th>1</th>\n",
       "      <td>Julia</td>\n",
       "      <td>6.0</td>\n",
       "      <td>10.0</td>\n",
       "    </tr>\n",
       "    <tr>\n",
       "      <th>2</th>\n",
       "      <td>Max</td>\n",
       "      <td>7.0</td>\n",
       "      <td>7.0</td>\n",
       "    </tr>\n",
       "    <tr>\n",
       "      <th>3</th>\n",
       "      <td>Robert</td>\n",
       "      <td>7.0</td>\n",
       "      <td>8.0</td>\n",
       "    </tr>\n",
       "    <tr>\n",
       "      <th>4</th>\n",
       "      <td>Sam</td>\n",
       "      <td>7.5</td>\n",
       "      <td>10.0</td>\n",
       "    </tr>\n",
       "    <tr>\n",
       "      <th>5</th>\n",
       "      <td>Toby</td>\n",
       "      <td>9.0</td>\n",
       "      <td>8.5</td>\n",
       "    </tr>\n",
       "    <tr>\n",
       "      <th>6</th>\n",
       "      <td>William</td>\n",
       "      <td>8.0</td>\n",
       "      <td>6.0</td>\n",
       "    </tr>\n",
       "  </tbody>\n",
       "</table>\n",
       "</div>"
      ],
      "text/plain": [
       "      user  django  avenger\n",
       "0     Jill     6.5      7.0\n",
       "1    Julia     6.0     10.0\n",
       "2      Max     7.0      7.0\n",
       "3   Robert     7.0      8.0\n",
       "4      Sam     7.5     10.0\n",
       "5     Toby     9.0      8.5\n",
       "6  William     8.0      6.0"
      ]
     },
     "execution_count": 10,
     "metadata": {},
     "output_type": "execute_result"
    }
   ],
   "source": [
    "data = []\n",
    "for i in movie_user_preferences.keys():\n",
    "    try:\n",
    "        data.append( (i\n",
    "        ,movie_user_preferences[i]['Django Unchained']\n",
    "        ,movie_user_preferences[i]['Avenger: Age of Ultron']) )\n",
    "    except:\n",
    "        pass\n",
    "\n",
    "df = pd.DataFrame(data=data, columns = ['user','django','avenger'])\n",
    "df"
   ]
  },
  {
   "cell_type": "code",
   "execution_count": 11,
   "id": "395d0ef3-b615-4983-be87-e559304674fa",
   "metadata": {},
   "outputs": [
    {
     "data": {
      "image/png": "[encoded data removed]",
      "text/plain": [
       "<Figure size 640x480 with 1 Axes>"
      ]
     },
     "metadata": {},
     "output_type": "display_data"
    }
   ],
   "source": [
    "plt.scatter(df.django, df.avenger)\n",
    "plt.xlabel('Django')\n",
    "plt.ylabel('Avengers')\n",
    "for i, txt in enumerate(df.user):\n",
    "    plt.annotate(txt, (df.django[i], df.avenger[i]))\n",
    "plt.show()\n",
    "        "
   ]
  },
  {
   "cell_type": "code",
   "execution_count": 15,
   "id": "7c3db6a4-0c16-4062-87b7-8c9c5e4b59cf",
   "metadata": {},
   "outputs": [
    {
     "data": {
      "text/plain": [
       "2.9154759474226504"
      ]
     },
     "execution_count": 15,
     "metadata": {},
     "output_type": "execute_result"
    }
   ],
   "source": [
    "#Euclidean distance between Jill and Toby rating\n",
    "math.sqrt(pow(8.5-7,2) + pow(9-6.5,2))\n"
   ]
  },
  {
   "cell_type": "code",
   "execution_count": 16,
   "id": "58a4ba8e-e542-483a-bc03-73dc2d7b6232",
   "metadata": {},
   "outputs": [
    {
     "data": {
      "text/plain": [
       "1.0"
      ]
     },
     "execution_count": 16,
     "metadata": {},
     "output_type": "execute_result"
    }
   ],
   "source": [
    "#Euclidean distance between Jill and Toby rating\n",
    "math.sqrt(pow(8-7,2) + pow(7-7,2))\n"
   ]
  },
  {
   "cell_type": "code",
   "execution_count": 20,
   "id": "1c2c1c68-5c7e-4c71-b28a-f5ada46851be",
   "metadata": {},
   "outputs": [
    {
     "data": {
      "text/plain": [
       "0.2553967929896867"
      ]
     },
     "execution_count": 20,
     "metadata": {},
     "output_type": "execute_result"
    }
   ],
   "source": [
    "#Similarity Score based on Euclidean distance between Jill and Toby\n",
    "1/ (1 + math.sqrt(pow(8.5-7, 2) + pow(9-6.5,2)))"
   ]
  },
  {
   "cell_type": "code",
   "execution_count": 21,
   "id": "05bb3d90-1816-450d-91c9-da6fdaac6841",
   "metadata": {},
   "outputs": [
    {
     "data": {
      "text/plain": [
       "0.5"
      ]
     },
     "execution_count": 21,
     "metadata": {},
     "output_type": "execute_result"
    }
   ],
   "source": [
    "#Similarity Score based on Euclidean distance between Robert and Max\n",
    "1/(1 + math.sqrt(pow(8-7,2)+pow(7-7,2)) )"
   ]
  },
  {
   "cell_type": "code",
   "execution_count": 26,
   "id": "831192a6-aa66-4148-8adf-86bb3d64b051",
   "metadata": {},
   "outputs": [
    {
     "data": {
      "text/plain": [
       "0.03278688524590164"
      ]
     },
     "execution_count": 26,
     "metadata": {},
     "output_type": "execute_result"
    }
   ],
   "source": [
    "# Returns a distance-based similarity score for person1 and perso\n",
    "def sim_distance(prefs, person1, person2):\n",
    "    #Get the list of shared_items\n",
    "    si = {}\n",
    "    for item in prefs[person1]:\n",
    "        if item in prefs[person2]:\n",
    "            si[item]=1\n",
    "    # if they have no ratings in common, return 0\n",
    "    if len(si)==0: return 0\n",
    "    # Add up the squares of all the differences\n",
    "    sum_of_squares=sum([pow(prefs[person1][item] -\n",
    "                    prefs[person2][item],2) for item in prefs[person1] if item in prefs[person2]])\n",
    "    \n",
    "    return 1/(1+sum_of_squares)\n",
    "\n",
    "sim_distance(movie_user_preferences,'Sam','Toby')   \n",
    "                        \n",
    "                        \n",
    "                          "
   ]
  },
  {
   "cell_type": "code",
   "execution_count": 28,
   "id": "cd224e72-3062-4c6d-aea8-eaa4332a758c",
   "metadata": {},
   "outputs": [
    {
     "data": {
      "text/html": [
       "<div>\n",
       "<style scoped>\n",
       "    .dataframe tbody tr th:only-of-type {\n",
       "        vertical-align: middle;\n",
       "    }\n",
       "\n",
       "    .dataframe tbody tr th {\n",
       "        vertical-align: top;\n",
       "    }\n",
       "\n",
       "    .dataframe thead th {\n",
       "        text-align: right;\n",
       "    }\n",
       "</style>\n",
       "<table border=\"1\" class=\"dataframe\">\n",
       "  <thead>\n",
       "    <tr style=\"text-align: right;\">\n",
       "      <th></th>\n",
       "      <th>movie</th>\n",
       "      <th>Sam</th>\n",
       "      <th>William</th>\n",
       "    </tr>\n",
       "  </thead>\n",
       "  <tbody>\n",
       "    <tr>\n",
       "      <th>0</th>\n",
       "      <td>Avenger: Age of Ultron</td>\n",
       "      <td>10.0</td>\n",
       "      <td>6.0</td>\n",
       "    </tr>\n",
       "    <tr>\n",
       "      <th>1</th>\n",
       "      <td>Django Unchained</td>\n",
       "      <td>7.5</td>\n",
       "      <td>8.0</td>\n",
       "    </tr>\n",
       "    <tr>\n",
       "      <th>2</th>\n",
       "      <td>Gone Girl</td>\n",
       "      <td>6.0</td>\n",
       "      <td>7.0</td>\n",
       "    </tr>\n",
       "    <tr>\n",
       "      <th>3</th>\n",
       "      <td>Horrible Bosses 2</td>\n",
       "      <td>3.0</td>\n",
       "      <td>4.0</td>\n",
       "    </tr>\n",
       "    <tr>\n",
       "      <th>4</th>\n",
       "      <td>Kill the Messenger</td>\n",
       "      <td>5.5</td>\n",
       "      <td>6.5</td>\n",
       "    </tr>\n",
       "    <tr>\n",
       "      <th>5</th>\n",
       "      <td>Zoolander</td>\n",
       "      <td>7.0</td>\n",
       "      <td>4.0</td>\n",
       "    </tr>\n",
       "  </tbody>\n",
       "</table>\n",
       "</div>"
      ],
      "text/plain": [
       "                    movie   Sam  William\n",
       "0  Avenger: Age of Ultron  10.0      6.0\n",
       "1        Django Unchained   7.5      8.0\n",
       "2               Gone Girl   6.0      7.0\n",
       "3       Horrible Bosses 2   3.0      4.0\n",
       "4      Kill the Messenger   5.5      6.5\n",
       "5               Zoolander   7.0      4.0"
      ]
     },
     "execution_count": 28,
     "metadata": {},
     "output_type": "execute_result"
    }
   ],
   "source": [
    "#Let's see how Sam and Toby are correlated to each other:\n",
    "def create_movie_user_df(input_data, user1, user2):\n",
    "    data = []\n",
    "    for movie in input_data[user1].keys():\n",
    "        if movie in input_data[user2].keys():\n",
    "            try:\n",
    "                data.append((movie, input_data[user1][movie],\n",
    "                             input_data[user2][movie]))\n",
    "            except:\n",
    "                pass\n",
    "    return pd.DataFrame(data = data, columns = [\"movie\", user1, user2])\n",
    "\n",
    "df = create_movie_user_df(movie_user_preferences, 'Sam','William')\n",
    "df"
   ]
  },
  {
   "cell_type": "code",
   "execution_count": 29,
   "id": "8fb0c26d-0173-4048-a43c-ed58fb423cd8",
   "metadata": {},
   "outputs": [
    {
     "data": {
      "image/png": "[encoded data removed]",
      "text/plain": [
       "<Figure size 640x480 with 1 Axes>"
      ]
     },
     "metadata": {},
     "output_type": "display_data"
    }
   ],
   "source": [
    "#Once we have created the preceding DataFrame, we will plot the scatter plot as we did earlier:\n",
    "plt.scatter(df.Sam, df.William)\n",
    "plt.xlabel('Sam')\n",
    "plt.ylabel('William')\n",
    "for i, txt in enumerate(df.movie):\n",
    "    plt.annotate(txt, (df.Sam[i], df.William[i]))\n",
    "plt.show()\n"
   ]
  },
  {
   "cell_type": "code",
   "execution_count": 32,
   "id": "b4a0bf6d-c0f3-42ba-a7d4-c82cdb8076db",
   "metadata": {},
   "outputs": [
    {
     "data": {
      "text/plain": [
       "(0.3706740197017842, 0.4694541326841095)"
      ]
     },
     "execution_count": 32,
     "metadata": {},
     "output_type": "execute_result"
    }
   ],
   "source": [
    "#Let's compute the Pearson correlation between Sam and William :\n",
    "pearsonr(df.Sam, df.William)"
   ]
  },
  {
   "cell_type": "code",
   "execution_count": 33,
   "id": "24c00f44-5382-4cc8-98c6-4a0710ac68ac",
   "metadata": {},
   "outputs": [
    {
     "data": {
      "text/html": [
       "<div>\n",
       "<style scoped>\n",
       "    .dataframe tbody tr th:only-of-type {\n",
       "        vertical-align: middle;\n",
       "    }\n",
       "\n",
       "    .dataframe tbody tr th {\n",
       "        vertical-align: top;\n",
       "    }\n",
       "\n",
       "    .dataframe thead th {\n",
       "        text-align: right;\n",
       "    }\n",
       "</style>\n",
       "<table border=\"1\" class=\"dataframe\">\n",
       "  <thead>\n",
       "    <tr style=\"text-align: right;\">\n",
       "      <th></th>\n",
       "      <th>movie</th>\n",
       "      <th>Sam</th>\n",
       "      <th>Julia</th>\n",
       "    </tr>\n",
       "  </thead>\n",
       "  <tbody>\n",
       "    <tr>\n",
       "      <th>0</th>\n",
       "      <td>Avenger: Age of Ultron</td>\n",
       "      <td>10.0</td>\n",
       "      <td>10.0</td>\n",
       "    </tr>\n",
       "    <tr>\n",
       "      <th>1</th>\n",
       "      <td>Django Unchained</td>\n",
       "      <td>7.5</td>\n",
       "      <td>6.0</td>\n",
       "    </tr>\n",
       "    <tr>\n",
       "      <th>2</th>\n",
       "      <td>Gone Girl</td>\n",
       "      <td>6.0</td>\n",
       "      <td>6.5</td>\n",
       "    </tr>\n",
       "    <tr>\n",
       "      <th>3</th>\n",
       "      <td>Kill the Messenger</td>\n",
       "      <td>5.5</td>\n",
       "      <td>6.0</td>\n",
       "    </tr>\n",
       "    <tr>\n",
       "      <th>4</th>\n",
       "      <td>Zoolander</td>\n",
       "      <td>7.0</td>\n",
       "      <td>6.5</td>\n",
       "    </tr>\n",
       "  </tbody>\n",
       "</table>\n",
       "</div>"
      ],
      "text/plain": [
       "                    movie   Sam  Julia\n",
       "0  Avenger: Age of Ultron  10.0   10.0\n",
       "1        Django Unchained   7.5    6.0\n",
       "2               Gone Girl   6.0    6.5\n",
       "3      Kill the Messenger   5.5    6.0\n",
       "4               Zoolander   7.0    6.5"
      ]
     },
     "execution_count": 33,
     "metadata": {},
     "output_type": "execute_result"
    }
   ],
   "source": [
    "df = create_movie_user_df(movie_user_preferences,'Sam','Julia')\n",
    "df"
   ]
  },
  {
   "cell_type": "code",
   "execution_count": 35,
   "id": "c28beaee-c285-4034-914d-96358bdb2476",
   "metadata": {},
   "outputs": [
    {
     "data": {
      "image/png": "[encoded data removed]",
      "text/plain": [
       "<Figure size 640x480 with 1 Axes>"
      ]
     },
     "metadata": {},
     "output_type": "display_data"
    }
   ],
   "source": [
    "plt.scatter(df.Sam, df.Julia)\n",
    "plt.xlabel('Sam')\n",
    "plt.ylabel('Julia')\n",
    "for i, txt in enumerate(df.movie):\n",
    "    plt.annotate(txt, (df.Sam[i], df.Julia[i]))\n",
    "plt.show()\n"
   ]
  },
  {
   "cell_type": "code",
   "execution_count": 36,
   "id": "6e9107a2-7574-4105-b73d-70d2182abb76",
   "metadata": {},
   "outputs": [
    {
     "data": {
      "text/plain": [
       "(0.8828518332602512, 0.047277507003439405)"
      ]
     },
     "execution_count": 36,
     "metadata": {},
     "output_type": "execute_result"
    }
   ],
   "source": [
    "pearsonr(df.Sam,df.Julia)"
   ]
  },
  {
   "cell_type": "code",
   "execution_count": 39,
   "id": "a23fb6de-fd59-46e5-aaf6-58b5ad74fda8",
   "metadata": {},
   "outputs": [
    {
     "data": {
      "text/plain": [
       "0.8828518332602507"
      ]
     },
     "execution_count": 39,
     "metadata": {},
     "output_type": "execute_result"
    }
   ],
   "source": [
    "#We'll now create a function that takes in the data and calculates the Pearson correlation between the two users:\n",
    "\n",
    "def sim_pearson(prefs, p1, p2):\n",
    "    #Get the list of mutually reated items\n",
    "    si={}\n",
    "    for item in prefs[p1]:\n",
    "        if item in prefs[p2]: si[item]=1\n",
    "        \n",
    "    #Find the number of elements\n",
    "    n = len(si)\n",
    "    #if they are no ratings in common, return 0\n",
    "    if n==0: return 0\n",
    "    \n",
    "    #Add up all the preferences\n",
    "    sum1 = sum([prefs[p1][it] for it in si])\n",
    "    sum2 = sum([prefs[p2][it] for it in si])\n",
    "\n",
    "    #Sum up the squares\n",
    "    sum1Sq = sum([pow(prefs[p1][it],2) for it in si])\n",
    "    sum2Sq = sum([pow(prefs[p2][it],2) for it in si])\n",
    "    \n",
    "    #Sum p the products\n",
    "    pSum = sum([prefs[p1][it]*prefs[p2][it] for it in si])\n",
    "    \n",
    "    #calculate pearson score\n",
    "    num = pSum-(sum1*sum2/n)\n",
    "    den = math.sqrt((sum1Sq-pow(sum1,2)/n)*(sum2Sq-pow(sum2, 2)/n))\n",
    "    \n",
    "    if den == 0: return 0\n",
    "\n",
    "    r = num/den\n",
    "    return r\n",
    "sim_pearson(movie_user_preferences,'Sam','Julia')\n",
    "                  "
   ]
  },
  {
   "cell_type": "code",
   "execution_count": 40,
   "id": "b1d7855f-4bf1-40c2-a009-a7b0c682c6e5",
   "metadata": {},
   "outputs": [
    {
     "data": {
      "text/plain": [
       "[(0.10526315789473684, 'Jill'),\n",
       " (0.08163265306122448, 'William'),\n",
       " (0.03278688524590164, 'Sam')]"
      ]
     },
     "execution_count": 40,
     "metadata": {},
     "output_type": "execute_result"
    }
   ],
   "source": [
    "#Ranking the users\n",
    "def top_matches(prefs, person, n=5, similarity=sim_pearson):\n",
    "    scores=[(similarity(prefs, person, other), other) for other in prefs if other!=person]\n",
    "    \n",
    "    #sort the list so the highest scores appear at the top\n",
    "    scores.sort()\n",
    "    scores.reverse()\n",
    "    return scores[0:n]\n",
    "\n",
    "top_matches(movie_user_preferences,'Toby', n = 3, similarity = sim_distance)"
   ]
  },
  {
   "cell_type": "code",
   "execution_count": 43,
   "id": "8497dfd8-ef21-4600-8587-f091d3bf9281",
   "metadata": {},
   "outputs": [
    {
     "data": {
      "text/plain": [
       "[(6.5, 'Gone Girl'), (6.0, 'Kill the Messenger')]"
      ]
     },
     "execution_count": 43,
     "metadata": {},
     "output_type": "execute_result"
    }
   ],
   "source": [
    "# Gets recommendations for a person by using a weighted average\n",
    "# of every other user's rankings\n",
    "\n",
    "def get_recommendations(prefs, person, similarity=sim_pearson):\n",
    "    totals={}\n",
    "    simSums = {}\n",
    "    for other in prefs:\n",
    "        #don't compare me to mysqlf\n",
    "        if other==person: continue\n",
    "        sim=similarity(prefs, person, other)\n",
    "        \n",
    "        #ignore scores of zero or lower\n",
    "        if sim<=0: continue\n",
    "        for item in prefs[other]:\n",
    "            #only score movies I have not see yet\n",
    "            if item not in prefs[person] or prefs[person][item]==0:\n",
    "                #Similarity * Score\n",
    "                totals.setdefault(item, 0)\n",
    "                totals[item] += prefs[other][item]*sim\n",
    "                \n",
    "                #Sum of similarities\n",
    "                simSums.setdefault(item,0)\n",
    "                simSums[item] +=sim\n",
    "        \n",
    "        #Create the normalized list\n",
    "        rankings =[(total/simSums[item],item) for item, total in totals.items()]\n",
    "        \n",
    "        #return the sorted list\n",
    "        rankings.sort()\n",
    "        rankings.reverse()\n",
    "        return rankings\n",
    "get_recommendations(movie_user_preferences,'Toby')"
   ]
  },
  {
   "cell_type": "code",
   "execution_count": 47,
   "id": "c6f2e265-5e41-4382-887d-8d61d81bbe4b",
   "metadata": {},
   "outputs": [
    {
     "data": {
      "text/plain": [
       "{'Avenger: Age of Ultron': [(0.034782608695652174, 'Django Unchained'),\n",
       "  (0.023121387283236993, 'Gone Girl'),\n",
       "  (0.022988505747126436, 'Kill the Messenger'),\n",
       "  (0.015625, 'Horrible Bosses 2'),\n",
       "  (0.012738853503184714, 'Zoolander')],\n",
       " 'Django Unchained': [(0.05714285714285714, 'Kill the Messenger'),\n",
       "  (0.05063291139240506, 'Gone Girl'),\n",
       "  (0.034782608695652174, 'Avenger: Age of Ultron'),\n",
       "  (0.023668639053254437, 'Horrible Bosses 2'),\n",
       "  (0.012578616352201259, 'Zoolander')],\n",
       " 'Gone Girl': [(0.09090909090909091, 'Zoolander'),\n",
       "  (0.05063291139240506, 'Django Unchained'),\n",
       "  (0.036036036036036036, 'Kill the Messenger'),\n",
       "  (0.02857142857142857, 'Horrible Bosses 2'),\n",
       "  (0.023121387283236993, 'Avenger: Age of Ultron')],\n",
       " 'Kill the Messenger': [(0.05714285714285714, 'Django Unchained'),\n",
       "  (0.036036036036036036, 'Gone Girl'),\n",
       "  (0.03278688524590164, 'Horrible Bosses 2'),\n",
       "  (0.02877697841726619, 'Zoolander'),\n",
       "  (0.022988505747126436, 'Avenger: Age of Ultron')],\n",
       " 'Zoolander': [(0.09090909090909091, 'Gone Girl'),\n",
       "  (0.02877697841726619, 'Kill the Messenger'),\n",
       "  (0.02040816326530612, 'Horrible Bosses 2'),\n",
       "  (0.012738853503184714, 'Avenger: Age of Ultron'),\n",
       "  (0.012578616352201259, 'Django Unchained')],\n",
       " 'Horrible Bosses 2': [(0.03278688524590164, 'Kill the Messenger'),\n",
       "  (0.02857142857142857, 'Gone Girl'),\n",
       "  (0.023668639053254437, 'Django Unchained'),\n",
       "  (0.02040816326530612, 'Zoolander'),\n",
       "  (0.015625, 'Avenger: Age of Ultron')]}"
      ]
     },
     "execution_count": 47,
     "metadata": {},
     "output_type": "execute_result"
    }
   ],
   "source": [
    "#Item-based collaborative filtering\n",
    "def transform_prefs(prefs):\n",
    "    result={}\n",
    "    for person in prefs:\n",
    "        for item in prefs[person]:\n",
    "            result.setdefault(item, {})\n",
    "            \n",
    "            #flip item and person\n",
    "            result[item][person] = prefs[person][item]\n",
    "    return result\n",
    "#Now, we would like to find similar movies for each of the movies:\n",
    "def calculate_similar_items(prefs, n=10):\n",
    "    # Create a dictionary of items showing which other items they\n",
    "    # are most similar to.\n",
    "    result={}\n",
    "    \n",
    "    # Invert the preference matrix to be item-centric\n",
    "    itemPrefs=transform_prefs(prefs)\n",
    "    c=0\n",
    "    \n",
    "    for item in itemPrefs:\n",
    "        #Status updates for large datasets\n",
    "        c+=1\n",
    "        if c%100==0: print('%d/%d' % (c,len(itemPrefs)))\n",
    "        # Find the most similar items to this one\n",
    "        scores=top_matches(itemPrefs, item, n=n,similarity=sim_distance)\n",
    "        result[item]=scores\n",
    "    return result\n",
    "itemsim=calculate_similar_items(movie_user_preferences)   \n",
    "itemsim\n",
    "    "
   ]
  },
  {
   "cell_type": "code",
   "execution_count": 49,
   "id": "53f10a09-beb4-4d83-b017-0b0ff85706d7",
   "metadata": {},
   "outputs": [],
   "source": [
    "def get_recommendedItems(prefs,itemMatch,user):\n",
    "    userRatings=prefs[user]\n",
    "    scores={}\n",
    "    totalSim={}\n",
    "    # Loop over items rated by this user\n",
    "    for (item,rating) in userRatings.items( ):\n",
    "    # Loop over items similar to this one\n",
    "        for (similarity,item2) in itemMatch[item]:\n",
    "            # Ignore if this user has already rated this item\n",
    "            if item2 in userRatings: continue\n",
    "            # Weighted sum of rating times similarity\n",
    "            scores.setdefault(item2,0)\n",
    "            scores[item2]+=similarity*rating\n",
    "            # Sum of all the similarities\n",
    "            totalSim.setdefault(item2,0)\n",
    "            totalSim[item2]+=similarity\n",
    "        # Divide each total score by total weighting to get an average\n",
    "        rankings=[(score/totalSim[item],item) for\n",
    "        item,score in scores.items( )]\n",
    "        # Return the rankings from highest to lowest\n",
    "        rankings.sort( )\n",
    "        rankings.reverse( )\n",
    "        return rankings\n",
    "    # Divide each total score by total weighting to get an average\n",
    "    rankings=[(score/totalSim[item],item) for\n",
    "    item,score in scores.items( )]\n",
    "    # Return the rankings from highest to lowest\n",
    "    rankings.sort( )\n",
    "    rankings.reverse( )\n",
    "    return rankings"
   ]
  },
  {
   "cell_type": "code",
   "execution_count": 50,
   "id": "6a44247e-79fb-4b89-871f-e8161d2f3b1e",
   "metadata": {},
   "outputs": [
    {
     "data": {
      "text/plain": [
       "[(8.5, 'Kill the Messenger'), (8.5, 'Horrible Bosses 2'), (8.5, 'Gone Girl')]"
      ]
     },
     "execution_count": 50,
     "metadata": {},
     "output_type": "execute_result"
    }
   ],
   "source": [
    "get_recommendedItems(movie_user_preferences, itemsim,'Toby')"
   ]
  },
  {
   "cell_type": "code",
   "execution_count": null,
   "id": "928277cc-5e19-4e5d-ad14-ec8a81b64313",
   "metadata": {},
   "outputs": [],
   "source": []
  }
 ],
 "metadata": {
  "kernelspec": {
   "display_name": "Python 3 (ipykernel)",
   "language": "python",
   "name": "python3"
  },
  "language_info": {
   "codemirror_mode": {
    "name": "ipython",
    "version": 3
   },
   "file_extension": ".py",
   "mimetype": "text/x-python",
   "name": "python",
   "nbconvert_exporter": "python",
   "pygments_lexer": "ipython3",
   "version": "3.10.8"
  }
 },
 "nbformat": 4,
 "nbformat_minor": 5
}
