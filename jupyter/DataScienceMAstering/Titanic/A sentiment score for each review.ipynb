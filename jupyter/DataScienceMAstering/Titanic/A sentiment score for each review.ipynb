{
 "cells": [
  {
   "cell_type": "code",
   "execution_count": 1,
   "id": "9e8ee889-eb95-415c-939e-33b658602c68",
   "metadata": {},
   "outputs": [],
   "source": [
    "import sys\n",
    "import re"
   ]
  },
  {
   "cell_type": "code",
   "execution_count": 2,
   "id": "46f4f2c1-d2b3-4c74-95c0-872429646d0e",
   "metadata": {},
   "outputs": [],
   "source": [
    "positive_words = open('positive-words.txt').read().split('\\n')\n",
    "negative_words = open('negative-words.txt').read().split('\\n')"
   ]
  },
  {
   "cell_type": "code",
   "execution_count": 3,
   "id": "01e3570d-95fb-405d-b917-e0b402be3587",
   "metadata": {},
   "outputs": [],
   "source": [
    "def sentiment_score(text, pos_list, neg_list):\n",
    "    positive_score = 0\n",
    "    negative_score = 0\n",
    "    \n",
    "    for w in text.split(''):\n",
    "        if w in post_list: positive_score +=1 \n",
    "        if w in neg_list: negative_score +=1\n",
    "    return positive_score - negative_score\n",
    "\n",
    "for l in sys.stdin:\n",
    "    # Trailing and Leading white space is removed\n",
    "    l = l.strip()\n",
    "    \n",
    "    #Convert to lower case\n",
    "    l = l.lower()\n",
    "    \n",
    "    #getting the sentiment score\n",
    "    score =sentiment_score(1, positive_words, negative_words)\n",
    "    \n",
    "    #Key Value pair is outputted\n",
    "    print('%s\\t%s' % (l,score))"
   ]
  },
  {
   "cell_type": "code",
   "execution_count": 5,
   "id": "4e044c87-eb4e-4340-88c0-6769617313a2",
   "metadata": {},
   "outputs": [
    {
     "ename": "ModuleNotFoundError",
     "evalue": "No module named 'Hadoopy'",
     "output_type": "error",
     "traceback": [
      "\u001b[0;31m---------------------------------------------------------------------------\u001b[0m",
      "\u001b[0;31mModuleNotFoundError\u001b[0m                       Traceback (most recent call last)",
      "Cell \u001b[0;32mIn[5], line 1\u001b[0m\n\u001b[0;32m----> 1\u001b[0m \u001b[38;5;28;01mimport\u001b[39;00m \u001b[38;5;21;01mHadoopy\u001b[39;00m\n\u001b[1;32m      2\u001b[0m \u001b[38;5;28;01mimport\u001b[39;00m \u001b[38;5;21;01mos\u001b[39;00m\n\u001b[1;32m      3\u001b[0m hdfs_path \u001b[38;5;241m=\u001b[39m \u001b[38;5;124m'\u001b[39m\u001b[38;5;124m'\u001b[39m\n",
      "\u001b[0;31mModuleNotFoundError\u001b[0m: No module named 'Hadoopy'"
     ]
    }
   ],
   "source": [
    "import Hadoopy\n",
    "import os\n",
    "hdfs_path = ''\n",
    "def read_local_dir(local_path):\n",
    "    for fn in os.listdir(local_path):\n",
    "        path = os.path.join(local_path, fn)\n",
    "        if os.path.isfile(path):\n",
    "            yield path\n",
    "def main():\n",
    "    local_path = './BigData/dummy_data'\n",
    "    for file in read_local_dir(local_path):\n",
    "        Hadoopy.put(file, 'data')\n",
    "        print(\"The file %s has been put into hdfs\"% (file,))\n",
    "if __name__ =='__main__':\n",
    "    main()"
   ]
  },
  {
   "cell_type": "code",
   "execution_count": null,
   "id": "ba3a2ec3-13c7-484e-9636-c21bb6370634",
   "metadata": {},
   "outputs": [],
   "source": []
  }
 ],
 "metadata": {
  "kernelspec": {
   "display_name": "Python 3 (ipykernel)",
   "language": "python",
   "name": "python3"
  },
  "language_info": {
   "codemirror_mode": {
    "name": "ipython",
    "version": 3
   },
   "file_extension": ".py",
   "mimetype": "text/x-python",
   "name": "python",
   "nbconvert_exporter": "python",
   "pygments_lexer": "ipython3",
   "version": "3.10.8"
  }
 },
 "nbformat": 4,
 "nbformat_minor": 5
}
