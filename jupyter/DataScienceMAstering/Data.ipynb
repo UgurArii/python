{
 "cells": [
  {
   "cell_type": "markdown",
   "id": "af20fee3-e4ee-4939-b668-9225eef7bb4e",
   "metadata": {},
   "source": [
    "The data structure of pandas The pandas library essentially has three data structures:\n",
    "1. Series\n",
    "2. DataFrame\n",
    "3. Panel"
   ]
  },
  {
   "cell_type": "code",
   "execution_count": 3,
   "id": "3f86c8cb-2170-4d86-a0e1-d82577660eed",
   "metadata": {},
   "outputs": [
    {
     "data": {
      "text/plain": [
       "a   -0.317944\n",
       "b   -0.008942\n",
       "c   -0.344777\n",
       "d   -1.349406\n",
       "e    0.399736\n",
       "dtype: float64"
      ]
     },
     "execution_count": 3,
     "metadata": {},
     "output_type": "execute_result"
    }
   ],
   "source": [
    "#Series\n",
    "import pandas as pd\n",
    "import numpy as np\n",
    "pd.Series(np.random.randn(5), index=['a','b','c','d','e'])"
   ]
  },
  {
   "cell_type": "code",
   "execution_count": 4,
   "id": "4e5ab370-0ea3-433c-b3f1-312b01a64dc3",
   "metadata": {},
   "outputs": [
    {
     "data": {
      "text/plain": [
       "A    10\n",
       "B    20\n",
       "C    30\n",
       "dtype: int64"
      ]
     },
     "execution_count": 4,
     "metadata": {},
     "output_type": "execute_result"
    }
   ],
   "source": [
    "d = {'A':10, 'B':20, 'C':30}\n",
    "pd.Series(d)"
   ]
  },
  {
   "cell_type": "code",
   "execution_count": 10,
   "id": "f6cb724b-0f59-4790-9174-99d629d214da",
   "metadata": {},
   "outputs": [
    {
     "name": "stdout",
     "output_type": "stream",
     "text": [
      "    c1   c2\n",
      "0    A  1.0\n",
      "1    B  2.0\n",
      "2    C  3.0\n",
      "3  NaN  4.0\n"
     ]
    }
   ],
   "source": [
    "d = {'c1': pd.Series(['A', 'B', 'C']),\n",
    "'c2': pd.Series([1, 2., 3., 4.])}\n",
    "df = pd.DataFrame(d)\n",
    "print(df)"
   ]
  },
  {
   "cell_type": "code",
   "execution_count": 12,
   "id": "4336b1ae-f22b-4f27-8dc3-4ad090c0229e",
   "metadata": {},
   "outputs": [
    {
     "name": "stdout",
     "output_type": "stream",
     "text": [
      "  c1   c2\n",
      "0  A  1.0\n",
      "1  B  2.0\n",
      "2  C  3.0\n",
      "3  D  4.0\n"
     ]
    }
   ],
   "source": [
    "d = {'c1': ['A', 'B', 'C', 'D'],\n",
    "'c2': [1, 2.0, 3.0, 4.0]}\n",
    "df = pd.DataFrame(d)\n",
    "print(df)"
   ]
  },
  {
   "cell_type": "code",
   "execution_count": 14,
   "id": "dafcb3ef-8a07-4b92-9091-fde56a16bb7d",
   "metadata": {},
   "outputs": [],
   "source": [
    "d = {'Item1':pd.DataFrame(np.random.randn(4,3)),\n",
    "     'Item2':pd.DataFrame(np.random.randn(4,2))}\n"
   ]
  },
  {
   "cell_type": "code",
   "execution_count": 18,
   "id": "426b19ad-ef0e-45f1-b067-3e8647180a35",
   "metadata": {},
   "outputs": [
    {
     "data": {
      "text/plain": [
       "0    RAVENA COEYMANS SELKIRK CENTRAL SCHOOL DISTRICT\n",
       "1    RAVENA COEYMANS SELKIRK CENTRAL SCHOOL DISTRICT\n",
       "2    RAVENA COEYMANS SELKIRK CENTRAL SCHOOL DISTRICT\n",
       "3                        COHOES CITY SCHOOL DISTRICT\n",
       "4                        COHOES CITY SCHOOL DISTRICT\n",
       "Name: AREA NAME, dtype: object"
      ]
     },
     "execution_count": 18,
     "metadata": {},
     "output_type": "execute_result"
    }
   ],
   "source": [
    "d1 = pd.read_csv('Student_Weight_Status_Category_Reporting_Results__Beginning_2010.csv')\n",
    "d1[0:5]['AREA NAME']"
   ]
  },
  {
   "cell_type": "code",
   "execution_count": 16,
   "id": "25536099-3133-42f9-8d38-80238d3c43ec",
   "metadata": {},
   "outputs": [],
   "source": [
    "d = {'c1':pd.Series(['A','B','C']), 'c2':pd.Series([1,2.,3.,4.])}\n",
    "df = pd.DataFrame(d)\n",
    "df.to_csv('sample_data.csv')"
   ]
  },
  {
   "cell_type": "code",
   "execution_count": null,
   "id": "f0232f8e-f24f-4913-aedc-e98655b75d5b",
   "metadata": {},
   "outputs": [],
   "source": [
    "#DataBase \n",
    "pd.read_sql_table(table_name, con)\n",
    "pd.read_sql_query(sql, con)"
   ]
  },
  {
   "cell_type": "code",
   "execution_count": 20,
   "id": "8c4a2199-bc65-4479-97c7-bff770fde792",
   "metadata": {},
   "outputs": [
    {
     "data": {
      "text/plain": [
       "0       False\n",
       "1       False\n",
       "2       False\n",
       "3       False\n",
       "4       False\n",
       "        ...  \n",
       "3265    False\n",
       "3266    False\n",
       "3267     True\n",
       "3268     True\n",
       "3269     True\n",
       "Name: Location 1, Length: 3270, dtype: bool"
      ]
     },
     "execution_count": 20,
     "metadata": {},
     "output_type": "execute_result"
    }
   ],
   "source": [
    "d1['Location 1'].isnull()"
   ]
  },
  {
   "cell_type": "code",
   "execution_count": 21,
   "id": "7a5f48ca-a85a-47f3-bbc1-1100915f39b5",
   "metadata": {},
   "outputs": [
    {
     "data": {
      "text/plain": [
       "False    3246\n",
       "True       24\n",
       "Name: Location 1, dtype: int64"
      ]
     },
     "execution_count": 21,
     "metadata": {},
     "output_type": "execute_result"
    }
   ],
   "source": [
    "d1['Location 1'].isnull().value_counts() #number of missingvalue"
   ]
  },
  {
   "cell_type": "code",
   "execution_count": 22,
   "id": "71d137c7-926f-4c94-a596-649aed57bcb3",
   "metadata": {},
   "outputs": [],
   "source": [
    "d1 = d1['Location 1'].dropna()"
   ]
  },
  {
   "cell_type": "code",
   "execution_count": 23,
   "id": "92c81d9c-b34f-4f15-a231-9f82ba4c76a3",
   "metadata": {},
   "outputs": [
    {
     "data": {
      "text/plain": [
       "0       15 MOUNTAIN RD\\nRAVENA, NY 12143\\n(42.47227638...\n",
       "1       15 MOUNTAIN RD\\nRAVENA, NY 12143\\n(42.47227638...\n",
       "2       15 MOUNTAIN RD\\nRAVENA, NY 12143\\n(42.47227638...\n",
       "3       7 BEVAN ST\\nCOHOES, NY 12047\\n(42.771285452000...\n",
       "4       7 BEVAN ST\\nCOHOES, NY 12047\\n(42.771285452000...\n",
       "                              ...                        \n",
       "3262                                   (42.6671, -77.063)\n",
       "3263                                   (42.6671, -77.063)\n",
       "3264                                  (42.5263, -76.9771)\n",
       "3265                                  (42.5263, -76.9771)\n",
       "3266                                  (42.5263, -76.9771)\n",
       "Name: Location 1, Length: 3246, dtype: object"
      ]
     },
     "execution_count": 23,
     "metadata": {},
     "output_type": "execute_result"
    }
   ],
   "source": [
    "d1 = d1.dropna(how='any')\n",
    "d1"
   ]
  },
  {
   "cell_type": "code",
   "execution_count": 24,
   "id": "9bead596-7bc5-45be-8522-ce75db27d675",
   "metadata": {},
   "outputs": [
    {
     "data": {
      "text/html": [
       "<div>\n",
       "<style scoped>\n",
       "    .dataframe tbody tr th:only-of-type {\n",
       "        vertical-align: middle;\n",
       "    }\n",
       "\n",
       "    .dataframe tbody tr th {\n",
       "        vertical-align: top;\n",
       "    }\n",
       "\n",
       "    .dataframe thead th {\n",
       "        text-align: right;\n",
       "    }\n",
       "</style>\n",
       "<table border=\"1\" class=\"dataframe\">\n",
       "  <thead>\n",
       "    <tr style=\"text-align: right;\">\n",
       "      <th></th>\n",
       "      <th>X</th>\n",
       "      <th>Y</th>\n",
       "      <th>Z</th>\n",
       "    </tr>\n",
       "  </thead>\n",
       "  <tbody>\n",
       "    <tr>\n",
       "      <th>a0</th>\n",
       "      <td>-0.482242</td>\n",
       "      <td>0.256932</td>\n",
       "      <td>-0.714356</td>\n",
       "    </tr>\n",
       "    <tr>\n",
       "      <th>a10</th>\n",
       "      <td>0.235598</td>\n",
       "      <td>0.555344</td>\n",
       "      <td>0.164434</td>\n",
       "    </tr>\n",
       "    <tr>\n",
       "      <th>a20</th>\n",
       "      <td>0.252776</td>\n",
       "      <td>-2.150856</td>\n",
       "      <td>1.376185</td>\n",
       "    </tr>\n",
       "    <tr>\n",
       "      <th>a30</th>\n",
       "      <td>-0.479614</td>\n",
       "      <td>0.071310</td>\n",
       "      <td>0.192676</td>\n",
       "    </tr>\n",
       "    <tr>\n",
       "      <th>a40</th>\n",
       "      <td>1.322358</td>\n",
       "      <td>-0.600493</td>\n",
       "      <td>-0.906919</td>\n",
       "    </tr>\n",
       "  </tbody>\n",
       "</table>\n",
       "</div>"
      ],
      "text/plain": [
       "            X         Y         Z\n",
       "a0  -0.482242  0.256932 -0.714356\n",
       "a10  0.235598  0.555344  0.164434\n",
       "a20  0.252776 -2.150856  1.376185\n",
       "a30 -0.479614  0.071310  0.192676\n",
       "a40  1.322358 -0.600493 -0.906919"
      ]
     },
     "execution_count": 24,
     "metadata": {},
     "output_type": "execute_result"
    }
   ],
   "source": [
    "#Filling the missing data\n",
    "df = pd.DataFrame(np.random.randn(5, 3), index=['a0', 'a10', 'a20', 'a30', 'a40'], columns=['X','Y','Z'])\n",
    "df"
   ]
  },
  {
   "cell_type": "code",
   "execution_count": 26,
   "id": "f630bfea-b07e-4480-959f-b1e1310c503e",
   "metadata": {},
   "outputs": [
    {
     "data": {
      "text/html": [
       "<div>\n",
       "<style scoped>\n",
       "    .dataframe tbody tr th:only-of-type {\n",
       "        vertical-align: middle;\n",
       "    }\n",
       "\n",
       "    .dataframe tbody tr th {\n",
       "        vertical-align: top;\n",
       "    }\n",
       "\n",
       "    .dataframe thead th {\n",
       "        text-align: right;\n",
       "    }\n",
       "</style>\n",
       "<table border=\"1\" class=\"dataframe\">\n",
       "  <thead>\n",
       "    <tr style=\"text-align: right;\">\n",
       "      <th></th>\n",
       "      <th>X</th>\n",
       "      <th>Y</th>\n",
       "      <th>Z</th>\n",
       "    </tr>\n",
       "  </thead>\n",
       "  <tbody>\n",
       "    <tr>\n",
       "      <th>a0</th>\n",
       "      <td>-0.482242</td>\n",
       "      <td>0.256932</td>\n",
       "      <td>-0.714356</td>\n",
       "    </tr>\n",
       "    <tr>\n",
       "      <th>a1</th>\n",
       "      <td>NaN</td>\n",
       "      <td>NaN</td>\n",
       "      <td>NaN</td>\n",
       "    </tr>\n",
       "    <tr>\n",
       "      <th>a10</th>\n",
       "      <td>0.235598</td>\n",
       "      <td>0.555344</td>\n",
       "      <td>0.164434</td>\n",
       "    </tr>\n",
       "    <tr>\n",
       "      <th>a11</th>\n",
       "      <td>NaN</td>\n",
       "      <td>NaN</td>\n",
       "      <td>NaN</td>\n",
       "    </tr>\n",
       "    <tr>\n",
       "      <th>a20</th>\n",
       "      <td>0.252776</td>\n",
       "      <td>-2.150856</td>\n",
       "      <td>1.376185</td>\n",
       "    </tr>\n",
       "    <tr>\n",
       "      <th>a21</th>\n",
       "      <td>NaN</td>\n",
       "      <td>NaN</td>\n",
       "      <td>NaN</td>\n",
       "    </tr>\n",
       "    <tr>\n",
       "      <th>a30</th>\n",
       "      <td>-0.479614</td>\n",
       "      <td>0.071310</td>\n",
       "      <td>0.192676</td>\n",
       "    </tr>\n",
       "    <tr>\n",
       "      <th>a31</th>\n",
       "      <td>NaN</td>\n",
       "      <td>NaN</td>\n",
       "      <td>NaN</td>\n",
       "    </tr>\n",
       "    <tr>\n",
       "      <th>a40</th>\n",
       "      <td>1.322358</td>\n",
       "      <td>-0.600493</td>\n",
       "      <td>-0.906919</td>\n",
       "    </tr>\n",
       "    <tr>\n",
       "      <th>a41</th>\n",
       "      <td>NaN</td>\n",
       "      <td>NaN</td>\n",
       "      <td>NaN</td>\n",
       "    </tr>\n",
       "  </tbody>\n",
       "</table>\n",
       "</div>"
      ],
      "text/plain": [
       "            X         Y         Z\n",
       "a0  -0.482242  0.256932 -0.714356\n",
       "a1        NaN       NaN       NaN\n",
       "a10  0.235598  0.555344  0.164434\n",
       "a11       NaN       NaN       NaN\n",
       "a20  0.252776 -2.150856  1.376185\n",
       "a21       NaN       NaN       NaN\n",
       "a30 -0.479614  0.071310  0.192676\n",
       "a31       NaN       NaN       NaN\n",
       "a40  1.322358 -0.600493 -0.906919\n",
       "a41       NaN       NaN       NaN"
      ]
     },
     "execution_count": 26,
     "metadata": {},
     "output_type": "execute_result"
    }
   ],
   "source": [
    "df2 = df.reindex(['a0', 'a1', 'a10', 'a11', 'a20', 'a21',\n",
    "'a30', 'a31', 'a40', 'a41'])\n",
    "df2"
   ]
  },
  {
   "cell_type": "code",
   "execution_count": 32,
   "id": "deb32f24-313e-40af-b85d-ed5d3b4e5b15",
   "metadata": {},
   "outputs": [
    {
     "data": {
      "text/html": [
       "<div>\n",
       "<style scoped>\n",
       "    .dataframe tbody tr th:only-of-type {\n",
       "        vertical-align: middle;\n",
       "    }\n",
       "\n",
       "    .dataframe tbody tr th {\n",
       "        vertical-align: top;\n",
       "    }\n",
       "\n",
       "    .dataframe thead th {\n",
       "        text-align: right;\n",
       "    }\n",
       "</style>\n",
       "<table border=\"1\" class=\"dataframe\">\n",
       "  <thead>\n",
       "    <tr style=\"text-align: right;\">\n",
       "      <th></th>\n",
       "      <th>X</th>\n",
       "      <th>Y</th>\n",
       "      <th>Z</th>\n",
       "    </tr>\n",
       "  </thead>\n",
       "  <tbody>\n",
       "    <tr>\n",
       "      <th>a0</th>\n",
       "      <td>-0.482242</td>\n",
       "      <td>0.256932</td>\n",
       "      <td>-0.714356</td>\n",
       "    </tr>\n",
       "    <tr>\n",
       "      <th>a1</th>\n",
       "      <td>0.000000</td>\n",
       "      <td>0.000000</td>\n",
       "      <td>0.000000</td>\n",
       "    </tr>\n",
       "    <tr>\n",
       "      <th>a10</th>\n",
       "      <td>0.235598</td>\n",
       "      <td>0.555344</td>\n",
       "      <td>0.164434</td>\n",
       "    </tr>\n",
       "    <tr>\n",
       "      <th>a11</th>\n",
       "      <td>0.000000</td>\n",
       "      <td>0.000000</td>\n",
       "      <td>0.000000</td>\n",
       "    </tr>\n",
       "    <tr>\n",
       "      <th>a20</th>\n",
       "      <td>0.252776</td>\n",
       "      <td>-2.150856</td>\n",
       "      <td>1.376185</td>\n",
       "    </tr>\n",
       "    <tr>\n",
       "      <th>a21</th>\n",
       "      <td>0.000000</td>\n",
       "      <td>0.000000</td>\n",
       "      <td>0.000000</td>\n",
       "    </tr>\n",
       "    <tr>\n",
       "      <th>a30</th>\n",
       "      <td>-0.479614</td>\n",
       "      <td>0.071310</td>\n",
       "      <td>0.192676</td>\n",
       "    </tr>\n",
       "    <tr>\n",
       "      <th>a31</th>\n",
       "      <td>0.000000</td>\n",
       "      <td>0.000000</td>\n",
       "      <td>0.000000</td>\n",
       "    </tr>\n",
       "    <tr>\n",
       "      <th>a40</th>\n",
       "      <td>1.322358</td>\n",
       "      <td>-0.600493</td>\n",
       "      <td>-0.906919</td>\n",
       "    </tr>\n",
       "    <tr>\n",
       "      <th>a41</th>\n",
       "      <td>0.000000</td>\n",
       "      <td>0.000000</td>\n",
       "      <td>0.000000</td>\n",
       "    </tr>\n",
       "  </tbody>\n",
       "</table>\n",
       "</div>"
      ],
      "text/plain": [
       "            X         Y         Z\n",
       "a0  -0.482242  0.256932 -0.714356\n",
       "a1   0.000000  0.000000  0.000000\n",
       "a10  0.235598  0.555344  0.164434\n",
       "a11  0.000000  0.000000  0.000000\n",
       "a20  0.252776 -2.150856  1.376185\n",
       "a21  0.000000  0.000000  0.000000\n",
       "a30 -0.479614  0.071310  0.192676\n",
       "a31  0.000000  0.000000  0.000000\n",
       "a40  1.322358 -0.600493 -0.906919\n",
       "a41  0.000000  0.000000  0.000000"
      ]
     },
     "execution_count": 32,
     "metadata": {},
     "output_type": "execute_result"
    }
   ],
   "source": [
    "df2.fillna(0)"
   ]
  },
  {
   "cell_type": "code",
   "execution_count": 35,
   "id": "95353231-c37b-483c-8621-26827574fd45",
   "metadata": {},
   "outputs": [
    {
     "data": {
      "text/html": [
       "<div>\n",
       "<style scoped>\n",
       "    .dataframe tbody tr th:only-of-type {\n",
       "        vertical-align: middle;\n",
       "    }\n",
       "\n",
       "    .dataframe tbody tr th {\n",
       "        vertical-align: top;\n",
       "    }\n",
       "\n",
       "    .dataframe thead th {\n",
       "        text-align: right;\n",
       "    }\n",
       "</style>\n",
       "<table border=\"1\" class=\"dataframe\">\n",
       "  <thead>\n",
       "    <tr style=\"text-align: right;\">\n",
       "      <th></th>\n",
       "      <th>X</th>\n",
       "      <th>Y</th>\n",
       "      <th>Z</th>\n",
       "    </tr>\n",
       "  </thead>\n",
       "  <tbody>\n",
       "    <tr>\n",
       "      <th>a0</th>\n",
       "      <td>-0.482242</td>\n",
       "      <td>0.256932</td>\n",
       "      <td>-0.714356</td>\n",
       "    </tr>\n",
       "    <tr>\n",
       "      <th>a1</th>\n",
       "      <td>0.169775</td>\n",
       "      <td>-0.373553</td>\n",
       "      <td>0.022404</td>\n",
       "    </tr>\n",
       "    <tr>\n",
       "      <th>a10</th>\n",
       "      <td>0.235598</td>\n",
       "      <td>0.555344</td>\n",
       "      <td>0.164434</td>\n",
       "    </tr>\n",
       "    <tr>\n",
       "      <th>a11</th>\n",
       "      <td>0.169775</td>\n",
       "      <td>-0.373553</td>\n",
       "      <td>0.022404</td>\n",
       "    </tr>\n",
       "    <tr>\n",
       "      <th>a20</th>\n",
       "      <td>0.252776</td>\n",
       "      <td>-2.150856</td>\n",
       "      <td>1.376185</td>\n",
       "    </tr>\n",
       "    <tr>\n",
       "      <th>a21</th>\n",
       "      <td>0.169775</td>\n",
       "      <td>-0.373553</td>\n",
       "      <td>0.022404</td>\n",
       "    </tr>\n",
       "    <tr>\n",
       "      <th>a30</th>\n",
       "      <td>-0.479614</td>\n",
       "      <td>0.071310</td>\n",
       "      <td>0.192676</td>\n",
       "    </tr>\n",
       "    <tr>\n",
       "      <th>a31</th>\n",
       "      <td>0.169775</td>\n",
       "      <td>-0.373553</td>\n",
       "      <td>0.022404</td>\n",
       "    </tr>\n",
       "    <tr>\n",
       "      <th>a40</th>\n",
       "      <td>1.322358</td>\n",
       "      <td>-0.600493</td>\n",
       "      <td>-0.906919</td>\n",
       "    </tr>\n",
       "    <tr>\n",
       "      <th>a41</th>\n",
       "      <td>0.169775</td>\n",
       "      <td>-0.373553</td>\n",
       "      <td>0.022404</td>\n",
       "    </tr>\n",
       "  </tbody>\n",
       "</table>\n",
       "</div>"
      ],
      "text/plain": [
       "            X         Y         Z\n",
       "a0  -0.482242  0.256932 -0.714356\n",
       "a1   0.169775 -0.373553  0.022404\n",
       "a10  0.235598  0.555344  0.164434\n",
       "a11  0.169775 -0.373553  0.022404\n",
       "a20  0.252776 -2.150856  1.376185\n",
       "a21  0.169775 -0.373553  0.022404\n",
       "a30 -0.479614  0.071310  0.192676\n",
       "a31  0.169775 -0.373553  0.022404\n",
       "a40  1.322358 -0.600493 -0.906919\n",
       "a41  0.169775 -0.373553  0.022404"
      ]
     },
     "execution_count": 35,
     "metadata": {},
     "output_type": "execute_result"
    }
   ],
   "source": [
    "#df2.fillna(method='pad') #filling with forward propagation\n",
    "df2.fillna(df2.mean())"
   ]
  },
  {
   "cell_type": "code",
   "execution_count": 36,
   "id": "5318f9e8-975e-42b4-8899-22907b71199d",
   "metadata": {},
   "outputs": [
    {
     "data": {
      "text/plain": [
       "0    RAVENA COEYMANS SELKIRK CENTRAL SCHOOL DISTRICT\n",
       "1    RAVENA COEYMANS SELKIRK CENTRAL SCHOOL DISTRICT\n",
       "2    RAVENA COEYMANS SELKIRK CENTRAL SCHOOL DISTRICT\n",
       "3                        COHOES CITY SCHOOL DISTRICT\n",
       "4                        COHOES CITY SCHOOL DISTRICT\n",
       "Name: AREA NAME, dtype: object"
      ]
     },
     "execution_count": 36,
     "metadata": {},
     "output_type": "execute_result"
    }
   ],
   "source": [
    "d2 = pd.read_csv('Student_Weight_Status_Category_Reporting_Results__Beginning_2010.csv')\n",
    "d2['AREA NAME'][0:5]"
   ]
  },
  {
   "cell_type": "code",
   "execution_count": 38,
   "id": "dcd7fd1e-bf8f-4ad2-9e15-61ae826259cb",
   "metadata": {},
   "outputs": [
    {
     "data": {
      "text/html": [
       "<div>\n",
       "<style scoped>\n",
       "    .dataframe tbody tr th:only-of-type {\n",
       "        vertical-align: middle;\n",
       "    }\n",
       "\n",
       "    .dataframe tbody tr th {\n",
       "        vertical-align: top;\n",
       "    }\n",
       "\n",
       "    .dataframe thead th {\n",
       "        text-align: right;\n",
       "    }\n",
       "</style>\n",
       "<table border=\"1\" class=\"dataframe\">\n",
       "  <thead>\n",
       "    <tr style=\"text-align: right;\">\n",
       "      <th></th>\n",
       "      <th>0</th>\n",
       "    </tr>\n",
       "  </thead>\n",
       "  <tbody>\n",
       "    <tr>\n",
       "      <th>0</th>\n",
       "      <td>RAVENA</td>\n",
       "    </tr>\n",
       "    <tr>\n",
       "      <th>1</th>\n",
       "      <td>RAVENA</td>\n",
       "    </tr>\n",
       "    <tr>\n",
       "      <th>2</th>\n",
       "      <td>RAVENA</td>\n",
       "    </tr>\n",
       "    <tr>\n",
       "      <th>3</th>\n",
       "      <td>COHOES</td>\n",
       "    </tr>\n",
       "    <tr>\n",
       "      <th>4</th>\n",
       "      <td>COHOES</td>\n",
       "    </tr>\n",
       "  </tbody>\n",
       "</table>\n",
       "</div>"
      ],
      "text/plain": [
       "        0\n",
       "0  RAVENA\n",
       "1  RAVENA\n",
       "2  RAVENA\n",
       "3  COHOES\n",
       "4  COHOES"
      ]
     },
     "execution_count": 38,
     "metadata": {},
     "output_type": "execute_result"
    }
   ],
   "source": [
    "d2['AREA NAME'][0:5].str.extract('(\\w+)')\n"
   ]
  },
  {
   "cell_type": "code",
   "execution_count": 39,
   "id": "82082f79-d425-4a70-baa4-2b832e780928",
   "metadata": {},
   "outputs": [
    {
     "data": {
      "text/html": [
       "<div>\n",
       "<style scoped>\n",
       "    .dataframe tbody tr th:only-of-type {\n",
       "        vertical-align: middle;\n",
       "    }\n",
       "\n",
       "    .dataframe tbody tr th {\n",
       "        vertical-align: top;\n",
       "    }\n",
       "\n",
       "    .dataframe thead th {\n",
       "        text-align: right;\n",
       "    }\n",
       "</style>\n",
       "<table border=\"1\" class=\"dataframe\">\n",
       "  <thead>\n",
       "    <tr style=\"text-align: right;\">\n",
       "      <th></th>\n",
       "      <th>0</th>\n",
       "      <th>1</th>\n",
       "    </tr>\n",
       "  </thead>\n",
       "  <tbody>\n",
       "    <tr>\n",
       "      <th>0</th>\n",
       "      <td>RAVENA</td>\n",
       "      <td>COEYMANS</td>\n",
       "    </tr>\n",
       "    <tr>\n",
       "      <th>1</th>\n",
       "      <td>RAVENA</td>\n",
       "      <td>COEYMANS</td>\n",
       "    </tr>\n",
       "    <tr>\n",
       "      <th>2</th>\n",
       "      <td>RAVENA</td>\n",
       "      <td>COEYMANS</td>\n",
       "    </tr>\n",
       "    <tr>\n",
       "      <th>3</th>\n",
       "      <td>COHOES</td>\n",
       "      <td>CITY</td>\n",
       "    </tr>\n",
       "    <tr>\n",
       "      <th>4</th>\n",
       "      <td>COHOES</td>\n",
       "      <td>CITY</td>\n",
       "    </tr>\n",
       "  </tbody>\n",
       "</table>\n",
       "</div>"
      ],
      "text/plain": [
       "        0         1\n",
       "0  RAVENA  COEYMANS\n",
       "1  RAVENA  COEYMANS\n",
       "2  RAVENA  COEYMANS\n",
       "3  COHOES      CITY\n",
       "4  COHOES      CITY"
      ]
     },
     "execution_count": 39,
     "metadata": {},
     "output_type": "execute_result"
    }
   ],
   "source": [
    "d2['AREA NAME'][0:5].str.extract('(\\w+)\\s(\\w+)')"
   ]
  },
  {
   "cell_type": "code",
   "execution_count": 40,
   "id": "bc4767e6-1b05-4950-be5c-b0d50cb40075",
   "metadata": {},
   "outputs": [
    {
     "data": {
      "text/html": [
       "<div>\n",
       "<style scoped>\n",
       "    .dataframe tbody tr th:only-of-type {\n",
       "        vertical-align: middle;\n",
       "    }\n",
       "\n",
       "    .dataframe tbody tr th {\n",
       "        vertical-align: top;\n",
       "    }\n",
       "\n",
       "    .dataframe thead th {\n",
       "        text-align: right;\n",
       "    }\n",
       "</style>\n",
       "<table border=\"1\" class=\"dataframe\">\n",
       "  <thead>\n",
       "    <tr style=\"text-align: right;\">\n",
       "      <th></th>\n",
       "      <th>LOCATION CODE</th>\n",
       "      <th>COUNTY</th>\n",
       "      <th>AREA NAME</th>\n",
       "      <th>REGION</th>\n",
       "      <th>SCHOOL YEARS</th>\n",
       "      <th>NO. OVERWEIGHT</th>\n",
       "      <th>PCT OVERWEIGHT</th>\n",
       "      <th>NO. OBESE</th>\n",
       "      <th>PCT OBESE</th>\n",
       "      <th>NO. OVERWEIGHT OR OBESE</th>\n",
       "      <th>PCT OVERWEIGHT OR OBESE</th>\n",
       "      <th>GRADE LEVEL</th>\n",
       "      <th>AREA TYPE</th>\n",
       "      <th>STREET ADDRESS</th>\n",
       "      <th>CITY</th>\n",
       "      <th>STATE</th>\n",
       "      <th>ZIP CODE</th>\n",
       "      <th>Location 1</th>\n",
       "    </tr>\n",
       "  </thead>\n",
       "  <tbody>\n",
       "    <tr>\n",
       "      <th>1</th>\n",
       "      <td>10402</td>\n",
       "      <td>ALBANY</td>\n",
       "      <td>RAVENA COEYMANS SELKIRK CENTRAL SCHOOL DISTRICT</td>\n",
       "      <td>NORTHEASTERN NEW YORK</td>\n",
       "      <td>2012-2013</td>\n",
       "      <td>74.0</td>\n",
       "      <td>19.2%</td>\n",
       "      <td>72.0</td>\n",
       "      <td>18.7%</td>\n",
       "      <td>146.0</td>\n",
       "      <td>37.9%</td>\n",
       "      <td>ELEMENTARY</td>\n",
       "      <td>SCHOOL DISTRICT</td>\n",
       "      <td>15 MOUNTAIN RD</td>\n",
       "      <td>RAVENA</td>\n",
       "      <td>NY</td>\n",
       "      <td>12143.0</td>\n",
       "      <td>15 MOUNTAIN RD\\nRAVENA, NY 12143\\n(42.47227638...</td>\n",
       "    </tr>\n",
       "    <tr>\n",
       "      <th>4</th>\n",
       "      <td>10500</td>\n",
       "      <td>ALBANY</td>\n",
       "      <td>COHOES CITY SCHOOL DISTRICT</td>\n",
       "      <td>NORTHEASTERN NEW YORK</td>\n",
       "      <td>2012-2013</td>\n",
       "      <td>58.0</td>\n",
       "      <td>16.1%</td>\n",
       "      <td>89.0</td>\n",
       "      <td>24.7%</td>\n",
       "      <td>147.0</td>\n",
       "      <td>40.8%</td>\n",
       "      <td>ELEMENTARY</td>\n",
       "      <td>SCHOOL DISTRICT</td>\n",
       "      <td>7 BEVAN ST</td>\n",
       "      <td>COHOES</td>\n",
       "      <td>NY</td>\n",
       "      <td>12047.0</td>\n",
       "      <td>7 BEVAN ST\\nCOHOES, NY 12047\\n(42.771285452000...</td>\n",
       "    </tr>\n",
       "    <tr>\n",
       "      <th>7</th>\n",
       "      <td>10601</td>\n",
       "      <td>ALBANY</td>\n",
       "      <td>SOUTH COLONIE CENTRAL SCHOOL DISTRICT</td>\n",
       "      <td>NORTHEASTERN NEW YORK</td>\n",
       "      <td>2012-2013</td>\n",
       "      <td>145.0</td>\n",
       "      <td>17.4%</td>\n",
       "      <td>169.0</td>\n",
       "      <td>20.3%</td>\n",
       "      <td>314.0</td>\n",
       "      <td>37.8%</td>\n",
       "      <td>ELEMENTARY</td>\n",
       "      <td>SCHOOL DISTRICT</td>\n",
       "      <td>102 LORALEE DR</td>\n",
       "      <td>ALBANY</td>\n",
       "      <td>NY</td>\n",
       "      <td>12205.0</td>\n",
       "      <td>102 LORALEE DR\\nALBANY, NY 12205\\n(42.73352407...</td>\n",
       "    </tr>\n",
       "    <tr>\n",
       "      <th>10</th>\n",
       "      <td>10623</td>\n",
       "      <td>ALBANY</td>\n",
       "      <td>NORTH COLONIE CENTRAL SCHOOL DISTRICT</td>\n",
       "      <td>NORTHEASTERN NEW YORK</td>\n",
       "      <td>2012-2013</td>\n",
       "      <td>94.0</td>\n",
       "      <td>15.5%</td>\n",
       "      <td>78.0</td>\n",
       "      <td>12.9%</td>\n",
       "      <td>172.0</td>\n",
       "      <td>28.4%</td>\n",
       "      <td>ELEMENTARY</td>\n",
       "      <td>SCHOOL DISTRICT</td>\n",
       "      <td>91 FIDDLERS LN</td>\n",
       "      <td>LATHAM</td>\n",
       "      <td>NY</td>\n",
       "      <td>12110.0</td>\n",
       "      <td>91 FIDDLERS LN\\nLATHAM, NY 12110\\n(42.72935391...</td>\n",
       "    </tr>\n",
       "    <tr>\n",
       "      <th>13</th>\n",
       "      <td>10701</td>\n",
       "      <td>ALBANY</td>\n",
       "      <td>GREEN ISLAND UNION FREE SCHOOL DISTRICT</td>\n",
       "      <td>NORTHEASTERN NEW YORK</td>\n",
       "      <td>2012-2013</td>\n",
       "      <td>NaN</td>\n",
       "      <td>NaN</td>\n",
       "      <td>15.0</td>\n",
       "      <td>35.7%</td>\n",
       "      <td>15.0</td>\n",
       "      <td>35.7%</td>\n",
       "      <td>ELEMENTARY</td>\n",
       "      <td>SCHOOL DISTRICT</td>\n",
       "      <td>171 HUDSON AVE</td>\n",
       "      <td>GREEN ISLAND</td>\n",
       "      <td>NY</td>\n",
       "      <td>12183.0</td>\n",
       "      <td>171 HUDSON AVE\\nGREEN ISLAND, NY 12183\\n(42.74...</td>\n",
       "    </tr>\n",
       "    <tr>\n",
       "      <th>...</th>\n",
       "      <td>...</td>\n",
       "      <td>...</td>\n",
       "      <td>...</td>\n",
       "      <td>...</td>\n",
       "      <td>...</td>\n",
       "      <td>...</td>\n",
       "      <td>...</td>\n",
       "      <td>...</td>\n",
       "      <td>...</td>\n",
       "      <td>...</td>\n",
       "      <td>...</td>\n",
       "      <td>...</td>\n",
       "      <td>...</td>\n",
       "      <td>...</td>\n",
       "      <td>...</td>\n",
       "      <td>...</td>\n",
       "      <td>...</td>\n",
       "      <td>...</td>\n",
       "    </tr>\n",
       "    <tr>\n",
       "      <th>3256</th>\n",
       "      <td>671201</td>\n",
       "      <td>WYOMING</td>\n",
       "      <td>PERRY CENTRAL SCHOOL</td>\n",
       "      <td>WESTERN NEW YORK</td>\n",
       "      <td>2010-2012</td>\n",
       "      <td>35.0</td>\n",
       "      <td>18.1%</td>\n",
       "      <td>49.0</td>\n",
       "      <td>25.4%</td>\n",
       "      <td>84.0</td>\n",
       "      <td>43.5%</td>\n",
       "      <td>ELEMENTARY</td>\n",
       "      <td>SCHOOL DISTRICT</td>\n",
       "      <td>33 WATKINS AVE</td>\n",
       "      <td>PERRY</td>\n",
       "      <td>NY</td>\n",
       "      <td>14530.0</td>\n",
       "      <td>(42.7236, -78.003)</td>\n",
       "    </tr>\n",
       "    <tr>\n",
       "      <th>3259</th>\n",
       "      <td>671501</td>\n",
       "      <td>WYOMING</td>\n",
       "      <td>WARSAW CENTRAL SCHOOL</td>\n",
       "      <td>WESTERN NEW YORK</td>\n",
       "      <td>2010-2012</td>\n",
       "      <td>45.0</td>\n",
       "      <td>21.7%</td>\n",
       "      <td>45.0</td>\n",
       "      <td>21.7%</td>\n",
       "      <td>90.0</td>\n",
       "      <td>43.5%</td>\n",
       "      <td>ELEMENTARY</td>\n",
       "      <td>SCHOOL DISTRICT</td>\n",
       "      <td>153 W BUFFALO ST</td>\n",
       "      <td>WARSAW</td>\n",
       "      <td>NY</td>\n",
       "      <td>14569.0</td>\n",
       "      <td>(42.7403, -78.1382)</td>\n",
       "    </tr>\n",
       "    <tr>\n",
       "      <th>3262</th>\n",
       "      <td>680601</td>\n",
       "      <td>YATES</td>\n",
       "      <td>PENN YAN CENTRAL SCHOOL</td>\n",
       "      <td>FINGER LAKES</td>\n",
       "      <td>2010-2012</td>\n",
       "      <td>45.0</td>\n",
       "      <td>18.2%</td>\n",
       "      <td>48.0</td>\n",
       "      <td>19.4%</td>\n",
       "      <td>93.0</td>\n",
       "      <td>37.7%</td>\n",
       "      <td>ELEMENTARY</td>\n",
       "      <td>SCHOOL DISTRICT</td>\n",
       "      <td>1 SCHOOL DR</td>\n",
       "      <td>PENN YAN</td>\n",
       "      <td>NY</td>\n",
       "      <td>14527.0</td>\n",
       "      <td>(42.6671, -77.063)</td>\n",
       "    </tr>\n",
       "    <tr>\n",
       "      <th>3265</th>\n",
       "      <td>680801</td>\n",
       "      <td>YATES</td>\n",
       "      <td>DUNDEE CENTRAL SCHOOL</td>\n",
       "      <td>FINGER LAKES</td>\n",
       "      <td>2010-2012</td>\n",
       "      <td>28.0</td>\n",
       "      <td>15.6%</td>\n",
       "      <td>20.0</td>\n",
       "      <td>11.1%</td>\n",
       "      <td>48.0</td>\n",
       "      <td>26.7%</td>\n",
       "      <td>ELEMENTARY</td>\n",
       "      <td>SCHOOL DISTRICT</td>\n",
       "      <td>55 WATER ST</td>\n",
       "      <td>DUNDEE</td>\n",
       "      <td>NY</td>\n",
       "      <td>14837.0</td>\n",
       "      <td>(42.5263, -76.9771)</td>\n",
       "    </tr>\n",
       "    <tr>\n",
       "      <th>3268</th>\n",
       "      <td>700000</td>\n",
       "      <td>NaN</td>\n",
       "      <td>WESTERN NEW YORK</td>\n",
       "      <td>WESTERN NEW YORK</td>\n",
       "      <td>2010-2012</td>\n",
       "      <td>5827.0</td>\n",
       "      <td>15.2%</td>\n",
       "      <td>6587.0</td>\n",
       "      <td>17.1%</td>\n",
       "      <td>12414.0</td>\n",
       "      <td>32.3%</td>\n",
       "      <td>ELEMENTARY</td>\n",
       "      <td>REGION</td>\n",
       "      <td>NaN</td>\n",
       "      <td>NaN</td>\n",
       "      <td>NaN</td>\n",
       "      <td>NaN</td>\n",
       "      <td>NaN</td>\n",
       "    </tr>\n",
       "  </tbody>\n",
       "</table>\n",
       "<p>1090 rows × 18 columns</p>\n",
       "</div>"
      ],
      "text/plain": [
       "      LOCATION CODE   COUNTY                                        AREA NAME  \\\n",
       "1             10402   ALBANY  RAVENA COEYMANS SELKIRK CENTRAL SCHOOL DISTRICT   \n",
       "4             10500   ALBANY                      COHOES CITY SCHOOL DISTRICT   \n",
       "7             10601   ALBANY            SOUTH COLONIE CENTRAL SCHOOL DISTRICT   \n",
       "10            10623   ALBANY            NORTH COLONIE CENTRAL SCHOOL DISTRICT   \n",
       "13            10701   ALBANY          GREEN ISLAND UNION FREE SCHOOL DISTRICT   \n",
       "...             ...      ...                                              ...   \n",
       "3256         671201  WYOMING                             PERRY CENTRAL SCHOOL   \n",
       "3259         671501  WYOMING                            WARSAW CENTRAL SCHOOL   \n",
       "3262         680601    YATES                          PENN YAN CENTRAL SCHOOL   \n",
       "3265         680801    YATES                            DUNDEE CENTRAL SCHOOL   \n",
       "3268         700000      NaN                                 WESTERN NEW YORK   \n",
       "\n",
       "                     REGION SCHOOL YEARS  NO. OVERWEIGHT PCT OVERWEIGHT  \\\n",
       "1     NORTHEASTERN NEW YORK    2012-2013            74.0          19.2%   \n",
       "4     NORTHEASTERN NEW YORK    2012-2013            58.0          16.1%   \n",
       "7     NORTHEASTERN NEW YORK    2012-2013           145.0          17.4%   \n",
       "10    NORTHEASTERN NEW YORK    2012-2013            94.0          15.5%   \n",
       "13    NORTHEASTERN NEW YORK    2012-2013             NaN            NaN   \n",
       "...                     ...          ...             ...            ...   \n",
       "3256       WESTERN NEW YORK    2010-2012            35.0          18.1%   \n",
       "3259       WESTERN NEW YORK    2010-2012            45.0          21.7%   \n",
       "3262           FINGER LAKES    2010-2012            45.0          18.2%   \n",
       "3265           FINGER LAKES    2010-2012            28.0          15.6%   \n",
       "3268       WESTERN NEW YORK    2010-2012          5827.0          15.2%   \n",
       "\n",
       "      NO. OBESE PCT OBESE  NO. OVERWEIGHT OR OBESE PCT OVERWEIGHT OR OBESE  \\\n",
       "1          72.0     18.7%                    146.0                   37.9%   \n",
       "4          89.0     24.7%                    147.0                   40.8%   \n",
       "7         169.0     20.3%                    314.0                   37.8%   \n",
       "10         78.0     12.9%                    172.0                   28.4%   \n",
       "13         15.0     35.7%                     15.0                   35.7%   \n",
       "...         ...       ...                      ...                     ...   \n",
       "3256       49.0     25.4%                     84.0                   43.5%   \n",
       "3259       45.0     21.7%                     90.0                   43.5%   \n",
       "3262       48.0     19.4%                     93.0                   37.7%   \n",
       "3265       20.0     11.1%                     48.0                   26.7%   \n",
       "3268     6587.0     17.1%                  12414.0                   32.3%   \n",
       "\n",
       "     GRADE LEVEL        AREA TYPE    STREET ADDRESS          CITY STATE  \\\n",
       "1     ELEMENTARY  SCHOOL DISTRICT    15 MOUNTAIN RD        RAVENA    NY   \n",
       "4     ELEMENTARY  SCHOOL DISTRICT        7 BEVAN ST        COHOES    NY   \n",
       "7     ELEMENTARY  SCHOOL DISTRICT    102 LORALEE DR        ALBANY    NY   \n",
       "10    ELEMENTARY  SCHOOL DISTRICT    91 FIDDLERS LN        LATHAM    NY   \n",
       "13    ELEMENTARY  SCHOOL DISTRICT    171 HUDSON AVE  GREEN ISLAND    NY   \n",
       "...          ...              ...               ...           ...   ...   \n",
       "3256  ELEMENTARY  SCHOOL DISTRICT    33 WATKINS AVE         PERRY    NY   \n",
       "3259  ELEMENTARY  SCHOOL DISTRICT  153 W BUFFALO ST        WARSAW    NY   \n",
       "3262  ELEMENTARY  SCHOOL DISTRICT       1 SCHOOL DR      PENN YAN    NY   \n",
       "3265  ELEMENTARY  SCHOOL DISTRICT       55 WATER ST        DUNDEE    NY   \n",
       "3268  ELEMENTARY           REGION               NaN           NaN   NaN   \n",
       "\n",
       "      ZIP CODE                                         Location 1  \n",
       "1      12143.0  15 MOUNTAIN RD\\nRAVENA, NY 12143\\n(42.47227638...  \n",
       "4      12047.0  7 BEVAN ST\\nCOHOES, NY 12047\\n(42.771285452000...  \n",
       "7      12205.0  102 LORALEE DR\\nALBANY, NY 12205\\n(42.73352407...  \n",
       "10     12110.0  91 FIDDLERS LN\\nLATHAM, NY 12110\\n(42.72935391...  \n",
       "13     12183.0  171 HUDSON AVE\\nGREEN ISLAND, NY 12183\\n(42.74...  \n",
       "...        ...                                                ...  \n",
       "3256   14530.0                                 (42.7236, -78.003)  \n",
       "3259   14569.0                                (42.7403, -78.1382)  \n",
       "3262   14527.0                                 (42.6671, -77.063)  \n",
       "3265   14837.0                                (42.5263, -76.9771)  \n",
       "3268       NaN                                                NaN  \n",
       "\n",
       "[1090 rows x 18 columns]"
      ]
     },
     "execution_count": 40,
     "metadata": {},
     "output_type": "execute_result"
    }
   ],
   "source": [
    "d2[d2['GRADE LEVEL'] == 'ELEMENTARY']\n"
   ]
  },
  {
   "cell_type": "code",
   "execution_count": 42,
   "id": "762fdf4d-643d-4e13-a366-0aaa8b750d6f",
   "metadata": {},
   "outputs": [
    {
     "data": {
      "text/plain": [
       "0    RAVENA COEYMANS SELKIRK CENTRAL SCHOOL DISTRICT\n",
       "1    RAVENA COEYMANS SELKIRK CENTRAL SCHOOL DISTRICT\n",
       "2    RAVENA COEYMANS SELKIRK CENTRAL SCHOOL DISTRICT\n",
       "3                        COHOES CITY SCHOOL DISTRICT\n",
       "4                        COHOES CITY SCHOOL DISTRICT\n",
       "Name: AREA NAME, dtype: object"
      ]
     },
     "execution_count": 42,
     "metadata": {},
     "output_type": "execute_result"
    }
   ],
   "source": [
    "d2['AREA NAME'][0:5].str.upper()"
   ]
  },
  {
   "cell_type": "code",
   "execution_count": 43,
   "id": "84336db1-5d66-49fa-a80a-c3e04f13a3db",
   "metadata": {},
   "outputs": [
    {
     "data": {
      "text/plain": [
       "0    ravena coeymans selkirk central school district\n",
       "1    ravena coeymans selkirk central school district\n",
       "2    ravena coeymans selkirk central school district\n",
       "3                        cohoes city school district\n",
       "4                        cohoes city school district\n",
       "Name: AREA NAME, dtype: object"
      ]
     },
     "execution_count": 43,
     "metadata": {},
     "output_type": "execute_result"
    }
   ],
   "source": [
    "d2['AREA NAME'][0:5].str.lower()"
   ]
  },
  {
   "cell_type": "code",
   "execution_count": 44,
   "id": "71f91636-4f9e-41ef-9bdc-b139db34c92a",
   "metadata": {},
   "outputs": [
    {
     "data": {
      "text/plain": [
       "0    47\n",
       "1    47\n",
       "2    47\n",
       "3    27\n",
       "4    27\n",
       "Name: AREA NAME, dtype: int64"
      ]
     },
     "execution_count": 44,
     "metadata": {},
     "output_type": "execute_result"
    }
   ],
   "source": [
    "d2['AREA NAME'][0:5].str.len()"
   ]
  },
  {
   "cell_type": "code",
   "execution_count": 45,
   "id": "880c3a28-d480-419f-9596-f91fa84f9f86",
   "metadata": {},
   "outputs": [
    {
     "name": "stderr",
     "output_type": "stream",
     "text": [
      "/tmp/ipykernel_14291/261637303.py:1: FutureWarning: The default value of regex will change from True to False in a future version.\n",
      "  d2['AREA NAME'][0:5].str.replace('DISTRICT$', 'DIST')\n"
     ]
    },
    {
     "data": {
      "text/plain": [
       "0    RAVENA COEYMANS SELKIRK CENTRAL SCHOOL DIST\n",
       "1    RAVENA COEYMANS SELKIRK CENTRAL SCHOOL DIST\n",
       "2    RAVENA COEYMANS SELKIRK CENTRAL SCHOOL DIST\n",
       "3                        COHOES CITY SCHOOL DIST\n",
       "4                        COHOES CITY SCHOOL DIST\n",
       "Name: AREA NAME, dtype: object"
      ]
     },
     "execution_count": 45,
     "metadata": {},
     "output_type": "execute_result"
    }
   ],
   "source": [
    "d2['AREA NAME'][0:5].str.replace('DISTRICT$', 'DIST')\n"
   ]
  },
  {
   "cell_type": "markdown",
   "id": "90fcce06-1508-46c0-bb60-d778779dcf22",
   "metadata": {},
   "source": [
    "MERGING DATA"
   ]
  },
  {
   "cell_type": "code",
   "execution_count": 49,
   "id": "139dfb19-55fe-40a0-9144-d3279517c554",
   "metadata": {},
   "outputs": [
    {
     "data": {
      "text/html": [
       "<div>\n",
       "<style scoped>\n",
       "    .dataframe tbody tr th:only-of-type {\n",
       "        vertical-align: middle;\n",
       "    }\n",
       "\n",
       "    .dataframe tbody tr th {\n",
       "        vertical-align: top;\n",
       "    }\n",
       "\n",
       "    .dataframe thead th {\n",
       "        text-align: right;\n",
       "    }\n",
       "</style>\n",
       "<table border=\"1\" class=\"dataframe\">\n",
       "  <thead>\n",
       "    <tr style=\"text-align: right;\">\n",
       "      <th></th>\n",
       "      <th>AREA NAME</th>\n",
       "      <th>COUNTY</th>\n",
       "    </tr>\n",
       "  </thead>\n",
       "  <tbody>\n",
       "    <tr>\n",
       "      <th>0</th>\n",
       "      <td>RAVENA COEYMANS SELKIRK CENTRAL SCHOOL DISTRICT</td>\n",
       "      <td>ALBANY</td>\n",
       "    </tr>\n",
       "    <tr>\n",
       "      <th>1</th>\n",
       "      <td>RAVENA COEYMANS SELKIRK CENTRAL SCHOOL DISTRICT</td>\n",
       "      <td>ALBANY</td>\n",
       "    </tr>\n",
       "    <tr>\n",
       "      <th>2</th>\n",
       "      <td>RAVENA COEYMANS SELKIRK CENTRAL SCHOOL DISTRICT</td>\n",
       "      <td>ALBANY</td>\n",
       "    </tr>\n",
       "    <tr>\n",
       "      <th>3</th>\n",
       "      <td>COHOES CITY SCHOOL DISTRICT</td>\n",
       "      <td>ALBANY</td>\n",
       "    </tr>\n",
       "    <tr>\n",
       "      <th>4</th>\n",
       "      <td>COHOES CITY SCHOOL DISTRICT</td>\n",
       "      <td>ALBANY</td>\n",
       "    </tr>\n",
       "  </tbody>\n",
       "</table>\n",
       "</div>"
      ],
      "text/plain": [
       "                                         AREA NAME  COUNTY\n",
       "0  RAVENA COEYMANS SELKIRK CENTRAL SCHOOL DISTRICT  ALBANY\n",
       "1  RAVENA COEYMANS SELKIRK CENTRAL SCHOOL DISTRICT  ALBANY\n",
       "2  RAVENA COEYMANS SELKIRK CENTRAL SCHOOL DISTRICT  ALBANY\n",
       "3                      COHOES CITY SCHOOL DISTRICT  ALBANY\n",
       "4                      COHOES CITY SCHOOL DISTRICT  ALBANY"
      ]
     },
     "execution_count": 49,
     "metadata": {},
     "output_type": "execute_result"
    }
   ],
   "source": [
    "d2[['AREA NAME', 'COUNTY']][0:5]"
   ]
  },
  {
   "cell_type": "code",
   "execution_count": 50,
   "id": "8262bbdf-a473-449e-a991-92c346b20d91",
   "metadata": {},
   "outputs": [],
   "source": [
    "p1 = d2[['AREA NAME', 'COUNTY']][0:2]\n",
    "p2 = d2[['AREA NAME', 'COUNTY']][2:5]\n"
   ]
  },
  {
   "cell_type": "code",
   "execution_count": 51,
   "id": "e5dffe6d-583f-4049-a9c3-762f789c66e8",
   "metadata": {},
   "outputs": [
    {
     "data": {
      "text/html": [
       "<div>\n",
       "<style scoped>\n",
       "    .dataframe tbody tr th:only-of-type {\n",
       "        vertical-align: middle;\n",
       "    }\n",
       "\n",
       "    .dataframe tbody tr th {\n",
       "        vertical-align: top;\n",
       "    }\n",
       "\n",
       "    .dataframe thead th {\n",
       "        text-align: right;\n",
       "    }\n",
       "</style>\n",
       "<table border=\"1\" class=\"dataframe\">\n",
       "  <thead>\n",
       "    <tr style=\"text-align: right;\">\n",
       "      <th></th>\n",
       "      <th>AREA NAME</th>\n",
       "      <th>COUNTY</th>\n",
       "    </tr>\n",
       "  </thead>\n",
       "  <tbody>\n",
       "    <tr>\n",
       "      <th>0</th>\n",
       "      <td>RAVENA COEYMANS SELKIRK CENTRAL SCHOOL DISTRICT</td>\n",
       "      <td>ALBANY</td>\n",
       "    </tr>\n",
       "    <tr>\n",
       "      <th>1</th>\n",
       "      <td>RAVENA COEYMANS SELKIRK CENTRAL SCHOOL DISTRICT</td>\n",
       "      <td>ALBANY</td>\n",
       "    </tr>\n",
       "    <tr>\n",
       "      <th>2</th>\n",
       "      <td>RAVENA COEYMANS SELKIRK CENTRAL SCHOOL DISTRICT</td>\n",
       "      <td>ALBANY</td>\n",
       "    </tr>\n",
       "    <tr>\n",
       "      <th>3</th>\n",
       "      <td>COHOES CITY SCHOOL DISTRICT</td>\n",
       "      <td>ALBANY</td>\n",
       "    </tr>\n",
       "    <tr>\n",
       "      <th>4</th>\n",
       "      <td>COHOES CITY SCHOOL DISTRICT</td>\n",
       "      <td>ALBANY</td>\n",
       "    </tr>\n",
       "  </tbody>\n",
       "</table>\n",
       "</div>"
      ],
      "text/plain": [
       "                                         AREA NAME  COUNTY\n",
       "0  RAVENA COEYMANS SELKIRK CENTRAL SCHOOL DISTRICT  ALBANY\n",
       "1  RAVENA COEYMANS SELKIRK CENTRAL SCHOOL DISTRICT  ALBANY\n",
       "2  RAVENA COEYMANS SELKIRK CENTRAL SCHOOL DISTRICT  ALBANY\n",
       "3                      COHOES CITY SCHOOL DISTRICT  ALBANY\n",
       "4                      COHOES CITY SCHOOL DISTRICT  ALBANY"
      ]
     },
     "execution_count": 51,
     "metadata": {},
     "output_type": "execute_result"
    }
   ],
   "source": [
    "pd.concat([p1, p2])"
   ]
  },
  {
   "cell_type": "code",
   "execution_count": 52,
   "id": "112abd89-ac35-4dbf-a3df-f369b970b0ca",
   "metadata": {},
   "outputs": [
    {
     "data": {
      "text/html": [
       "<div>\n",
       "<style scoped>\n",
       "    .dataframe tbody tr th:only-of-type {\n",
       "        vertical-align: middle;\n",
       "    }\n",
       "\n",
       "    .dataframe tbody tr th {\n",
       "        vertical-align: top;\n",
       "    }\n",
       "\n",
       "    .dataframe thead th {\n",
       "        text-align: right;\n",
       "    }\n",
       "</style>\n",
       "<table border=\"1\" class=\"dataframe\">\n",
       "  <thead>\n",
       "    <tr style=\"text-align: right;\">\n",
       "      <th></th>\n",
       "      <th></th>\n",
       "      <th>AREA NAME</th>\n",
       "      <th>COUNTY</th>\n",
       "    </tr>\n",
       "  </thead>\n",
       "  <tbody>\n",
       "    <tr>\n",
       "      <th rowspan=\"2\" valign=\"top\">p1</th>\n",
       "      <th>0</th>\n",
       "      <td>RAVENA COEYMANS SELKIRK CENTRAL SCHOOL DISTRICT</td>\n",
       "      <td>ALBANY</td>\n",
       "    </tr>\n",
       "    <tr>\n",
       "      <th>1</th>\n",
       "      <td>RAVENA COEYMANS SELKIRK CENTRAL SCHOOL DISTRICT</td>\n",
       "      <td>ALBANY</td>\n",
       "    </tr>\n",
       "    <tr>\n",
       "      <th rowspan=\"3\" valign=\"top\">p2</th>\n",
       "      <th>2</th>\n",
       "      <td>RAVENA COEYMANS SELKIRK CENTRAL SCHOOL DISTRICT</td>\n",
       "      <td>ALBANY</td>\n",
       "    </tr>\n",
       "    <tr>\n",
       "      <th>3</th>\n",
       "      <td>COHOES CITY SCHOOL DISTRICT</td>\n",
       "      <td>ALBANY</td>\n",
       "    </tr>\n",
       "    <tr>\n",
       "      <th>4</th>\n",
       "      <td>COHOES CITY SCHOOL DISTRICT</td>\n",
       "      <td>ALBANY</td>\n",
       "    </tr>\n",
       "  </tbody>\n",
       "</table>\n",
       "</div>"
      ],
      "text/plain": [
       "                                            AREA NAME  COUNTY\n",
       "p1 0  RAVENA COEYMANS SELKIRK CENTRAL SCHOOL DISTRICT  ALBANY\n",
       "   1  RAVENA COEYMANS SELKIRK CENTRAL SCHOOL DISTRICT  ALBANY\n",
       "p2 2  RAVENA COEYMANS SELKIRK CENTRAL SCHOOL DISTRICT  ALBANY\n",
       "   3                      COHOES CITY SCHOOL DISTRICT  ALBANY\n",
       "   4                      COHOES CITY SCHOOL DISTRICT  ALBANY"
      ]
     },
     "execution_count": 52,
     "metadata": {},
     "output_type": "execute_result"
    }
   ],
   "source": [
    "#The combined pieces can be identified by assigning a key:\n",
    "concatenated = pd.concat([p1, p2], keys = ['p1', 'p2'])\n",
    "concatenated"
   ]
  },
  {
   "cell_type": "code",
   "execution_count": 54,
   "id": "30a5cd71-ac72-430c-a883-40ba239c2180",
   "metadata": {},
   "outputs": [],
   "source": [
    "#concatenated.ix['p1']"
   ]
  },
  {
   "cell_type": "code",
   "execution_count": 57,
   "id": "e20e8159-68f8-4f36-9f62-719061c4089e",
   "metadata": {},
   "outputs": [
    {
     "data": {
      "text/html": [
       "<div>\n",
       "<style scoped>\n",
       "    .dataframe tbody tr th:only-of-type {\n",
       "        vertical-align: middle;\n",
       "    }\n",
       "\n",
       "    .dataframe tbody tr th {\n",
       "        vertical-align: top;\n",
       "    }\n",
       "\n",
       "    .dataframe thead th {\n",
       "        text-align: right;\n",
       "    }\n",
       "</style>\n",
       "<table border=\"1\" class=\"dataframe\">\n",
       "  <thead>\n",
       "    <tr style=\"text-align: right;\">\n",
       "      <th></th>\n",
       "      <th>LOCATION CODE</th>\n",
       "      <th>COUNTY</th>\n",
       "      <th>AREA NAME</th>\n",
       "      <th>REGION</th>\n",
       "      <th>SCHOOL YEARS</th>\n",
       "      <th>NO. OVERWEIGHT</th>\n",
       "      <th>PCT OVERWEIGHT</th>\n",
       "      <th>NO. OBESE</th>\n",
       "      <th>PCT OBESE</th>\n",
       "      <th>NO. OVERWEIGHT OR OBESE</th>\n",
       "      <th>PCT OVERWEIGHT OR OBESE</th>\n",
       "      <th>GRADE LEVEL</th>\n",
       "      <th>AREA TYPE</th>\n",
       "      <th>STREET ADDRESS</th>\n",
       "      <th>CITY</th>\n",
       "      <th>STATE</th>\n",
       "      <th>ZIP CODE</th>\n",
       "      <th>Location 1</th>\n",
       "    </tr>\n",
       "  </thead>\n",
       "  <tbody>\n",
       "    <tr>\n",
       "      <th>1</th>\n",
       "      <td>10402</td>\n",
       "      <td>ALBANY</td>\n",
       "      <td>RAVENA COEYMANS SELKIRK CENTRAL SCHOOL DISTRICT</td>\n",
       "      <td>NORTHEASTERN NEW YORK</td>\n",
       "      <td>2012-2013</td>\n",
       "      <td>74.0</td>\n",
       "      <td>19.2%</td>\n",
       "      <td>72.0</td>\n",
       "      <td>18.7%</td>\n",
       "      <td>146.0</td>\n",
       "      <td>37.9%</td>\n",
       "      <td>ELEMENTARY</td>\n",
       "      <td>SCHOOL DISTRICT</td>\n",
       "      <td>15 MOUNTAIN RD</td>\n",
       "      <td>RAVENA</td>\n",
       "      <td>NY</td>\n",
       "      <td>12143.0</td>\n",
       "      <td>15 MOUNTAIN RD\\nRAVENA, NY 12143\\n(42.47227638...</td>\n",
       "    </tr>\n",
       "    <tr>\n",
       "      <th>4</th>\n",
       "      <td>10500</td>\n",
       "      <td>ALBANY</td>\n",
       "      <td>COHOES CITY SCHOOL DISTRICT</td>\n",
       "      <td>NORTHEASTERN NEW YORK</td>\n",
       "      <td>2012-2013</td>\n",
       "      <td>58.0</td>\n",
       "      <td>16.1%</td>\n",
       "      <td>89.0</td>\n",
       "      <td>24.7%</td>\n",
       "      <td>147.0</td>\n",
       "      <td>40.8%</td>\n",
       "      <td>ELEMENTARY</td>\n",
       "      <td>SCHOOL DISTRICT</td>\n",
       "      <td>7 BEVAN ST</td>\n",
       "      <td>COHOES</td>\n",
       "      <td>NY</td>\n",
       "      <td>12047.0</td>\n",
       "      <td>7 BEVAN ST\\nCOHOES, NY 12047\\n(42.771285452000...</td>\n",
       "    </tr>\n",
       "    <tr>\n",
       "      <th>7</th>\n",
       "      <td>10601</td>\n",
       "      <td>ALBANY</td>\n",
       "      <td>SOUTH COLONIE CENTRAL SCHOOL DISTRICT</td>\n",
       "      <td>NORTHEASTERN NEW YORK</td>\n",
       "      <td>2012-2013</td>\n",
       "      <td>145.0</td>\n",
       "      <td>17.4%</td>\n",
       "      <td>169.0</td>\n",
       "      <td>20.3%</td>\n",
       "      <td>314.0</td>\n",
       "      <td>37.8%</td>\n",
       "      <td>ELEMENTARY</td>\n",
       "      <td>SCHOOL DISTRICT</td>\n",
       "      <td>102 LORALEE DR</td>\n",
       "      <td>ALBANY</td>\n",
       "      <td>NY</td>\n",
       "      <td>12205.0</td>\n",
       "      <td>102 LORALEE DR\\nALBANY, NY 12205\\n(42.73352407...</td>\n",
       "    </tr>\n",
       "    <tr>\n",
       "      <th>10</th>\n",
       "      <td>10623</td>\n",
       "      <td>ALBANY</td>\n",
       "      <td>NORTH COLONIE CENTRAL SCHOOL DISTRICT</td>\n",
       "      <td>NORTHEASTERN NEW YORK</td>\n",
       "      <td>2012-2013</td>\n",
       "      <td>94.0</td>\n",
       "      <td>15.5%</td>\n",
       "      <td>78.0</td>\n",
       "      <td>12.9%</td>\n",
       "      <td>172.0</td>\n",
       "      <td>28.4%</td>\n",
       "      <td>ELEMENTARY</td>\n",
       "      <td>SCHOOL DISTRICT</td>\n",
       "      <td>91 FIDDLERS LN</td>\n",
       "      <td>LATHAM</td>\n",
       "      <td>NY</td>\n",
       "      <td>12110.0</td>\n",
       "      <td>91 FIDDLERS LN\\nLATHAM, NY 12110\\n(42.72935391...</td>\n",
       "    </tr>\n",
       "    <tr>\n",
       "      <th>13</th>\n",
       "      <td>10701</td>\n",
       "      <td>ALBANY</td>\n",
       "      <td>GREEN ISLAND UNION FREE SCHOOL DISTRICT</td>\n",
       "      <td>NORTHEASTERN NEW YORK</td>\n",
       "      <td>2012-2013</td>\n",
       "      <td>NaN</td>\n",
       "      <td>NaN</td>\n",
       "      <td>15.0</td>\n",
       "      <td>35.7%</td>\n",
       "      <td>15.0</td>\n",
       "      <td>35.7%</td>\n",
       "      <td>ELEMENTARY</td>\n",
       "      <td>SCHOOL DISTRICT</td>\n",
       "      <td>171 HUDSON AVE</td>\n",
       "      <td>GREEN ISLAND</td>\n",
       "      <td>NY</td>\n",
       "      <td>12183.0</td>\n",
       "      <td>171 HUDSON AVE\\nGREEN ISLAND, NY 12183\\n(42.74...</td>\n",
       "    </tr>\n",
       "  </tbody>\n",
       "</table>\n",
       "</div>"
      ],
      "text/plain": [
       "    LOCATION CODE  COUNTY                                        AREA NAME  \\\n",
       "1           10402  ALBANY  RAVENA COEYMANS SELKIRK CENTRAL SCHOOL DISTRICT   \n",
       "4           10500  ALBANY                      COHOES CITY SCHOOL DISTRICT   \n",
       "7           10601  ALBANY            SOUTH COLONIE CENTRAL SCHOOL DISTRICT   \n",
       "10          10623  ALBANY            NORTH COLONIE CENTRAL SCHOOL DISTRICT   \n",
       "13          10701  ALBANY          GREEN ISLAND UNION FREE SCHOOL DISTRICT   \n",
       "\n",
       "                   REGION SCHOOL YEARS  NO. OVERWEIGHT PCT OVERWEIGHT  \\\n",
       "1   NORTHEASTERN NEW YORK    2012-2013            74.0          19.2%   \n",
       "4   NORTHEASTERN NEW YORK    2012-2013            58.0          16.1%   \n",
       "7   NORTHEASTERN NEW YORK    2012-2013           145.0          17.4%   \n",
       "10  NORTHEASTERN NEW YORK    2012-2013            94.0          15.5%   \n",
       "13  NORTHEASTERN NEW YORK    2012-2013             NaN            NaN   \n",
       "\n",
       "    NO. OBESE PCT OBESE  NO. OVERWEIGHT OR OBESE PCT OVERWEIGHT OR OBESE  \\\n",
       "1        72.0     18.7%                    146.0                   37.9%   \n",
       "4        89.0     24.7%                    147.0                   40.8%   \n",
       "7       169.0     20.3%                    314.0                   37.8%   \n",
       "10       78.0     12.9%                    172.0                   28.4%   \n",
       "13       15.0     35.7%                     15.0                   35.7%   \n",
       "\n",
       "   GRADE LEVEL        AREA TYPE  STREET ADDRESS          CITY STATE  ZIP CODE  \\\n",
       "1   ELEMENTARY  SCHOOL DISTRICT  15 MOUNTAIN RD        RAVENA    NY   12143.0   \n",
       "4   ELEMENTARY  SCHOOL DISTRICT      7 BEVAN ST        COHOES    NY   12047.0   \n",
       "7   ELEMENTARY  SCHOOL DISTRICT  102 LORALEE DR        ALBANY    NY   12205.0   \n",
       "10  ELEMENTARY  SCHOOL DISTRICT  91 FIDDLERS LN        LATHAM    NY   12110.0   \n",
       "13  ELEMENTARY  SCHOOL DISTRICT  171 HUDSON AVE  GREEN ISLAND    NY   12183.0   \n",
       "\n",
       "                                           Location 1  \n",
       "1   15 MOUNTAIN RD\\nRAVENA, NY 12143\\n(42.47227638...  \n",
       "4   7 BEVAN ST\\nCOHOES, NY 12047\\n(42.771285452000...  \n",
       "7   102 LORALEE DR\\nALBANY, NY 12205\\n(42.73352407...  \n",
       "10  91 FIDDLERS LN\\nLATHAM, NY 12110\\n(42.72935391...  \n",
       "13  171 HUDSON AVE\\nGREEN ISLAND, NY 12183\\n(42.74...  "
      ]
     },
     "execution_count": 57,
     "metadata": {},
     "output_type": "execute_result"
    }
   ],
   "source": [
    "data = d2[d2['GRADE LEVEL'] == 'ELEMENTARY']\n",
    "data.head()"
   ]
  },
  {
   "cell_type": "code",
   "execution_count": 58,
   "id": "647afd5b-ffe2-41e2-82b6-6caebacbe348",
   "metadata": {},
   "outputs": [
    {
     "data": {
      "text/plain": [
       "213.4159378036929"
      ]
     },
     "execution_count": 58,
     "metadata": {},
     "output_type": "execute_result"
    }
   ],
   "source": [
    "data['NO. OBESE'].mean()"
   ]
  },
  {
   "cell_type": "code",
   "execution_count": 59,
   "id": "f7f7a536-723a-4fb6-b5c8-4b6ee36a20c3",
   "metadata": {},
   "outputs": [
    {
     "data": {
      "text/plain": [
       "219605.0"
      ]
     },
     "execution_count": 59,
     "metadata": {},
     "output_type": "execute_result"
    }
   ],
   "source": [
    "data['NO. OBESE'].sum()"
   ]
  },
  {
   "cell_type": "code",
   "execution_count": 60,
   "id": "6727153e-552a-41dc-8813-316c25505ab0",
   "metadata": {},
   "outputs": [
    {
     "data": {
      "text/plain": [
       "48843.0"
      ]
     },
     "execution_count": 60,
     "metadata": {},
     "output_type": "execute_result"
    }
   ],
   "source": [
    "data['NO. OBESE'].max()"
   ]
  },
  {
   "cell_type": "code",
   "execution_count": 61,
   "id": "62de5b14-3d8e-434d-b856-5bcf0bc75cb0",
   "metadata": {},
   "outputs": [
    {
     "data": {
      "text/plain": [
       "5.0"
      ]
     },
     "execution_count": 61,
     "metadata": {},
     "output_type": "execute_result"
    }
   ],
   "source": [
    "data['NO. OBESE'].min()"
   ]
  },
  {
   "cell_type": "code",
   "execution_count": 62,
   "id": "75a4bc9f-51d1-4899-89a1-fad9ac00a79e",
   "metadata": {},
   "outputs": [
    {
     "data": {
      "text/plain": [
       "1690.3831128098116"
      ]
     },
     "execution_count": 62,
     "metadata": {},
     "output_type": "execute_result"
    }
   ],
   "source": [
    "data['NO. OBESE'].std()"
   ]
  },
  {
   "cell_type": "code",
   "execution_count": 65,
   "id": "0d3e510f-f170-48cf-ae49-913ca5ca4948",
   "metadata": {},
   "outputs": [
    {
     "data": {
      "text/plain": [
       "19"
      ]
     },
     "execution_count": 65,
     "metadata": {},
     "output_type": "execute_result"
    }
   ],
   "source": [
    "#count\n",
    "data = d2[(d2['GRADE LEVEL'] == 'ELEMENTARY') & (d2['COUNTY'] == 'DELAWARE')]\n",
    "data['COUNTY'].count()"
   ]
  },
  {
   "cell_type": "code",
   "execution_count": null,
   "id": "2668fa74-23b5-4f91-ac73-780e3d978fb1",
   "metadata": {},
   "outputs": [],
   "source": []
  }
 ],
 "metadata": {
  "kernelspec": {
   "display_name": "Python 3 (ipykernel)",
   "language": "python",
   "name": "python3"
  },
  "language_info": {
   "codemirror_mode": {
    "name": "ipython",
    "version": 3
   },
   "file_extension": ".py",
   "mimetype": "text/x-python",
   "name": "python",
   "nbconvert_exporter": "python",
   "pygments_lexer": "ipython3",
   "version": "3.9.13"
  }
 },
 "nbformat": 4,
 "nbformat_minor": 5
}
