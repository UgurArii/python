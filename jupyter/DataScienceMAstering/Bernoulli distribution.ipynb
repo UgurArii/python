{
 "cells": [
  {
   "cell_type": "code",
   "execution_count": 2,
   "id": "9ef458db-074f-4953-93f0-b632d1411c4f",
   "metadata": {},
   "outputs": [],
   "source": [
    "#Bernoulli distribution"
   ]
  },
  {
   "cell_type": "code",
   "execution_count": 9,
   "id": "26f1043c-56c4-4b96-8224-d542bdc833a8",
   "metadata": {},
   "outputs": [],
   "source": [
    "from scipy import stats\n",
    "import pandas as pd\n",
    "import numpy as np\n",
    "import matplotlib.pyplot as plt"
   ]
  },
  {
   "cell_type": "code",
   "execution_count": 6,
   "id": "d8615a88-bb67-4ef8-af0f-66aabac3fd74",
   "metadata": {},
   "outputs": [
    {
     "data": {
      "text/plain": [
       "array([1, 1, 1, 1, 1, 0, 0, 1, 1, 0, 1, 1, 1, 0, 1, 1, 1, 1, 1, 1, 1, 1,\n",
       "       0, 1, 1, 1, 0, 1, 1, 0, 1, 0, 0, 1, 0, 0, 1, 0, 1, 0, 1, 1, 1, 1,\n",
       "       1, 0, 1, 1, 1, 1, 1, 0, 0, 1, 1, 1, 0, 1, 0, 1, 0, 0, 0, 0, 0, 1,\n",
       "       0, 0, 0, 1, 1, 1, 0, 1, 0, 1, 1, 1, 1, 1, 1, 0, 0, 1, 1, 1, 0, 0,\n",
       "       0, 1, 1, 1, 1, 0, 1, 1, 1, 0, 1, 1])"
      ]
     },
     "execution_count": 6,
     "metadata": {},
     "output_type": "execute_result"
    }
   ],
   "source": [
    "np.array([1, 1, 1, 1, 1, 0, 0, 1, 1, 0, 1, 1, 1, 0, 1, 1, 1, 1, 1, 1, 1,\n",
    "1, 0, 1, 1, 1, 0, 1, 1, 0, 1, 0, 0, 1, 0, 0, 1, 0, 1, 0, 1, 1, 1, 1,\n",
    "1, 0, 1, 1, 1, 1, 1, 0, 0, 1, 1, 1, 0, 1, 0, 1, 0, 0, 0, 0, 0, 1, 0,\n",
    "0, 0,1, 1, 1, 0, 1, 0, 1, 1, 1, 1, 1, 1, 0, 0, 1, 1, 1, 0, 0, 0, 1,\n",
    "1, 1,1, 0, 1, 1, 1, 0, 1, 1])"
   ]
  },
  {
   "cell_type": "code",
   "execution_count": 7,
   "id": "545f5656-8db5-44b1-8175-1494363618f9",
   "metadata": {},
   "outputs": [
    {
     "data": {
      "text/plain": [
       "array([44., 67., 51., 55., 59., 47., 50., 65., 36., 47., 55., 42., 36.,\n",
       "       44., 56., 58., 41., 39., 55., 62., 57., 48., 50., 67., 51., 35.,\n",
       "       46., 47., 29., 47., 50., 49., 52., 39., 33., 37., 53., 52., 50.,\n",
       "       51., 56., 60., 49., 40., 57., 48., 59., 51., 73., 56., 47., 53.,\n",
       "       39., 45., 41., 55., 43., 47., 58., 67.])"
      ]
     },
     "execution_count": 7,
     "metadata": {},
     "output_type": "execute_result"
    }
   ],
   "source": [
    "classscore = np.random.normal(50, 10, 60).round()\n",
    "classscore\n",
    "                               "
   ]
  },
  {
   "cell_type": "code",
   "execution_count": 12,
   "id": "a71981b8-bbe0-4c63-95b3-ced0827860e6",
   "metadata": {},
   "outputs": [
    {
     "data": {
      "image/png": "[encoded data removed]",
      "text/plain": [
       "<Figure size 640x480 with 1 Axes>"
      ]
     },
     "metadata": {},
     "output_type": "display_data"
    }
   ],
   "source": [
    "plt.hist(classscore, 30)\n",
    "plt.show()"
   ]
  },
  {
   "cell_type": "code",
   "execution_count": 13,
   "id": "c60dc594-2bb0-4d0b-972f-ab46f03b9e3c",
   "metadata": {},
   "outputs": [
    {
     "data": {
      "text/plain": [
       "array([-0.65511167,  1.88436614,  0.11777288,  0.5594212 ,  1.00106951,\n",
       "       -0.32387543,  0.00736081,  1.66354198, -1.53840829, -0.32387543,\n",
       "        0.5594212 , -0.87593582, -1.53840829, -0.65511167,  0.66983328,\n",
       "        0.89065743, -0.9863479 , -1.20717206,  0.5594212 ,  1.33230575,\n",
       "        0.78024535, -0.21346335,  0.00736081,  1.88436614,  0.11777288,\n",
       "       -1.64882037, -0.43428751, -0.32387543, -2.31129284, -0.32387543,\n",
       "        0.00736081, -0.10305127,  0.22818496, -1.20717206, -1.86964453,\n",
       "       -1.42799622,  0.33859704,  0.22818496,  0.00736081,  0.11777288,\n",
       "        0.66983328,  1.11148159, -0.10305127, -1.09675998,  0.78024535,\n",
       "       -0.21346335,  1.00106951,  0.11777288,  2.54683861,  0.66983328,\n",
       "       -0.32387543,  0.33859704, -1.20717206, -0.54469959, -0.9863479 ,\n",
       "        0.5594212 , -0.76552374, -0.32387543,  0.89065743,  1.88436614])"
      ]
     },
     "execution_count": 13,
     "metadata": {},
     "output_type": "execute_result"
    }
   ],
   "source": [
    "stats.zscore(classscore)"
   ]
  },
  {
   "cell_type": "code",
   "execution_count": 14,
   "id": "1f4dd523-2e03-485d-842e-649fde891e7e",
   "metadata": {},
   "outputs": [
    {
     "data": {
      "text/plain": [
       "0.0911019282653599"
      ]
     },
     "execution_count": 14,
     "metadata": {},
     "output_type": "execute_result"
    }
   ],
   "source": [
    "prob = 1 - stats.norm.cdf(1.334)\n",
    "prob"
   ]
  },
  {
   "cell_type": "code",
   "execution_count": 15,
   "id": "1180751e-2099-437d-a0b3-bf7457ea2a2d",
   "metadata": {},
   "outputs": [
    {
     "data": {
      "text/plain": [
       "0.8416212335729143"
      ]
     },
     "execution_count": 15,
     "metadata": {},
     "output_type": "execute_result"
    }
   ],
   "source": [
    "stats.norm.ppf(0.80)"
   ]
  },
  {
   "cell_type": "code",
   "execution_count": 16,
   "id": "7845dc36-692a-4e75-abe3-ea8ec6a5777c",
   "metadata": {},
   "outputs": [
    {
     "data": {
      "text/plain": [
       "57.541196633892824"
      ]
     },
     "execution_count": 16,
     "metadata": {},
     "output_type": "execute_result"
    }
   ],
   "source": [
    "(0.84 * classscore.std()) + classscore.mean()"
   ]
  },
  {
   "cell_type": "code",
   "execution_count": 17,
   "id": "ee949db5-7ed0-44a9-865c-c3400ac91cc6",
   "metadata": {},
   "outputs": [
    {
     "data": {
      "text/plain": [
       "1.9947782183315437"
      ]
     },
     "execution_count": 17,
     "metadata": {},
     "output_type": "execute_result"
    }
   ],
   "source": [
    "zscore = (68 - classscore.mean())/classscore.std()\n",
    "zscore"
   ]
  },
  {
   "cell_type": "code",
   "execution_count": 18,
   "id": "5c17592a-a1cc-440d-a50a-b91b885866a1",
   "metadata": {},
   "outputs": [
    {
     "data": {
      "text/plain": [
       "0.023033537006285187"
      ]
     },
     "execution_count": 18,
     "metadata": {},
     "output_type": "execute_result"
    }
   ],
   "source": [
    "prob = 1 - stats.norm.cdf(zscore)\n",
    "prob"
   ]
  },
  {
   "cell_type": "code",
   "execution_count": 19,
   "id": "4424ad1f-ff49-4f76-b142-014e5dc0f56a",
   "metadata": {},
   "outputs": [
    {
     "data": {
      "text/plain": [
       "-3.5"
      ]
     },
     "execution_count": 19,
     "metadata": {},
     "output_type": "execute_result"
    }
   ],
   "source": [
    "zscore = (53 - 60) / 2.0\n",
    "zscore"
   ]
  },
  {
   "cell_type": "code",
   "execution_count": 21,
   "id": "163e15cb-8413-410b-ad44-6a095ecc1b50",
   "metadata": {},
   "outputs": [
    {
     "data": {
      "text/plain": [
       "0.00023262907903552502"
      ]
     },
     "execution_count": 21,
     "metadata": {},
     "output_type": "execute_result"
    }
   ],
   "source": [
    "#The p-value would be:\n",
    "prob = stats.norm.cdf(zscore)\n",
    "prob"
   ]
  },
  {
   "cell_type": "code",
   "execution_count": 22,
   "id": "e3b7804d-2962-4814-993d-f4911785fe15",
   "metadata": {},
   "outputs": [],
   "source": [
    "height_data = np.array([ 186.0, 180.0, 195.0, 189.0, 191.0,\n",
    "177.0, 161.0, 177.0, 192.0, 182.0, 185.0, 192.0,\n",
    "173.0, 172.0, 191.0, 184.0, 193.0, 182.0, 190.0, 185.0, 181.0,\n",
    "188.0, 179.0, 188.0,\n",
    "170.0, 179.0, 180.0, 189.0, 188.0, 185.0, 170.0, 197.0, 187.0,\n",
    "182.0, 173.0, 179.0,\n",
    "184.0, 177.0, 190.0, 174.0, 203.0, 206.0, 173.0, 169.0, 178.0,\n",
    "201.0, 198.0, 166.0,\n",
    "171.0, 180.0])"
   ]
  },
  {
   "cell_type": "code",
   "execution_count": 24,
   "id": "fea7ad71-a70c-4937-8c2e-7e4467f3ecfa",
   "metadata": {},
   "outputs": [
    {
     "data": {
      "image/png": "[encoded data removed]",
      "text/plain": [
       "<Figure size 640x480 with 1 Axes>"
      ]
     },
     "metadata": {},
     "output_type": "display_data"
    }
   ],
   "source": [
    "plt.hist(height_data, 30)\n",
    "plt.show()"
   ]
  },
  {
   "cell_type": "code",
   "execution_count": 25,
   "id": "45400277-0dab-45b3-856a-f5755951b79a",
   "metadata": {},
   "outputs": [
    {
     "data": {
      "text/plain": [
       "183.24"
      ]
     },
     "execution_count": 25,
     "metadata": {},
     "output_type": "execute_result"
    }
   ],
   "source": [
    "height_data.mean()"
   ]
  },
  {
   "cell_type": "code",
   "execution_count": 26,
   "id": "c9affe5a-9a2f-4e09-95aa-dab89de43ae5",
   "metadata": {},
   "outputs": [
    {
     "data": {
      "text/plain": [
       "1.3787187190005248"
      ]
     },
     "execution_count": 26,
     "metadata": {},
     "output_type": "execute_result"
    }
   ],
   "source": [
    "#This can be calculated using the sem() function of the SciPy package:\n",
    "stats.sem(height_data)"
   ]
  },
  {
   "cell_type": "code",
   "execution_count": 28,
   "id": "b7f66774-4e67-4444-b8f6-b3951bc137b0",
   "metadata": {},
   "outputs": [
    {
     "data": {
      "image/png": "[encoded data removed]",
      "text/plain": [
       "<Figure size 640x480 with 1 Axes>"
      ]
     },
     "metadata": {},
     "output_type": "display_data"
    }
   ],
   "source": [
    "average_height = []\n",
    "for i in range(30):\n",
    "    sample50 = np.random.normal(183, 10, 50).round()\n",
    "    average_height.append(sample50.mean())\n",
    "plt.hist(average_height, 20)\n",
    "plt.show()"
   ]
  },
  {
   "cell_type": "code",
   "execution_count": 29,
   "id": "f29368db-a612-45f1-95cc-6fe20de0186b",
   "metadata": {},
   "outputs": [
    {
     "data": {
      "image/png": "[encoded data removed]",
      "text/plain": [
       "<Figure size 640x480 with 1 Axes>"
      ]
     },
     "metadata": {},
     "output_type": "display_data"
    }
   ],
   "source": [
    "average_height = []\n",
    "for i in range(30):\n",
    "    sample1000 = np.random.normal(183, 10, 1000).round()\n",
    "    average_height.append(sample1000.mean())\n",
    "plt.hist(average_height, 10)\n",
    "plt.show()\n",
    "         "
   ]
  },
  {
   "cell_type": "code",
   "execution_count": 30,
   "id": "c671f414-9e65-48f0-a198-c963ce22bc51",
   "metadata": {},
   "outputs": [
    {
     "data": {
      "text/plain": [
       "(-0.7761683718265864, 1.787835254121068e-07)"
      ]
     },
     "execution_count": 30,
     "metadata": {},
     "output_type": "execute_result"
    }
   ],
   "source": [
    "#Correlation\n",
    "mpg = [21.0, 21.0, 22.8, 21.4, 18.7, 18.1, 14.3, 24.4, 22.8,\n",
    "19.2, 17.8, 16.4, 17.3, 15.2, 10.4, 10.4, 14.7, 32.4, 30.4,\n",
    "33.9, 21.5, 15.5, 15.2, 13.3, 19.2, 27.3, 26.0, 30.4, 15.8,\n",
    "19.7, 15.0, 21.4]\n",
    "hp = [110, 110, 93, 110, 175, 105, 245, 62, 95, 123, 123, 180,\n",
    "180, 180, 205, 215, 230, 66, 52, 65, 97, 150, 150, 245,\n",
    "175, 66, 91, 113, 264, 175, 335, 109]\n",
    "stats.pearsonr(mpg, hp)"
   ]
  },
  {
   "cell_type": "code",
   "execution_count": 31,
   "id": "4816b43d-c2df-4d29-be88-840cd31d92c0",
   "metadata": {},
   "outputs": [
    {
     "data": {
      "image/png": "[encoded data removed]",
      "text/plain": [
       "<Figure size 640x480 with 1 Axes>"
      ]
     },
     "metadata": {},
     "output_type": "display_data"
    }
   ],
   "source": [
    "plt.scatter(mpg, hp)\n",
    "plt.show()"
   ]
  },
  {
   "cell_type": "code",
   "execution_count": 32,
   "id": "fc625021-2acd-401e-a6f9-38f01a778c2d",
   "metadata": {},
   "outputs": [],
   "source": [
    "mpg = [21.0, 21.0, 22.8, 21.4, 18.7, 18.1, 14.3, 24.4, 22.8,\n",
    "19.2, 17.8, 16.4, 17.3, 15.2, 10.4, 10.4, 14.7, 32.4, 30.4,\n",
    "33.9, 21.5, 15.5, 15.2, 13.3, 19.2, 27.3, 26.0, 30.4, 15.8,\n",
    "19.7, 15.0, 21.4, 120, 3]\n",
    "hp = [110, 110, 93, 110, 175, 105, 245, 62, 95, 123, 123, 180,\n",
    "180, 180, 205, 215, 230, 66, 52, 65, 97, 150, 150, 245,\n",
    "175, 66, 91, 113, 264, 175, 335, 109, 30, 600]"
   ]
  },
  {
   "cell_type": "code",
   "execution_count": 33,
   "id": "72809ca0-162c-47bc-b08e-30a90e81d61c",
   "metadata": {},
   "outputs": [
    {
     "data": {
      "image/png": "[encoded data removed]",
      "text/plain": [
       "<Figure size 640x480 with 1 Axes>"
      ]
     },
     "metadata": {},
     "output_type": "display_data"
    }
   ],
   "source": [
    "plt.scatter(mpg, hp)\n",
    "plt.show()"
   ]
  },
  {
   "cell_type": "code",
   "execution_count": 34,
   "id": "a39bddb7-0439-4b76-81b2-8c8134f4a63a",
   "metadata": {},
   "outputs": [
    {
     "data": {
      "text/plain": [
       "(-0.4741530489143548, 0.004612216794734842)"
      ]
     },
     "execution_count": 34,
     "metadata": {},
     "output_type": "execute_result"
    }
   ],
   "source": [
    "stats.pearsonr(mpg, hp)"
   ]
  },
  {
   "cell_type": "code",
   "execution_count": 35,
   "id": "06464ea0-e387-493f-90b6-7bc0276c3340",
   "metadata": {},
   "outputs": [
    {
     "data": {
      "text/plain": [
       "SpearmanrResult(correlation=-0.9122218433726569, pvalue=6.055168165798113e-14)"
      ]
     },
     "execution_count": 35,
     "metadata": {},
     "output_type": "execute_result"
    }
   ],
   "source": [
    "stats.spearmanr(mpg, hp)"
   ]
  },
  {
   "cell_type": "code",
   "execution_count": 36,
   "id": "667bc13a-404b-41e3-81ad-c90e8ac9ab82",
   "metadata": {},
   "outputs": [],
   "source": [
    "#Z-test vs T-test\n",
    "class1_score = np.array([45.0, 40.0, 49.0, 52.0, 54.0, 64.0,\n",
    "36.0, 41.0, 42.0, 34.0])\n",
    "class2_score = np.array([75.0, 85.0, 53.0, 70.0, 72.0, 93.0,\n",
    "61.0, 65.0, 65.0, 72.0])"
   ]
  },
  {
   "cell_type": "code",
   "execution_count": 37,
   "id": "6bb63244-2be5-41f4-a537-927cfb4b7561",
   "metadata": {},
   "outputs": [
    {
     "data": {
      "text/plain": [
       "Ttest_indResult(statistic=-5.458195056848408, pvalue=3.482072285015316e-05)"
      ]
     },
     "execution_count": 37,
     "metadata": {},
     "output_type": "execute_result"
    }
   ],
   "source": [
    "stats.ttest_ind(class1_score,class2_score)"
   ]
  },
  {
   "cell_type": "code",
   "execution_count": 38,
   "id": "4c1bb355-9f3b-44c9-8ac8-3a2f439a8e0a",
   "metadata": {},
   "outputs": [],
   "source": [
    "#The F distribution\n"
   ]
  },
  {
   "cell_type": "code",
   "execution_count": 39,
   "id": "e25e39c9-725f-49c9-a262-fd048435f5de",
   "metadata": {},
   "outputs": [],
   "source": [
    "#The chi-square distribution"
   ]
  },
  {
   "cell_type": "code",
   "execution_count": 40,
   "id": "e7f7fef6-6d40-4246-bdae-b3d3fc8599bf",
   "metadata": {},
   "outputs": [],
   "source": [
    "expected = np.array([6,6,6,6,6,6])\n"
   ]
  },
  {
   "cell_type": "code",
   "execution_count": 41,
   "id": "0c940e5f-c0f5-4670-a414-f0dba91b00c0",
   "metadata": {},
   "outputs": [],
   "source": [
    "observed = observed = np.array([7, 5, 3, 9, 6, 6])"
   ]
  },
  {
   "cell_type": "code",
   "execution_count": 42,
   "id": "5da73e25-6e83-4dcb-bdf3-bbb81dd2011b",
   "metadata": {},
   "outputs": [
    {
     "data": {
      "text/plain": [
       "Power_divergenceResult(statistic=3.333333333333333, pvalue=0.6487423586675934)"
      ]
     },
     "execution_count": 42,
     "metadata": {},
     "output_type": "execute_result"
    }
   ],
   "source": [
    "stats.chisquare(observed, expected)"
   ]
  },
  {
   "cell_type": "code",
   "execution_count": 44,
   "id": "439a4812-3a77-4eb7-a236-94cb85bf70c5",
   "metadata": {},
   "outputs": [
    {
     "data": {
      "text/plain": [
       "(28.362103174603167,\n",
       " 6.938211717057744e-07,\n",
       " 2,\n",
       " array([[136.95652174,  97.39130435,  45.65217391],\n",
       "        [313.04347826, 222.60869565, 104.34782609]]))"
      ]
     },
     "execution_count": 44,
     "metadata": {},
     "output_type": "execute_result"
    }
   ],
   "source": [
    "men_women = np.array([[100,120,60],[350,200,90]])\n",
    "stats.chi2_contingency(men_women)\n"
   ]
  },
  {
   "cell_type": "code",
   "execution_count": 45,
   "id": "3d6fa2c1-7ff3-474f-adc6-74e5a8c0d541",
   "metadata": {},
   "outputs": [],
   "source": [
    "country1 = np.array([ 176.,\n",
    "201., 172.,179., 180., 188., 187., 184., 171., 181., 192., 187., 178., 178., 180., 199., 185., 176.,\n",
    "207., 177., 160., 174., 176., 192., 189., 187., 183.,\n",
    "180., 181., 200., 190., 187., 175., 179., 181., 183.,\n",
    "171., 181., 190., 186., 185., 188., 201., 192., 188.,\n",
    "181., 172., 191., 201., 170., 170., 192., 185., 167.,\n",
    "178., 179., 167., 183., 200., 185.])"
   ]
  },
  {
   "cell_type": "code",
   "execution_count": 46,
   "id": "c99b41bb-ef09-4337-8264-4340a889e917",
   "metadata": {},
   "outputs": [],
   "source": [
    "country2 = np.array([ 177., 165., 185., 187., 167., 162., 165., 188., 194., 187., 175., 163., 178.,\n",
    "197., 172., 175., 185., 176., 171., 172., 186., 168.,\n",
    "178., 191., 192., 175., 189., 178., 181., 170., 182.,\n",
    "166., 189., 196., 192., 189., 171., 185., 198., 181.,\n",
    "167., 184., 179., 178., 193., 179., 177., 181., 174.,\n",
    "171., 184., 156., 180., 181., 187.])"
   ]
  },
  {
   "cell_type": "code",
   "execution_count": 47,
   "id": "3a16bc86-a79e-48fd-9caf-d1167817dda8",
   "metadata": {},
   "outputs": [],
   "source": [
    "country3 = np.array([ 191., 173., 175., 200., 190., 191.,\n",
    "185., 190.,184., 190., 191., 184., 167., 194., 195., 174., 171., 191.,\n",
    "174., 177., 182., 184., 176., 180., 181., 186., 179.,\n",
    "176., 186., 176., 184., 194., 179., 171., 174., 174.,\n",
    "182., 198., 180., 178., 200., 200., 174., 202., 176.,\n",
    "180., 163., 159., 194., 192., 163., 194., 183., 190.,\n",
    "186., 178., 182., 174., 178., 182.])"
   ]
  },
  {
   "cell_type": "code",
   "execution_count": 48,
   "id": "f445cd89-0919-4d2b-a40f-c97f00e43e6f",
   "metadata": {},
   "outputs": [
    {
     "data": {
      "text/plain": [
       "F_onewayResult(statistic=2.5521242583912342, pvalue=0.08086380925306352)"
      ]
     },
     "execution_count": 48,
     "metadata": {},
     "output_type": "execute_result"
    }
   ],
   "source": [
    "stats.f_oneway(country1, country2, country3)"
   ]
  },
  {
   "cell_type": "code",
   "execution_count": null,
   "id": "c55f9fff-900f-4ea5-be15-f1592ff0beed",
   "metadata": {},
   "outputs": [],
   "source": []
  }
 ],
 "metadata": {
  "kernelspec": {
   "display_name": "Python 3 (ipykernel)",
   "language": "python",
   "name": "python3"
  },
  "language_info": {
   "codemirror_mode": {
    "name": "ipython",
    "version": 3
   },
   "file_extension": ".py",
   "mimetype": "text/x-python",
   "name": "python",
   "nbconvert_exporter": "python",
   "pygments_lexer": "ipython3",
   "version": "3.10.8"
  }
 },
 "nbformat": 4,
 "nbformat_minor": 5
}
