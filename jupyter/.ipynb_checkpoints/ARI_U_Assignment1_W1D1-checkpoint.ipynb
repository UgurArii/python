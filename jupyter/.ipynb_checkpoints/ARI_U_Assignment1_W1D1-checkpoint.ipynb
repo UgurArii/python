{
  "nbformat": 4,
  "nbformat_minor": 0,
  "metadata": {
    "colab": {
      "provenance": []
    },
    "kernelspec": {
      "name": "python3",
      "display_name": "Python 3"
    },
    "language_info": {
      "name": "python"
    }
  },
  "cells": [
    {
      "cell_type": "markdown",
      "source": [
        "#Assignment: Data Processing with Bash Commands\n"
      ],
      "metadata": {
        "id": "L15knShgumN7"
      }
    },
    {
      "cell_type": "markdown",
      "source": [
        "In this assignment, you will be working with UNIX command-line tools to manipulate a dataset. You will be using a Google Colab notebook for this assignment.\n",
        "\n",
        "\n",
        "> **Instructions**\n",
        "\n",
        "1.   Create a new directory called \"data\" in your home directory.\n",
        "2.   Use the \"wget\" command to download the following dataset from a URL: https://archive.ics.uci.edu/ml/machine-learning-databases/iris/iris.data\n",
        "3. Rename the dataset file and move it into the specific directory.\n",
        "4. Use the \"awk\" command to print only the first column of the dataset file (the sepal length).\n",
        "5. Use the \"grep\" command to filter the dataset file to only include rows where the species is \"versicolor\".\n",
        "6. Use the \"sort\" command to sort the filtered dataset by the sepal length in descending order.\n",
        "7. Use the \"cut\" command to print only the first three columns of the sorted dataset.\n",
        "8. Use the \"sed\" command to replace the species name \"versicolor\" with \"Iris-versicolor\" in the filtered dataset.\n",
        "9. Use the \"head\" command to print the first 10 lines of the final dataset.\n",
        "10. Use the \"tar\" command to compress the \"data\" directory into a tarball called \"data.tar.gz\".\n",
        "11. Move the tarball into a new directory called \"backup\" in your home directory.\n",
        "12. Use the \"find\" command to search for all files in the \"backup\" directory that have been modified in the last 7 days.\n",
        "13. Use the \"diff\" command to compare the final dataset file in the \"data\" directory with the same file in the \"backup\" directory.\n",
        "14. Use the \"cmp\" command to compare the compressed tarball in the \"backup\" directory with the original \"data\" directory to ensure they are identical.\n",
        "15. Write a Bash script that automates all of the above steps and saves the final dataset file in a new file called \"final_dataset.csv\".\n",
        "\n",
        "You may need some aditional actions to be taken druing the operation like unziping a file etc. Please take the necessary actions if it is needed in your aproach.\n",
        "\n",
        "**Note**:Please, first copy this notebook into your drive and after that start working on the notebook you copied. After completing the notebook share and upload as stated in Canvas.\n",
        "\n",
        "Good luck!\n"
      ],
      "metadata": {
        "id": "rV4P4ySmu184"
      }
    },
    {
      "cell_type": "markdown",
      "source": [
        "#Step 1: Create a new directory called \"data\" in your home directory (6 Points)\n",
        "In the first step, create a new directory called \"data\" in your home directory using the following command:"
      ],
      "metadata": {
        "id": "E037PKxTuj6O"
      }
    },
    {
      "cell_type": "code",
      "source": [
        "#Your code starts here\n",
        "!pwd\n",
        "#Your code ends here\n",
        "!mkdir ~/data"
      ],
      "metadata": {
        "id": "8dNgBvlJvGfY",
        "colab": {
          "base_uri": "https://localhost:8080/"
        },
        "outputId": "2dcd1170-f9d2-4476-c141-6d13d2fcacaf"
      },
      "execution_count": 7,
      "outputs": [
        {
          "output_type": "stream",
          "name": "stdout",
          "text": [
            "/content\n"
          ]
        }
      ]
    },
    {
      "cell_type": "markdown",
      "source": [
        "#Step 2: Download the Iris dataset (6 Points)\n",
        "In the second step, download the Iris dataset using the following command:"
      ],
      "metadata": {
        "id": "ez92Y_NQvQw4"
      }
    },
    {
      "cell_type": "code",
      "source": [
        "#Your code starts here\n",
        "!wget https://archive.ics.uci.edu/ml/machine-learning-databases/iris/iris.data -P ~/data\n",
        "#Your code ends here"
      ],
      "metadata": {
        "id": "g-MtLPXSveGa",
        "colab": {
          "base_uri": "https://localhost:8080/"
        },
        "outputId": "33a55332-c526-49b4-c2c8-b44222928f71"
      },
      "execution_count": 8,
      "outputs": [
        {
          "output_type": "stream",
          "name": "stdout",
          "text": [
            "--2023-03-03 20:38:12--  https://archive.ics.uci.edu/ml/machine-learning-databases/iris/iris.data\n",
            "Resolving archive.ics.uci.edu (archive.ics.uci.edu)... 128.195.10.252\n",
            "Connecting to archive.ics.uci.edu (archive.ics.uci.edu)|128.195.10.252|:443... connected.\n",
            "HTTP request sent, awaiting response... 200 OK\n",
            "Length: 4551 (4.4K) [application/x-httpd-php]\n",
            "Saving to: ‘/root/data/iris.data’\n",
            "\n",
            "\riris.data             0%[                    ]       0  --.-KB/s               \riris.data           100%[===================>]   4.44K  --.-KB/s    in 0s      \n",
            "\n",
            "2023-03-03 20:38:12 (113 MB/s) - ‘/root/data/iris.data’ saved [4551/4551]\n",
            "\n"
          ]
        }
      ]
    },
    {
      "cell_type": "markdown",
      "source": [
        "This will download the dataset to the \"data\" directory you created in Step 1.\n",
        "\n"
      ],
      "metadata": {
        "id": "oCj9Uhxivk5-"
      }
    },
    {
      "cell_type": "markdown",
      "source": [
        "#Step 3: Move the dataset (6 Points)\n",
        "In the third step, create a directory named 'Iris' and move the iris.data to 'Iris' director çby using the following commands:"
      ],
      "metadata": {
        "id": "b9_t10IbvmvJ"
      }
    },
    {
      "cell_type": "code",
      "source": [
        "#Your code starts here\n",
        "!mkdir ~/data/Iris\n",
        "#Your code ends here\n",
        "!mv ~/data/iris.data ~/data/Iris"
      ],
      "metadata": {
        "id": "Ohxjg00Uvgro",
        "colab": {
          "base_uri": "https://localhost:8080/"
        },
        "outputId": "4cdd69c3-2deb-4fe6-e4dc-7f2294e825a7"
      },
      "execution_count": 10,
      "outputs": [
        {
          "output_type": "stream",
          "name": "stdout",
          "text": [
            "mkdir: cannot create directory ‘/root/data/Iris’: File exists\n",
            "mv: cannot stat '/root/data/iris.data': No such file or directory\n"
          ]
        }
      ]
    },
    {
      "cell_type": "markdown",
      "source": [
        "#Step 4: Print the sepal length column (6 Points)\n",
        "In the fourth step, use the \"awk\" command to print only the first column of the dataset file (the sepal length) using the following command:\n"
      ],
      "metadata": {
        "id": "rhBCMTUcy9oo"
      }
    },
    {
      "cell_type": "code",
      "source": [
        "#Your code starts here\n",
        "!awk '{print $1}' ~/data/Iris/iris.data\n",
        "#Your code ends here\n"
      ],
      "metadata": {
        "id": "53khGkFdvg9M",
        "colab": {
          "base_uri": "https://localhost:8080/"
        },
        "outputId": "39102b95-1eec-4625-fea6-7db5960ed6df"
      },
      "execution_count": 12,
      "outputs": [
        {
          "output_type": "stream",
          "name": "stdout",
          "text": [
            "5.1,3.5,1.4,0.2,Iris-setosa\n",
            "4.9,3.0,1.4,0.2,Iris-setosa\n",
            "4.7,3.2,1.3,0.2,Iris-setosa\n",
            "4.6,3.1,1.5,0.2,Iris-setosa\n",
            "5.0,3.6,1.4,0.2,Iris-setosa\n",
            "5.4,3.9,1.7,0.4,Iris-setosa\n",
            "4.6,3.4,1.4,0.3,Iris-setosa\n",
            "5.0,3.4,1.5,0.2,Iris-setosa\n",
            "4.4,2.9,1.4,0.2,Iris-setosa\n",
            "4.9,3.1,1.5,0.1,Iris-setosa\n",
            "5.4,3.7,1.5,0.2,Iris-setosa\n",
            "4.8,3.4,1.6,0.2,Iris-setosa\n",
            "4.8,3.0,1.4,0.1,Iris-setosa\n",
            "4.3,3.0,1.1,0.1,Iris-setosa\n",
            "5.8,4.0,1.2,0.2,Iris-setosa\n",
            "5.7,4.4,1.5,0.4,Iris-setosa\n",
            "5.4,3.9,1.3,0.4,Iris-setosa\n",
            "5.1,3.5,1.4,0.3,Iris-setosa\n",
            "5.7,3.8,1.7,0.3,Iris-setosa\n",
            "5.1,3.8,1.5,0.3,Iris-setosa\n",
            "5.4,3.4,1.7,0.2,Iris-setosa\n",
            "5.1,3.7,1.5,0.4,Iris-setosa\n",
            "4.6,3.6,1.0,0.2,Iris-setosa\n",
            "5.1,3.3,1.7,0.5,Iris-setosa\n",
            "4.8,3.4,1.9,0.2,Iris-setosa\n",
            "5.0,3.0,1.6,0.2,Iris-setosa\n",
            "5.0,3.4,1.6,0.4,Iris-setosa\n",
            "5.2,3.5,1.5,0.2,Iris-setosa\n",
            "5.2,3.4,1.4,0.2,Iris-setosa\n",
            "4.7,3.2,1.6,0.2,Iris-setosa\n",
            "4.8,3.1,1.6,0.2,Iris-setosa\n",
            "5.4,3.4,1.5,0.4,Iris-setosa\n",
            "5.2,4.1,1.5,0.1,Iris-setosa\n",
            "5.5,4.2,1.4,0.2,Iris-setosa\n",
            "4.9,3.1,1.5,0.1,Iris-setosa\n",
            "5.0,3.2,1.2,0.2,Iris-setosa\n",
            "5.5,3.5,1.3,0.2,Iris-setosa\n",
            "4.9,3.1,1.5,0.1,Iris-setosa\n",
            "4.4,3.0,1.3,0.2,Iris-setosa\n",
            "5.1,3.4,1.5,0.2,Iris-setosa\n",
            "5.0,3.5,1.3,0.3,Iris-setosa\n",
            "4.5,2.3,1.3,0.3,Iris-setosa\n",
            "4.4,3.2,1.3,0.2,Iris-setosa\n",
            "5.0,3.5,1.6,0.6,Iris-setosa\n",
            "5.1,3.8,1.9,0.4,Iris-setosa\n",
            "4.8,3.0,1.4,0.3,Iris-setosa\n",
            "5.1,3.8,1.6,0.2,Iris-setosa\n",
            "4.6,3.2,1.4,0.2,Iris-setosa\n",
            "5.3,3.7,1.5,0.2,Iris-setosa\n",
            "5.0,3.3,1.4,0.2,Iris-setosa\n",
            "7.0,3.2,4.7,1.4,Iris-versicolor\n",
            "6.4,3.2,4.5,1.5,Iris-versicolor\n",
            "6.9,3.1,4.9,1.5,Iris-versicolor\n",
            "5.5,2.3,4.0,1.3,Iris-versicolor\n",
            "6.5,2.8,4.6,1.5,Iris-versicolor\n",
            "5.7,2.8,4.5,1.3,Iris-versicolor\n",
            "6.3,3.3,4.7,1.6,Iris-versicolor\n",
            "4.9,2.4,3.3,1.0,Iris-versicolor\n",
            "6.6,2.9,4.6,1.3,Iris-versicolor\n",
            "5.2,2.7,3.9,1.4,Iris-versicolor\n",
            "5.0,2.0,3.5,1.0,Iris-versicolor\n",
            "5.9,3.0,4.2,1.5,Iris-versicolor\n",
            "6.0,2.2,4.0,1.0,Iris-versicolor\n",
            "6.1,2.9,4.7,1.4,Iris-versicolor\n",
            "5.6,2.9,3.6,1.3,Iris-versicolor\n",
            "6.7,3.1,4.4,1.4,Iris-versicolor\n",
            "5.6,3.0,4.5,1.5,Iris-versicolor\n",
            "5.8,2.7,4.1,1.0,Iris-versicolor\n",
            "6.2,2.2,4.5,1.5,Iris-versicolor\n",
            "5.6,2.5,3.9,1.1,Iris-versicolor\n",
            "5.9,3.2,4.8,1.8,Iris-versicolor\n",
            "6.1,2.8,4.0,1.3,Iris-versicolor\n",
            "6.3,2.5,4.9,1.5,Iris-versicolor\n",
            "6.1,2.8,4.7,1.2,Iris-versicolor\n",
            "6.4,2.9,4.3,1.3,Iris-versicolor\n",
            "6.6,3.0,4.4,1.4,Iris-versicolor\n",
            "6.8,2.8,4.8,1.4,Iris-versicolor\n",
            "6.7,3.0,5.0,1.7,Iris-versicolor\n",
            "6.0,2.9,4.5,1.5,Iris-versicolor\n",
            "5.7,2.6,3.5,1.0,Iris-versicolor\n",
            "5.5,2.4,3.8,1.1,Iris-versicolor\n",
            "5.5,2.4,3.7,1.0,Iris-versicolor\n",
            "5.8,2.7,3.9,1.2,Iris-versicolor\n",
            "6.0,2.7,5.1,1.6,Iris-versicolor\n",
            "5.4,3.0,4.5,1.5,Iris-versicolor\n",
            "6.0,3.4,4.5,1.6,Iris-versicolor\n",
            "6.7,3.1,4.7,1.5,Iris-versicolor\n",
            "6.3,2.3,4.4,1.3,Iris-versicolor\n",
            "5.6,3.0,4.1,1.3,Iris-versicolor\n",
            "5.5,2.5,4.0,1.3,Iris-versicolor\n",
            "5.5,2.6,4.4,1.2,Iris-versicolor\n",
            "6.1,3.0,4.6,1.4,Iris-versicolor\n",
            "5.8,2.6,4.0,1.2,Iris-versicolor\n",
            "5.0,2.3,3.3,1.0,Iris-versicolor\n",
            "5.6,2.7,4.2,1.3,Iris-versicolor\n",
            "5.7,3.0,4.2,1.2,Iris-versicolor\n",
            "5.7,2.9,4.2,1.3,Iris-versicolor\n",
            "6.2,2.9,4.3,1.3,Iris-versicolor\n",
            "5.1,2.5,3.0,1.1,Iris-versicolor\n",
            "5.7,2.8,4.1,1.3,Iris-versicolor\n",
            "6.3,3.3,6.0,2.5,Iris-virginica\n",
            "5.8,2.7,5.1,1.9,Iris-virginica\n",
            "7.1,3.0,5.9,2.1,Iris-virginica\n",
            "6.3,2.9,5.6,1.8,Iris-virginica\n",
            "6.5,3.0,5.8,2.2,Iris-virginica\n",
            "7.6,3.0,6.6,2.1,Iris-virginica\n",
            "4.9,2.5,4.5,1.7,Iris-virginica\n",
            "7.3,2.9,6.3,1.8,Iris-virginica\n",
            "6.7,2.5,5.8,1.8,Iris-virginica\n",
            "7.2,3.6,6.1,2.5,Iris-virginica\n",
            "6.5,3.2,5.1,2.0,Iris-virginica\n",
            "6.4,2.7,5.3,1.9,Iris-virginica\n",
            "6.8,3.0,5.5,2.1,Iris-virginica\n",
            "5.7,2.5,5.0,2.0,Iris-virginica\n",
            "5.8,2.8,5.1,2.4,Iris-virginica\n",
            "6.4,3.2,5.3,2.3,Iris-virginica\n",
            "6.5,3.0,5.5,1.8,Iris-virginica\n",
            "7.7,3.8,6.7,2.2,Iris-virginica\n",
            "7.7,2.6,6.9,2.3,Iris-virginica\n",
            "6.0,2.2,5.0,1.5,Iris-virginica\n",
            "6.9,3.2,5.7,2.3,Iris-virginica\n",
            "5.6,2.8,4.9,2.0,Iris-virginica\n",
            "7.7,2.8,6.7,2.0,Iris-virginica\n",
            "6.3,2.7,4.9,1.8,Iris-virginica\n",
            "6.7,3.3,5.7,2.1,Iris-virginica\n",
            "7.2,3.2,6.0,1.8,Iris-virginica\n",
            "6.2,2.8,4.8,1.8,Iris-virginica\n",
            "6.1,3.0,4.9,1.8,Iris-virginica\n",
            "6.4,2.8,5.6,2.1,Iris-virginica\n",
            "7.2,3.0,5.8,1.6,Iris-virginica\n",
            "7.4,2.8,6.1,1.9,Iris-virginica\n",
            "7.9,3.8,6.4,2.0,Iris-virginica\n",
            "6.4,2.8,5.6,2.2,Iris-virginica\n",
            "6.3,2.8,5.1,1.5,Iris-virginica\n",
            "6.1,2.6,5.6,1.4,Iris-virginica\n",
            "7.7,3.0,6.1,2.3,Iris-virginica\n",
            "6.3,3.4,5.6,2.4,Iris-virginica\n",
            "6.4,3.1,5.5,1.8,Iris-virginica\n",
            "6.0,3.0,4.8,1.8,Iris-virginica\n",
            "6.9,3.1,5.4,2.1,Iris-virginica\n",
            "6.7,3.1,5.6,2.4,Iris-virginica\n",
            "6.9,3.1,5.1,2.3,Iris-virginica\n",
            "5.8,2.7,5.1,1.9,Iris-virginica\n",
            "6.8,3.2,5.9,2.3,Iris-virginica\n",
            "6.7,3.3,5.7,2.5,Iris-virginica\n",
            "6.7,3.0,5.2,2.3,Iris-virginica\n",
            "6.3,2.5,5.0,1.9,Iris-virginica\n",
            "6.5,3.0,5.2,2.0,Iris-virginica\n",
            "6.2,3.4,5.4,2.3,Iris-virginica\n",
            "5.9,3.0,5.1,1.8,Iris-virginica\n",
            "\n"
          ]
        }
      ]
    },
    {
      "cell_type": "markdown",
      "source": [
        "#Step 5: Filter the dataset for versicolor species (6 Points)\n",
        "In the fifth step, use the \"grep\" command to filter the dataset file to only include rows where the species is \"versicolor\" using the following command:\n",
        "\n"
      ],
      "metadata": {
        "id": "cfGs0dLNzPHU"
      }
    },
    {
      "cell_type": "code",
      "source": [
        "#Your code starts here\n",
        "!grep \"versicolor\" ~/data/Iris/iris.data\n",
        "#Your code ends here"
      ],
      "metadata": {
        "id": "9-NIk6Z7vhIg",
        "colab": {
          "base_uri": "https://localhost:8080/"
        },
        "outputId": "52240ead-fcdf-4271-b2f2-3f48d434a174"
      },
      "execution_count": 13,
      "outputs": [
        {
          "output_type": "stream",
          "name": "stdout",
          "text": [
            "7.0,3.2,4.7,1.4,Iris-versicolor\n",
            "6.4,3.2,4.5,1.5,Iris-versicolor\n",
            "6.9,3.1,4.9,1.5,Iris-versicolor\n",
            "5.5,2.3,4.0,1.3,Iris-versicolor\n",
            "6.5,2.8,4.6,1.5,Iris-versicolor\n",
            "5.7,2.8,4.5,1.3,Iris-versicolor\n",
            "6.3,3.3,4.7,1.6,Iris-versicolor\n",
            "4.9,2.4,3.3,1.0,Iris-versicolor\n",
            "6.6,2.9,4.6,1.3,Iris-versicolor\n",
            "5.2,2.7,3.9,1.4,Iris-versicolor\n",
            "5.0,2.0,3.5,1.0,Iris-versicolor\n",
            "5.9,3.0,4.2,1.5,Iris-versicolor\n",
            "6.0,2.2,4.0,1.0,Iris-versicolor\n",
            "6.1,2.9,4.7,1.4,Iris-versicolor\n",
            "5.6,2.9,3.6,1.3,Iris-versicolor\n",
            "6.7,3.1,4.4,1.4,Iris-versicolor\n",
            "5.6,3.0,4.5,1.5,Iris-versicolor\n",
            "5.8,2.7,4.1,1.0,Iris-versicolor\n",
            "6.2,2.2,4.5,1.5,Iris-versicolor\n",
            "5.6,2.5,3.9,1.1,Iris-versicolor\n",
            "5.9,3.2,4.8,1.8,Iris-versicolor\n",
            "6.1,2.8,4.0,1.3,Iris-versicolor\n",
            "6.3,2.5,4.9,1.5,Iris-versicolor\n",
            "6.1,2.8,4.7,1.2,Iris-versicolor\n",
            "6.4,2.9,4.3,1.3,Iris-versicolor\n",
            "6.6,3.0,4.4,1.4,Iris-versicolor\n",
            "6.8,2.8,4.8,1.4,Iris-versicolor\n",
            "6.7,3.0,5.0,1.7,Iris-versicolor\n",
            "6.0,2.9,4.5,1.5,Iris-versicolor\n",
            "5.7,2.6,3.5,1.0,Iris-versicolor\n",
            "5.5,2.4,3.8,1.1,Iris-versicolor\n",
            "5.5,2.4,3.7,1.0,Iris-versicolor\n",
            "5.8,2.7,3.9,1.2,Iris-versicolor\n",
            "6.0,2.7,5.1,1.6,Iris-versicolor\n",
            "5.4,3.0,4.5,1.5,Iris-versicolor\n",
            "6.0,3.4,4.5,1.6,Iris-versicolor\n",
            "6.7,3.1,4.7,1.5,Iris-versicolor\n",
            "6.3,2.3,4.4,1.3,Iris-versicolor\n",
            "5.6,3.0,4.1,1.3,Iris-versicolor\n",
            "5.5,2.5,4.0,1.3,Iris-versicolor\n",
            "5.5,2.6,4.4,1.2,Iris-versicolor\n",
            "6.1,3.0,4.6,1.4,Iris-versicolor\n",
            "5.8,2.6,4.0,1.2,Iris-versicolor\n",
            "5.0,2.3,3.3,1.0,Iris-versicolor\n",
            "5.6,2.7,4.2,1.3,Iris-versicolor\n",
            "5.7,3.0,4.2,1.2,Iris-versicolor\n",
            "5.7,2.9,4.2,1.3,Iris-versicolor\n",
            "6.2,2.9,4.3,1.3,Iris-versicolor\n",
            "5.1,2.5,3.0,1.1,Iris-versicolor\n",
            "5.7,2.8,4.1,1.3,Iris-versicolor\n"
          ]
        }
      ]
    },
    {
      "cell_type": "markdown",
      "source": [
        "#Step 6: Sort the dataset by sepal length (6 Points)\n",
        "In the sixth step, use the \"sort\" command to sort the filtered dataset by the sepal length in descending order using the following command:\n",
        "\n"
      ],
      "metadata": {
        "id": "FKjLkMiZzl5R"
      }
    },
    {
      "cell_type": "code",
      "source": [
        "#Your code starts here\n",
        "!grep \"versicolor\" ~/data/Iris/iris.data | sort -r -k 1\n",
        "#Your code ends here"
      ],
      "metadata": {
        "id": "rH38oijozXBP",
        "colab": {
          "base_uri": "https://localhost:8080/"
        },
        "outputId": "0e121fe6-1236-433d-f61b-2761f5c5fa1f"
      },
      "execution_count": 14,
      "outputs": [
        {
          "output_type": "stream",
          "name": "stdout",
          "text": [
            "7.0,3.2,4.7,1.4,Iris-versicolor\n",
            "6.9,3.1,4.9,1.5,Iris-versicolor\n",
            "6.8,2.8,4.8,1.4,Iris-versicolor\n",
            "6.7,3.1,4.7,1.5,Iris-versicolor\n",
            "6.7,3.1,4.4,1.4,Iris-versicolor\n",
            "6.7,3.0,5.0,1.7,Iris-versicolor\n",
            "6.6,3.0,4.4,1.4,Iris-versicolor\n",
            "6.6,2.9,4.6,1.3,Iris-versicolor\n",
            "6.5,2.8,4.6,1.5,Iris-versicolor\n",
            "6.4,3.2,4.5,1.5,Iris-versicolor\n",
            "6.4,2.9,4.3,1.3,Iris-versicolor\n",
            "6.3,3.3,4.7,1.6,Iris-versicolor\n",
            "6.3,2.5,4.9,1.5,Iris-versicolor\n",
            "6.3,2.3,4.4,1.3,Iris-versicolor\n",
            "6.2,2.9,4.3,1.3,Iris-versicolor\n",
            "6.2,2.2,4.5,1.5,Iris-versicolor\n",
            "6.1,3.0,4.6,1.4,Iris-versicolor\n",
            "6.1,2.9,4.7,1.4,Iris-versicolor\n",
            "6.1,2.8,4.7,1.2,Iris-versicolor\n",
            "6.1,2.8,4.0,1.3,Iris-versicolor\n",
            "6.0,3.4,4.5,1.6,Iris-versicolor\n",
            "6.0,2.9,4.5,1.5,Iris-versicolor\n",
            "6.0,2.7,5.1,1.6,Iris-versicolor\n",
            "6.0,2.2,4.0,1.0,Iris-versicolor\n",
            "5.9,3.2,4.8,1.8,Iris-versicolor\n",
            "5.9,3.0,4.2,1.5,Iris-versicolor\n",
            "5.8,2.7,4.1,1.0,Iris-versicolor\n",
            "5.8,2.7,3.9,1.2,Iris-versicolor\n",
            "5.8,2.6,4.0,1.2,Iris-versicolor\n",
            "5.7,3.0,4.2,1.2,Iris-versicolor\n",
            "5.7,2.9,4.2,1.3,Iris-versicolor\n",
            "5.7,2.8,4.5,1.3,Iris-versicolor\n",
            "5.7,2.8,4.1,1.3,Iris-versicolor\n",
            "5.7,2.6,3.5,1.0,Iris-versicolor\n",
            "5.6,3.0,4.5,1.5,Iris-versicolor\n",
            "5.6,3.0,4.1,1.3,Iris-versicolor\n",
            "5.6,2.9,3.6,1.3,Iris-versicolor\n",
            "5.6,2.7,4.2,1.3,Iris-versicolor\n",
            "5.6,2.5,3.9,1.1,Iris-versicolor\n",
            "5.5,2.6,4.4,1.2,Iris-versicolor\n",
            "5.5,2.5,4.0,1.3,Iris-versicolor\n",
            "5.5,2.4,3.8,1.1,Iris-versicolor\n",
            "5.5,2.4,3.7,1.0,Iris-versicolor\n",
            "5.5,2.3,4.0,1.3,Iris-versicolor\n",
            "5.4,3.0,4.5,1.5,Iris-versicolor\n",
            "5.2,2.7,3.9,1.4,Iris-versicolor\n",
            "5.1,2.5,3.0,1.1,Iris-versicolor\n",
            "5.0,2.3,3.3,1.0,Iris-versicolor\n",
            "5.0,2.0,3.5,1.0,Iris-versicolor\n",
            "4.9,2.4,3.3,1.0,Iris-versicolor\n"
          ]
        }
      ]
    },
    {
      "cell_type": "markdown",
      "source": [
        "#Step 7: Print the first three columns of the sorted dataset (6 Points)\n",
        "In the seventh step, use the \"cut\" command to print only the first three columns of the sorted dataset using the following command:\n",
        "\n"
      ],
      "metadata": {
        "id": "NGn0NmjCzpnz"
      }
    },
    {
      "cell_type": "code",
      "source": [
        "#Your code starts here\n",
        "!grep \"versicolor\" ~/data/Iris/iris.data | sort -r -k 1 | cut -d ',' -f 1-3\n",
        "#Your code ends here"
      ],
      "metadata": {
        "id": "Rz8JHoX-zXI-",
        "colab": {
          "base_uri": "https://localhost:8080/"
        },
        "outputId": "32ab2cd0-f82a-4a63-b684-4256c7f275b6"
      },
      "execution_count": 15,
      "outputs": [
        {
          "output_type": "stream",
          "name": "stdout",
          "text": [
            "7.0,3.2,4.7\n",
            "6.9,3.1,4.9\n",
            "6.8,2.8,4.8\n",
            "6.7,3.1,4.7\n",
            "6.7,3.1,4.4\n",
            "6.7,3.0,5.0\n",
            "6.6,3.0,4.4\n",
            "6.6,2.9,4.6\n",
            "6.5,2.8,4.6\n",
            "6.4,3.2,4.5\n",
            "6.4,2.9,4.3\n",
            "6.3,3.3,4.7\n",
            "6.3,2.5,4.9\n",
            "6.3,2.3,4.4\n",
            "6.2,2.9,4.3\n",
            "6.2,2.2,4.5\n",
            "6.1,3.0,4.6\n",
            "6.1,2.9,4.7\n",
            "6.1,2.8,4.7\n",
            "6.1,2.8,4.0\n",
            "6.0,3.4,4.5\n",
            "6.0,2.9,4.5\n",
            "6.0,2.7,5.1\n",
            "6.0,2.2,4.0\n",
            "5.9,3.2,4.8\n",
            "5.9,3.0,4.2\n",
            "5.8,2.7,4.1\n",
            "5.8,2.7,3.9\n",
            "5.8,2.6,4.0\n",
            "5.7,3.0,4.2\n",
            "5.7,2.9,4.2\n",
            "5.7,2.8,4.5\n",
            "5.7,2.8,4.1\n",
            "5.7,2.6,3.5\n",
            "5.6,3.0,4.5\n",
            "5.6,3.0,4.1\n",
            "5.6,2.9,3.6\n",
            "5.6,2.7,4.2\n",
            "5.6,2.5,3.9\n",
            "5.5,2.6,4.4\n",
            "5.5,2.5,4.0\n",
            "5.5,2.4,3.8\n",
            "5.5,2.4,3.7\n",
            "5.5,2.3,4.0\n",
            "5.4,3.0,4.5\n",
            "5.2,2.7,3.9\n",
            "5.1,2.5,3.0\n",
            "5.0,2.3,3.3\n",
            "5.0,2.0,3.5\n",
            "4.9,2.4,3.3\n"
          ]
        }
      ]
    },
    {
      "cell_type": "markdown",
      "source": [
        "#Step 8: Replace the species name with \"Iris-versicolor\" (6 Points)\n",
        "In the eighth step, use the \"sed\" command to replace the species name \"versicolor\" with \"Iris-versicolor\" in the filtered dataset using the following command:"
      ],
      "metadata": {
        "id": "kthXo36gzwz3"
      }
    },
    {
      "cell_type": "code",
      "source": [
        "#Your code starts here\n",
        "!sed -i 's/versicolor/Iris-versicolor/g' ~/data/Iris/iris.data\n",
        "#Your code ends here"
      ],
      "metadata": {
        "id": "NdeZbgUczXOi"
      },
      "execution_count": 17,
      "outputs": []
    },
    {
      "cell_type": "markdown",
      "source": [
        "#Step 9: Print the first 10 lines of the final dataset (6 Points)\n",
        "In the ninth step, use the \"head\" command to print the first 10 lines of the final dataset using the following command:"
      ],
      "metadata": {
        "id": "Nt7QpTx3z3AO"
      }
    },
    {
      "cell_type": "code",
      "source": [
        "#Your code starts here\n",
        "!head -n 10 ~/data/Iris/iris.data\n",
        "#Your code ends here"
      ],
      "metadata": {
        "id": "dmqdHTGszYf7",
        "colab": {
          "base_uri": "https://localhost:8080/"
        },
        "outputId": "9b46886f-8c92-4c76-d89a-fb0b31971b1c"
      },
      "execution_count": 18,
      "outputs": [
        {
          "output_type": "stream",
          "name": "stdout",
          "text": [
            "5.1,3.5,1.4,0.2,Iris-setosa\n",
            "4.9,3.0,1.4,0.2,Iris-setosa\n",
            "4.7,3.2,1.3,0.2,Iris-setosa\n",
            "4.6,3.1,1.5,0.2,Iris-setosa\n",
            "5.0,3.6,1.4,0.2,Iris-setosa\n",
            "5.4,3.9,1.7,0.4,Iris-setosa\n",
            "4.6,3.4,1.4,0.3,Iris-setosa\n",
            "5.0,3.4,1.5,0.2,Iris-setosa\n",
            "4.4,2.9,1.4,0.2,Iris-setosa\n",
            "4.9,3.1,1.5,0.1,Iris-setosa\n"
          ]
        }
      ]
    },
    {
      "cell_type": "markdown",
      "source": [
        "#Step 10: Compress the \"data\" directory into a tarball (6 Points)\n",
        "In the tenth step, use the \"tar\" command to compress the \"data\" directory into a tarball called \"data.tar.gz\" using the following command:"
      ],
      "metadata": {
        "id": "767zQG6E0Eoy"
      }
    },
    {
      "cell_type": "code",
      "source": [
        "#Your code starts here\n",
        "!tar -czvf data.tar.gz ~/data\n",
        "#Your code ends here"
      ],
      "metadata": {
        "id": "ydPfnA7UzYnr",
        "colab": {
          "base_uri": "https://localhost:8080/"
        },
        "outputId": "e0f081e5-e047-4e03-d47f-2d6c36368bc2"
      },
      "execution_count": 19,
      "outputs": [
        {
          "output_type": "stream",
          "name": "stdout",
          "text": [
            "tar: Removing leading `/' from member names\n",
            "/root/data/\n",
            "/root/data/Iris/\n",
            "/root/data/Iris/iris.data\n"
          ]
        }
      ]
    },
    {
      "cell_type": "markdown",
      "source": [
        "#Step 11: Move the tarball to the \"backup\" directory (6 Points)\n",
        "In the eleventh step, move the tarball into a new directory called \"backup\" in your home directory using the following command:"
      ],
      "metadata": {
        "id": "UBap_dpN0K-H"
      }
    },
    {
      "cell_type": "code",
      "source": [
        "#Your code starts here\n",
        "!mkdir ~/backup && mv ~/data.tar.gz ~/backup/\n",
        "#Your code ends here"
      ],
      "metadata": {
        "id": "gq0_25QyzYvL",
        "colab": {
          "base_uri": "https://localhost:8080/"
        },
        "outputId": "87a109fe-a309-4e5f-e44e-a76460724c78"
      },
      "execution_count": 22,
      "outputs": [
        {
          "output_type": "stream",
          "name": "stdout",
          "text": [
            "mkdir: cannot create directory ‘/root/backup’: File exists\n"
          ]
        }
      ]
    },
    {
      "cell_type": "markdown",
      "source": [
        "#Step 12: Search for files modified in the last 7 days (6 Points)\n",
        "Use the \"find\" command to search for all files in the \"backup\" directory that have been modified in the last 7 days.\n",
        "\n",
        "\n"
      ],
      "metadata": {
        "id": "DPrNXwi90ORv"
      }
    },
    {
      "cell_type": "code",
      "source": [
        "#Your code starts here\n",
        "!find ~/backup -type f -mtime -7\n",
        "#Your code ends here"
      ],
      "metadata": {
        "id": "fAuMnWulzY4F"
      },
      "execution_count": 23,
      "outputs": []
    },
    {
      "cell_type": "markdown",
      "source": [
        "# Step 13: Compare the final dataset (6 Points)\n",
        "Use the \"diff\" command to compare the final dataset file in the \"data\" directory with the same file in the \"backup\" directory.\n",
        "\n"
      ],
      "metadata": {
        "id": "tPoXywnF1LSh"
      }
    },
    {
      "cell_type": "code",
      "source": [
        "#Your code starts here\n",
        "!diff ~/data/Iris/iris.data ~/backup/data/Iris/iris.data\n",
        "#Your code ends here"
      ],
      "metadata": {
        "id": "MclQqHIhzY_k",
        "colab": {
          "base_uri": "https://localhost:8080/"
        },
        "outputId": "b701400c-988a-45f9-8957-4621441820ec"
      },
      "execution_count": 24,
      "outputs": [
        {
          "output_type": "stream",
          "name": "stdout",
          "text": [
            "diff: /root/backup/data/Iris/iris.data: No such file or directory\n"
          ]
        }
      ]
    },
    {
      "cell_type": "markdown",
      "source": [
        "# Step 14: Compare the compressed tarball (6 Points)\n",
        "Use the \"cmp\" command to compare the compressed tarball in the \"backup\" directory with the original \"data\" directory to ensure they are identical.\n",
        "\n"
      ],
      "metadata": {
        "id": "qua1Lpow1lg1"
      }
    },
    {
      "cell_type": "code",
      "source": [
        "#Your code starts here\n",
        "!cmp -s ~/data.tar.gz ~/backup/data.tar.gz && echo \"Files are identical.\" || echo \"Files are different.\"\n",
        "#Your code ends here"
      ],
      "metadata": {
        "id": "qCb5vd8hzZHU",
        "colab": {
          "base_uri": "https://localhost:8080/"
        },
        "outputId": "274a0698-3915-4ffb-8136-fa1abb75f898"
      },
      "execution_count": 25,
      "outputs": [
        {
          "output_type": "stream",
          "name": "stdout",
          "text": [
            "Files are different.\n"
          ]
        }
      ]
    },
    {
      "cell_type": "markdown",
      "source": [
        "# Step 15: Write a Bash Script (10 Points)\n",
        "Write a Bash script that automates all of the above steps and saves the final dataset file in a new file called \"final_dataset.csv\".\n"
      ],
      "metadata": {
        "id": "nhuldz2n1xv3"
      }
    },
    {
      "cell_type": "code",
      "source": [
        "#!/bin/bash\n",
        "\n",
        "# Create data directory\n",
        "!mkdir ~/data\n",
        "\n",
        "# Download dataset\n",
        "!wget -P ~/data/ https://archive.ics.uci.edu/ml/machine-learning-databases/iris/iris.data\n",
        "\n",
        "# Create Iris directory and move dataset into it\n",
        "!mkdir ~/data/Iris\n",
        "!mv ~/data/iris.data ~/data/Iris/\n",
        "\n",
        "# Print only first column (sepal length)\n",
        "!awk -F ',' '{print $1}' ~/data/Iris/iris.data > ~/data/Iris/sepal_length.txt\n",
        "\n",
        "# Filter rows where species is \"versicolor\"\n",
        "!grep 'versicolor' ~/data/Iris/iris.data > ~/data/Iris/versicolor.txt\n",
        "\n",
        "# Sort filtered dataset by sepal length in descending order\n",
        "!sort -r -k 1 ~/data/Iris/versicolor.txt > ~/data/Iris/versicolor_sorted.txt\n",
        "\n",
        "# Print only first three columns of sorted dataset\n",
        "!cut -d ',' -f 1-3 ~/data/Iris/versicolor_sorted.txt > ~/data/Iris/versicolor_sorted_cut.txt\n",
        "\n",
        "# Replace \"versicolor\" with \"Iris-versicolor\"\n",
        "!sed 's/versicolor/Iris-versicolor/g' ~/data/Iris/versicolor_sorted_cut.txt > ~/data/Iris/final_dataset.txt\n",
        "\n",
        "# Print first 10 lines of final dataset\n",
        "!head -n 10 ~/data/Iris/final_dataset.txt\n",
        "\n",
        "# Compress data directory into tarball\n",
        "!tar -zcvf ~/data.tar.gz ~/data\n",
        "\n",
        "# Create backup directory and move tarball into it\n",
        "!mkdir ~/backup\n",
        "!mv ~/data.tar.gz ~/backup/\n",
        "\n",
        "# Search for modified files in backup directory\n",
        "!find ~/backup -type f -mtime -7\n",
        "\n",
        "# Compare final dataset file with backup file\n",
        "!diff ~/data/Iris/final_dataset.txt ~/backup/data/Iris/final_dataset.txt\n",
        "\n",
        "# Compare compressed tarball with original data directory\n",
        "!cmp -s ~/data.tar.gz ~/backup/data.tar.gz && echo \"Files are identical.\" || echo \"Files are different.\"\n",
        "\n",
        "# Save final dataset as CSV file\n",
        "!tr '\\t' ',' < ~/data/Iris/final_dataset.txt > ~/data/Iris/final_dataset.csv\n"
      ],
      "metadata": {
        "id": "yryrTP5JzZOD",
        "colab": {
          "base_uri": "https://localhost:8080/"
        },
        "outputId": "96f18d97-dd85-49ab-c511-001438a45f31"
      },
      "execution_count": 26,
      "outputs": [
        {
          "output_type": "stream",
          "name": "stdout",
          "text": [
            "mkdir: cannot create directory ‘/root/data’: File exists\n",
            "--2023-03-03 20:44:42--  https://archive.ics.uci.edu/ml/machine-learning-databases/iris/iris.data\n",
            "Resolving archive.ics.uci.edu (archive.ics.uci.edu)... 128.195.10.252\n",
            "Connecting to archive.ics.uci.edu (archive.ics.uci.edu)|128.195.10.252|:443... connected.\n",
            "HTTP request sent, awaiting response... 200 OK\n",
            "Length: 4551 (4.4K) [application/x-httpd-php]\n",
            "Saving to: ‘/root/data/iris.data’\n",
            "\n",
            "iris.data           100%[===================>]   4.44K  --.-KB/s    in 0s      \n",
            "\n",
            "2023-03-03 20:44:43 (60.7 MB/s) - ‘/root/data/iris.data’ saved [4551/4551]\n",
            "\n",
            "mkdir: cannot create directory ‘/root/data/Iris’: File exists\n",
            "7.0,3.2,4.7\n",
            "6.9,3.1,4.9\n",
            "6.8,2.8,4.8\n",
            "6.7,3.1,4.7\n",
            "6.7,3.1,4.4\n",
            "6.7,3.0,5.0\n",
            "6.6,3.0,4.4\n",
            "6.6,2.9,4.6\n",
            "6.5,2.8,4.6\n",
            "6.4,3.2,4.5\n",
            "tar: Removing leading `/' from member names\n",
            "/root/data/\n",
            "/root/data/Iris/\n",
            "/root/data/Iris/versicolor_sorted.txt\n",
            "/root/data/Iris/sepal_length.txt\n",
            "/root/data/Iris/versicolor_sorted_cut.txt\n",
            "/root/data/Iris/versicolor.txt\n",
            "/root/data/Iris/iris.data\n",
            "/root/data/Iris/final_dataset.txt\n",
            "mkdir: cannot create directory ‘/root/backup’: File exists\n",
            "/root/backup/data.tar.gz\n",
            "diff: /root/backup/data/Iris/final_dataset.txt: No such file or directory\n",
            "Files are different.\n"
          ]
        }
      ]
    },
    {
      "cell_type": "markdown",
      "source": [
        "This script automates all of the steps mentioned in the assignment and saves the final dataset file in a new file called \"final_dataset.csv\". You can run this script in a Bash environment, such as the terminal of a Linux machine or a Bash shell in a Jupyter notebook."
      ],
      "metadata": {
        "id": "qi2t8KVF4CtT"
      }
    },
    {
      "cell_type": "markdown",
      "source": [
        "# Make script executable (3 Points)\n",
        "Finally, we need to make the script executable. Run the following command in the terminal:\n",
        "\n"
      ],
      "metadata": {
        "id": "o2zU1U-Q69PL"
      }
    },
    {
      "cell_type": "code",
      "source": [
        "#Your code starts here\n",
        "!chmod +x script.sh\n",
        "#Your code ends here"
      ],
      "metadata": {
        "id": "XUSB0vDf7ETd",
        "colab": {
          "base_uri": "https://localhost:8080/"
        },
        "outputId": "4848e458-3230-4bb3-913c-b9996e574c81"
      },
      "execution_count": 27,
      "outputs": [
        {
          "output_type": "stream",
          "name": "stdout",
          "text": [
            "chmod: cannot access 'script.sh': No such file or directory\n"
          ]
        }
      ]
    },
    {
      "cell_type": "markdown",
      "source": [
        "# Bonus: Run script (3 Points)\n",
        "To run the script, simply enter the following command:\n"
      ],
      "metadata": {
        "id": "X4GFN3D17PWq"
      }
    },
    {
      "cell_type": "code",
      "source": [
        "#Your code starts here\n",
        "!./script.sh\n",
        "#Your code ends here"
      ],
      "metadata": {
        "id": "EE2j4LFF7eMi",
        "colab": {
          "base_uri": "https://localhost:8080/"
        },
        "outputId": "9bd47753-e6e2-4e23-9c22-d58cdb5ab580"
      },
      "execution_count": 28,
      "outputs": [
        {
          "output_type": "stream",
          "name": "stdout",
          "text": [
            "/bin/bash: ./script.sh: No such file or directory\n"
          ]
        }
      ]
    },
    {
      "cell_type": "code",
      "source": [],
      "metadata": {
        "id": "EJcd62nUObUq"
      },
      "execution_count": null,
      "outputs": []
    },
    {
      "cell_type": "markdown",
      "source": [
        "This will execute the script and perform all of the necessary\n",
        "\n",
        "**Well done!You made it.**\n",
        "\n"
      ],
      "metadata": {
        "id": "1ebjFEnu7g_4"
      }
    }
  ]
}