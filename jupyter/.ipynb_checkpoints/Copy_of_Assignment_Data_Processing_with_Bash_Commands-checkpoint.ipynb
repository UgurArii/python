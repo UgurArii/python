{
  "nbformat": 4,
  "nbformat_minor": 0,
  "metadata": {
    "colab": {
      "provenance": []
    },
    "kernelspec": {
      "name": "python3",
      "display_name": "Python 3"
    },
    "language_info": {
      "name": "python"
    }
  },
  "cells": [
    {
      "cell_type": "markdown",
      "source": [
        "#Assignment: Data Processing with Bash Commands\n"
      ],
      "metadata": {
        "id": "L15knShgumN7"
      }
    },
    {
      "cell_type": "markdown",
      "source": [
        "In this assignment, you will be working with UNIX command-line tools to manipulate a dataset. You will be using a Google Colab notebook for this assignment.\n",
        "\n",
        "\n",
        "> **Instructions**\n",
        "\n",
        "1.   Create a new directory called \"data\" in your home directory.\n",
        "2.   Use the \"wget\" command to download the following dataset from a URL: https://archive.ics.uci.edu/ml/machine-learning-databases/iris/iris.data\n",
        "3. Rename the dataset file and move it into the specific directory.\n",
        "4. Use the \"awk\" command to print only the first column of the dataset file (the sepal length).\n",
        "5. Use the \"grep\" command to filter the dataset file to only include rows where the species is \"versicolor\".\n",
        "6. Use the \"sort\" command to sort the filtered dataset by the sepal length in descending order.\n",
        "7. Use the \"cut\" command to print only the first three columns of the sorted dataset.\n",
        "8. Use the \"sed\" command to replace the species name \"versicolor\" with \"Iris-versicolor\" in the filtered dataset.\n",
        "9. Use the \"head\" command to print the first 10 lines of the final dataset.\n",
        "10. Use the \"tar\" command to compress the \"data\" directory into a tarball called \"data.tar.gz\".\n",
        "11. Move the tarball into a new directory called \"backup\" in your home directory.\n",
        "12. Use the \"find\" command to search for all files in the \"backup\" directory that have been modified in the last 7 days.\n",
        "13. Use the \"diff\" command to compare the final dataset file in the \"data\" directory with the same file in the \"backup\" directory.\n",
        "14. Use the \"cmp\" command to compare the compressed tarball in the \"backup\" directory with the original \"data\" directory to ensure they are identical.\n",
        "15. Write a Bash script that automates all of the above steps and saves the final dataset file in a new file called \"final_dataset.csv\".\n",
        "\n",
        "You may need some aditional actions to be taken druing the operation like unziping a file etc. Please take the necessary actions if it is needed in your aproach.\n",
        "\n",
        "**Note**:Please, first copy this notebook into your drive and after that start working on the notebook you copied. After completing the notebook share and upload as stated in Canvas.\n",
        "\n",
        "Good luck!\n"
      ],
      "metadata": {
        "id": "rV4P4ySmu184"
      }
    },
    {
      "cell_type": "markdown",
      "source": [
        "#Step 1: Create a new directory called \"data\" in your home directory (6 Points)\n",
        "In the first step, create a new directory called \"data\" in your home directory using the following command:"
      ],
      "metadata": {
        "id": "E037PKxTuj6O"
      }
    },
    {
      "cell_type": "code",
      "source": [
        "#Your code starts here\n",
        "mkdir data\n",
        "#Your code ends here"
      ],
      "metadata": {
        "id": "8dNgBvlJvGfY",
        "colab": {
          "base_uri": "https://localhost:8080/",
          "height": 130
        },
        "outputId": "08698725-b2b1-4426-833f-6b3d44474528"
      },
      "execution_count": null,
      "outputs": [
        {
          "output_type": "error",
          "ename": "SyntaxError",
          "evalue": "ignored",
          "traceback": [
            "\u001b[0;36m  File \u001b[0;32m\"<ipython-input-1-82bcca0f58ab>\"\u001b[0;36m, line \u001b[0;32m2\u001b[0m\n\u001b[0;31m    mkdir data\u001b[0m\n\u001b[0m          ^\u001b[0m\n\u001b[0;31mSyntaxError\u001b[0m\u001b[0;31m:\u001b[0m invalid syntax\n"
          ]
        }
      ]
    },
    {
      "cell_type": "markdown",
      "source": [
        "#Step 2: Download the Iris dataset (6 Points)\n",
        "In the second step, download the Iris dataset using the following command:"
      ],
      "metadata": {
        "id": "ez92Y_NQvQw4"
      }
    },
    {
      "cell_type": "code",
      "source": [
        "#Your code starts here\n",
        "\n",
        "#Your code ends here"
      ],
      "metadata": {
        "id": "g-MtLPXSveGa"
      },
      "execution_count": null,
      "outputs": []
    },
    {
      "cell_type": "markdown",
      "source": [
        "This will download the dataset to the \"data\" directory you created in Step 1.\n",
        "\n"
      ],
      "metadata": {
        "id": "oCj9Uhxivk5-"
      }
    },
    {
      "cell_type": "markdown",
      "source": [
        "#Step 3: Move the dataset (6 Points)\n",
        "In the third step, create a directory named 'Iris' and move the iris.data to 'Iris' director çby using the following commands:"
      ],
      "metadata": {
        "id": "b9_t10IbvmvJ"
      }
    },
    {
      "cell_type": "code",
      "source": [
        "#Your code starts here\n",
        "\n",
        "#Your code ends here"
      ],
      "metadata": {
        "id": "Ohxjg00Uvgro"
      },
      "execution_count": null,
      "outputs": []
    },
    {
      "cell_type": "markdown",
      "source": [
        "#Step 4: Print the sepal length column (6 Points)\n",
        "In the fourth step, use the \"awk\" command to print only the first column of the dataset file (the sepal length) using the following command:\n"
      ],
      "metadata": {
        "id": "rhBCMTUcy9oo"
      }
    },
    {
      "cell_type": "code",
      "source": [
        "#Your code starts here\n",
        "\n",
        "#Your code ends here"
      ],
      "metadata": {
        "id": "53khGkFdvg9M"
      },
      "execution_count": null,
      "outputs": []
    },
    {
      "cell_type": "markdown",
      "source": [
        "#Step 5: Filter the dataset for versicolor species (6 Points)\n",
        "In the fifth step, use the \"grep\" command to filter the dataset file to only include rows where the species is \"versicolor\" using the following command:\n",
        "\n"
      ],
      "metadata": {
        "id": "cfGs0dLNzPHU"
      }
    },
    {
      "cell_type": "code",
      "source": [
        "#Your code starts here\n",
        "\n",
        "#Your code ends here"
      ],
      "metadata": {
        "id": "9-NIk6Z7vhIg"
      },
      "execution_count": null,
      "outputs": []
    },
    {
      "cell_type": "markdown",
      "source": [
        "#Step 6: Sort the dataset by sepal length (6 Points)\n",
        "In the sixth step, use the \"sort\" command to sort the filtered dataset by the sepal length in descending order using the following command:\n",
        "\n"
      ],
      "metadata": {
        "id": "FKjLkMiZzl5R"
      }
    },
    {
      "cell_type": "code",
      "source": [
        "#Your code starts here\n",
        "\n",
        "#Your code ends here"
      ],
      "metadata": {
        "id": "rH38oijozXBP"
      },
      "execution_count": null,
      "outputs": []
    },
    {
      "cell_type": "markdown",
      "source": [
        "#Step 7: Print the first three columns of the sorted dataset (6 Points)\n",
        "In the seventh step, use the \"cut\" command to print only the first three columns of the sorted dataset using the following command:\n",
        "\n"
      ],
      "metadata": {
        "id": "NGn0NmjCzpnz"
      }
    },
    {
      "cell_type": "code",
      "source": [
        "#Your code starts here\n",
        "\n",
        "#Your code ends here"
      ],
      "metadata": {
        "id": "Rz8JHoX-zXI-"
      },
      "execution_count": null,
      "outputs": []
    },
    {
      "cell_type": "markdown",
      "source": [
        "#Step 8: Replace the species name with \"Iris-versicolor\" (6 Points)\n",
        "In the eighth step, use the \"sed\" command to replace the species name \"versicolor\" with \"Iris-versicolor\" in the filtered dataset using the following command:"
      ],
      "metadata": {
        "id": "kthXo36gzwz3"
      }
    },
    {
      "cell_type": "code",
      "source": [
        "#Your code starts here\n",
        "\n",
        "#Your code ends here"
      ],
      "metadata": {
        "id": "NdeZbgUczXOi"
      },
      "execution_count": null,
      "outputs": []
    },
    {
      "cell_type": "markdown",
      "source": [
        "#Step 9: Print the first 10 lines of the final dataset (6 Points)\n",
        "In the ninth step, use the \"head\" command to print the first 10 lines of the final dataset using the following command:"
      ],
      "metadata": {
        "id": "Nt7QpTx3z3AO"
      }
    },
    {
      "cell_type": "code",
      "source": [
        "#Your code starts here\n",
        "\n",
        "#Your code ends here"
      ],
      "metadata": {
        "id": "dmqdHTGszYf7"
      },
      "execution_count": null,
      "outputs": []
    },
    {
      "cell_type": "markdown",
      "source": [
        "#Step 10: Compress the \"data\" directory into a tarball (6 Points)\n",
        "In the tenth step, use the \"tar\" command to compress the \"data\" directory into a tarball called \"data.tar.gz\" using the following command:"
      ],
      "metadata": {
        "id": "767zQG6E0Eoy"
      }
    },
    {
      "cell_type": "code",
      "source": [
        "#Your code starts here\n",
        "\n",
        "#Your code ends here"
      ],
      "metadata": {
        "id": "ydPfnA7UzYnr"
      },
      "execution_count": null,
      "outputs": []
    },
    {
      "cell_type": "markdown",
      "source": [
        "#Step 11: Move the tarball to the \"backup\" directory (6 Points)\n",
        "In the eleventh step, move the tarball into a new directory called \"backup\" in your home directory using the following command:"
      ],
      "metadata": {
        "id": "UBap_dpN0K-H"
      }
    },
    {
      "cell_type": "code",
      "source": [
        "#Your code starts here\n",
        "\n",
        "#Your code ends here"
      ],
      "metadata": {
        "id": "gq0_25QyzYvL"
      },
      "execution_count": null,
      "outputs": []
    },
    {
      "cell_type": "markdown",
      "source": [
        "#Step 12: Search for files modified in the last 7 days (6 Points)\n",
        "Use the \"find\" command to search for all files in the \"backup\" directory that have been modified in the last 7 days.\n",
        "\n",
        "\n"
      ],
      "metadata": {
        "id": "DPrNXwi90ORv"
      }
    },
    {
      "cell_type": "code",
      "source": [
        "#Your code starts here\n",
        "\n",
        "#Your code ends here"
      ],
      "metadata": {
        "id": "fAuMnWulzY4F"
      },
      "execution_count": null,
      "outputs": []
    },
    {
      "cell_type": "markdown",
      "source": [
        "# Step 13: Compare the final dataset (6 Points)\n",
        "Use the \"diff\" command to compare the final dataset file in the \"data\" directory with the same file in the \"backup\" directory.\n",
        "\n"
      ],
      "metadata": {
        "id": "tPoXywnF1LSh"
      }
    },
    {
      "cell_type": "code",
      "source": [
        "#Your code starts here\n",
        "\n",
        "#Your code ends here"
      ],
      "metadata": {
        "id": "MclQqHIhzY_k"
      },
      "execution_count": null,
      "outputs": []
    },
    {
      "cell_type": "markdown",
      "source": [
        "# Step 14: Compare the compressed tarball (6 Points)\n",
        "Use the \"cmp\" command to compare the compressed tarball in the \"backup\" directory with the original \"data\" directory to ensure they are identical.\n",
        "\n"
      ],
      "metadata": {
        "id": "qua1Lpow1lg1"
      }
    },
    {
      "cell_type": "code",
      "source": [
        "#Your code starts here\n",
        "\n",
        "#Your code ends here"
      ],
      "metadata": {
        "id": "qCb5vd8hzZHU"
      },
      "execution_count": null,
      "outputs": []
    },
    {
      "cell_type": "markdown",
      "source": [
        "# Step 15: Write a Bash Script (10 Points)\n",
        "Write a Bash script that automates all of the above steps and saves the final dataset file in a new file called \"final_dataset.csv\".\n"
      ],
      "metadata": {
        "id": "nhuldz2n1xv3"
      }
    },
    {
      "cell_type": "code",
      "source": [
        "#!/bin/bash\n",
        "\n",
        "# Create data directory\n",
        "\n",
        "\n",
        "# Download dataset\n",
        "\n",
        "\n",
        "# Print only first column (sepal length)\n",
        "\n",
        "\n",
        "# Filter rows where species is \"versicolor\"\n",
        "\n",
        "\n",
        "# Sort filtered dataset by sepal length in descending order\n",
        "\n",
        "\n",
        "# Print only first three columns of sorted dataset\n",
        "\n",
        "\n",
        "# Replace \"versicolor\" with \"Iris-versicolor\"\n",
        "\n",
        "\n",
        "# Print first 10 lines of final dataset\n",
        "\n",
        "\n",
        "# Compress data directory into tarball\n",
        "\n",
        "\n",
        "# Create backup directory and move tarball into it\n",
        "\n",
        "\n",
        "# Search for modified files in backup directory\n",
        "\n",
        "\n",
        "# Compare final dataset file with backup file\n",
        "\n",
        "\n",
        "# Compare compressed tarball with original data directory\n",
        "\n",
        "\n",
        "# Save final dataset as CSV file\n",
        "\n"
      ],
      "metadata": {
        "id": "yryrTP5JzZOD"
      },
      "execution_count": null,
      "outputs": []
    },
    {
      "cell_type": "markdown",
      "source": [
        "This script automates all of the steps mentioned in the assignment and saves the final dataset file in a new file called \"final_dataset.csv\". You can run this script in a Bash environment, such as the terminal of a Linux machine or a Bash shell in a Jupyter notebook."
      ],
      "metadata": {
        "id": "qi2t8KVF4CtT"
      }
    },
    {
      "cell_type": "markdown",
      "source": [
        "# Make script executable (3 Points)\n",
        "Finally, we need to make the script executable. Run the following command in the terminal:\n",
        "\n"
      ],
      "metadata": {
        "id": "o2zU1U-Q69PL"
      }
    },
    {
      "cell_type": "code",
      "source": [
        "#Your code starts here\n",
        "\n",
        "#Your code ends here"
      ],
      "metadata": {
        "id": "XUSB0vDf7ETd"
      },
      "execution_count": null,
      "outputs": []
    },
    {
      "cell_type": "markdown",
      "source": [
        "# Bonus: Run script (3 Points)\n",
        "To run the script, simply enter the following command:\n"
      ],
      "metadata": {
        "id": "X4GFN3D17PWq"
      }
    },
    {
      "cell_type": "code",
      "source": [
        "#Your code starts here\n",
        "\n",
        "#Your code ends here"
      ],
      "metadata": {
        "id": "EE2j4LFF7eMi"
      },
      "execution_count": null,
      "outputs": []
    },
    {
      "cell_type": "markdown",
      "source": [
        "This will execute the script and perform all of the necessary\n",
        "\n",
        "**Well done!You made it.**\n",
        "\n"
      ],
      "metadata": {
        "id": "1ebjFEnu7g_4"
      }
    }
  ]
}