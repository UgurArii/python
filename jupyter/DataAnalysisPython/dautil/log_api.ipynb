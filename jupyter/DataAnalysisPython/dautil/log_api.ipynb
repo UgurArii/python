{
 "cells": [
  {
   "cell_type": "code",
   "execution_count": 10,
   "id": "3e606596-4f12-4b4d-8d13-aeaf55f9534a",
   "metadata": {},
   "outputs": [],
   "source": [
    "from pkg_resources import get_distribution\n",
    "from pkg_resources import resource_filename\n",
    "import logging\n",
    "import logging.config\n",
    "import pprint\n",
    "from appdirs import AppDirs\n",
    "import os"
   ]
  },
  {
   "cell_type": "code",
   "execution_count": 11,
   "id": "7172ccec-bbf6-4ddc-8445-fb9c63947a48",
   "metadata": {},
   "outputs": [],
   "source": [
    "def get_logger(name):\n",
    "    log_config = resource_filename(__name__, 'long.conf')\n",
    "    logging.config.fileConfig(log_config)\n",
    "    logger = logging.getLogger(name)\n",
    "    return logger"
   ]
  },
  {
   "cell_type": "code",
   "execution_count": 12,
   "id": "6b148d0e-b3c0-45ec-9795-000e06569f3e",
   "metadata": {},
   "outputs": [],
   "source": [
    "def shorten(module_name):\n",
    "    dot_i = module_name.find('.')\n",
    "    return module_name[:dot_i]\n",
    "\n",
    "def log(modules, name):\n",
    "    skiplist = ['pkg_resources', 'distutils']\n",
    "    logger = get_logger(name)\n",
    "    logger.debug('Inside the log function')\n",
    "    for k in modules.keys():\n",
    "        str_k = str(k)\n",
    "        if '.version' in str_k:\n",
    "            short = shorten(str_k)\n",
    "        if short in skiplist:\n",
    "            continue\n",
    "        try:\n",
    "            logger.info('%s=%s' % (short,\n",
    "            get_distribution(short).version))\n",
    "        except ImportError:\n",
    "            logger.warn('Could not impport', short)"
   ]
  },
  {
   "cell_type": "code",
   "execution_count": 13,
   "id": "f77cc85c-5135-449d-8e88-4b33f3d8e26a",
   "metadata": {},
   "outputs": [],
   "source": [
    "class VersionsLogFileHandler(logging.FileHandler):\n",
    "    def __init__(self, fName):\n",
    "        dirs = AppDirs(\"PythonDataAnalysisCookbook\",\n",
    "        \"Ivan Idris\")\n",
    "        path = dirs.user_log_dir\n",
    "        print(path)\n",
    "        if not os.path.exists(path):\n",
    "            os.mkdir(path)\n",
    "        super(VersionsLogFileHandler, self).__init__(os.path.join(path, fName))"
   ]
  },
  {
   "cell_type": "code",
   "execution_count": null,
   "id": "d6fa8616-0eab-44ab-801f-e47f4e3eb57f",
   "metadata": {},
   "outputs": [],
   "source": []
  },
  {
   "cell_type": "code",
   "execution_count": null,
   "id": "53fbf710-7644-410f-a0f8-379c377f3321",
   "metadata": {},
   "outputs": [],
   "source": []
  }
 ],
 "metadata": {
  "kernelspec": {
   "display_name": "Python 3 (ipykernel)",
   "language": "python",
   "name": "python3"
  },
  "language_info": {
   "codemirror_mode": {
    "name": "ipython",
    "version": 3
   },
   "file_extension": ".py",
   "mimetype": "text/x-python",
   "name": "python",
   "nbconvert_exporter": "python",
   "pygments_lexer": "ipython3",
   "version": "3.9.13"
  }
 },
 "nbformat": 4,
 "nbformat_minor": 5
}
