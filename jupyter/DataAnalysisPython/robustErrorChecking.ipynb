{
 "cells": [
  {
   "cell_type": "code",
   "execution_count": 1,
   "id": "533cfdcb-0ceb-49be-8b3a-2bd28a5d68f2",
   "metadata": {},
   "outputs": [],
   "source": [
    "from pkg_resources import get_distribution\n",
    "from pkg_resources import resource_filename\n",
    "import logging\n",
    "import logging.config\n",
    "import pprint\n",
    "from appdirs import AppDirs\n",
    "import os"
   ]
  },
  {
   "cell_type": "code",
   "execution_count": 2,
   "id": "8aca6705-9e76-43c6-ae86-1b8ae4e5ab80",
   "metadata": {},
   "outputs": [],
   "source": [
    "def get_logger(name):\n",
    "    log_config = resource_filename(__name__, 'log.conf')\n",
    "    logging.config.fileConfig(log_config)\n",
    "    logger = logging.getLogger(name)\n",
    "    return logger"
   ]
  },
  {
   "cell_type": "code",
   "execution_count": 3,
   "id": "0cb23214-094e-4102-bd13-e1f071c9abc5",
   "metadata": {},
   "outputs": [],
   "source": [
    "def shorten(module_name):\n",
    "    dot_i = module_name.find('.')\n",
    "    return module_name[:dot_i]"
   ]
  },
  {
   "cell_type": "code",
   "execution_count": 5,
   "id": "e490c18c-30ec-4e61-80d7-20ca443c737d",
   "metadata": {},
   "outputs": [],
   "source": [
    "def log(modules, name):\n",
    "    skiplist = ['pkg_resources', 'distutils']\n",
    "    logger = get_logger(name)\n",
    "    logger.debug('Inside the log function')\n",
    "    for k in modules.keys():\n",
    "        str_k = str(k)\n",
    "        if '.version' in str_k:\n",
    "            short = shorten(str_k)\n",
    "        if short in skiplist:\n",
    "            continue\n",
    "        try:\n",
    "            logger.info('%s=%s' % (short,\n",
    "                get_distribution(short).version))\n",
    "        except ImportError:\n",
    "            logger.warn('Could not impport', short)"
   ]
  },
  {
   "cell_type": "code",
   "execution_count": 6,
   "id": "0106b2c7-16d1-4fd3-8d83-ca1afc8366a4",
   "metadata": {},
   "outputs": [],
   "source": [
    "class VersionsLogFileHandler(logging.FileHandler):\n",
    "    def __init__(self, fName):\n",
    "        dirs = AppDirs(\"PythonDataAnalysisCookbook\",\n",
    "                \"Ivan Idris\")\n",
    "        path = dirs.user_log_dir\n",
    "        print(path)\n",
    "        if not os.path.exists(path):\n",
    "            os.mkdir(path)\n",
    "        super(VersionsLogFileHandler, self).__init__(\n",
    "        os.path.join(path, fName))"
   ]
  },
  {
   "cell_type": "code",
   "execution_count": null,
   "id": "a26d120c-050f-4c53-9a10-854269525ffb",
   "metadata": {},
   "outputs": [],
   "source": []
  }
 ],
 "metadata": {
  "kernelspec": {
   "display_name": "Python 3 (ipykernel)",
   "language": "python",
   "name": "python3"
  },
  "language_info": {
   "codemirror_mode": {
    "name": "ipython",
    "version": 3
   },
   "file_extension": ".py",
   "mimetype": "text/x-python",
   "name": "python",
   "nbconvert_exporter": "python",
   "pygments_lexer": "ipython3",
   "version": "3.9.13"
  }
 },
 "nbformat": 4,
 "nbformat_minor": 5
}
