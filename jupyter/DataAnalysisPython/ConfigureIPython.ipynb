{
 "cells": [
  {
   "cell_type": "code",
   "execution_count": 1,
   "id": "574b9f8e-e5d2-403e-b623-ce3d79485b80",
   "metadata": {},
   "outputs": [],
   "source": [
    "import sqlite3\n",
    "from IPython.utils.path import get_ipython_dir\n",
    "import pprint\n",
    "import os"
   ]
  },
  {
   "cell_type": "code",
   "execution_count": 2,
   "id": "6c7377d2-2fb1-4504-9f0c-4121c6be34ab",
   "metadata": {},
   "outputs": [
    {
     "ename": "IndentationError",
     "evalue": "expected an indented block (2285473287.py, line 3)",
     "output_type": "error",
     "traceback": [
      "\u001b[0;36m  File \u001b[0;32m\"/tmp/ipykernel_16761/2285473287.py\"\u001b[0;36m, line \u001b[0;32m3\u001b[0m\n\u001b[0;31m    c = con.cursor()\u001b[0m\n\u001b[0m    ^\u001b[0m\n\u001b[0;31mIndentationError\u001b[0m\u001b[0;31m:\u001b[0m expected an indented block\n"
     ]
    }
   ],
   "source": [
    "def print_history(file):\n",
    "    with sqlite3.connect(file) as con:\n",
    "    c = con.cursor()\n",
    "    c.execute(\"SELECT count(source_raw) as csr,\\\n",
    "                source_raw FROM history\\\n",
    "                GROUP BY source_raw\\\n",
    "                ORDER BY csr\")\n",
    "    result = c.fetchall()\n",
    "    pprint.pprint(result)\n",
    "    c.close()\n",
    "    \n",
    "hist_file = '%s/profile_default/history.sqlite' % get_ipython_dir()\n",
    "if os.path.exists(hist_file):\n",
    "    print_history(hist_file)\n",
    "else:\n",
    "    print(\"%s doesn't exist\" % hist_file)\n"
   ]
  },
  {
   "cell_type": "code",
   "execution_count": null,
   "id": "87e71803-ffe2-43a7-8fe4-61763337f27a",
   "metadata": {},
   "outputs": [],
   "source": []
  }
 ],
 "metadata": {
  "kernelspec": {
   "display_name": "Python 3 (ipykernel)",
   "language": "python",
   "name": "python3"
  },
  "language_info": {
   "codemirror_mode": {
    "name": "ipython",
    "version": 3
   },
   "file_extension": ".py",
   "mimetype": "text/x-python",
   "name": "python",
   "nbconvert_exporter": "python",
   "pygments_lexer": "ipython3",
   "version": "3.9.13"
  }
 },
 "nbformat": 4,
 "nbformat_minor": 5
}
