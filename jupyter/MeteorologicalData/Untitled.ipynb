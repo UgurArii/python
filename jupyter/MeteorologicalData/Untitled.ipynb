{
 "cells": [
  {
   "cell_type": "code",
   "execution_count": 1,
   "id": "10dc45da-4fcf-4aaf-b63c-924a2940da54",
   "metadata": {},
   "outputs": [],
   "source": [
    "import numpy as np\n",
    "import pandas as pd\n",
    "import matplotlib.pyplot as plt\n",
    "import datetime\n",
    "import requests\n",
    "import json\n",
    "%matplotlib inline"
   ]
  },
  {
   "cell_type": "code",
   "execution_count": 2,
   "id": "de14f3ac-ff9e-48a9-bc64-9a79d2e2e1ff",
   "metadata": {},
   "outputs": [],
   "source": [
    "ferrara = json.loads(requests.get('http://api.openweathermap.org/data/2.5/weather?q=Ferrara,IT&appid=5807ad2a45eb6bf4e81d137dafe74e15').text)"
   ]
  },
  {
   "cell_type": "code",
   "execution_count": 11,
   "id": "552ec283-d439-4e8f-b169-453c1d2f1129",
   "metadata": {},
   "outputs": [
    {
     "data": {
      "text/plain": [
       "{'coord': {'lon': 11.8333, 'lat': 44.8},\n",
       " 'weather': [{'id': 741, 'main': 'Fog', 'description': 'fog', 'icon': '50n'}],\n",
       " 'base': 'stations',\n",
       " 'main': {'temp': 280.02,\n",
       "  'feels_like': 280.02,\n",
       "  'temp_min': 279.82,\n",
       "  'temp_max': 280.4,\n",
       "  'pressure': 1027,\n",
       "  'humidity': 86},\n",
       " 'visibility': 900,\n",
       " 'wind': {'speed': 0, 'deg': 0},\n",
       " 'clouds': {'all': 75},\n",
       " 'dt': 1671556800,\n",
       " 'sys': {'type': 2,\n",
       "  'id': 2007888,\n",
       "  'country': 'IT',\n",
       "  'sunrise': 1671518789,\n",
       "  'sunset': 1671550430},\n",
       " 'timezone': 3600,\n",
       " 'id': 3177088,\n",
       " 'name': 'Provincia di Ferrara',\n",
       " 'cod': 200}"
      ]
     },
     "execution_count": 11,
     "metadata": {},
     "output_type": "execute_result"
    }
   ],
   "source": [
    "ferrara"
   ]
  },
  {
   "cell_type": "code",
   "execution_count": 12,
   "id": "42f96b1d-2953-4dc8-b05b-41b769765e52",
   "metadata": {},
   "outputs": [
    {
     "data": {
      "text/plain": [
       "['coord',\n",
       " 'weather',\n",
       " 'base',\n",
       " 'main',\n",
       " 'visibility',\n",
       " 'wind',\n",
       " 'clouds',\n",
       " 'dt',\n",
       " 'sys',\n",
       " 'timezone',\n",
       " 'id',\n",
       " 'name',\n",
       " 'cod']"
      ]
     },
     "execution_count": 12,
     "metadata": {},
     "output_type": "execute_result"
    }
   ],
   "source": [
    "list(ferrara.keys())"
   ]
  },
  {
   "cell_type": "code",
   "execution_count": 15,
   "id": "6d56d2c0-4d9f-42c4-bd13-ded685fe9cdf",
   "metadata": {},
   "outputs": [
    {
     "name": "stdout",
     "output_type": "stream",
     "text": [
      "Coordinates =  {'lon': 11.8333, 'lat': 44.8}\n",
      "Weather =  [{'id': 741, 'main': 'Fog', 'description': 'fog', 'icon': '50n'}]\n",
      "base =  stations\n",
      "main =  {'temp': 280.02, 'feels_like': 280.02, 'temp_min': 279.82, 'temp_max': 280.4, 'pressure': 1027, 'humidity': 86}\n",
      "visibility =  900\n",
      "wind =  {'speed': 0, 'deg': 0}\n",
      "clouds =  {'all': 75}\n",
      "dt =  1671556800\n",
      "sys =  {'type': 2, 'id': 2007888, 'country': 'IT', 'sunrise': 1671518789, 'sunset': 1671550430}\n",
      "id =  3177088\n",
      "name =  Provincia di Ferrara\n",
      "cod =  200\n"
     ]
    },
    {
     "ename": "NameError",
     "evalue": "name 'stations' is not defined",
     "output_type": "error",
     "traceback": [
      "\u001b[0;31m---------------------------------------------------------------------------\u001b[0m",
      "\u001b[0;31mNameError\u001b[0m                                 Traceback (most recent call last)",
      "Cell \u001b[0;32mIn[15], line 15\u001b[0m\n\u001b[1;32m     13\u001b[0m Coordinates \u001b[38;5;241m=\u001b[39m  {\u001b[38;5;124m'\u001b[39m\u001b[38;5;124mlon\u001b[39m\u001b[38;5;124m'\u001b[39m: \u001b[38;5;241m11.62\u001b[39m, \u001b[38;5;124m'\u001b[39m\u001b[38;5;124mlat\u001b[39m\u001b[38;5;124m'\u001b[39m: \u001b[38;5;241m44.84\u001b[39m}\n\u001b[1;32m     14\u001b[0m Weather \u001b[38;5;241m=\u001b[39m  [{\u001b[38;5;124m'\u001b[39m\u001b[38;5;124mid\u001b[39m\u001b[38;5;124m'\u001b[39m: \u001b[38;5;241m802\u001b[39m, \u001b[38;5;124m'\u001b[39m\u001b[38;5;124mmain\u001b[39m\u001b[38;5;124m'\u001b[39m: \u001b[38;5;124m'\u001b[39m\u001b[38;5;124mClouds\u001b[39m\u001b[38;5;124m'\u001b[39m, \u001b[38;5;124m'\u001b[39m\u001b[38;5;124mdescription\u001b[39m\u001b[38;5;124m'\u001b[39m: \u001b[38;5;124m'\u001b[39m\u001b[38;5;124mscattered clouds\u001b[39m\u001b[38;5;124m'\u001b[39m, \u001b[38;5;124m'\u001b[39m\u001b[38;5;124micon\u001b[39m\u001b[38;5;124m'\u001b[39m: \u001b[38;5;124m'\u001b[39m\u001b[38;5;124m03d\u001b[39m\u001b[38;5;124m'\u001b[39m}]\n\u001b[0;32m---> 15\u001b[0m base \u001b[38;5;241m=\u001b[39m  \u001b[43mstations\u001b[49m\n\u001b[1;32m     16\u001b[0m main \u001b[38;5;241m=\u001b[39m  {\u001b[38;5;124m'\u001b[39m\u001b[38;5;124mtemp\u001b[39m\u001b[38;5;124m'\u001b[39m: \u001b[38;5;241m296.59\u001b[39m, \u001b[38;5;124m'\u001b[39m\u001b[38;5;124mpressure\u001b[39m\u001b[38;5;124m'\u001b[39m: \u001b[38;5;241m1010\u001b[39m, \u001b[38;5;124m'\u001b[39m\u001b[38;5;124mhumidity\u001b[39m\u001b[38;5;124m'\u001b[39m: \u001b[38;5;241m64\u001b[39m, \u001b[38;5;124m'\u001b[39m\u001b[38;5;124mtemp_min\u001b[39m\u001b[38;5;124m'\u001b[39m:\u001b[38;5;241m296.15\u001b[39m, \u001b[38;5;124m'\u001b[39m\u001b[38;5;124mtemp_max\u001b[39m\u001b[38;5;124m'\u001b[39m: \u001b[38;5;241m297.15\u001b[39m}\n\u001b[1;32m     17\u001b[0m visibility \u001b[38;5;241m=\u001b[39m  \u001b[38;5;241m10000\u001b[39m\n",
      "\u001b[0;31mNameError\u001b[0m: name 'stations' is not defined"
     ]
    }
   ],
   "source": [
    "print('Coordinates = ', ferrara['coord'])\n",
    "print('Weather = ', ferrara['weather'])\n",
    "print('base = ', ferrara['base'])\n",
    "print('main = ', ferrara['main'])\n",
    "print('visibility = ', ferrara['visibility'])\n",
    "print('wind = ', ferrara['wind'])\n",
    "print('clouds = ', ferrara['clouds'])\n",
    "print('dt = ', ferrara['dt'])\n",
    "print('sys = ', ferrara['sys'])\n",
    "print('id = ', ferrara['id'])\n",
    "print('name = ', ferrara['name'])\n",
    "print('cod = ', ferrara['cod'])\n",
    "Coordinates =  {'lon': 11.62, 'lat': 44.84}\n",
    "Weather =  [{'id': 802, 'main': 'Clouds', 'description': 'scattered clouds', 'icon': '03d'}]\n",
    "base =  stations\n",
    "main =  {'temp': 296.59, 'pressure': 1010, 'humidity': 64, 'temp_min':296.15, 'temp_max': 297.15}\n",
    "visibility =  10000\n",
    "wind =  {'speed': 3.1, 'deg': 240}\n",
    "clouds =  {'all': 40}\n",
    "dt =  1525960500\n",
    "sys =  {'type': 1, 'id': 5816, 'message': 0.0029, 'country': 'IT','sunrise': 1525924227, 'sunset': 1525977006}\n",
    "id =  3177090\n",
    "name =  Ferrara\n",
    "cod =  200"
   ]
  },
  {
   "cell_type": "code",
   "execution_count": null,
   "id": "90dce083-ee7f-4b21-972f-6d7a31ce99e9",
   "metadata": {},
   "outputs": [],
   "source": []
  }
 ],
 "metadata": {
  "kernelspec": {
   "display_name": "Python 3 (ipykernel)",
   "language": "python",
   "name": "python3"
  },
  "language_info": {
   "codemirror_mode": {
    "name": "ipython",
    "version": 3
   },
   "file_extension": ".py",
   "mimetype": "text/x-python",
   "name": "python",
   "nbconvert_exporter": "python",
   "pygments_lexer": "ipython3",
   "version": "3.10.8"
  }
 },
 "nbformat": 4,
 "nbformat_minor": 5
}
