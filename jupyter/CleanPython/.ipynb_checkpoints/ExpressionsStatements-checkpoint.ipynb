{
 "cells": [
  {
   "cell_type": "code",
   "execution_count": 1,
   "id": "740545d5-505f-46a5-aeab-297c375df88e",
   "metadata": {},
   "outputs": [
    {
     "data": {
      "text/plain": [
       "[{'first_name': 'anni', 'age': 9},\n",
       " {'first_name': 'Buck', 'age': 10},\n",
       " {'first_name': 'Helen', 'age': 39}]"
      ]
     },
     "execution_count": 1,
     "metadata": {},
     "output_type": "execute_result"
    }
   ],
   "source": [
    "users = [{\"first_name\":\"Helen\", \"age\":39},\n",
    "         {\"first_name\":\"Buck\", \"age\":10},\n",
    "         {\"first_name\":\"anni\", \"age\":9}\n",
    "        ]\n",
    "users = sorted(users, key=lambda user: user[\"first_name\"].lower())\n",
    "users"
   ]
  },
  {
   "cell_type": "code",
   "execution_count": 2,
   "id": "162cc99f-0e0e-4868-acb9-3b1e09afd641",
   "metadata": {},
   "outputs": [],
   "source": [
    "def get_user_name(users):\n",
    "    #Get name of the user in lower case\n",
    "    return users[\"first_name\"].lower()\n",
    "\n",
    "def get_sorted_dictionary(users):\n",
    "    #Sort the nested dictionary\n",
    "    if not isinstance(users, dict):\n",
    "        raise ValueError(\"Not a correct dictionary\")\n",
    "    if not len(users):\n",
    "        raise ValueError(\"Empty dictionary\")\n",
    "    user_by_name = sorted(users, key=get_user_name)\n",
    "    return users_by_name"
   ]
  },
  {
   "cell_type": "code",
   "execution_count": 3,
   "id": "436ee453-6cbc-432a-b040-5f18fb86dbc3",
   "metadata": {},
   "outputs": [],
   "source": [
    "import csv"
   ]
  },
  {
   "cell_type": "code",
   "execution_count": 4,
   "id": "f51530a0-dde5-4530-b302-ad3df70f47eb",
   "metadata": {},
   "outputs": [
    {
     "name": "stdout",
     "output_type": "stream",
     "text": [
      "Column names are EMPLOYEE_ID,FIRST_NAME,LAST_NAME,EMAIL,PHONE_NUMBER,HIRE_DATE,JOB_ID,SALARY,COMMISSION_PCT,MANAGER_ID,DEPARTMENT_ID\n",
      "\tDonald salary: 2600and was born in 21-JUN-07.\n",
      "Processed 51 lines\n"
     ]
    }
   ],
   "source": [
    "with open(\"employees.csv\", mode=\"r\") as csv_file:\n",
    "    csv_reader = csv.DictReader(csv_file)\n",
    "    line_count = 0\n",
    "    for row in csv_reader:\n",
    "        if line_count == 0:\n",
    "            print(f'Column names are {\",\".join(row)}')\n",
    "            line_count +=1\n",
    "            print(f'\\t{row[\"FIRST_NAME\"]} salary: {row[\"SALARY\"]}'\n",
    "                  f'and was born in {row[\"HIRE_DATE\"]}.')\n",
    "        line_count += 1\n",
    "    print(f'Processed {line_count} lines')\n",
    "    "
   ]
  },
  {
   "cell_type": "code",
   "execution_count": 5,
   "id": "bd5c0a17-9766-43b2-acb4-105375fe74ca",
   "metadata": {},
   "outputs": [
    {
     "data": {
      "text/plain": [
       "'Json smart'"
      ]
     },
     "execution_count": 5,
     "metadata": {},
     "output_type": "execute_result"
    }
   ],
   "source": [
    "first_name = \"Json\"\n",
    "last_name = \"smart\"\n",
    "\n",
    "#Not a recommended way to concatenate string\n",
    "full_name = first_name + \" \" + last_name\n",
    "\n",
    "#More performant and improve readability\n",
    "\" \".join([first_name, last_name])"
   ]
  },
  {
   "cell_type": "code",
   "execution_count": 6,
   "id": "4696782f-a906-4fe1-b11b-cf39945a8bba",
   "metadata": {},
   "outputs": [
    {
     "name": "stdout",
     "output_type": "stream",
     "text": [
      "Not True\n"
     ]
    }
   ],
   "source": [
    "data = \"Hellow, how are u doing?\"\n",
    "if data[:5] == \"Hello\":\n",
    "    print('Not True')\n",
    "    "
   ]
  },
  {
   "cell_type": "markdown",
   "id": "bd6c47f2-831b-4f3e-bfbb-4353a2970952",
   "metadata": {},
   "source": [
    "user_ages = {\"Larry\":35, \"Jon\":89, \"Imli\":12}\n",
    "if isinstance(user_ages):\n",
    "    "
   ]
  },
  {
   "cell_type": "code",
   "execution_count": 7,
   "id": "84798d00-5c90-49a8-8117-29f28d95f5eb",
   "metadata": {},
   "outputs": [],
   "source": [
    "import urllib3\n",
    "import json"
   ]
  },
  {
   "cell_type": "code",
   "execution_count": 8,
   "id": "46d38369-15da-4112-8e00-7164364933e8",
   "metadata": {},
   "outputs": [],
   "source": [
    "class Student:\n",
    "    \"\"\"This class handle actions performed by a student.\"\"\"\n",
    "    def __init__(self):\n",
    "        pass\n",
    "    \"\"\"Student class information.\n",
    "    This class handle actions performed by a student.\n",
    "    \u0007This class provides information about student full name,\n",
    "age, roll-number and other information.\n",
    "    Usage:\n",
    "    import student\n",
    "    student = student.Student()\n",
    "    student.get_name()\n",
    "23Chapter 1\n",
    "Pythonic Thinking\n",
    "    >>> 678998\n",
    "    \"\"\"\n",
    "    def is_prime_number(number):\n",
    "         \"\"\"Check for prime number.\n",
    "    \u0007Check the given number is prime number or not by checking\n",
    "against all the numbers less the square root of given number.\n",
    "    :param number:  Given number to check for prime.\n",
    "    :type number: int\n",
    "    :return: True if number is prime otherwise False.\n",
    "    :rtype: boolean\n",
    "    \"\"\"\n",
    "        \n",
    "        "
   ]
  },
  {
   "cell_type": "code",
   "execution_count": 9,
   "id": "81a04a66-a33d-4873-a2bd-46af1dc84804",
   "metadata": {},
   "outputs": [],
   "source": [
    "numbers = [10, 45, 34, 89, 34, 23, 6]\n",
    "square_numbers = map(lambda num: num**2, numbers)\n",
    "#square_numbers = [num**2 for num in numbers]"
   ]
  },
  {
   "cell_type": "code",
   "execution_count": 11,
   "id": "510dd2a7-c045-4131-b841-1b764d80862a",
   "metadata": {},
   "outputs": [],
   "source": [
    "data = [1, \"A\", 0, False, True]\n",
    "filtered_data = filter(None, data)\n"
   ]
  },
  {
   "cell_type": "code",
   "execution_count": 12,
   "id": "4369c562-5ee7-4a9e-9033-acdb80c63b01",
   "metadata": {},
   "outputs": [],
   "source": [
    "list_char = [\"a\", \"p\", \"t\", \"i\", \"y\", \"l\"]\n",
    "vowel = [\"a\", \"e\", \"i\", \"o\", \"u\"]\n",
    "only_vowel = []\n",
    "for item in list_char:\n",
    "    if item in vowel:\n",
    "        only_vowel.append(item)\n",
    "        "
   ]
  },
  {
   "cell_type": "code",
   "execution_count": 2,
   "id": "699b3f0d-ae64-482a-afc9-3e8abfd58577",
   "metadata": {},
   "outputs": [],
   "source": [
    "matrix = [[1,2,3],\n",
    "          [4,5,6],\n",
    "          [7,8,9]\n",
    "         ]\n",
    "#return [[martix[row][col] for row in range(0, height)] for col in range(0, width)]\n"
   ]
  },
  {
   "cell_type": "code",
   "execution_count": 5,
   "id": "68d85628-8a35-433d-a39a-d4ea148d7806",
   "metadata": {},
   "outputs": [
    {
     "data": {
      "text/plain": [
       "[34, 57]"
      ]
     },
     "execution_count": 5,
     "metadata": {},
     "output_type": "execute_result"
    }
   ],
   "source": [
    "ages = [1,34,5,7,3,57,356]\n",
    "old = [age for age in ages if age > 10 and age < 100 and age is not None]\n",
    "old"
   ]
  },
  {
   "cell_type": "code",
   "execution_count": 6,
   "id": "1c85c4cd-d283-4283-b98a-d959fae605d5",
   "metadata": {},
   "outputs": [
    {
     "name": "stdout",
     "output_type": "stream",
     "text": [
      "[34, 57, 34, 57]\n"
     ]
    }
   ],
   "source": [
    "for age in ages:\n",
    "    if age > 10 and age < 100:\n",
    "        old.append(age)\n",
    "print(old)"
   ]
  },
  {
   "cell_type": "code",
   "execution_count": 10,
   "id": "6ff76a6a-598c-45fa-bef5-170f555beee1",
   "metadata": {},
   "outputs": [
    {
     "name": "stdout",
     "output_type": "stream",
     "text": [
      "[70]\n"
     ]
    }
   ],
   "source": [
    "#Lambda\n",
    "data = [[70],[3],[0],[8],[1],[4]]\n",
    "def min_val(data):\n",
    "    return min(data, key=lambda x:len(x))\n",
    "print(min_val(data))"
   ]
  },
  {
   "cell_type": "code",
   "execution_count": 11,
   "id": "21f2ddd6-1e8e-431d-9c06-b9ffd9768595",
   "metadata": {},
   "outputs": [
    {
     "data": {
      "text/plain": [
       "[70]"
      ]
     },
     "execution_count": 11,
     "metadata": {},
     "output_type": "execute_result"
    }
   ],
   "source": [
    "min_val = min(data, key=lambda x: len(x))\n",
    "min_val"
   ]
  },
  {
   "cell_type": "markdown",
   "id": "2981a6fe-1b38-499c-88c5-2d19be7ba148",
   "metadata": {},
   "source": [
    "def read_file(file_name):\n",
    "\"\"\"Read the file line by line.\"\"\"\n",
    "    fread = open(file_name, \"r\")\n",
    "    data = [line for line in fread if line.startswith(\">>\")]\n",
    "    return data"
   ]
  },
  {
   "cell_type": "code",
   "execution_count": 18,
   "id": "7303b5ee-be26-4fcb-b681-32ab83e4e4ea",
   "metadata": {},
   "outputs": [
    {
     "data": {
      "text/plain": [
       "5.0"
      ]
     },
     "execution_count": 18,
     "metadata": {},
     "output_type": "execute_result"
    }
   ],
   "source": [
    "\n",
    "#What happen if we return None here as:\n",
    "\n",
    "def division(dividend, divisor):\n",
    "    \"\"\"Perform arithmetic division\"\"\"\n",
    "    try:\n",
    "        return dividend/divisor\n",
    "    except ZeroDivisionError as zero:\n",
    "        return None\n",
    "result = division(10, 2)   \n",
    "result"
   ]
  },
  {
   "cell_type": "markdown",
   "id": "daf732fa-fe27-49f0-9335-e1fe3a03aac1",
   "metadata": {},
   "source": [
    "def send_email(host, port, user, password, email, message):\n",
    "\"\"\"send email to specific email address.\"\"\"\n",
    "try:\n",
    "39Chapter 1\n",
    "Pythonic Thinking\n",
    "    server = smtlib.SMTP(host=host, port=port)\n",
    "    server.ehlo()\n",
    "    server.login(user, password)\n",
    "    server.send_email(message)\n",
    "finally:\n",
    "    server.quite()"
   ]
  },
  {
   "cell_type": "code",
   "execution_count": 19,
   "id": "47cfd5b8-09f3-46c9-a7f6-bf3bdd9fef3d",
   "metadata": {},
   "outputs": [],
   "source": [
    "file_name = \"\"\n",
    "def write_file(file_name):\n",
    "    \"\"\"Read given file line by bile\"\"\"\n",
    "    myfile = open(file_name,\"w\")\n",
    "    try:\n",
    "        myfile.write(\"PYthon is awesome\")\n",
    "    finally:\n",
    "        myfile.close()\n",
    "        \n",
    "    "
   ]
  },
  {
   "cell_type": "code",
   "execution_count": null,
   "id": "23eeb9be-6adb-4d08-9606-d0b3a66f484e",
   "metadata": {},
   "outputs": [],
   "source": [
    "#Creating a Specific Exception Class\n",
    "class UserNotFoundError(Exception):\n",
    "    \"\"\"Raise the exception when user not found\"\"\"\n",
    "    def __init__(self, message=None, errors=None):\n",
    "        #Calling the base constructor with the parameter it needs\n",
    "        super().__init__(message)\n",
    "        #New for your custom code\n",
    "        self.errors = errors\n",
    "\n",
    "def get_user_info(user_ob):\n",
    "    \"\"\"Get user information from DB.\"\"\"\n",
    "    user = get_user_from_dv(user_obj)\n",
    "    if not user:\n",
    "        raise UserNotFoundException(f\"No user found of this id:{user_obj.id}\")\n",
    "get_user_info(user_obj)\n",
    "\n",
    "class ValidationError(Exception):\n",
    "\"\"\"Raise the exception whenever validation failed..\"\"\"\n",
    "    def __init__(self, message=None, errors=None):\n",
    "        # Calling the base class constructor with the parameterit needs\n",
    "        super().__init__(message)\n",
    "        # New for your custom code\n",
    "        self.errors = errors"
   ]
  },
  {
   "cell_type": "code",
   "execution_count": 21,
   "id": "2864406b-db9a-4ddc-9619-12aaa62789b4",
   "metadata": {},
   "outputs": [
    {
     "name": "stdout",
     "output_type": "stream",
     "text": [
      "Type error has been raised due to non sequential data type.\n"
     ]
    }
   ],
   "source": [
    "def get_even_list(num_list):\n",
    "    \"\"\"Get list of odd numbers from given list\"\"\"\n",
    "    #This can raise NoneType or TypeError exceptions\n",
    "    return [item for item in num_list if item%2==0]\n",
    "\n",
    "numbers = None\n",
    "try:\n",
    "    get_even_list(numbers)\n",
    "\n",
    "except TypeError:\n",
    "    print(\"Type error has been raised due to non sequential data type.\")\n",
    "    \n",
    "    "
   ]
  },
  {
   "cell_type": "code",
   "execution_count": 23,
   "id": "9ae670fc-3782-4558-ba0d-e1cfda1ee60d",
   "metadata": {},
   "outputs": [],
   "source": [
    "from botocore.exceptions import ClientError\n",
    "ec2 = session.get_client('ec2', 'us-east-2')\n",
    "try:\n",
    "    parsed = ec2.describe_instances(InstanceIds=['i-badid'])\n",
    "except:\n",
    "    logger.error(\"Recieved error:%s\",e,exc_inf=True)\n",
    "    #Only worry about a specific service error code\n",
    "    if e.respone['Error']['Code'] == 'InvalidInstanceID.NotFound':\n",
    "        raise WrongInstanceIDError(message=exc_info, errors=e)\n",
    "class WrongInstanceIDError(Exception):\n",
    "    \"\"\"Raise the exception whenever Invalid instance found\"\"\"\n",
    "    def __init__(self, message=None, errors=None):\n",
    "        #calling the base class constructor with the parameter it needs\n",
    "        super().__init__(message)\n",
    "        #New for your custom code\n",
    "        self.errors = errors\n",
    "        \n",
    "def write_to_file(file_name, message):\n",
    "    \"\"\"Write to given file this specific message\"\"\"\n",
    "    try:\n",
    "        write_file = open(file_name, \"w\")\n",
    "        write_file.write(message)\n",
    "        write.close()\n",
    "    except(FileNotFoundError, IOError) as exc:\n",
    "        FileNotFoundException(f\"Having issue while writing into file{exc}\")\n",
    "try:\n",
    "    data = get_data_from_db(obj)\n",
    "except DBConnectionError:\n",
    "    raise\n",
    "return data\n",
    "\n",
    "    "
   ]
  },
  {
   "cell_type": "code",
   "execution_count": 24,
   "id": "dc8bbb18-a2a4-416b-b5dd-3c4e6c7a484f",
   "metadata": {},
   "outputs": [
    {
     "name": "stdout",
     "output_type": "stream",
     "text": [
      "Found the Data\n"
     ]
    }
   ],
   "source": [
    "#Set Usage for Accessing Data\n",
    "data = {\"first\",\"second\", \"third\",\"fourth\",\"fifth\"}\n",
    "if \"fourth\" in data:\n",
    "    print(\"Found the Data\")"
   ]
  },
  {
   "cell_type": "code",
   "execution_count": 25,
   "id": "e7df897b-e42d-413a-accb-adffbe71d436",
   "metadata": {},
   "outputs": [
    {
     "data": {
      "text/plain": [
       "{'fifth', 'first', 'fourth', 'second', 'third'}"
      ]
     },
     "execution_count": 25,
     "metadata": {},
     "output_type": "execute_result"
    }
   ],
   "source": [
    "no_duplicate_data = set(data)\n",
    "no_duplicate_data"
   ]
  },
  {
   "cell_type": "code",
   "execution_count": 27,
   "id": "ab1f3c50-5605-496e-9bc6-728cd1f063ea",
   "metadata": {},
   "outputs": [
    {
     "data": {
      "text/plain": [
       "['LarryPage', 'JohnFreedom']"
      ]
     },
     "execution_count": 27,
     "metadata": {},
     "output_type": "execute_result"
    }
   ],
   "source": [
    "#Sets as First and Last Names\n",
    "users = {'1267':{'first':'Larry','last':'Page'},\n",
    "        '2343':{'first':'John', 'last':'Freedom'}}\n",
    "\n",
    "ids = set(users.keys())\n",
    "full_names = []\n",
    "for user in users.values():\n",
    "    full_names.append(user[\"first\"] + \"\" + user[\"last\"])\n",
    "full_names "
   ]
  },
  {
   "cell_type": "code",
   "execution_count": 29,
   "id": "0c0d9ce9-d7ab-4eb9-a5c3-0b044406bd9f",
   "metadata": {},
   "outputs": [
    {
     "name": "stdout",
     "output_type": "stream",
     "text": [
      "3\n",
      "4\n",
      "5\n"
     ]
    }
   ],
   "source": [
    "#Access Data\n",
    "class Point:\n",
    "    def __init__(self, x, y, z):\n",
    "        self.x = x\n",
    "        self.y = y\n",
    "        self.z = z\n",
    "point = Point(3, 4, 5)\n",
    "print(point.x)\n",
    "print(point.y)\n",
    "print(point.z)"
   ]
  },
  {
   "cell_type": "code",
   "execution_count": 30,
   "id": "024d4eb9-0899-461a-a8cb-66993af4d2f4",
   "metadata": {},
   "outputs": [],
   "source": [
    "Point = namedtuple(\"Point\",[\"x\",\"y\",\"z\"])\n",
    "point = Point(x=3, y=4, z=5)\n",
    "print(point.x)\n",
    "print(point.y)\n",
    "print(point.z)\n",
    "                   "
   ]
  },
  {
   "cell_type": "code",
   "execution_count": 32,
   "id": "f1c5df0a-7a2c-4ef2-be0b-6548ee03026f",
   "metadata": {},
   "outputs": [],
   "source": [
    "def get_user_info(user_obj):\n",
    "    user = get_Data_from_db(user_obj)\n",
    "    first_name = user[\"first_name\"]\n",
    "    last_name = user[\"last_name\"]\n",
    "    age = user[\"age\"]\n",
    "    return(first_name, last_name, age)\n",
    "\n",
    "def get_full_name(first_name, last_name):\n",
    "    return first_name + last_name\n",
    "\n",
    "first_name, last_name, age = get_user_info(user_obj)\n",
    "full_name = get_full_name(first_name, last_name)\n",
    "full_name"
   ]
  },
  {
   "cell_type": "code",
   "execution_count": null,
   "id": "2b109ef3-626a-4d9b-b10e-41e24379288a",
   "metadata": {},
   "outputs": [],
   "source": [
    "def get_user_info(user_obj):\n",
    "    user = get_data_from_db(user_obj)\n",
    "    \u0007UserInfo = namedtuple(\"UserInfo\", [\"first_name\", \"last_\n",
    "name\", \"age\"])\n",
    "    user_info = UserInfo(first_name=user[\"first_name\"],\n",
    "                         last_name=user[\"last_name\"],\n",
    "                         age=user[\"age\"])\n",
    "    return user_info\n",
    "def get_full_name(user_info):\n",
    "    return user_info.first_name + user_info.last_name\n",
    "user_info = get_user_info(user_obj)\n",
    "full_name = get_full_name(user_info)"
   ]
  }
 ],
 "metadata": {
  "kernelspec": {
   "display_name": "Python 3 (ipykernel)",
   "language": "python",
   "name": "python3"
  },
  "language_info": {
   "codemirror_mode": {
    "name": "ipython",
    "version": 3
   },
   "file_extension": ".py",
   "mimetype": "text/x-python",
   "name": "python",
   "nbconvert_exporter": "python",
   "pygments_lexer": "ipython3",
   "version": "3.10.8"
  }
 },
 "nbformat": 4,
 "nbformat_minor": 5
}
