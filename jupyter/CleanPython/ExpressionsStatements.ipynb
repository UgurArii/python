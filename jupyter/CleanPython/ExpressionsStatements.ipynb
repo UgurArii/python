{
 "cells": [
  {
   "cell_type": "code",
   "execution_count": 1,
   "id": "740545d5-505f-46a5-aeab-297c375df88e",
   "metadata": {},
   "outputs": [
    {
     "data": {
      "text/plain": [
       "[{'first_name': 'anni', 'age': 9},\n",
       " {'first_name': 'Buck', 'age': 10},\n",
       " {'first_name': 'Helen', 'age': 39}]"
      ]
     },
     "execution_count": 1,
     "metadata": {},
     "output_type": "execute_result"
    }
   ],
   "source": [
    "users = [{\"first_name\":\"Helen\", \"age\":39},\n",
    "         {\"first_name\":\"Buck\", \"age\":10},\n",
    "         {\"first_name\":\"anni\", \"age\":9}\n",
    "        ]\n",
    "users = sorted(users, key=lambda user: user[\"first_name\"].lower())\n",
    "users"
   ]
  },
  {
   "cell_type": "code",
   "execution_count": 2,
   "id": "162cc99f-0e0e-4868-acb9-3b1e09afd641",
   "metadata": {},
   "outputs": [],
   "source": [
    "def get_user_name(users):\n",
    "    #Get name of the user in lower case\n",
    "    return users[\"first_name\"].lower()\n",
    "\n",
    "def get_sorted_dictionary(users):\n",
    "    #Sort the nested dictionary\n",
    "    if not isinstance(users, dict):\n",
    "        raise ValueError(\"Not a correct dictionary\")\n",
    "    if not len(users):\n",
    "        raise ValueError(\"Empty dictionary\")\n",
    "    user_by_name = sorted(users, key=get_user_name)\n",
    "    return users_by_name"
   ]
  },
  {
   "cell_type": "code",
   "execution_count": 3,
   "id": "436ee453-6cbc-432a-b040-5f18fb86dbc3",
   "metadata": {},
   "outputs": [],
   "source": [
    "import csv"
   ]
  },
  {
   "cell_type": "code",
   "execution_count": 4,
   "id": "f51530a0-dde5-4530-b302-ad3df70f47eb",
   "metadata": {},
   "outputs": [
    {
     "name": "stdout",
     "output_type": "stream",
     "text": [
      "Column names are EMPLOYEE_ID,FIRST_NAME,LAST_NAME,EMAIL,PHONE_NUMBER,HIRE_DATE,JOB_ID,SALARY,COMMISSION_PCT,MANAGER_ID,DEPARTMENT_ID\n",
      "\tDonald salary: 2600and was born in 21-JUN-07.\n",
      "Processed 51 lines\n"
     ]
    }
   ],
   "source": [
    "with open(\"employees.csv\", mode=\"r\") as csv_file:\n",
    "    csv_reader = csv.DictReader(csv_file)\n",
    "    line_count = 0\n",
    "    for row in csv_reader:\n",
    "        if line_count == 0:\n",
    "            print(f'Column names are {\",\".join(row)}')\n",
    "            line_count +=1\n",
    "            print(f'\\t{row[\"FIRST_NAME\"]} salary: {row[\"SALARY\"]}'\n",
    "                  f'and was born in {row[\"HIRE_DATE\"]}.')\n",
    "        line_count += 1\n",
    "    print(f'Processed {line_count} lines')\n",
    "    "
   ]
  },
  {
   "cell_type": "code",
   "execution_count": 5,
   "id": "bd5c0a17-9766-43b2-acb4-105375fe74ca",
   "metadata": {},
   "outputs": [
    {
     "data": {
      "text/plain": [
       "'Json smart'"
      ]
     },
     "execution_count": 5,
     "metadata": {},
     "output_type": "execute_result"
    }
   ],
   "source": [
    "first_name = \"Json\"\n",
    "last_name = \"smart\"\n",
    "\n",
    "#Not a recommended way to concatenate string\n",
    "full_name = first_name + \" \" + last_name\n",
    "\n",
    "#More performant and improve readability\n",
    "\" \".join([first_name, last_name])"
   ]
  },
  {
   "cell_type": "code",
   "execution_count": 6,
   "id": "4696782f-a906-4fe1-b11b-cf39945a8bba",
   "metadata": {},
   "outputs": [
    {
     "name": "stdout",
     "output_type": "stream",
     "text": [
      "Not True\n"
     ]
    }
   ],
   "source": [
    "data = \"Hellow, how are u doing?\"\n",
    "if data[:5] == \"Hello\":\n",
    "    print('Not True')\n",
    "    "
   ]
  },
  {
   "cell_type": "markdown",
   "id": "bd6c47f2-831b-4f3e-bfbb-4353a2970952",
   "metadata": {},
   "source": [
    "user_ages = {\"Larry\":35, \"Jon\":89, \"Imli\":12}\n",
    "if isinstance(user_ages):\n",
    "    "
   ]
  },
  {
   "cell_type": "code",
   "execution_count": 7,
   "id": "84798d00-5c90-49a8-8117-29f28d95f5eb",
   "metadata": {},
   "outputs": [],
   "source": [
    "import urllib3\n",
    "import json"
   ]
  },
  {
   "cell_type": "code",
   "execution_count": 8,
   "id": "46d38369-15da-4112-8e00-7164364933e8",
   "metadata": {},
   "outputs": [],
   "source": [
    "class Student:\n",
    "    \"\"\"This class handle actions performed by a student.\"\"\"\n",
    "    def __init__(self):\n",
    "        pass\n",
    "    \"\"\"Student class information.\n",
    "    This class handle actions performed by a student.\n",
    "    \u0007This class provides information about student full name,\n",
    "age, roll-number and other information.\n",
    "    Usage:\n",
    "    import student\n",
    "    student = student.Student()\n",
    "    student.get_name()\n",
    "23Chapter 1\n",
    "Pythonic Thinking\n",
    "    >>> 678998\n",
    "    \"\"\"\n",
    "    def is_prime_number(number):\n",
    "         \"\"\"Check for prime number.\n",
    "    \u0007Check the given number is prime number or not by checking\n",
    "against all the numbers less the square root of given number.\n",
    "    :param number:  Given number to check for prime.\n",
    "    :type number: int\n",
    "    :return: True if number is prime otherwise False.\n",
    "    :rtype: boolean\n",
    "    \"\"\"\n",
    "        \n",
    "        "
   ]
  },
  {
   "cell_type": "code",
   "execution_count": 9,
   "id": "81a04a66-a33d-4873-a2bd-46af1dc84804",
   "metadata": {},
   "outputs": [],
   "source": [
    "numbers = [10, 45, 34, 89, 34, 23, 6]\n",
    "square_numbers = map(lambda num: num**2, numbers)\n",
    "#square_numbers = [num**2 for num in numbers]"
   ]
  },
  {
   "cell_type": "code",
   "execution_count": 10,
   "id": "510dd2a7-c045-4131-b841-1b764d80862a",
   "metadata": {},
   "outputs": [],
   "source": [
    "data = [1, \"A\", 0, False, True]\n",
    "filtered_data = filter(None, data)\n"
   ]
  },
  {
   "cell_type": "code",
   "execution_count": 11,
   "id": "4369c562-5ee7-4a9e-9033-acdb80c63b01",
   "metadata": {},
   "outputs": [],
   "source": [
    "list_char = [\"a\", \"p\", \"t\", \"i\", \"y\", \"l\"]\n",
    "vowel = [\"a\", \"e\", \"i\", \"o\", \"u\"]\n",
    "only_vowel = []\n",
    "for item in list_char:\n",
    "    if item in vowel:\n",
    "        only_vowel.append(item)\n",
    "        "
   ]
  },
  {
   "cell_type": "code",
   "execution_count": 12,
   "id": "699b3f0d-ae64-482a-afc9-3e8abfd58577",
   "metadata": {},
   "outputs": [],
   "source": [
    "matrix = [[1,2,3],\n",
    "          [4,5,6],\n",
    "          [7,8,9]\n",
    "         ]\n",
    "#return [[martix[row][col] for row in range(0, height)] for col in range(0, width)]\n"
   ]
  },
  {
   "cell_type": "code",
   "execution_count": 13,
   "id": "68d85628-8a35-433d-a39a-d4ea148d7806",
   "metadata": {},
   "outputs": [
    {
     "data": {
      "text/plain": [
       "[34, 57]"
      ]
     },
     "execution_count": 13,
     "metadata": {},
     "output_type": "execute_result"
    }
   ],
   "source": [
    "ages = [1,34,5,7,3,57,356]\n",
    "old = [age for age in ages if age > 10 and age < 100 and age is not None]\n",
    "old"
   ]
  },
  {
   "cell_type": "code",
   "execution_count": 14,
   "id": "1c85c4cd-d283-4283-b98a-d959fae605d5",
   "metadata": {},
   "outputs": [
    {
     "name": "stdout",
     "output_type": "stream",
     "text": [
      "[34, 57, 34, 57]\n"
     ]
    }
   ],
   "source": [
    "for age in ages:\n",
    "    if age > 10 and age < 100:\n",
    "        old.append(age)\n",
    "print(old)"
   ]
  },
  {
   "cell_type": "code",
   "execution_count": 15,
   "id": "6ff76a6a-598c-45fa-bef5-170f555beee1",
   "metadata": {},
   "outputs": [
    {
     "name": "stdout",
     "output_type": "stream",
     "text": [
      "[70]\n"
     ]
    }
   ],
   "source": [
    "#Lambda\n",
    "data = [[70],[3],[0],[8],[1],[4]]\n",
    "def min_val(data):\n",
    "    return min(data, key=lambda x:len(x))\n",
    "print(min_val(data))"
   ]
  },
  {
   "cell_type": "code",
   "execution_count": 16,
   "id": "21f2ddd6-1e8e-431d-9c06-b9ffd9768595",
   "metadata": {},
   "outputs": [
    {
     "data": {
      "text/plain": [
       "[70]"
      ]
     },
     "execution_count": 16,
     "metadata": {},
     "output_type": "execute_result"
    }
   ],
   "source": [
    "min_val = min(data, key=lambda x: len(x))\n",
    "min_val"
   ]
  },
  {
   "cell_type": "markdown",
   "id": "2981a6fe-1b38-499c-88c5-2d19be7ba148",
   "metadata": {},
   "source": [
    "def read_file(file_name):\n",
    "\"\"\"Read the file line by line.\"\"\"\n",
    "    fread = open(file_name, \"r\")\n",
    "    data = [line for line in fread if line.startswith(\">>\")]\n",
    "    return data"
   ]
  },
  {
   "cell_type": "code",
   "execution_count": 17,
   "id": "7303b5ee-be26-4fcb-b681-32ab83e4e4ea",
   "metadata": {},
   "outputs": [
    {
     "data": {
      "text/plain": [
       "5.0"
      ]
     },
     "execution_count": 17,
     "metadata": {},
     "output_type": "execute_result"
    }
   ],
   "source": [
    "\n",
    "#What happen if we return None here as:\n",
    "\n",
    "def division(dividend, divisor):\n",
    "    \"\"\"Perform arithmetic division\"\"\"\n",
    "    try:\n",
    "        return dividend/divisor\n",
    "    except ZeroDivisionError as zero:\n",
    "        return None\n",
    "result = division(10, 2)   \n",
    "result"
   ]
  },
  {
   "cell_type": "markdown",
   "id": "daf732fa-fe27-49f0-9335-e1fe3a03aac1",
   "metadata": {},
   "source": [
    "def send_email(host, port, user, password, email, message):\n",
    "\"\"\"send email to specific email address.\"\"\"\n",
    "try:\n",
    "39Chapter 1\n",
    "Pythonic Thinking\n",
    "    server = smtlib.SMTP(host=host, port=port)\n",
    "    server.ehlo()\n",
    "    server.login(user, password)\n",
    "    server.send_email(message)\n",
    "finally:\n",
    "    server.quite()"
   ]
  },
  {
   "cell_type": "code",
   "execution_count": 18,
   "id": "47cfd5b8-09f3-46c9-a7f6-bf3bdd9fef3d",
   "metadata": {},
   "outputs": [],
   "source": [
    "file_name = \"\"\n",
    "def write_file(file_name):\n",
    "    \"\"\"Read given file line by bile\"\"\"\n",
    "    myfile = open(file_name,\"w\")\n",
    "    try:\n",
    "        myfile.write(\"PYthon is awesome\")\n",
    "    finally:\n",
    "        myfile.close()\n",
    "        \n",
    "    "
   ]
  },
  {
   "cell_type": "raw",
   "id": "dc10cf95-2d05-4180-8192-adcb861bccce",
   "metadata": {},
   "source": [
    "#Creating a Specific Exception Class\n",
    "class UserNotFoundError(Exception):\n",
    "    \"\"\"Raise the exception when user not found\"\"\"\n",
    "    def __init__(self, message=None, errors=None):\n",
    "        #Calling the base constructor with the parameter it needs\n",
    "        super().__init__(message)\n",
    "        #New for your custom code\n",
    "        self.errors = errors\n",
    "\n",
    "def get_user_info(user_ob):\n",
    "    \"\"\"Get user information from DB.\"\"\"\n",
    "    user = get_user_from_dv(user_obj)\n",
    "    if not user:\n",
    "        raise UserNotFoundException(f\"No user found of this id:{user_obj.id}\")\n",
    "get_user_info(user_obj)\n",
    "\n",
    "class ValidationError(Exception):\n",
    "\"\"\"Raise the exception whenever validation failed..\"\"\"\n",
    "    def __init__(self, message=None, errors=None):\n",
    "        # Calling the base class constructor with the parameterit needs\n",
    "        super().__init__(message)\n",
    "        # New for your custom code\n",
    "        self.errors = errors"
   ]
  },
  {
   "cell_type": "code",
   "execution_count": 19,
   "id": "2864406b-db9a-4ddc-9619-12aaa62789b4",
   "metadata": {},
   "outputs": [
    {
     "name": "stdout",
     "output_type": "stream",
     "text": [
      "Type error has been raised due to non sequential data type.\n"
     ]
    }
   ],
   "source": [
    "def get_even_list(num_list):\n",
    "    \"\"\"Get list of odd numbers from given list\"\"\"\n",
    "    #This can raise NoneType or TypeError exceptions\n",
    "    return [item for item in num_list if item%2==0]\n",
    "\n",
    "numbers = None\n",
    "try:\n",
    "    get_even_list(numbers)\n",
    "\n",
    "except TypeError:\n",
    "    print(\"Type error has been raised due to non sequential data type.\")\n",
    "    \n",
    "    "
   ]
  },
  {
   "cell_type": "raw",
   "id": "4b0b81af-06c7-4635-af8f-5d383af0354e",
   "metadata": {},
   "source": [
    "from botocore.exceptions import ClientError\n",
    "ec2 = session.get_client('ec2', 'us-east-2')\n",
    "try:\n",
    "    parsed = ec2.describe_instances(InstanceIds=['i-badid'])\n",
    "except:\n",
    "    logger.error(\"Recieved error:%s\",e,exc_inf=True)\n",
    "    #Only worry about a specific service error code\n",
    "    if e.respone['Error']['Code'] == 'InvalidInstanceID.NotFound':\n",
    "        raise WrongInstanceIDError(message=exc_info, errors=e)\n",
    "class WrongInstanceIDError(Exception):\n",
    "    \"\"\"Raise the exception whenever Invalid instance found\"\"\"\n",
    "    def __init__(self, message=None, errors=None):\n",
    "        #calling the base class constructor with the parameter it needs\n",
    "        super().__init__(message)\n",
    "        #New for your custom code\n",
    "        self.errors = errors\n",
    "        \n",
    "def write_to_file(file_name, message):\n",
    "    \"\"\"Write to given file this specific message\"\"\"\n",
    "    try:\n",
    "        write_file = open(file_name, \"w\")\n",
    "        write_file.write(message)\n",
    "        write.close()\n",
    "    except(FileNotFoundError, IOError) as exc:\n",
    "        FileNotFoundException(f\"Having issue while writing into file{exc}\")\n",
    "try:\n",
    "    data = get_data_from_db(obj)\n",
    "except DBConnectionError:\n",
    "    raise\n",
    "return data\n",
    "\n",
    "    "
   ]
  },
  {
   "cell_type": "code",
   "execution_count": 20,
   "id": "dc8bbb18-a2a4-416b-b5dd-3c4e6c7a484f",
   "metadata": {},
   "outputs": [
    {
     "name": "stdout",
     "output_type": "stream",
     "text": [
      "Found the Data\n"
     ]
    }
   ],
   "source": [
    "#Set Usage for Accessing Data\n",
    "data = {\"first\",\"second\", \"third\",\"fourth\",\"fifth\"}\n",
    "if \"fourth\" in data:\n",
    "    print(\"Found the Data\")"
   ]
  },
  {
   "cell_type": "code",
   "execution_count": 21,
   "id": "e7df897b-e42d-413a-accb-adffbe71d436",
   "metadata": {},
   "outputs": [
    {
     "data": {
      "text/plain": [
       "{'fifth', 'first', 'fourth', 'second', 'third'}"
      ]
     },
     "execution_count": 21,
     "metadata": {},
     "output_type": "execute_result"
    }
   ],
   "source": [
    "no_duplicate_data = set(data)\n",
    "no_duplicate_data"
   ]
  },
  {
   "cell_type": "code",
   "execution_count": 22,
   "id": "ab1f3c50-5605-496e-9bc6-728cd1f063ea",
   "metadata": {},
   "outputs": [
    {
     "data": {
      "text/plain": [
       "['LarryPage', 'JohnFreedom']"
      ]
     },
     "execution_count": 22,
     "metadata": {},
     "output_type": "execute_result"
    }
   ],
   "source": [
    "#Sets as First and Last Names\n",
    "users = {'1267':{'first':'Larry','last':'Page'},\n",
    "        '2343':{'first':'John', 'last':'Freedom'}}\n",
    "\n",
    "ids = set(users.keys())\n",
    "full_names = []\n",
    "for user in users.values():\n",
    "    full_names.append(user[\"first\"] + \"\" + user[\"last\"])\n",
    "full_names "
   ]
  },
  {
   "cell_type": "code",
   "execution_count": 23,
   "id": "0c0d9ce9-d7ab-4eb9-a5c3-0b044406bd9f",
   "metadata": {},
   "outputs": [
    {
     "name": "stdout",
     "output_type": "stream",
     "text": [
      "3\n",
      "4\n",
      "5\n"
     ]
    }
   ],
   "source": [
    "#Access Data\n",
    "class Point:\n",
    "    def __init__(self, x, y, z):\n",
    "        self.x = x\n",
    "        self.y = y\n",
    "        self.z = z\n",
    "point = Point(3, 4, 5)\n",
    "print(point.x)\n",
    "print(point.y)\n",
    "print(point.z)"
   ]
  },
  {
   "cell_type": "raw",
   "id": "2ccdf449-1355-45cd-8acf-baff3e8a8124",
   "metadata": {},
   "source": [
    "Point = namedtuple(\"Point\",[\"x\",\"y\",\"z\"])\n",
    "point = Point(x=3, y=4, z=5)\n",
    "print(point.x)\n",
    "print(point.y)\n",
    "print(point.z)\n",
    "                   "
   ]
  },
  {
   "cell_type": "markdown",
   "id": "bf1afe83-e0c5-4f0a-a16b-3a9d59f48878",
   "metadata": {},
   "source": [
    "def get_user_info(user_obj):\n",
    "    user = get_Data_from_db(user_obj)\n",
    "    first_name = user[\"first_name\"]\n",
    "    last_name = user[\"last_name\"]\n",
    "    age = user[\"age\"]\n",
    "    return(first_name, last_name, age)\n",
    "\n",
    "def get_full_name(first_name, last_name):\n",
    "    return first_name + last_name\n",
    "\n",
    "first_name, last_name, age = get_user_info(user_obj)\n",
    "full_name = get_full_name(first_name, last_name)\n",
    "full_name"
   ]
  },
  {
   "cell_type": "markdown",
   "id": "32c3e57a-f73f-469f-a46d-83c55bf76e3e",
   "metadata": {},
   "source": [
    "def get_user_info(user_obj):\n",
    "    user = get_data_from_db(user_obj)\n",
    "    \u0007UserInfo = namedtuple(\"UserInfo\", [\"first_name\", \"last_\n",
    "name\", \"age\"])\n",
    "    user_info = UserInfo(first_name=user[\"first_name\"],\n",
    "                         last_name=user[\"last_name\"],\n",
    "                         age=user[\"age\"])\n",
    "    return user_info\n",
    "def get_full_name(user_info):\n",
    "    return user_info.first_name + user_info.last_name\n",
    "user_info = get_user_info(user_obj)\n",
    "full_name = get_full_name(user_info)"
   ]
  },
  {
   "cell_type": "code",
   "execution_count": null,
   "id": "f9db6ad6-fce0-4416-84b0-9cdc0c77cc71",
   "metadata": {},
   "outputs": [],
   "source": [
    "def get_prime_numbers(lower, higher):\n",
    "    primes = []\n",
    "    for num in range(lower, higher + 1):\n",
    "        for prime in range(2, num + 1):\n",
    "            is_prime = True\n",
    "            for item in range(2, int(num ** 0.5) + 1):\n",
    "                if num%item == 0:\n",
    "                    i_prime = False\n",
    "                    break\n",
    "                if is_prime:\n",
    "                    primes.append(num)\n",
    "print(get_prime_numbers(30, 30000))"
   ]
  },
  {
   "cell_type": "code",
   "execution_count": null,
   "id": "c260b318-b2be-4dca-bab7-0fa3a98de4a6",
   "metadata": {},
   "outputs": [],
   "source": [
    "def is_prime(num):\n",
    "    for item in range(2, int(math.sqrt(num)) + 1):\n",
    "        if num % item == 0:\n",
    "            prime = False\n",
    "    return prime\n",
    "def get_prime_numbers(lower, higher):\n",
    "    for possible_prime in range(lower, higher):\n",
    "        if is_prime(possible_prime):\n",
    "            yield possible_prime\n",
    "        yield False\n",
    "for prime in get_prime_numbers(lower, higher):\n",
    "    if prime:\n",
    "        print(prime)"
   ]
  },
  {
   "cell_type": "code",
   "execution_count": null,
   "id": "d42b59c6-ab6d-4c9f-860d-1304e6d0d007",
   "metadata": {},
   "outputs": [],
   "source": [
    "#Access a Database and Store the Result in a List as a\n",
    "def get_all_users_age(total_users=1000):\n",
    "    age = []\n",
    "    for id in total_users:\n",
    "        user_obj = access_db_to_get_users_by_id(id)\n",
    "        age.append([user.name, user.age])\n",
    "    return age\n",
    "total_users = 1000000000\n",
    "for user_info in range(total_users):\n",
    "    info = get_all_users_age()\n",
    "    for user in info:\n",
    "        print(user)\n",
    "#Combine a List\n",
    "def get_user_salary_info():\n",
    "    users = get_users_name_from_db()\n",
    "    # [\"Abe\", \"Larry\", \"Adams\", \"John\", \"Sumit\", \"Adward\"]\n",
    "    users_salary = get_users_salary_from_db()\n",
    "    #  [\"2M\", \"1M\", \"60K\", \"30K\", \"80K\", \"100K\"]\n",
    "    users_salary = []\n",
    "    for index in len(users):\n",
    "        users_salary.append([users[index], users_salary[index]])\n",
    "    return users_salary"
   ]
  },
  {
   "cell_type": "code",
   "execution_count": null,
   "id": "57ad39d8-b47b-4a19-af52-3e987fc62316",
   "metadata": {},
   "outputs": [],
   "source": [
    "from collections import Counter\n",
    "countries = [\"Belarus\",\"Albania\",\"Malta\",\"Ukrain\",\"Belarus\",\"Malta\",\"Belarus\"]\n",
    "print(Counter(countries))\n",
    "countries_count = Counter(countries)\n",
    "print(countries_count.most_common(1))"
   ]
  },
  {
   "cell_type": "code",
   "execution_count": null,
   "id": "185d31f0-6956-45bc-bd4c-603cdc3649f3",
   "metadata": {},
   "outputs": [],
   "source": [
    "from collections import deque\n",
    "\n",
    "#Make a deque\n",
    "deq = deque(\"abcdefg\")\n",
    "\n",
    "#Iterate over the deque's element\n",
    "[item.upper() for item in deq]\n",
    "deq"
   ]
  },
  {
   "cell_type": "code",
   "execution_count": null,
   "id": "3c22e0cf-5afd-4559-8734-c4660c11005e",
   "metadata": {},
   "outputs": [],
   "source": [
    "deq.append(\"h\")"
   ]
  },
  {
   "cell_type": "code",
   "execution_count": null,
   "id": "42bf4499-e097-4738-8e25-3b946a5325fe",
   "metadata": {},
   "outputs": [],
   "source": [
    "deq.appendleft(\"I\")\n",
    "deq"
   ]
  },
  {
   "cell_type": "code",
   "execution_count": null,
   "id": "a63dbe66-38b0-4ead-a46b-8fd42e34a361",
   "metadata": {},
   "outputs": [],
   "source": [
    "deq.pop()\n",
    "deq"
   ]
  },
  {
   "cell_type": "code",
   "execution_count": null,
   "id": "36e697e5-2455-48f1-be70-424480700336",
   "metadata": {},
   "outputs": [],
   "source": [
    "deq.popleft()\n",
    "deq"
   ]
  },
  {
   "cell_type": "code",
   "execution_count": null,
   "id": "5550c945-0eff-4694-9762-e8691397698d",
   "metadata": {},
   "outputs": [],
   "source": [
    "#empty deque\n",
    "deq.clear()"
   ]
  },
  {
   "cell_type": "code",
   "execution_count": null,
   "id": "f9f4a0c6-1a34-45e9-af05-383eddab50ed",
   "metadata": {},
   "outputs": [],
   "source": [
    "from collections import defaultdict\n",
    "\n",
    "#Make a defaultdict\n",
    "colors = defaultdict(int)\n",
    "\n",
    "#Try printing value of non-existing key would give us default values\n",
    "colors[\"orange\"]\n",
    "print(colors)"
   ]
  },
  {
   "cell_type": "code",
   "execution_count": null,
   "id": "19117b18-dddc-43bd-859a-838b61c84ce2",
   "metadata": {},
   "outputs": [],
   "source": [
    "from collections import OrderedDict\n",
    "\n",
    "#Make a OrderedDict\n",
    "colors = OrderedDict()\n",
    "\n",
    "#Assing values\n",
    "colors[\"orange\"] = \"ORANGE\"\n",
    "colors[\"blue\"] = \"BLUE\"\n",
    "colors[\"green\"] = \"GREEN\"\n",
    "\n",
    "#Get values\n",
    "[k for k, v in colors.items()]\n"
   ]
  },
  {
   "cell_type": "code",
   "execution_count": null,
   "id": "74592c82-3fa1-49b2-a2d5-ab302ea29597",
   "metadata": {},
   "outputs": [],
   "source": [
    "salary_first = {\"Lisa\": 238900, \"Ganesh\": 8765000, \"John\":\n",
    "3450000}\n",
    "salary_second = {\"Albert\": 3456000, \"Arya\": 987600}\n",
    "{**salary_first, **salary_second}"
   ]
  },
  {
   "cell_type": "code",
   "execution_count": null,
   "id": "6010c106-1a99-4599-9ebe-fdb502bf2bd6",
   "metadata": {},
   "outputs": [],
   "source": [
    "salary_first = {\"Lisa\": 238900, \"Ganesh\": 8765000, \"John\":\n",
    "3450000}\n",
    "salary_second = {\"Albert\": 3456000, \"Arya\": 987600}\n",
    "salary = salary_first.copy()\n",
    "salary.update(salary_second)"
   ]
  },
  {
   "cell_type": "code",
   "execution_count": null,
   "id": "0df1bc3c-0ad5-4e72-8eaf-7b6d303c033b",
   "metadata": {},
   "outputs": [],
   "source": [
    "salary"
   ]
  },
  {
   "cell_type": "code",
   "execution_count": null,
   "id": "60723c23-6d27-4232-97c1-6b4554e4a059",
   "metadata": {},
   "outputs": [],
   "source": [
    "import pprint\n",
    "pp = pprint.PrettyPrinter(indent=4)\n",
    "pp.pprint(colors)"
   ]
  },
  {
   "cell_type": "code",
   "execution_count": null,
   "id": "b61d9568-7e62-4134-9b3f-b7335778df7f",
   "metadata": {},
   "outputs": [],
   "source": [
    "import json\n",
    "\n",
    "data = {'a':12, 'b':{'x':87, 'y':{'t1':21, 't2':34}}}\n",
    "json.dumps(data, sort_keys=True, indent=4)"
   ]
  },
  {
   "cell_type": "code",
   "execution_count": null,
   "id": "cfe01e8d-f567-4cab-acc6-2c83b6d1824f",
   "metadata": {},
   "outputs": [],
   "source": [
    "#Unique E-mail Example\n",
    "def get_unique_emails(file_name):\n",
    "    \"\"\"\n",
    "    Read the file data and get all unique emails.\n",
    "    \"\"\"\n",
    "    emails = set()\n",
    "    with open(file_name) as fread:\n",
    "            for line in fread:\n",
    "                match = re.findall(r'[\\w\\.-]+@[\\w\\.-]+', line)\n",
    "                for email in match:\n",
    "                    emails.add(email)\n",
    "    return emails\n",
    "def read_file(file_name):\n",
    "    \"\"\"\n",
    "    Read file and yield each line.\n",
    "    \"\"\"\n",
    "    with open(file_name) as fread:\n",
    "        for line in fread:\n",
    "            yield line\n",
    "def print_email_list():\n",
    "    \"\"\"\n",
    "    Print list of emails\n",
    "    \"\"\"\n",
    "    for email in get_unique_emails('duplicate_emails'):\n",
    "        print(email)"
   ]
  },
  {
   "cell_type": "code",
   "execution_count": null,
   "id": "5afdf301-d86f-4f38-b77f-18fc625d68bc",
   "metadata": {},
   "outputs": [],
   "source": [
    "def read_lines_for_python(file_name, file_type):\n",
    "    if not file_name or file_type not in (\"txt\", \"html\"):\n",
    "         return None\n",
    "    lines = []\n",
    "    with open(file_name, \"r\") as fileread:\n",
    "        for line in fileread:\n",
    "           if \"python\" in line:\n",
    "               return \"Found Python\"\n",
    "If not read_lines_for_python(\"file_without_python_name\",\n",
    "\"pdf\"):\n",
    "    print(\"Not correct file format or file name doesn't exist\")"
   ]
  },
  {
   "cell_type": "code",
   "execution_count": null,
   "id": "a003189b-ce30-4c2d-aa11-7675df22f3fa",
   "metadata": {},
   "outputs": [],
   "source": [
    "def read_lines_for_python(file_name, file_type):\n",
    "    if file_type not in (\"txt\", \"html\"):\n",
    "        raise ValueError(\"Not correct file format\")\n",
    "    if not file_name:\n",
    "        raise IOError(\"File Not Found\")\n",
    "    with open(file_name, \"r\") as fileread:\n",
    "        for line in fileread:\n",
    "           if \"python\" in line:\n",
    "               return \"Found Python\"\n",
    "    if not read_lines_for_python(\"file_without_python_name\",\"pdf\"):\n",
    "        print(\"Python keyword doesn't exists in file\")"
   ]
  },
  {
   "cell_type": "code",
   "execution_count": null,
   "id": "ba583f66-b9be-4b14-9b75-f49393bb5ecf",
   "metadata": {},
   "outputs": [],
   "source": [
    "def calculate_sum(first_number=5, second_number=10):\n",
    "    return first_number + second_number\n",
    "\n",
    "calculate_sum(50,110)"
   ]
  },
  {
   "cell_type": "code",
   "execution_count": null,
   "id": "60ea42ad-4869-4900-9779-f15300103935",
   "metadata": {},
   "outputs": [],
   "source": [
    "def sum(first_number, second_number):\n",
    "    if isinstance(first_number, int) and isinstance(second_number, int):\n",
    "        return first_number + second_number\n",
    "    else:\n",
    "        return None\n",
    "result = sum(10, \"str\")           # Return None\n",
    "result = sum(10, 5)               # Return 15\n",
    "print(result)"
   ]
  },
  {
   "cell_type": "code",
   "execution_count": null,
   "id": "5b1e4053-8858-4222-99b1-00c1f89e9107",
   "metadata": {},
   "outputs": [],
   "source": [
    "def sum(first_number, second_number):\n",
    "    if isinstance(first_number, int) and isinstance(second_number, int):\n",
    "        return first_number + second_number\n",
    "    else:\n",
    "        raise ValueError(\"Provide only int values\")"
   ]
  },
  {
   "cell_type": "code",
   "execution_count": null,
   "id": "40ee8a8b-7e0b-4ce5-9ae1-2e82bf431a28",
   "metadata": {},
   "outputs": [],
   "source": [
    "def find_odd_numbers(numbers):\n",
    "    odd_numbers = []\n",
    "    if isinstance(numbers, list):\n",
    "        return None\n",
    "    for item in numbers:\n",
    "        if item%2 != 0:\n",
    "            odd_numbers.append(item)\n",
    "    return odd_numbers\n",
    "num = find_odd_numbers([2, 4, 6, 7, 8, 10])       # return 7\n",
    "print(num)\n",
    "num = find_odd_numbers((2, 4, 6, 7, 8, 10))        # return None\n",
    "print(num)\n",
    "num = find_odd_number([2, 4, 6, 8, 10])           # return []\n",
    "print(num)"
   ]
  },
  {
   "cell_type": "code",
   "execution_count": null,
   "id": "de81de29-6cf7-445d-9ba4-e63cb838bd31",
   "metadata": {},
   "outputs": [],
   "source": [
    "def find_first_odd_numbers(numbers):\n",
    "    odd_numbers = []\n",
    "    if isinstance(numbers, list):\n",
    "        raise ValueError(\"Only accept list, wrong data type\")\n",
    "    for item in numbers:\n",
    "        if item % 2 != 0:\n",
    "            odd_numbers.append(item)\n",
    "    return odd_numbers\n",
    "num = find_odd_numbers([2, 4, 6, 7, 8, 10])       # return 7\n",
    "print(num)\n",
    "num = find_odd_numbers((2, 4, 6, 7, 8, 10))        # return None\n",
    "print(num)\n",
    "num = find_odd_number([2, 4, 6, 8, 10])           # return []\n",
    "print(num)\n"
   ]
  },
  {
   "cell_type": "code",
   "execution_count": null,
   "id": "8248a18d-3884-494f-9fa9-23131d293188",
   "metadata": {},
   "outputs": [],
   "source": [
    "#import logging modeule\n",
    "import logging\n",
    "logger = logging.getLogger(__name__) #create a custom logger\n",
    "handler = logging.StreamHandler #Using stream handler\n",
    "\n",
    "#Set logging levels\n",
    "handler.setLevel(logging.WARNING)\n",
    "handler.setLevel(logging.ERROR)\n",
    "\n",
    "format_c = logging.Formatter(\"%(name) - %(levelname) - %(message)\")\n",
    "handler.setFormatter(format_c)\n",
    "\n",
    "logger.addHandler(handler)\n",
    "\n",
    "def division(divident, divisor):\n",
    "    try:\n",
    "        return divident/divisor\n",
    "    except ZeroDivisionError:\n",
    "        logger.error(\"Zero Division Error\")\n",
    "num = division(4,0)\n",
    "print(num)\n"
   ]
  },
  {
   "cell_type": "code",
   "execution_count": null,
   "id": "7764099e-4a74-4da9-ba8e-bbca139db765",
   "metadata": {
    "tags": []
   },
   "outputs": [],
   "source": [
    "import unittest\n",
    "def sum_numbers(x,):\n",
    "    return x + y\n",
    "\n",
    "class SimpleTest(unittest.TestCase):\n",
    "    def test(self):\n",
    "        self.assertEqual(sum_numbers(3,4),7)\n",
    "#py.test\n",
    "def sum_numbers(x, y):\n",
    "    return x + y\n",
    "def test_sum_numbers():\n",
    "    assert func(3, 4) == 7\n"
   ]
  },
  {
   "cell_type": "code",
   "execution_count": null,
   "id": "fb8d88f5-8dc3-4f37-a6ec-4d424d79aeba",
   "metadata": {},
   "outputs": [],
   "source": [
    "import re\n",
    "data = ['abc0','abc9','abc5','cba2']\n",
    "convert = lambda text: float(text) if text.isdigit() else text\n",
    "alphanum = lambda key: [convert(c) for c in re.split('([-+]?[0-9]*\\.?[0-9]*)', key)]\n",
    "print(data.sort(key=alphanum))"
   ]
  },
  {
   "cell_type": "code",
   "execution_count": null,
   "id": "ab41c3f7-c347-463c-9076-b45812cc374b",
   "metadata": {},
   "outputs": [],
   "source": [
    "class Employee(Person):\n",
    "    POSITIONS = (\"Superwiser\", \"Manager\", \"CEO\", \"Founder\")\n",
    "    def __init__(self, name, id, department):\n",
    "        self.name = name\n",
    "        self.id = id\n",
    "        self.department = department\n",
    "        self.age = None\n",
    "        self._age_last_calculated = None\n",
    "        self._recalculated_age()\n",
    "    def __str__(self):\n",
    "        return (\"Name: \" + self.name + \"\\nDepartment: \"\n",
    "               + self.department)\n",
    "    @classmethod\n",
    "    def no_position_allowed(cls, position):\n",
    "        return [t for t in cls.POSITIONS if t != position]\n",
    "    @staticmethod\n",
    "    def c_positions(position):\n",
    "        return [t for t in cls.TITLES if t in position]\n",
    "    @property\n",
    "    def id_with_name(self):\n",
    "        return self.id, self.name\n",
    "    def age(self):\n",
    "        if (datetime.date.today() > self._age_last_recalculated):\n",
    "            self.__recalculated_age()\n",
    "        return self.age\n",
    "    def _recalculated_age(self):\n",
    "        today = datetime.date.today()\n",
    "        age = today.year - self.birthday.year\n",
    "        if today < datetime.date(\n",
    "           today.year, self.birthday.month,\n",
    "           self.birthday.year):\n",
    "            age -= 1\n",
    "        self.age = age\n",
    "        self._age_last_recalculated = today\n",
    "    "
   ]
  },
  {
   "cell_type": "code",
   "execution_count": null,
   "id": "d500519e-2729-49cb-a333-7a1459b9cebc",
   "metadata": {},
   "outputs": [],
   "source": [
    "class Temperature:\n",
    "    def __init__(self, temperature=0):\n",
    "        self.temperature = temperature\n",
    "    \n",
    "    @property\n",
    "    def fahrenheit(self):\n",
    "        self.temperature = (self.temperature * 1.8) + 32\n",
    "\n",
    "temp = Temperature(10)\n",
    "temp.fahrenheit\n",
    "print(temp.temperature)"
   ]
  },
  {
   "cell_type": "code",
   "execution_count": null,
   "id": "a43f82ee-89a2-4629-b731-25c053b87c71",
   "metadata": {},
   "outputs": [],
   "source": [
    "#Class Property Decorator\n",
    "class Temperature:\n",
    "    def __init__(self, temperature=0):\n",
    "        self.temperature = temperature\n",
    "    @property\n",
    "    def fahrenheit(self):\n",
    "        return self._temperature\n",
    "    @fahrenheit.setter\n",
    "    def fahrenheit(self, temp):\n",
    "        if not isinstance(temp, int):\n",
    "            raise(\"Wrong input type\")\n",
    "        self._temperature = (self.temp * 1.8) + 32\n"
   ]
  },
  {
   "cell_type": "code",
   "execution_count": null,
   "id": "e299a78d-8118-4390-99df-76f7a0b16dad",
   "metadata": {},
   "outputs": [],
   "source": [
    "def price_to_book_tarion(market_price_per_share, book_value_per_share):\n",
    "    return market_price_per_share\n",
    "\n",
    "class BookPriceCalculator:\n",
    "    PER_PAGE_PRICE = 8\n",
    "    def __init__(self, pages, author):\n",
    "        self.pages = pages\n",
    "        self.author = author\n",
    "        \n",
    "    @property\n",
    "    def standard_price(self):\n",
    "        return self.pages * PER_PAGE_PRICE\n",
    "    \n",
    "    @staticmethod\n",
    "    def price_to_book_ratio(market_price_per_share, book_value_per_share):\n",
    "        return market_price_per_share/book_value_per_share\n",
    "    "
   ]
  },
  {
   "cell_type": "code",
   "execution_count": null,
   "id": "49e84ac4-653c-491a-8514-828a3504de7e",
   "metadata": {},
   "outputs": [],
   "source": [
    "from abc import ABCMeta, abstractmethod\n",
    "class Fruit(metaclass=ABCMeta):\n",
    "    @abstractmethod\n",
    "    def taste(self):\n",
    "        pass\n",
    "    \n",
    "    @abstractmethod\n",
    "    def originated(self):\n",
    "        pass\n",
    "class Apple:\n",
    "    def originated(self):\n",
    "        return \"Central Asia\"\n",
    "    \n",
    "fruit = Fruit(\"apple\")\n",
    "print(fruit.originated)\n",
    "print(fruit.taste)\n"
   ]
  },
  {
   "cell_type": "code",
   "execution_count": null,
   "id": "4afe9a49-8245-43cd-84c6-e49edda7238a",
   "metadata": {},
   "outputs": [],
   "source": [
    "class User:\n",
    "    def __init__(self, first_name, last_name):\n",
    "        self.first_name = first_name\n",
    "        self.last_name = last_name\n",
    "    @classmethod\n",
    "    def using_string(cls, names_str):\n",
    "        first, second = map(str, names_str.split(\"\"))\n",
    "        student = cls(first, second)\n",
    "        return Student\n",
    "   @classmethod\n",
    "    def using_json(cls, obj_json):\n",
    "        # parsing json object...\n",
    "        return Student\n",
    "   @classmethod\n",
    "   def using_file_obj(cls, file_obj):\n",
    "       # parsing file object...\n",
    "       return Student\n",
    "data = User.using_string(\"Larry Page\")\n",
    "data = User.using_json(json_obj)\n",
    "data = User.using_file_obj(file_obj)"
   ]
  },
  {
   "cell_type": "code",
   "execution_count": null,
   "id": "a1ecd101-38fc-4bf3-a019-79f4c4768766",
   "metadata": {},
   "outputs": [],
   "source": [
    "class Person:\n",
    "    def __init__(self, first_name, last_name):\n",
    "        self._full_name = f\"${first_name} ${last_name}\"\n",
    "        \n",
    "    def get_name(self):\n",
    "        return self._full_name\n",
    "\n",
    "per = Person(\"Larry\",\"Page\")\n",
    "print(per)\n",
    "assert per.get_name() == \"Larry Page\""
   ]
  },
  {
   "cell_type": "code",
   "execution_count": null,
   "id": "e57cf56d-4f88-4c8f-8753-b810f1dff137",
   "metadata": {},
   "outputs": [],
   "source": [
    "class User(models.Model):\n",
    "    name = models.CharField(max_length=30)\n",
    "    age = models.IntegerField()\n",
    "user = User(name=\"Tracy\", age=78)\n",
    "print(user.age)"
   ]
  },
  {
   "cell_type": "code",
   "execution_count": null,
   "id": "25050b9f-3264-4ff8-a099-61f22524cb90",
   "metadata": {},
   "outputs": [],
   "source": [
    "class User:\n",
    "    def __new__(cls, *args, **kwargs):\n",
    "        print(\"Creating instances\")\n",
    "        obj = super(User, cls).__new__(cls, *args, **kwargs)\n",
    "        return obj\n",
    "    def __init__(self, first_name, last_name):\n",
    "        self.first_name = first_name\n",
    "        self.last_name = last_name\n",
    "    \n",
    "    def full_name(self):\n",
    "        return f\"{self.first_name}{self.last_name}\"\n",
    "\n",
    "user = User(\"Larry\",\"Page\")\n",
    "user.full_name()"
   ]
  },
  {
   "cell_type": "code",
   "execution_count": null,
   "id": "01711126-c8da-4bf3-b73c-828c6384c67f",
   "metadata": {},
   "outputs": [],
   "source": [
    "from flask import Flask\n",
    "app = Flask(__name__)\n",
    "\n",
    "@app.route(\"/\")\n",
    "def hello():\n",
    "    return \"Hello World!\"\n",
    "\n",
    "def to_uppercase(text):\n",
    "    \"\"\"Convert text to uppercase and return to uppercase.\"\"\"\n",
    "    if not isinstance(text, str):\n",
    "        raise TypeError(\"Not a string type\")\n",
    "    return text.upper()\n",
    "text = \"Hello World\"\n",
    "to_uppercase(text)\n"
   ]
  },
  {
   "cell_type": "code",
   "execution_count": null,
   "id": "c3d33b6c-2902-4181-9def-ec7e4fbe9667",
   "metadata": {},
   "outputs": [],
   "source": [
    "def to_uppercasee(func):\n",
    "    \"\"\"Convert to uppercase and return to uppercase.\"\"\"\n",
    "    text = func()\n",
    "    \n",
    "    if not isinstance(text, str):\n",
    "        raise TypeError(\"Not a string type\")\n",
    "    return text.upper()\n",
    "\n",
    "def say():\n",
    "    return \"welcome\"\n",
    "\n",
    "def hello():\n",
    "    return \"hello\"\n",
    "\n",
    "to_uppercasee(say)"
   ]
  },
  {
   "cell_type": "code",
   "execution_count": null,
   "id": "898ae563-2c53-429f-963f-732d1b2f2b87",
   "metadata": {},
   "outputs": [],
   "source": [
    "to_uppercasee(hello)"
   ]
  },
  {
   "cell_type": "code",
   "execution_count": null,
   "id": "acb48002-9c31-4548-a728-874abc113079",
   "metadata": {},
   "outputs": [],
   "source": [
    "@to_uppercasee\n",
    "def say():\n",
    "    return \"welcome\"\n",
    "\n",
    "say"
   ]
  },
  {
   "cell_type": "code",
   "execution_count": null,
   "id": "19d354cd-7af6-4265-b201-4370e8507982",
   "metadata": {},
   "outputs": [],
   "source": [
    "@to_uppercasee\n",
    "def hi():\n",
    "    return \"Hi\"\n",
    "hi"
   ]
  },
  {
   "cell_type": "code",
   "execution_count": null,
   "id": "e190e285-6697-436f-887a-37b6d2b4d837",
   "metadata": {},
   "outputs": [],
   "source": [
    "def add_prefix(func):\n",
    "    def wrapper():\n",
    "        text = func()\n",
    "        result = \" \".join([text, \"Larry Page!\"])\n",
    "        return result\n",
    "    return wrapper\n",
    "\n",
    "@to_uppercasee\n",
    "@add_prefix\n",
    "def say():\n",
    "    return \"welcome\"\n",
    "\n",
    "say"
   ]
  },
  {
   "cell_type": "code",
   "execution_count": null,
   "id": "121adc82-e6c9-4cc5-a9fd-7b0dabd45e30",
   "metadata": {},
   "outputs": [],
   "source": [
    "def to_uppercase(func):\n",
    "    def wrapper(*args, **kwargs):\n",
    "        text = func(*args, **kwargs)\n",
    "        if not isinstance(text, str):\n",
    "            raise TypeError(\"Not a string type\")\n",
    "        return text.upper()\n",
    "    return wrapper\n",
    "\n",
    "@to_uppercase\n",
    "def say(greet):\n",
    "    return greet\n",
    "\n",
    "say(\"hello, how you doing\")\n"
   ]
  },
  {
   "cell_type": "code",
   "execution_count": null,
   "id": "2150ac61-4693-4aeb-b5c8-03a46bf781bb",
   "metadata": {},
   "outputs": [],
   "source": [
    "def logging(func):\n",
    "    def logs(*args, **kwargs):\n",
    "        print(func.__name__ + \" was called\")\n",
    "        return func(*args, **kwargs)\n",
    "    return logs\n",
    "\n",
    "@logging\n",
    "def foo(x):\n",
    "    \"\"\"Calling function for logging\"\"\"\n",
    "    return x*x\n",
    "fo = foo(10)\n",
    "print(foo.__name__)"
   ]
  },
  {
   "cell_type": "code",
   "execution_count": null,
   "id": "3f8c6c7d-5f85-40e7-a27c-8e9b720a8284",
   "metadata": {},
   "outputs": [],
   "source": [
    "from functools import wraps\n",
    "def logging(func):\n",
    "    @wraps(func)\n",
    "    def logs(*args, **kwargs):\n",
    "        print(func.__name__ + \" was called\")\n",
    "        return func(*args, **kwargs)\n",
    "    return logs\n",
    "@logging\n",
    "def foo(x):\n",
    "   \"\"\"does some math\"\"\"\n",
    "   return x + x * x\n",
    "print(foo.__name__)  # prints 'f'\n",
    "print(foo.__doc__)   # prints 'does some math'"
   ]
  },
  {
   "cell_type": "code",
   "execution_count": null,
   "id": "2fae28c6-7382-4aeb-b873-b76c77fdd50e",
   "metadata": {},
   "outputs": [],
   "source": [
    "from decorator import decorator\n",
    "@decorator\n",
    "def trace(f, *args, **kw):\n",
    "    kwstr = ','.join('%r:r' % (k, kw[k]) for k in sorted(kw))\n",
    "    print(\"calling %s with args %s, {%s}\" % (f.__name__, args,kwstr))\n",
    "    return f(*args, **kw)\n",
    "\n",
    "@trace\n",
    "def func(): pass\n",
    "func()"
   ]
  },
  {
   "cell_type": "markdown",
   "id": "952de18c-4223-4302-a3ef-10f99e6f7dce",
   "metadata": {},
   "source": [
    "def retry_requests(tries=3, delay=10):\n",
    "    def try_request(fun):\n",
    "        @wraps(fun)\n",
    "        def retry_decorators(*args, **kwargs):\n",
    "            for retry in retries:\n",
    "                fun(*args, ** kwargs)\n",
    "                time.sleep(delay)\n",
    "        return retry_decorators\n",
    "    return try_request\n",
    "\n",
    "class ApiRequest:\n",
    "    def __init__(self, url, headers):\n",
    "        self.url = url\n",
    "        self.headers = headers\n",
    "    @try_request(retries=4, delay=5)\n",
    "    def make_request(self):\n",
    "        try:\n",
    "            response = requests.get(url, headers)\n",
    "        if response.status_conde in (500, 502, 503, 429):\n",
    "            continue\n",
    "        except Exception as error:\n",
    "            raise FailedRequest(\"Not able to connect with server\")\n",
    "        return response\n",
    "        \n",
    "    "
   ]
  },
  {
   "cell_type": "code",
   "execution_count": null,
   "id": "564930e9-72f9-4413-9d20-51ea37a911c2",
   "metadata": {},
   "outputs": [],
   "source": [
    "class Count:\n",
    "    def __init__(self, first=1):\n",
    "        self.num = first\n",
    "    \n",
    "    def __call__(self):\n",
    "        self.num += 1\n",
    "        print(f\"number of times called:{self.num}\")\n",
    "        \n",
    "count = Count()\n",
    "count()\n",
    "                 \n",
    "            \n",
    "            \n",
    "            "
   ]
  },
  {
   "cell_type": "code",
   "execution_count": null,
   "id": "56bb9f50-d738-4329-80da-87ff9d41164e",
   "metadata": {},
   "outputs": [],
   "source": [
    "qlite3 Lock\n",
    "import sqlite3\n",
    "con = sqlite3.connect(\":memory:\")\n",
    "con.execute(\"create table person (id integer primary key,\n",
    "firstname varchar unique)\")\n",
    "# Successful, con.commit() is called automatically afterwards\n",
    "with con:\n",
    "    \u0007con.execute(\"insert into person(firstname) values (?)\",\n",
    "(\"Joe\",))\n",
    "# con.rollback() is called after the with block finishes with\n",
    "an exception, the\n",
    "# exception is still raised and must be caught\n",
    "try:\n",
    "    with con:\n",
    "        \u0007con.execute(\"insert into person(firstname) values (?)\",\n",
    "(\"Joe\",))\n",
    "except sqlite3.IntegrityError:\n",
    "    print \"couldn't add Joe twice\""
   ]
  },
  {
   "cell_type": "code",
   "execution_count": null,
   "id": "39d79c0e-7b13-4128-bf09-311347f65265",
   "metadata": {},
   "outputs": [],
   "source": [
    "def divide_numbers(self, first, second):\n",
    "    isinstance(first, int) and isintance(second, int):\n",
    "        raise ValueError(\"Value should be int\")\n",
    "    try:\n",
    "        return first/second\n",
    "    except ZeroDevisionException:\n",
    "        print(\"Value should not be zero\")\n",
    "        raise\n",
    "with pytest.raises(ValueError):\n",
    "    divide_numbers(\"1\", 2)\n",
    "You can also use it for mocking as:\n",
    "with mock.patch(\"new_class.method_name\"):\n",
    "    call_function()"
   ]
  },
  {
   "cell_type": "code",
   "execution_count": null,
   "id": "2a2d9248-dd51-4d31-8b8e-bd0dbdddb44a",
   "metadata": {},
   "outputs": [],
   "source": []
  },
  {
   "cell_type": "code",
   "execution_count": null,
   "id": "f03489f6-b6ea-4751-b3af-e49daac8c497",
   "metadata": {},
   "outputs": [],
   "source": [
    "#Lock File While Reading with Shared Resource\n",
    "from filelock import FileLock\n",
    "def write_file(file_name):\n",
    "    with FileLock(file_name):\n",
    "        # work with the file as it is now locked\n",
    "        print(\"Lock acquired.\")"
   ]
  },
  {
   "cell_type": "markdown",
   "id": "f8801319-007c-46a7-ab22-d1672922912f",
   "metadata": {},
   "source": [
    "#Remote control\n",
    "class Protocol:\n",
    "     def __init__(self, host, port):\n",
    "          self.host, self.port = host, port\n",
    "     def __enter__(self):\n",
    "          self._client = socket()\n",
    "          self._client.connect((self.host, self.port))\n",
    "          return self\n",
    "     def __exit__(self, exception, value, traceback):\n",
    "          self._client.close()\n",
    "     def send(self, payload): <code for sending data>\n",
    "     def receive(self): <code for receiving data>\n",
    "with Protocol(host, port) as protocol:\n",
    "     protocol.send(['get', signal])\n",
    "     result = protocol.receive()"
   ]
  },
  {
   "cell_type": "code",
   "execution_count": null,
   "id": "0e183d8e-fc2a-4e47-84fa-bc56aa380fe1",
   "metadata": {},
   "outputs": [],
   "source": [
    "class MutiplyByTwo:\n",
    "    def __init__(self, number):\n",
    "        self.number = number\n",
    "        self.count = 0\n",
    "    \n",
    "    def __next__(self):\n",
    "        self.counter += 1\n",
    "        return self.number * self.counter\n",
    "    \n",
    "for num in MultiplyByTwo(500):\n",
    "    print(num)\n"
   ]
  },
  {
   "cell_type": "code",
   "execution_count": null,
   "id": "cb5da3d7-c32c-4ab6-8293-412ae25af911",
   "metadata": {},
   "outputs": [],
   "source": [
    "import csv\n",
    "data = []\n",
    "sum_data = 0\n",
    "with open(\"numbers.csv\",\"r\") as f:\n",
    "    reader = csv.reader(f)\n",
    "    for row in list(reader)[1:]:\n",
    "        sum_data += sum(map(int, row))\n",
    "print(sum_data)"
   ]
  },
  {
   "cell_type": "code",
   "execution_count": null,
   "id": "f488cfd3-6f62-4c58-8f7f-6fc0c4bd6b13",
   "metadata": {},
   "outputs": [],
   "source": [
    "def get_total_payment():\n",
    "    payments = Payment.objects.all()\n",
    "    sum_amount = 0\n",
    "    if payments.exists():\n",
    "        for payment in payments.iterator():\n",
    "            sum_amount += payment\n",
    "    return sum_amount"
   ]
  },
  {
   "cell_type": "code",
   "execution_count": null,
   "id": "c25099c3-24bc-40b9-ba26-d5108ac5e8ac",
   "metadata": {},
   "outputs": [],
   "source": [
    "#combinations\n",
    "from itertools import combinations\n",
    "print(list(combinations('12345',2)))\n"
   ]
  },
  {
   "cell_type": "code",
   "execution_count": null,
   "id": "0b3f6579-745c-4139-aae4-268ec2a883fc",
   "metadata": {},
   "outputs": [],
   "source": [
    "from itertools import product\n",
    "print(list(product([1,2,3],repeat = 2)))"
   ]
  },
  {
   "cell_type": "code",
   "execution_count": null,
   "id": "50d88233-65f3-48d9-a361-0cbbb3a39ad8",
   "metadata": {},
   "outputs": [],
   "source": [
    "import itertools\n",
    "for item in itertools.count(1, 4):\n",
    "    print(item)\n",
    "    if item > 24:\n",
    "        break"
   ]
  },
  {
   "cell_type": "code",
   "execution_count": null,
   "id": "3aca5057-0dc0-464e-b5f9-00d1edcf30d4",
   "metadata": {},
   "outputs": [],
   "source": [
    "#Generate a Number Using a Generator\n",
    "def generate_numbers(limit):\n",
    "    for item in xrange(limit):\n",
    "        yield item*item\n",
    "        print(f\"Inside the yield:{item}\")\n",
    "\n",
    "numbers = generate_numbers(50)\n",
    "print(numbers)\n",
    "\"\"\"for item in numbers:\n",
    "    print(item)\"\"\""
   ]
  },
  {
   "cell_type": "code",
   "execution_count": null,
   "id": "d6f7f117-fc95-417d-8d1c-a6771ca142ba",
   "metadata": {},
   "outputs": [],
   "source": [
    "#yield from\n",
    "def flat_list(iter_values):\n",
    "    \"\"\"flatten a multi lis or something\"\"\"\n",
    "    for item in iter_values:\n",
    "        if hasattr(item, '__iter__'):\n",
    "            yield from flat_list(item)\n",
    "        else:\n",
    "            yield item\n",
    "print(list(flat_list([1,[2],[3,[4]]])))   \n",
    "    "
   ]
  },
  {
   "cell_type": "code",
   "execution_count": null,
   "id": "386b6340-72c3-466e-9c45-764b29fff1cf",
   "metadata": {},
   "outputs": [],
   "source": [
    "import asyncio\n",
    "async def hello(first_print, second_print):\n",
    "    print(first_print)\n",
    "    await asynico.sleep(1)\n",
    "    print(second_print)\n",
    "\n",
    "asyncio.run(hello(\"Welcome\",\"Good-bye\"))\n"
   ]
  },
  {
   "cell_type": "code",
   "execution_count": null,
   "id": "78d9d3de-fd21-40ae-82e9-2bd53e0d38cd",
   "metadata": {},
   "outputs": [],
   "source": [
    "import asyncio\n",
    "import time\n",
    "async def say_something(delay, words):\n",
    "    print(f\"Before: {words}\")\n",
    "    await asyncio.sleep(delay)\n",
    "    print(f\"After: {words}\")\n",
    "async def main():\n",
    "    print(f\"start: {time.strftime('%X')}\")\n",
    "    await say_something(1, \"First task started.\")\n",
    "    await say_something(1, \"Second task started.\")\n",
    "    print(f\"Finished: {time.strftime('%X')}\")\n",
    "asyncio.run(main())"
   ]
  },
  {
   "cell_type": "code",
   "execution_count": null,
   "id": "2fcc490b-d440-4197-923b-b51dd5a88cfc",
   "metadata": {},
   "outputs": [],
   "source": [
    "import asyncio\n",
    "async def mult(first, second):\n",
    "    print(f\"Calculating multiply of {first} and {second}\")\n",
    "    await asyncio.sleep(1)\n",
    "    num_mul = first * second\n",
    "    print(f\"Multiply of {num_mul}\")\n",
    "    return num_mul\n",
    "async def sum(first, second):\n",
    "    print(f\"Calculating sum of {first} and {second}\")\n",
    "    await asyncio.sleep(1)\n",
    "    num_sum = first + second\n",
    "    print(f\"Sum is {num_sum}\")\n",
    "    return num_sum\n",
    "async def main(first, second):\n",
    "    await sum(first, second)\n",
    "    await mult(first, second)\n",
    "asyncio.run(main(7, 8))"
   ]
  },
  {
   "cell_type": "code",
   "execution_count": null,
   "id": "fcc2413f-1c26-4b7f-89a4-e56956d58930",
   "metadata": {},
   "outputs": [],
   "source": [
    "from asyncio import Future\n",
    "future = Future()\n",
    "future.done()"
   ]
  },
  {
   "cell_type": "code",
   "execution_count": null,
   "id": "ba44e8ce-c956-4419-96d9-a8bf177d86a6",
   "metadata": {},
   "outputs": [],
   "source": [
    "import asyncio\n",
    "async def long_time_taking_method():\n",
    "    await asyncio.sleep(4000)\n",
    "    print(\"Completed the work\")\n",
    "async def main():\n",
    "    try:\n",
    "        \u0007await asyncio.wait_for(long_time_taking_method(),\n",
    "timeout=2)\n",
    "    except asyncio.TimeoutError:\n",
    "        print(\"Timeout occurred\")\n",
    "asyncio.run(main())"
   ]
  },
  {
   "cell_type": "code",
   "execution_count": null,
   "id": "30baf81b-26f2-4868-a28e-4b3ed97a6f01",
   "metadata": {},
   "outputs": [],
   "source": [
    "#Async Generators\n",
    "import asyncio\n",
    "async def generator(limit):\n",
    "    for item in range(limit):\n",
    "        yield item\n",
    "        await asyncio.sleep(1)\n",
    "async def main():\n",
    "    async for item in generator(10):\n",
    "        print(item)\n",
    "asyncio.run(main())"
   ]
  },
  {
   "cell_type": "code",
   "execution_count": null,
   "id": "40480069-62c3-4159-b4f3-7c388967f8b6",
   "metadata": {},
   "outputs": [],
   "source": [
    "import asyncio\n",
    "async def gen_power_two(limit):\n",
    "    item = 0\n",
    "    while item < limit:\n",
    "        yield 2 ** item\n",
    "        item += 1\n",
    "        await asyncio.sleep(1)\n",
    "async def main(limit):\n",
    "    gen = [item async for item in gen_power_two(limit)]\n",
    "    return gen\n",
    "print(asyncio.run(main(5)))"
   ]
  },
  {
   "cell_type": "code",
   "execution_count": null,
   "id": "2451d1c5-b047-4f1e-ad7e-3915d7960511",
   "metadata": {},
   "outputs": [],
   "source": [
    "import asyncio\n",
    "async def is_odd(data):\n",
    "    odd_even = []\n",
    "    for item in data:\n",
    "        \u0007odd_even.append((item, \"Even\") if item % 2 == 0 else\n",
    "(item, \"Odd\"))\n",
    "    await asyncio.sleep(1)\n",
    "    return odd_even\n",
    "async def is_prime(data):\n",
    "    primes = []\n",
    "    for item in data:\n",
    "        if item <= 1:\n",
    "            primes.append((item,\n",
    "        if item <= 3:\n",
    "            primes.append((item,\n",
    "        if item % 2 == 0 or item\n",
    "            primes.append((item,\n",
    "        factor = 5\n",
    "        while factor * factor <= item:\n",
    "            if item % factor == 0 or item % (factor + 2) == 0:\n",
    "                primes.append((item, \"Not Prime\"))\n",
    "            factor += 6\n",
    "    await asyncio.sleep(1)\n",
    "    return primes\n",
    "async def main(data):\n",
    "    odd_task = asyncio.create_task(is_odd(data))\n",
    "    prime_task = asyncio.create_task(is_prime(data))\n",
    "    for res in asyncio.as_completed((odd_task, prime_task)):\n",
    "        compl = await res\n",
    "        print(f\"completed with data: {res} =>  {compl}\")\n",
    "asyncio.run(main([3, 5, 10, 23, 90]))\n"
   ]
  },
  {
   "cell_type": "code",
   "execution_count": null,
   "id": "f76788b5-5de1-48ee-97f0-3ea052409d90",
   "metadata": {},
   "outputs": [],
   "source": [
    "import curio\n",
    "async def generate(limit):\n",
    "    step = 0\n",
    "    while step <= limit:\n",
    "        await curio.sleep(1)\n",
    "        step += 1\n",
    "if __name__ == \"__main__\":\n",
    "    curio.run(generate, 10)"
   ]
  },
  {
   "cell_type": "code",
   "execution_count": null,
   "id": "028bf668-ebcb-4aa6-9643-ddb563650d14",
   "metadata": {},
   "outputs": [],
   "source": [
    "import curio\n",
    "async def generate(limit):\n",
    "    step = 0\n",
    "    while step <= limit:\n",
    "        await curio.sleep(1)\n",
    "        step += 1\n",
    "async def say_hello():\n",
    "    print(\"Hello\")\n",
    "    await curio.sleep(1000)\n",
    "async def main():\n",
    "    hello_task = await curio.spawn(say_hello)\n",
    "    await curio.sleep(3)\n",
    "    gen_task = await curio.spawn(generate, 5)\n",
    "    await gen_task.join()\n",
    "    print(\"Welcome\")\n",
    "    await hello_task.join()\n",
    "    print(\"Good by\")\n",
    "if __name__ == '__main__':\n",
    "    curio.run(main)"
   ]
  },
  {
   "cell_type": "code",
   "execution_count": null,
   "id": "65f6d01c-5e2a-499d-8c10-b1f1a92a5d14",
   "metadata": {},
   "outputs": [],
   "source": [
    "import trio\n",
    "async def greeting():\n",
    "    await trio.sleep(1)\n",
    "    return \"Welcome to Trio!\"\n",
    "trio.run(greeting)"
   ]
  },
  {
   "cell_type": "code",
   "execution_count": null,
   "id": "aa6b0286-cd65-4bf8-a6d7-67004e6bf405",
   "metadata": {},
   "outputs": [],
   "source": [
    "#Trio Running Multiple Tasks\n",
    "import trio\n",
    "async def is_odd(data):\n",
    "    odd_even = []\n",
    "    for item in data:\n",
    "        \u0007odd_even.append((item, \"Even\") if item % 2 == 0 else\n",
    "(item, \"Odd\"))\n",
    "    await trio.sleep(1)\n",
    "    return odd_even\n",
    "async def is_prime(data):\n",
    "    primes = []\n",
    "    for item in data:\n",
    "        if item <= 1:\n",
    "            primes.append((item, \"Not Prime\"))\n",
    "        if item <= 3:\n",
    "            primes.append((item, \"Prime\"))\n",
    "        if item % 2 == 0 or item % 3 == 0:\n",
    "            primes.append((item, \"Not Prime\"))\n",
    "        factor = 5\n",
    "        while factor * factor <= item:\n",
    "            if item % factor == 0 or item % (factor + 2) == 0:\n",
    "                primes.append((item, \"Not Prime\"))\n",
    "            factor += 6\n",
    "    await trio.sleep(1)\n",
    "    return primes\n",
    "\n",
    "async def main(data):\n",
    "    print(\"Calculation has started!\")\n",
    "    async with trio.open_nursery() as nursery:\n",
    "        nursery.start_soon(is_odd, data)\n",
    "        nursery.start_soon(is_prime, data)\n",
    "trio.run(main, [3, 5, 10, 23, 90])"
   ]
  },
  {
   "cell_type": "code",
   "execution_count": null,
   "id": "446ddbcd-dfae-48f5-bb56-4acab0d00305",
   "metadata": {},
   "outputs": [],
   "source": [
    "from typing import Union\n",
    "def find_user(user_id: Union[str, int]) -> None:\n",
    "    isinstance(user_id, int):\n",
    "        user_id = str(user_id)\n",
    "    find_user_by_id(user_id)"
   ]
  },
  {
   "cell_type": "code",
   "execution_count": null,
   "id": "019adb68-4a37-436c-8701-3f1ebc09ac63",
   "metadata": {},
   "outputs": [],
   "source": [
    "from typing import Optional\n",
    "def get_user_info_by_id(user_id: Optional[int]) -> Optional[dict]:\n",
    "    if user_id:\n",
    "        get_data = query_to_db_with_user_id(user_id)\n",
    "        return get_data\n",
    "    else:\n",
    "        return None"
   ]
  },
  {
   "cell_type": "code",
   "execution_count": null,
   "id": "1706e3f4-a499-4526-9c01-423424a45e3c",
   "metadata": {},
   "outputs": [],
   "source": [
    "#Better Path Handling Using pathlib\n",
    "import pathlib\n",
    "path = pathlib.Path(\"temp.txt\")\n",
    "path.resolve()"
   ]
  },
  {
   "cell_type": "code",
   "execution_count": null,
   "id": "d32e3d65-a402-4b45-8bf9-8f461ec33b49",
   "metadata": {},
   "outputs": [],
   "source": [
    "path.resolve().parent == pathlib.Path.cwd()"
   ]
  },
  {
   "cell_type": "code",
   "execution_count": null,
   "id": "f41db5f5-cb48-4787-bad4-f36cb2054390",
   "metadata": {},
   "outputs": [],
   "source": [
    "population_raking = {}\n",
    "population_raking[\"China\"] = 1\n",
    "population_raking[\"India\"] = 2\n",
    "population_raking[\"USA\"] = 3\n",
    "print(f\"{population_raking}\")"
   ]
  },
  {
   "cell_type": "code",
   "execution_count": null,
   "id": "cc500ff2-6f34-4bc1-963e-06129b48814b",
   "metadata": {},
   "outputs": [],
   "source": [
    "import pdb\n",
    "pdb.set_trace()"
   ]
  },
  {
   "cell_type": "code",
   "execution_count": null,
   "id": "dab6b2f7-f1ec-4a14-974b-29bd503e0fbf",
   "metadata": {},
   "outputs": [],
   "source": [
    "import ipdb\n",
    "ipdb.set_trace()"
   ]
  },
  {
   "cell_type": "code",
   "execution_count": null,
   "id": "25b2beb0-0420-4466-99b9-f080693b3cd2",
   "metadata": {},
   "outputs": [],
   "source": [
    "import logging\n",
    "logging.getLogger(__name__).addHandler(logging.NullHandler())"
   ]
  },
  {
   "cell_type": "code",
   "execution_count": null,
   "id": "3a82a38c-be6b-4895-8248-83fe5796907a",
   "metadata": {},
   "outputs": [],
   "source": [
    "#logging configuration\n",
    "import logging\n",
    "from logging.config import dictConfig\n",
    "logging_config = dict(\n",
    "    version=1,\n",
    "    formatters={\n",
    "      'f':{'format':\n",
    "              '%(asctime)s %(name)-12s %(levelname)8-s\n",
    "               %(message)s'\n",
    "          },\n",
    "        handlers={\n",
    "            'h':{'class':'logging.StreamHandler',\n",
    "                'formatter':'f',\n",
    "                 'level':logging.DEBUG\n",
    "                },\n",
    "            root={\n",
    "               'handlers':['h'],\n",
    "                'level':logging.DEBUG,\n",
    "            },\n",
    "        }\n",
    "    }\n",
    ")"
   ]
  },
  {
   "cell_type": "code",
   "execution_count": null,
   "id": "b115368b-080c-4461-8c8d-c79cb6e3974a",
   "metadata": {},
   "outputs": [],
   "source": [
    "import logging\n",
    "\n",
    "a = 90\n",
    "b = 0\n",
    "\n",
    "try:\n",
    "    c = a/b\n",
    "except Exception as e:\n",
    "    logging.error(\"Exception \", exc_info=True)"
   ]
  },
  {
   "cell_type": "code",
   "execution_count": null,
   "id": "b900fce2-54b0-488c-a58c-b420056581bd",
   "metadata": {},
   "outputs": [],
   "source": [
    "from unittest import TestCase\n",
    "class SimpleTest(TestCase):\n",
    "    def test_simple(self):\n",
    "        self.assertTrue(True)\n",
    "    \n",
    "    def test_tuple(self):\n",
    "        self.assertEqual((1,3,4), (1,3,4))\n",
    "        \n",
    "    def test_str(self):\n",
    "        self.assertEqual('This is unit test', 'this is')\n",
    "    \n",
    "import pytest\n",
    "\n",
    "def test_simple():\n",
    "    assert 2 == 2\n",
    "\n",
    "def test_tıple():\n",
    "    assert (1, 3, 4) == (1, 3, 4)\n",
    "                     \n",
    "from unittest import TestCase\n",
    "\n",
    "class SimpleTest(TestCase):\n",
    "    def not_equal(self):\n",
    "        self.assertNotEqual(2,3) \n",
    "        \n",
    "    def assert_false(self):\n",
    "        x=0\n",
    "        self.assertFalse(x)\n",
    "        \n",
    "    def assert_in(self):\n",
    "        self.assertIn(5, [1,3,8,5])\n",
    "        \n",
    "def not_equal():\n",
    "    assert 2 != 2\n",
    "def assert_false():\n",
    "    x = 0\n",
    "    assert x is 0\n",
    "def assert_in():\n",
    "    assert 5 in [1, 3, 8, 5]"
   ]
  },
  {
   "cell_type": "code",
   "execution_count": null,
   "id": "eb4720f1-a4dc-49a3-9af6-e7732f37684b",
   "metadata": {},
   "outputs": [],
   "source": [
    "import pytest\n",
    "@pytest.fixture\n",
    "def get_instance():\n",
    "    s = CallClassBeforeStartingTest()\n",
    "    s.call_function()\n",
    "    return s\n",
    "@pytest.fixture(scope='session')\n",
    "def test_data():\n",
    "    return {\"test_data\": \"This is test data which will be use in different test methods\"}\n",
    "def test_simple(test_data, get_instance):\n",
    "    assert test_instance.call_another_function(test_data) is not None"
   ]
  },
  {
   "cell_type": "code",
   "execution_count": null,
   "id": "d558ac38-36eb-42bb-a95c-01c98f573b5c",
   "metadata": {},
   "outputs": [],
   "source": [
    "from unittest import TestCase\n",
    "class SetupBaseTestCase(TestCase):\n",
    "    def setUp(self):\n",
    "        self.sess = CallClassBeforeStartingTest()\n",
    "    def test_simple():\n",
    "         self.sess.call_function()\n",
    "    def tearDown(self):\n",
    "        self.sess.close()"
   ]
  },
  {
   "cell_type": "code",
   "execution_count": null,
   "id": "2a8c7d83-79f2-47c2-97f8-b65697f593ac",
   "metadata": {},
   "outputs": [],
   "source": [
    "#Property Testing\n",
    "from hypothesis import given\n",
    "from hypothesis.strategies import text\n",
    "@given(text())\n",
    "def test_decode_inverts_encode(s):\n",
    "    assert decode(encode(s)) == s"
   ]
  },
  {
   "cell_type": "markdown",
   "id": "79ea852f-7b73-488c-878e-821f98214f63",
   "metadata": {},
   "source": [
    "class TestBasic(unittest.TestCase):\n",
    "    def setUp(self):\n",
    "        # set up in here\n",
    "class TestA(TestBasic):\n",
    "    def first_test(self):\n",
    "        self.assertEqual(10,10)\n",
    "    def second_test(self):\n",
    "        self.assertEqual(10,5)"
   ]
  },
  {
   "cell_type": "code",
   "execution_count": null,
   "id": "f635c89b-f6a7-4f06-8029-3e4fa4b668aa",
   "metadata": {},
   "outputs": [],
   "source": [
    "import test\n",
    "test_suite = unittest.TestLoader().loadTestFromModule(test)\n",
    "test_results = unittest.TextTestRunner(verbosity=2).run(test_suite)"
   ]
  },
  {
   "cell_type": "code",
   "execution_count": null,
   "id": "a9bb0787-df7e-4aa8-84c8-80573ad7715f",
   "metadata": {},
   "outputs": [],
   "source": [
    "class Calculation:\n",
    "    \"\"\"This class performs different calculations.\n",
    "    \u0007You can use this class to do various calculations which\n",
    "make sure that you get the right results.\n",
    "    \"\"\"\n",
    "    def __init__(self):\n",
    "        \"\"\"Calculation initialization method.\"\"\"\n",
    "        self.current_number = 0\n",
    "    def sum(self, list_of_numbers):\n",
    "        \"\"\"Add provide list of numbers and return sum.\n",
    "        param list_of_numbers: list of numbers need to added.\n",
    "        type list_of_numners: list\n",
    "        return: return sum of numbers.\n",
    "         type: int\n",
    "        \"\"\"\n",
    "    return sum(list_of_numbers)\n"
   ]
  },
  {
   "cell_type": "code",
   "execution_count": null,
   "id": "be46e1c4-89c5-438d-ae58-02070fee9277",
   "metadata": {},
   "outputs": [],
   "source": [
    "import sys, pprint\n",
    "pprint.pprint(sys.path)"
   ]
  },
  {
   "cell_type": "code",
   "execution_count": null,
   "id": "2615b8e6-d765-4593-b81f-d6754fcfe653",
   "metadata": {},
   "outputs": [],
   "source": [
    "import sys\n",
    "args = sys.argv[1:]\n",
    "args.reverse()\n",
    "print(' '.join(args))"
   ]
  },
  {
   "cell_type": "code",
   "execution_count": null,
   "id": "be386afe-3b15-48a0-999f-209825dd18ab",
   "metadata": {},
   "outputs": [],
   "source": [
    "os.startfile(r'c:\\Program Files\\Mozilla Firefox\\firefox.exe')"
   ]
  },
  {
   "cell_type": "code",
   "execution_count": null,
   "id": "c944d923-d69f-4d8c-b28a-04f4b5f165a7",
   "metadata": {},
   "outputs": [],
   "source": [
    "\n",
    "import fileinput\n",
    "for line in fileinput.input(inplace=True):\n",
    "    line = line.rstrip()\n",
    "    num = fileinput.lineno()\n",
    "    print('%-40s # %2i' % (line, num))"
   ]
  },
  {
   "cell_type": "code",
   "execution_count": null,
   "id": "3ceabb84-963d-4239-9f21-3fbbde54fbe0",
   "metadata": {},
   "outputs": [],
   "source": []
  },
  {
   "cell_type": "code",
   "execution_count": null,
   "id": "0443cc93-f766-4e7f-993a-dc71a80400ff",
   "metadata": {},
   "outputs": [],
   "source": []
  },
  {
   "cell_type": "code",
   "execution_count": null,
   "id": "2f8813c5-2444-464d-8fc4-1d01498e1f69",
   "metadata": {},
   "outputs": [],
   "source": []
  }
 ],
 "metadata": {
  "kernelspec": {
   "display_name": "Python 3 (ipykernel)",
   "language": "python",
   "name": "python3"
  },
  "language_info": {
   "codemirror_mode": {
    "name": "ipython",
    "version": 3
   },
   "file_extension": ".py",
   "mimetype": "text/x-python",
   "name": "python",
   "nbconvert_exporter": "python",
   "pygments_lexer": "ipython3",
   "version": "3.9.13"
  }
 },
 "nbformat": 4,
 "nbformat_minor": 5
}
