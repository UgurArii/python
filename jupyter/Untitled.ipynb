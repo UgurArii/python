{
 "cells": [
  {
   "cell_type": "code",
   "execution_count": 60,
   "id": "ac39c081-ff27-48b0-bdb8-decc5d605b5c",
   "metadata": {},
   "outputs": [
    {
     "name": "stdin",
     "output_type": "stream",
     "text": [
      "Number 1 is 4\n",
      "Number 2 is 10\n"
     ]
    },
    {
     "name": "stdout",
     "output_type": "stream",
     "text": [
      "40\n"
     ]
    }
   ],
   "source": [
    "number1 = int(input('Number 1 is'))\n",
    "number2 = int(input('Number 2 is'))\n",
    "              \n",
    "result = int(number1 * number2)\n",
    "print(result)"
   ]
  },
  {
   "cell_type": "code",
   "execution_count": 30,
   "id": "e2a73313-105a-4023-87a0-9fe2ee9a379e",
   "metadata": {},
   "outputs": [
    {
     "name": "stdout",
     "output_type": "stream",
     "text": [
      "Hello,EveryBody\n",
      "1073741824\n"
     ]
    }
   ],
   "source": [
    "#this is our first number\n",
    "\n",
    "print(\"Hello,EveryBody\")\n",
    "\"\"\"\n",
    "we have 2 number and a result in our codes\n",
    "Only see developer in here\n",
    "\"\"\"\n",
    "\n",
    "\n",
    "num1 = 5\n",
    "num1 = 8\n",
    "var2 = 10\n",
    "res = num1 ** var2\n",
    "print(res)\n"
   ]
  },
  {
   "cell_type": "code",
   "execution_count": 36,
   "id": "da5cab65-80fb-46dc-8efc-8d9a502df082",
   "metadata": {},
   "outputs": [
    {
     "name": "stdout",
     "output_type": "stream",
     "text": [
      "100\n"
     ]
    }
   ],
   "source": [
    "s  = 10\n",
    "res = pow(10,2)\n",
    "print(res)"
   ]
  },
  {
   "cell_type": "code",
   "execution_count": 46,
   "id": "e6413006-b851-4102-9b50-83ff3abefe25",
   "metadata": {},
   "outputs": [
    {
     "name": "stdout",
     "output_type": "stream",
     "text": [
      "width of square is  10\n",
      "Hassan's home\n",
      "Hassan Teachaer said:\"Come here\".\n"
     ]
    }
   ],
   "source": [
    "print(\"width of square is +,: \", s)\n",
    "print(\"Hassan's home\")\n",
    "print('Hassan Teachaer said:\"Come here\"')"
   ]
  },
  {
   "cell_type": "code",
   "execution_count": 55,
   "id": "c3415211-4ea6-444d-8a29-018ade7c1bcd",
   "metadata": {},
   "outputs": [
    {
     "name": "stdout",
     "output_type": "stream",
     "text": [
      "Merhaba - Hello\n"
     ]
    }
   ],
   "source": [
    "print(\"Merhaba\",\"-\",\"Hello\")"
   ]
  },
  {
   "cell_type": "code",
   "execution_count": 54,
   "id": "b0eca40f-27c5-4bc4-8ecd-89fbc7413486",
   "metadata": {},
   "outputs": [
    {
     "name": "stdout",
     "output_type": "stream",
     "text": [
      "Merhaba - Hello\n"
     ]
    }
   ],
   "source": [
    "print('Merhaba','-','Hello')"
   ]
  },
  {
   "cell_type": "code",
   "execution_count": 58,
   "id": "8de21575-d35d-403b-84ff-12fd6a1b070c",
   "metadata": {},
   "outputs": [
    {
     "data": {
      "text/plain": [
       "1024"
      ]
     },
     "execution_count": 58,
     "metadata": {},
     "output_type": "execute_result"
    }
   ],
   "source": [
    "s = \"Hello\"\n",
    "pow(4,5)"
   ]
  },
  {
   "cell_type": "code",
   "execution_count": null,
   "id": "de9bb348-c063-4106-9f65-21b41acd7d4d",
   "metadata": {},
   "outputs": [],
   "source": []
  }
 ],
 "metadata": {
  "kernelspec": {
   "display_name": "Python 3 (ipykernel)",
   "language": "python",
   "name": "python3"
  },
  "language_info": {
   "codemirror_mode": {
    "name": "ipython",
    "version": 3
   },
   "file_extension": ".py",
   "mimetype": "text/x-python",
   "name": "python",
   "nbconvert_exporter": "python",
   "pygments_lexer": "ipython3",
   "version": "3.9.13"
  }
 },
 "nbformat": 4,
 "nbformat_minor": 5
}
