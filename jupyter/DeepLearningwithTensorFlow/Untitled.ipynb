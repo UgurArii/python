{
 "cells": [
  {
   "cell_type": "markdown",
   "id": "01d2c03e-f539-4019-bf77-76c7c247ec94",
   "metadata": {},
   "source": [
    "Furthermore, among the new Python frameworks for deep learning, you will use TensorFlow, which is proving to be an excellent tool for research and development of deep learning analysis techniques. With this library you will see how to develop different models of neural networks that are the basis of deep learning."
   ]
  },
  {
   "cell_type": "markdown",
   "id": "97448933-34d5-4c82-a6d0-b8346188a543",
   "metadata": {},
   "source": [
    "Machine Learning Is a Branch of Artificial Intelligence\n",
    "In the previous chapter you saw machine learning in detail, with many examples of the different techniques for classifying or predicting data. Machine learning (ML), with all its techniques and algorithms, is a large branch of\n",
    "artificial intelligence. In fact, you refer to it, while remaining within the ambit of artificial intelligence when you use systems that are able to learn (learning systems) to solve various problems that shortly before had been “considered exclusive to humans”."
   ]
  },
  {
   "cell_type": "markdown",
   "id": "be99c641-5916-4295-88d2-d09fe35fdfa4",
   "metadata": {},
   "source": [
    "Data Availability: Open Data Source, Internet of Things,and Big Data"
   ]
  },
  {
   "cell_type": "markdown",
   "id": "9a04be77-c525-485e-8f3e-b3566f4fa9a0",
   "metadata": {},
   "source": [
    "TensorFlow is an open source library for numerical calculation that bases its use on data flow graphs. These are graphs where the nodesrepresent the mathematical operations and the edges represent tensors (multidimensional data arrays). Its architecture is very flexible and can distribute the calculations both on multiple CPUs and on multiple GPUs.C\n",
    "Deep Learning with TensorFlow\n",
    "• Caffe2 is a framework developed to provide an easy and simple way to work on deep learning. It allows you to test model and algorithm calculations using the power of GPUs in the cloud.\n",
    "• PyTorch is a scientific framework completely based on the use of GPUs. It works in a highly efficient way and was recently developed and is still not well consolidated. It is still proving a powerful tool for scientific research.\n",
    "• Theano is the most used Python library in the scientific field for the development, definition, and evaluation of mathematical expressions and physical models. Unfortunately, the development team announced that new versions will no longer be released. However, it remains a reference framework thanks to the number of programs developed with this library, both in literature and on the web.\n",
    "• TensorBoard—A kit that allows the visualization of internal graphs to\n",
    "TensorFlow (https://github.com/tensorflow/tensorboard).\n",
    "• TensorFlow Fold—Produces beautiful dynamic calculation charts\n",
    "(https://github.com/tensorflow/fold)\n",
    "• TensorFlow Transform—Created and managed input data pipelines\n",
    "(https://github.com/tensorflow/transform)"
   ]
  }
 ],
 "metadata": {
  "kernelspec": {
   "display_name": "Python 3 (ipykernel)",
   "language": "python",
   "name": "python3"
  },
  "language_info": {
   "codemirror_mode": {
    "name": "ipython",
    "version": 3
   },
   "file_extension": ".py",
   "mimetype": "text/x-python",
   "name": "python",
   "nbconvert_exporter": "python",
   "pygments_lexer": "ipython3",
   "version": "3.9.13"
  }
 },
 "nbformat": 4,
 "nbformat_minor": 5
}
