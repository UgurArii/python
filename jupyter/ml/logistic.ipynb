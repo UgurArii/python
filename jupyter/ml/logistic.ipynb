{
 "cells": [
  {
   "cell_type": "code",
   "execution_count": 1,
   "id": "31b37ca2-560b-4adb-9607-8cbe5f53d5e8",
   "metadata": {},
   "outputs": [
    {
     "name": "stderr",
     "output_type": "stream",
     "text": [
      "Picked up _JAVA_OPTIONS: -Dawt.useSystemAAFontSettings=on -Dswing.aatext=true\n",
      "Picked up _JAVA_OPTIONS: -Dawt.useSystemAAFontSettings=on -Dswing.aatext=true\n"
     ]
    },
    {
     "name": "stdout",
     "output_type": "stream",
     "text": [
      "23/04/03 12:32:25 WARN Utils: Your hostname, root resolves to a loopback address: 127.0.1.1; using 192.168.90.240 instead (on interface wlan0)\n",
      "23/04/03 12:32:25 WARN Utils: Set SPARK_LOCAL_IP if you need to bind to another address\n"
     ]
    },
    {
     "name": "stderr",
     "output_type": "stream",
     "text": [
      "Setting default log level to \"WARN\".\n",
      "To adjust logging level use sc.setLogLevel(newLevel). For SparkR, use setLogLevel(newLevel).\n"
     ]
    },
    {
     "name": "stdout",
     "output_type": "stream",
     "text": [
      "23/04/03 12:32:25 WARN NativeCodeLoader: Unable to load native-hadoop library for your platform... using builtin-java classes where applicable\n",
      "23/04/03 12:32:26 WARN Utils: Service 'SparkUI' could not bind on port 4040. Attempting port 4041.\n",
      "23/04/03 12:32:26 WARN Utils: Service 'SparkUI' could not bind on port 4041. Attempting port 4042.\n"
     ]
    }
   ],
   "source": [
    "from pyspark.sql import SparkSession\n",
    "spark=SparkSession.builder.appName('log_reg').getOrCreate()"
   ]
  },
  {
   "cell_type": "code",
   "execution_count": 2,
   "id": "9775eef0-e395-4de5-a2c0-eed7522256f3",
   "metadata": {},
   "outputs": [],
   "source": [
    "df=spark.read.csv('Log_Reg_dataset.csv',inferSchema=True,header=True)"
   ]
  },
  {
   "cell_type": "code",
   "execution_count": 3,
   "id": "14cc41ca-f59e-4f11-b6a6-b2d6832ad96a",
   "metadata": {},
   "outputs": [
    {
     "name": "stdout",
     "output_type": "stream",
     "text": [
      "(20000, 6)\n"
     ]
    }
   ],
   "source": [
    "print((df.count(), len(df.columns)))"
   ]
  },
  {
   "cell_type": "code",
   "execution_count": 4,
   "id": "f8097ddb-9a0d-491d-81d5-d79819fdfec9",
   "metadata": {},
   "outputs": [
    {
     "name": "stdout",
     "output_type": "stream",
     "text": [
      "root\n",
      " |-- Country: string (nullable = true)\n",
      " |-- Age: integer (nullable = true)\n",
      " |-- Repeat_Visitor: integer (nullable = true)\n",
      " |-- Platform: string (nullable = true)\n",
      " |-- Web_pages_viewed: integer (nullable = true)\n",
      " |-- Status: integer (nullable = true)\n",
      "\n"
     ]
    }
   ],
   "source": [
    "df.printSchema()"
   ]
  },
  {
   "cell_type": "code",
   "execution_count": 5,
   "id": "e91f72d6-c883-42aa-9cf1-47fe3df3e1e5",
   "metadata": {},
   "outputs": [
    {
     "name": "stdout",
     "output_type": "stream",
     "text": [
      "+---------+---+--------------+--------+----------------+------+\n",
      "|  Country|Age|Repeat_Visitor|Platform|Web_pages_viewed|Status|\n",
      "+---------+---+--------------+--------+----------------+------+\n",
      "|    India| 41|             1|   Yahoo|              21|     1|\n",
      "|   Brazil| 28|             1|   Yahoo|               5|     0|\n",
      "|   Brazil| 40|             0|  Google|               3|     0|\n",
      "|Indonesia| 31|             1|    Bing|              15|     1|\n",
      "| Malaysia| 32|             0|  Google|              15|     1|\n",
      "+---------+---+--------------+--------+----------------+------+\n",
      "only showing top 5 rows\n",
      "\n"
     ]
    }
   ],
   "source": [
    "df.show(5)"
   ]
  },
  {
   "cell_type": "code",
   "execution_count": 6,
   "id": "9ff630e7-ac7c-453d-993e-34d63dd82afb",
   "metadata": {},
   "outputs": [
    {
     "name": "stderr",
     "output_type": "stream",
     "text": [
      "[Stage 6:>                                                          (0 + 1) / 1]\r"
     ]
    },
    {
     "name": "stdout",
     "output_type": "stream",
     "text": [
      "+-------+--------+-----------------+-----------------+--------+-----------------+------------------+\n",
      "|summary| Country|              Age|   Repeat_Visitor|Platform| Web_pages_viewed|            Status|\n",
      "+-------+--------+-----------------+-----------------+--------+-----------------+------------------+\n",
      "|  count|   20000|            20000|            20000|   20000|            20000|             20000|\n",
      "|   mean|    null|         28.53955|           0.5029|    null|           9.5533|               0.5|\n",
      "| stddev|    null|7.888912950773227|0.500004090187782|    null|6.073903499824976|0.5000125004687693|\n",
      "|    min|  Brazil|               17|                0|    Bing|                1|                 0|\n",
      "|    max|Malaysia|              111|                1|   Yahoo|               29|                 1|\n",
      "+-------+--------+-----------------+-----------------+--------+-----------------+------------------+\n",
      "\n"
     ]
    },
    {
     "name": "stderr",
     "output_type": "stream",
     "text": [
      "                                                                                \r"
     ]
    }
   ],
   "source": [
    "df.describe().show()"
   ]
  },
  {
   "cell_type": "code",
   "execution_count": 7,
   "id": "009aefd9-7c0e-494c-97da-af52bd75a0a2",
   "metadata": {},
   "outputs": [
    {
     "name": "stdout",
     "output_type": "stream",
     "text": [
      "+---------+-----+\n",
      "|  Country|count|\n",
      "+---------+-----+\n",
      "| Malaysia| 1218|\n",
      "|    India| 4018|\n",
      "|Indonesia|12178|\n",
      "|   Brazil| 2586|\n",
      "+---------+-----+\n",
      "\n"
     ]
    }
   ],
   "source": [
    "df.groupBy('Country').count().show()"
   ]
  },
  {
   "cell_type": "code",
   "execution_count": 9,
   "id": "47621027-fe73-4124-9d5c-fd669ca03713",
   "metadata": {},
   "outputs": [
    {
     "name": "stdout",
     "output_type": "stream",
     "text": [
      "+--------+-----+\n",
      "|Platform|count|\n",
      "+--------+-----+\n",
      "|   Yahoo| 9859|\n",
      "|    Bing| 4360|\n",
      "|  Google| 5781|\n",
      "+--------+-----+\n",
      "\n"
     ]
    }
   ],
   "source": [
    "df.groupBy('Platform').count().show()"
   ]
  },
  {
   "cell_type": "code",
   "execution_count": 10,
   "id": "3d016452-7ca3-4264-9acc-1741c7ee17d3",
   "metadata": {},
   "outputs": [
    {
     "name": "stdout",
     "output_type": "stream",
     "text": [
      "+---------+------------------+-------------------+---------------------+--------------------+\n",
      "|  Country|          avg(Age)|avg(Repeat_Visitor)|avg(Web_pages_viewed)|         avg(Status)|\n",
      "+---------+------------------+-------------------+---------------------+--------------------+\n",
      "| Malaysia|27.792282430213465| 0.5730706075533661|   11.192118226600986|  0.6568144499178982|\n",
      "|    India|27.976854156296664| 0.5433051269288203|   10.727227476356397|  0.6212045793927327|\n",
      "|Indonesia| 28.43159796354081| 0.5207751683363442|    9.985711939563148|  0.5422893742814913|\n",
      "|   Brazil|30.274168600154677|  0.322892498066512|    4.921113689095128|0.038669760247486466|\n",
      "+---------+------------------+-------------------+---------------------+--------------------+\n",
      "\n"
     ]
    }
   ],
   "source": [
    "df.groupBy('Country').mean().show()"
   ]
  },
  {
   "cell_type": "code",
   "execution_count": 11,
   "id": "e16cb8e7-015f-4f69-b172-d289b33871b7",
   "metadata": {},
   "outputs": [
    {
     "name": "stdout",
     "output_type": "stream",
     "text": [
      "+--------+------------------+-------------------+---------------------+------------------+\n",
      "|Platform|          avg(Age)|avg(Repeat_Visitor)|avg(Web_pages_viewed)|       avg(Status)|\n",
      "+--------+------------------+-------------------+---------------------+------------------+\n",
      "|   Yahoo|28.569226087838523| 0.5094837204584644|    9.599655137437875|0.5071508266558474|\n",
      "|    Bing| 28.68394495412844| 0.4720183486238532|    9.114908256880733|0.4559633027522936|\n",
      "|  Google|28.380038055699707| 0.5149628092025601|    9.804878048780488|0.5210171250648676|\n",
      "+--------+------------------+-------------------+---------------------+------------------+\n",
      "\n"
     ]
    }
   ],
   "source": [
    "df.groupBy('Platform').mean().show()"
   ]
  },
  {
   "cell_type": "code",
   "execution_count": 12,
   "id": "ee7430db-1d75-48fa-89b8-2dc2d5101e45",
   "metadata": {},
   "outputs": [
    {
     "name": "stdout",
     "output_type": "stream",
     "text": [
      "+------+--------+-------------------+---------------------+-----------+\n",
      "|Status|avg(Age)|avg(Repeat_Visitor)|avg(Web_pages_viewed)|avg(Status)|\n",
      "+------+--------+-------------------+---------------------+-----------+\n",
      "|     1| 26.5435|             0.7019|              14.5617|        1.0|\n",
      "|     0| 30.5356|             0.3039|               4.5449|        0.0|\n",
      "+------+--------+-------------------+---------------------+-----------+\n",
      "\n"
     ]
    }
   ],
   "source": [
    "df.groupBy('Status').mean().show()"
   ]
  },
  {
   "cell_type": "code",
   "execution_count": 13,
   "id": "cc716a75-6aaa-4135-9aab-ef886ba6b0eb",
   "metadata": {},
   "outputs": [],
   "source": [
    "from pyspark.ml.feature import StringIndexer\n",
    "from pyspark.ml.feature import VectorAssembler"
   ]
  },
  {
   "cell_type": "code",
   "execution_count": 14,
   "id": "ad2ea6ca-908a-4bcb-a2e9-79511a80f83d",
   "metadata": {},
   "outputs": [
    {
     "name": "stdout",
     "output_type": "stream",
     "text": [
      "+-------+---+--------------+--------+----------------+------+------------+\n",
      "|Country|Age|Repeat_Visitor|Platform|Web_pages_viewed|Status|Platform_Num|\n",
      "+-------+---+--------------+--------+----------------+------+------------+\n",
      "|India  |41 |1             |Yahoo   |21              |1     |0.0         |\n",
      "|Brazil |28 |1             |Yahoo   |5               |0     |0.0         |\n",
      "|Brazil |40 |0             |Google  |3               |0     |1.0         |\n",
      "+-------+---+--------------+--------+----------------+------+------------+\n",
      "only showing top 3 rows\n",
      "\n"
     ]
    }
   ],
   "source": [
    "platform_indexer = StringIndexer(inputCol=\"Platform\", outputCol =\"Platform_Num\").fit(df)\n",
    "df = platform_indexer.transform(df)\n",
    "df.show(3,False)"
   ]
  },
  {
   "cell_type": "code",
   "execution_count": 15,
   "id": "8eddcb4c-f364-47cf-94d2-10bfabec762a",
   "metadata": {},
   "outputs": [
    {
     "name": "stdout",
     "output_type": "stream",
     "text": [
      "+--------+-----+\n",
      "|Platform|count|\n",
      "+--------+-----+\n",
      "|Yahoo   |9859 |\n",
      "|Google  |5781 |\n",
      "|Bing    |4360 |\n",
      "+--------+-----+\n",
      "\n"
     ]
    }
   ],
   "source": [
    "df.groupBy('Platform').count().orderBy('count', ascending=False).show(5,False)"
   ]
  },
  {
   "cell_type": "code",
   "execution_count": 18,
   "id": "a821fe95-3189-4163-bb8e-492151bd8484",
   "metadata": {},
   "outputs": [],
   "source": [
    "from pyspark.ml.feature import OneHotEncoder"
   ]
  },
  {
   "cell_type": "code",
   "execution_count": 23,
   "id": "6e483249-7a22-4d44-883d-0e3d8670047a",
   "metadata": {},
   "outputs": [
    {
     "name": "stdout",
     "output_type": "stream",
     "text": [
      "+-------+---+--------------+--------+----------------+------+------------+---------------+\n",
      "|Country|Age|Repeat_Visitor|Platform|Web_pages_viewed|Status|Platform_Num|Platform_Vector|\n",
      "+-------+---+--------------+--------+----------------+------+------------+---------------+\n",
      "|India  |41 |1             |Yahoo   |21              |1     |0.0         |(3,[0],[1.0])  |\n",
      "|Brazil |28 |1             |Yahoo   |5               |0     |0.0         |(3,[0],[1.0])  |\n",
      "|Brazil |40 |0             |Google  |3               |0     |1.0         |(3,[1],[1.0])  |\n",
      "+-------+---+--------------+--------+----------------+------+------------+---------------+\n",
      "only showing top 3 rows\n",
      "\n"
     ]
    }
   ],
   "source": [
    "platform_encoder = OneHotEncoder(inputCol = 'Platform_Num', outputCol = \"Platform_Vector\")\n",
    "platform_encoder.setDropLast(False)\n",
    "platform_encoder = platform_encoder.fit(df)\n",
    "df = platform_encoder.transform(df)\n",
    "df.show(3, False)"
   ]
  },
  {
   "cell_type": "code",
   "execution_count": 25,
   "id": "d581e747-d5bf-4476-b0e3-82be214510ec",
   "metadata": {},
   "outputs": [
    {
     "name": "stdout",
     "output_type": "stream",
     "text": [
      "+---------------+-----+\n",
      "|Platform_Vector|count|\n",
      "+---------------+-----+\n",
      "|(3,[0],[1.0])  |9859 |\n",
      "|(3,[1],[1.0])  |5781 |\n",
      "|(3,[2],[1.0])  |4360 |\n",
      "+---------------+-----+\n",
      "\n"
     ]
    }
   ],
   "source": [
    "df.groupBy('Platform_Vector').count().orderBy('count', ascending=False).show(5, False)"
   ]
  },
  {
   "cell_type": "code",
   "execution_count": 26,
   "id": "57021515-3777-431c-8cf9-7216a9ab9cfc",
   "metadata": {},
   "outputs": [
    {
     "name": "stdout",
     "output_type": "stream",
     "text": [
      "+---------+-----+\n",
      "|Country  |count|\n",
      "+---------+-----+\n",
      "|Indonesia|12178|\n",
      "|India    |4018 |\n",
      "|Brazil   |2586 |\n",
      "|Malaysia |1218 |\n",
      "+---------+-----+\n",
      "\n"
     ]
    }
   ],
   "source": [
    "country_indexer = StringIndexer(inputCol=\"Country\", outputCol=\"Country_Num\").fit(df)\n",
    "df = country_indexer.transform(df)\n",
    "df.groupBy('Country').count().orderBy('count', ascending=False).show(5, False)\n"
   ]
  },
  {
   "cell_type": "code",
   "execution_count": 27,
   "id": "ab7fb2c1-e47a-4e00-9bdd-e476d6b43201",
   "metadata": {},
   "outputs": [
    {
     "name": "stdout",
     "output_type": "stream",
     "text": [
      "+-----------+-----+\n",
      "|Country_Num|count|\n",
      "+-----------+-----+\n",
      "|0.0        |12178|\n",
      "|1.0        |4018 |\n",
      "|2.0        |2586 |\n",
      "|3.0        |1218 |\n",
      "+-----------+-----+\n",
      "\n"
     ]
    }
   ],
   "source": [
    "df.groupBy('Country_Num').count().orderBy('count', ascending=False).show(5, False)"
   ]
  },
  {
   "cell_type": "code",
   "execution_count": 29,
   "id": "08bbfaba-09ed-4941-85c2-d8b5ba618bdb",
   "metadata": {},
   "outputs": [
    {
     "name": "stdout",
     "output_type": "stream",
     "text": [
      "+-------+-----------+--------------+\n",
      "|Country|Country_Num|Country_Vector|\n",
      "+-------+-----------+--------------+\n",
      "|India  |1.0        |(4,[1],[1.0]) |\n",
      "|Brazil |2.0        |(4,[2],[1.0]) |\n",
      "|Brazil |2.0        |(4,[2],[1.0]) |\n",
      "+-------+-----------+--------------+\n",
      "only showing top 3 rows\n",
      "\n"
     ]
    }
   ],
   "source": [
    "country_encoder = OneHotEncoder(inputCol=\"Country_Num\", outputCol=\"Country_Vector\")\n",
    "country_encoder.setDropLast(False)\n",
    "country_encoder = country_encoder.fit(df)\n",
    "df = country_encoder.transform(df)\n",
    "df.select(['Country','Country_Num','Country_Vector']).show(3, False)\n"
   ]
  },
  {
   "cell_type": "code",
   "execution_count": 30,
   "id": "d251f47c-bdab-4abe-aa2f-6cbea55ac98a",
   "metadata": {},
   "outputs": [
    {
     "name": "stdout",
     "output_type": "stream",
     "text": [
      "+--------------+-----+\n",
      "|Country_Vector|count|\n",
      "+--------------+-----+\n",
      "|(4,[0],[1.0]) |12178|\n",
      "|(4,[1],[1.0]) |4018 |\n",
      "|(4,[2],[1.0]) |2586 |\n",
      "|(4,[3],[1.0]) |1218 |\n",
      "+--------------+-----+\n",
      "\n"
     ]
    }
   ],
   "source": [
    "df.groupBy('Country_Vector').count().orderBy('count', ascending=False).show(5, False)"
   ]
  },
  {
   "cell_type": "code",
   "execution_count": 31,
   "id": "0f6cb131-e3d7-4fda-b911-df91e22015f5",
   "metadata": {},
   "outputs": [],
   "source": [
    "df_assembler = VectorAssembler(inputCols=['Platform_Vector','Country_Vector','Age','Repeat_Visitor', 'Web_pages_viewed'], outputCol=\"features\")"
   ]
  },
  {
   "cell_type": "code",
   "execution_count": 32,
   "id": "38c40c67-af73-4fe3-b501-019b053d0540",
   "metadata": {},
   "outputs": [
    {
     "name": "stdout",
     "output_type": "stream",
     "text": [
      "root\n",
      " |-- Country: string (nullable = true)\n",
      " |-- Age: integer (nullable = true)\n",
      " |-- Repeat_Visitor: integer (nullable = true)\n",
      " |-- Platform: string (nullable = true)\n",
      " |-- Web_pages_viewed: integer (nullable = true)\n",
      " |-- Status: integer (nullable = true)\n",
      " |-- Platform_Num: double (nullable = false)\n",
      " |-- Platform_Vector: vector (nullable = true)\n",
      " |-- Country_Num: double (nullable = false)\n",
      " |-- Country_Vector: vector (nullable = true)\n",
      " |-- features: vector (nullable = true)\n",
      "\n"
     ]
    }
   ],
   "source": [
    "df = df_assembler.transform(df)\n",
    "df.printSchema()"
   ]
  },
  {
   "cell_type": "code",
   "execution_count": 33,
   "id": "f729fad5-a312-4bd5-a48f-1486efb5ab6e",
   "metadata": {},
   "outputs": [
    {
     "name": "stdout",
     "output_type": "stream",
     "text": [
      "+----------------------------------------+------+\n",
      "|features                                |Status|\n",
      "+----------------------------------------+------+\n",
      "|(10,[0,4,7,8,9],[1.0,1.0,41.0,1.0,21.0])|1     |\n",
      "|(10,[0,5,7,8,9],[1.0,1.0,28.0,1.0,5.0]) |0     |\n",
      "|(10,[1,5,7,9],[1.0,1.0,40.0,3.0])       |0     |\n",
      "|(10,[2,3,7,8,9],[1.0,1.0,31.0,1.0,15.0])|1     |\n",
      "|(10,[1,6,7,9],[1.0,1.0,32.0,15.0])      |1     |\n",
      "|(10,[1,5,7,9],[1.0,1.0,32.0,3.0])       |0     |\n",
      "|(10,[1,5,7,9],[1.0,1.0,32.0,6.0])       |0     |\n",
      "|(10,[1,3,7,9],[1.0,1.0,27.0,9.0])       |0     |\n",
      "|(10,[0,3,7,9],[1.0,1.0,32.0,2.0])       |0     |\n",
      "|(10,[2,3,7,8,9],[1.0,1.0,31.0,1.0,16.0])|1     |\n",
      "+----------------------------------------+------+\n",
      "only showing top 10 rows\n",
      "\n"
     ]
    }
   ],
   "source": [
    "df.select(['features','Status']).show(10,False)"
   ]
  },
  {
   "cell_type": "markdown",
   "id": "41be5bc2-8f64-4433-9652-abedefa69164",
   "metadata": {},
   "source": [
    "Let us select only features column as input and the Status column as\n",
    "output for training the logistic regression model."
   ]
  },
  {
   "cell_type": "markdown",
   "id": "8435b2eb-9707-4134-8570-bbfea2d42a0e",
   "metadata": {},
   "source": [
    "-----------------------------------------\n",
    "Splitting the Dataset"
   ]
  },
  {
   "cell_type": "markdown",
   "id": "9532374b-fd02-48aa-be72-291db4f57f0a",
   "metadata": {},
   "source": [
    "We can print the shape of train and test data to validate the size"
   ]
  },
  {
   "cell_type": "code",
   "execution_count": 35,
   "id": "354e8942-7bd5-4ab6-be19-091d99bcc7a2",
   "metadata": {},
   "outputs": [],
   "source": [
    "model_df=df.select(['features','Status'])"
   ]
  },
  {
   "cell_type": "code",
   "execution_count": 36,
   "id": "1498c8d1-44f6-426d-baa8-2d4132db26b8",
   "metadata": {},
   "outputs": [
    {
     "name": "stdout",
     "output_type": "stream",
     "text": [
      "14950\n"
     ]
    }
   ],
   "source": [
    "training_df, test_df = model_df.randomSplit([0.75, 0.25])\n",
    "print(training_df.count())"
   ]
  },
  {
   "cell_type": "code",
   "execution_count": 37,
   "id": "0e84fb41-5350-4a05-8fbe-6a111e1d13f7",
   "metadata": {},
   "outputs": [
    {
     "name": "stdout",
     "output_type": "stream",
     "text": [
      "+------+-----+\n",
      "|Status|count|\n",
      "+------+-----+\n",
      "|     1| 7553|\n",
      "|     0| 7397|\n",
      "+------+-----+\n",
      "\n"
     ]
    }
   ],
   "source": [
    "training_df.groupBy('Status').count().show()"
   ]
  },
  {
   "cell_type": "code",
   "execution_count": 38,
   "id": "da2db3a3-67b8-42aa-b734-da8ed544b71f",
   "metadata": {},
   "outputs": [
    {
     "name": "stdout",
     "output_type": "stream",
     "text": [
      "5050\n"
     ]
    }
   ],
   "source": [
    "print(test_df.count())"
   ]
  },
  {
   "cell_type": "code",
   "execution_count": 39,
   "id": "f717b7a0-45a1-4c36-95a5-f22979c4f77e",
   "metadata": {},
   "outputs": [
    {
     "name": "stdout",
     "output_type": "stream",
     "text": [
      "+------+-----+\n",
      "|Status|count|\n",
      "+------+-----+\n",
      "|     1| 2447|\n",
      "|     0| 2603|\n",
      "+------+-----+\n",
      "\n"
     ]
    }
   ],
   "source": [
    "test_df.groupBy('Status').count().show()"
   ]
  },
  {
   "cell_type": "markdown",
   "id": "7a49c804-2ee9-4b15-ae91-c918d247083f",
   "metadata": {},
   "source": [
    "------------------------------------------------\n",
    "Build and Train Logistic Regression Model"
   ]
  },
  {
   "cell_type": "code",
   "execution_count": 40,
   "id": "f10a2358-04ef-40c5-b50c-f7d24b92fdc1",
   "metadata": {},
   "outputs": [],
   "source": [
    "from pyspark.ml.classification import LogisticRegression"
   ]
  },
  {
   "cell_type": "code",
   "execution_count": 42,
   "id": "7fc12ad7-585e-4b42-bf0c-ca45a0753d34",
   "metadata": {},
   "outputs": [],
   "source": [
    "log_reg = LogisticRegression(labelCol='Status').fit(training_df)"
   ]
  },
  {
   "cell_type": "code",
   "execution_count": 43,
   "id": "7a76793d-9e7c-43d0-a2ee-e36a090873f3",
   "metadata": {},
   "outputs": [],
   "source": [
    "train_results = log_reg.evaluate(training_df).predictions"
   ]
  },
  {
   "cell_type": "code",
   "execution_count": 46,
   "id": "85ceb5e2-53eb-408b-966a-a9b81a852452",
   "metadata": {},
   "outputs": [
    {
     "name": "stdout",
     "output_type": "stream",
     "text": [
      "+------+----------+----------------------------------------+\n",
      "|Status|prediction|probability                             |\n",
      "+------+----------+----------------------------------------+\n",
      "|1     |1.0       |[0.42059647262953725,0.5794035273704627]|\n",
      "|1     |1.0       |[0.42059647262953725,0.5794035273704627]|\n",
      "|1     |1.0       |[0.2575560791410535,0.7424439208589465] |\n",
      "|1     |1.0       |[0.2575560791410535,0.7424439208589465] |\n",
      "|1     |1.0       |[0.2575560791410535,0.7424439208589465] |\n",
      "|1     |1.0       |[0.1422051267994548,0.8577948732005451] |\n",
      "|1     |1.0       |[0.07340809714391215,0.9265919028560878]|\n",
      "|1     |1.0       |[0.07340809714391215,0.9265919028560878]|\n",
      "|1     |1.0       |[0.07340809714391215,0.9265919028560878]|\n",
      "|1     |1.0       |[0.07340809714391215,0.9265919028560878]|\n",
      "+------+----------+----------------------------------------+\n",
      "only showing top 10 rows\n",
      "\n"
     ]
    }
   ],
   "source": [
    "train_results.filter(train_results['Status'] == 1).filter(train_results['prediction'] == 1).select(['Status','prediction','probability']).show(10,False)"
   ]
  },
  {
   "cell_type": "markdown",
   "id": "7bfa5d6a-0ebe-4f1f-92e0-bd1bd1d0f2e2",
   "metadata": {},
   "source": [
    "---------------------------------------------------\n",
    "Evaluate Linear Regression Model on Test Data"
   ]
  },
  {
   "cell_type": "code",
   "execution_count": 47,
   "id": "97039770-5db5-4f3d-8148-3d269681323d",
   "metadata": {},
   "outputs": [],
   "source": [
    "results = log_reg.evaluate(test_df).predictions"
   ]
  },
  {
   "cell_type": "code",
   "execution_count": 48,
   "id": "1d658db7-538f-4728-b0c4-a197fe400254",
   "metadata": {},
   "outputs": [
    {
     "name": "stdout",
     "output_type": "stream",
     "text": [
      "root\n",
      " |-- features: vector (nullable = true)\n",
      " |-- Status: integer (nullable = true)\n",
      " |-- rawPrediction: vector (nullable = true)\n",
      " |-- probability: vector (nullable = true)\n",
      " |-- prediction: double (nullable = false)\n",
      "\n"
     ]
    }
   ],
   "source": [
    "results.printSchema()"
   ]
  },
  {
   "cell_type": "code",
   "execution_count": 49,
   "id": "67d4b7bc-5c33-4b8a-9abd-3e21e223511b",
   "metadata": {},
   "outputs": [
    {
     "name": "stdout",
     "output_type": "stream",
     "text": [
      "+------+----------+\n",
      "|Status|prediction|\n",
      "+------+----------+\n",
      "|0     |0.0       |\n",
      "|0     |0.0       |\n",
      "|0     |0.0       |\n",
      "|0     |0.0       |\n",
      "|0     |0.0       |\n",
      "|0     |0.0       |\n",
      "|0     |0.0       |\n",
      "|0     |1.0       |\n",
      "|1     |1.0       |\n",
      "|1     |1.0       |\n",
      "+------+----------+\n",
      "only showing top 10 rows\n",
      "\n"
     ]
    }
   ],
   "source": [
    "results.select(['Status','prediction']).show(10,False)"
   ]
  },
  {
   "cell_type": "markdown",
   "id": "aed856b0-0f69-4df9-8efb-20ae435831b4",
   "metadata": {},
   "source": [
    "----------------------------------\n",
    "Confusion Matrix"
   ]
  },
  {
   "cell_type": "code",
   "execution_count": 51,
   "id": "b9e7ac58-b1bf-4845-804a-5ebe2daafb08",
   "metadata": {},
   "outputs": [
    {
     "data": {
      "text/plain": [
       "2329"
      ]
     },
     "execution_count": 51,
     "metadata": {},
     "output_type": "execute_result"
    }
   ],
   "source": [
    "results[(results.Status == 1) & (results.prediction == 1)].count()"
   ]
  },
  {
   "cell_type": "code",
   "execution_count": 56,
   "id": "a07d8fa2-ae45-448c-9c2d-0ff8a0103eb1",
   "metadata": {},
   "outputs": [
    {
     "data": {
      "text/plain": [
       "2445"
      ]
     },
     "execution_count": 56,
     "metadata": {},
     "output_type": "execute_result"
    }
   ],
   "source": [
    "results[(results.Status == 0)& (results.prediction == 0)].count()"
   ]
  },
  {
   "cell_type": "code",
   "execution_count": 57,
   "id": "041e7b3d-2ed7-4b57-8ac2-5979856d0078",
   "metadata": {},
   "outputs": [
    {
     "data": {
      "text/plain": [
       "118"
      ]
     },
     "execution_count": 57,
     "metadata": {},
     "output_type": "execute_result"
    }
   ],
   "source": [
    "results[(results.Status == 1)& (results.prediction == 0)].count()"
   ]
  },
  {
   "cell_type": "code",
   "execution_count": 58,
   "id": "22535179-96e6-448b-95df-63d3e28fae48",
   "metadata": {},
   "outputs": [
    {
     "data": {
      "text/plain": [
       "158"
      ]
     },
     "execution_count": 58,
     "metadata": {},
     "output_type": "execute_result"
    }
   ],
   "source": [
    "results[(results.Status == 0)& (results.prediction == 1)].count()"
   ]
  },
  {
   "cell_type": "markdown",
   "id": "cd557fff-20b8-4d99-83c5-569f1147c6f2",
   "metadata": {},
   "source": [
    "--------------------\n",
    "some formulas\n",
    "accuracy=float((true_postives+true_negatives) /(results.count()))\n",
    "recall = float(true_postives)/(true_postives + false_negatives)\n",
    "precision = float(true_postives) / (true_postives + false_positives)"
   ]
  }
 ],
 "metadata": {
  "kernelspec": {
   "display_name": "Python 3 (ipykernel)",
   "language": "python",
   "name": "python3"
  },
  "language_info": {
   "codemirror_mode": {
    "name": "ipython",
    "version": 3
   },
   "file_extension": ".py",
   "mimetype": "text/x-python",
   "name": "python",
   "nbconvert_exporter": "python",
   "pygments_lexer": "ipython3",
   "version": "3.9.13"
  }
 },
 "nbformat": 4,
 "nbformat_minor": 5
}
