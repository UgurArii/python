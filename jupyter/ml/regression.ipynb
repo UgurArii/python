{
 "cells": [
  {
   "cell_type": "code",
   "execution_count": 1,
   "id": "9a9d02d2-07ba-48d1-b055-441a03ec1a2e",
   "metadata": {},
   "outputs": [],
   "source": [
    "from pyspark.sql import SparkSession"
   ]
  },
  {
   "cell_type": "code",
   "execution_count": 2,
   "id": "8b228e2a-179b-429b-8acc-c29c0803cd3a",
   "metadata": {},
   "outputs": [
    {
     "name": "stderr",
     "output_type": "stream",
     "text": [
      "Picked up _JAVA_OPTIONS: -Dawt.useSystemAAFontSettings=on -Dswing.aatext=true\n",
      "Picked up _JAVA_OPTIONS: -Dawt.useSystemAAFontSettings=on -Dswing.aatext=true\n"
     ]
    },
    {
     "name": "stdout",
     "output_type": "stream",
     "text": [
      "23/04/03 10:26:57 WARN Utils: Your hostname, root resolves to a loopback address: 127.0.1.1; using 192.168.90.240 instead (on interface wlan0)\n",
      "23/04/03 10:26:57 WARN Utils: Set SPARK_LOCAL_IP if you need to bind to another address\n"
     ]
    },
    {
     "name": "stderr",
     "output_type": "stream",
     "text": [
      "Setting default log level to \"WARN\".\n",
      "To adjust logging level use sc.setLogLevel(newLevel). For SparkR, use setLogLevel(newLevel).\n"
     ]
    },
    {
     "name": "stdout",
     "output_type": "stream",
     "text": [
      "23/04/03 10:26:57 WARN NativeCodeLoader: Unable to load native-hadoop library for your platform... using builtin-java classes where applicable\n",
      "23/04/03 10:26:58 WARN Utils: Service 'SparkUI' could not bind on port 4040. Attempting port 4041.\n"
     ]
    }
   ],
   "source": [
    "spark = SparkSession.builder.appName('lin_reg').getOrCreate()"
   ]
  },
  {
   "cell_type": "code",
   "execution_count": 5,
   "id": "8f8fb754-8142-4e5c-8030-a6722b1b5c4f",
   "metadata": {},
   "outputs": [],
   "source": [
    "df = spark.read.csv('linear_regression.csv', inferSchema=True, header = True)"
   ]
  },
  {
   "cell_type": "code",
   "execution_count": 7,
   "id": "c606e72d-5cdf-42b4-a0df-d3ff83047f59",
   "metadata": {},
   "outputs": [
    {
     "name": "stdout",
     "output_type": "stream",
     "text": [
      "(84, 2)\n"
     ]
    }
   ],
   "source": [
    "print((df.count(), len(df.columns)))"
   ]
  },
  {
   "cell_type": "code",
   "execution_count": 8,
   "id": "76246f88-3daa-47d0-9c94-271f9230d73f",
   "metadata": {},
   "outputs": [
    {
     "name": "stdout",
     "output_type": "stream",
     "text": [
      "root\n",
      " |-- SAT: integer (nullable = true)\n",
      " |-- GPA: double (nullable = true)\n",
      "\n"
     ]
    }
   ],
   "source": [
    "df.printSchema()"
   ]
  },
  {
   "cell_type": "code",
   "execution_count": 9,
   "id": "6f038e3b-c2e5-4845-9d0e-e389511fce19",
   "metadata": {},
   "outputs": [
    {
     "name": "stdout",
     "output_type": "stream",
     "text": [
      "+-------+------------------+------------------+\n",
      "|summary|SAT               |GPA               |\n",
      "+-------+------------------+------------------+\n",
      "|count  |84                |84                |\n",
      "|mean   |1845.2738095238096|3.330238095238094 |\n",
      "|stddev |104.53066088392802|0.2716170949003598|\n",
      "+-------+------------------+------------------+\n",
      "only showing top 3 rows\n",
      "\n"
     ]
    }
   ],
   "source": [
    "df.describe().show(3,False)"
   ]
  },
  {
   "cell_type": "code",
   "execution_count": 12,
   "id": "fbd80065-0882-4288-8cb2-d20dc543f54b",
   "metadata": {},
   "outputs": [
    {
     "name": "stdout",
     "output_type": "stream",
     "text": [
      "+------------------+\n",
      "|    corr(SAT, GPA)|\n",
      "+------------------+\n",
      "|0.6371843648401915|\n",
      "+------------------+\n",
      "\n"
     ]
    }
   ],
   "source": [
    "from pyspark.sql.functions import corr\n",
    "df.select(corr('SAT','GPA')).show()"
   ]
  },
  {
   "cell_type": "code",
   "execution_count": 13,
   "id": "316c0552-9cb8-4e16-b700-542ed8634a33",
   "metadata": {},
   "outputs": [],
   "source": [
    "from pyspark.ml.linalg import Vector\n",
    "from pyspark.ml.feature import VectorAssembler"
   ]
  },
  {
   "cell_type": "code",
   "execution_count": 14,
   "id": "3f940bfe-3dfd-4817-bf4e-0426ae892625",
   "metadata": {},
   "outputs": [
    {
     "data": {
      "text/plain": [
       "['SAT', 'GPA']"
      ]
     },
     "execution_count": 14,
     "metadata": {},
     "output_type": "execute_result"
    }
   ],
   "source": [
    "df.columns"
   ]
  },
  {
   "cell_type": "code",
   "execution_count": 15,
   "id": "4bf5790f-942e-454c-a32b-fae286e7cae8",
   "metadata": {},
   "outputs": [],
   "source": [
    "vec_assmebler = VectorAssembler(inputCols=['SAT','GPA'], outputCol='features')"
   ]
  },
  {
   "cell_type": "code",
   "execution_count": 17,
   "id": "7eca8e51-238d-4c0d-b050-dfd143b77625",
   "metadata": {},
   "outputs": [
    {
     "name": "stdout",
     "output_type": "stream",
     "text": [
      "root\n",
      " |-- SAT: integer (nullable = true)\n",
      " |-- GPA: double (nullable = true)\n",
      " |-- features: vector (nullable = true)\n",
      "\n"
     ]
    }
   ],
   "source": [
    "features_df = vec_assmebler.transform(df)\n",
    "features_df.printSchema()"
   ]
  },
  {
   "cell_type": "code",
   "execution_count": 18,
   "id": "fdcf1837-fedb-44fe-b948-b40e2437988c",
   "metadata": {},
   "outputs": [
    {
     "name": "stdout",
     "output_type": "stream",
     "text": [
      "+-------------+\n",
      "|features     |\n",
      "+-------------+\n",
      "|[1714.0,2.4] |\n",
      "|[1664.0,2.52]|\n",
      "|[1760.0,2.54]|\n",
      "|[1685.0,2.74]|\n",
      "|[1693.0,2.83]|\n",
      "+-------------+\n",
      "only showing top 5 rows\n",
      "\n"
     ]
    }
   ],
   "source": [
    "features_df.select('features').show(5,False)"
   ]
  },
  {
   "cell_type": "code",
   "execution_count": null,
   "id": "f8943ce3-9beb-4662-8925-6c559ea2167c",
   "metadata": {},
   "outputs": [],
   "source": []
  }
 ],
 "metadata": {
  "kernelspec": {
   "display_name": "Python 3 (ipykernel)",
   "language": "python",
   "name": "python3"
  },
  "language_info": {
   "codemirror_mode": {
    "name": "ipython",
    "version": 3
   },
   "file_extension": ".py",
   "mimetype": "text/x-python",
   "name": "python",
   "nbconvert_exporter": "python",
   "pygments_lexer": "ipython3",
   "version": "3.9.13"
  }
 },
 "nbformat": 4,
 "nbformat_minor": 5
}
