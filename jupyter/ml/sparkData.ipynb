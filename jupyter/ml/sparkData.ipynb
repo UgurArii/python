{
 "cells": [
  {
   "cell_type": "code",
   "execution_count": 2,
   "id": "db6c07e6-f22e-4165-aba8-6071c68a4975",
   "metadata": {},
   "outputs": [],
   "source": [
    "from pyspark.sql import SparkSession"
   ]
  },
  {
   "cell_type": "code",
   "execution_count": 3,
   "id": "11c9f4dc-c2d2-45b4-9b1e-8ce3bece7a74",
   "metadata": {},
   "outputs": [
    {
     "name": "stderr",
     "output_type": "stream",
     "text": [
      "Picked up _JAVA_OPTIONS: -Dawt.useSystemAAFontSettings=on -Dswing.aatext=true\n",
      "Picked up _JAVA_OPTIONS: -Dawt.useSystemAAFontSettings=on -Dswing.aatext=true\n"
     ]
    },
    {
     "name": "stdout",
     "output_type": "stream",
     "text": [
      "23/04/03 08:55:13 WARN Utils: Your hostname, root resolves to a loopback address: 127.0.1.1; using 192.168.90.240 instead (on interface wlan0)\n",
      "23/04/03 08:55:13 WARN Utils: Set SPARK_LOCAL_IP if you need to bind to another address\n"
     ]
    },
    {
     "name": "stderr",
     "output_type": "stream",
     "text": [
      "Setting default log level to \"WARN\".\n",
      "To adjust logging level use sc.setLogLevel(newLevel). For SparkR, use setLogLevel(newLevel).\n"
     ]
    },
    {
     "name": "stdout",
     "output_type": "stream",
     "text": [
      "23/04/03 08:55:14 WARN NativeCodeLoader: Unable to load native-hadoop library for your platform... using builtin-java classes where applicable\n"
     ]
    }
   ],
   "source": [
    "spark = SparkSession.builder.appName('data_processing').getOrCreate()"
   ]
  },
  {
   "cell_type": "code",
   "execution_count": 6,
   "id": "6f44cba6-0429-4a0d-8d4e-a99a0efe90da",
   "metadata": {},
   "outputs": [],
   "source": [
    "df = spark.read.csv('sample_data.csv', inferSchema=True, header=True)"
   ]
  },
  {
   "cell_type": "code",
   "execution_count": 7,
   "id": "c68048f0-ff47-4328-956d-e3851d92e8ab",
   "metadata": {},
   "outputs": [
    {
     "data": {
      "text/plain": [
       "['ratings', 'age', 'experience', 'family', 'mobile']"
      ]
     },
     "execution_count": 7,
     "metadata": {},
     "output_type": "execute_result"
    }
   ],
   "source": [
    "df.columns"
   ]
  },
  {
   "cell_type": "code",
   "execution_count": 8,
   "id": "ba6de69e-0940-42a2-a8a6-92e1b987484b",
   "metadata": {},
   "outputs": [
    {
     "data": {
      "text/plain": [
       "5"
      ]
     },
     "execution_count": 8,
     "metadata": {},
     "output_type": "execute_result"
    }
   ],
   "source": [
    "len(df.columns)"
   ]
  },
  {
   "cell_type": "code",
   "execution_count": 9,
   "id": "9594b1aa-fe56-43fa-bdb6-520c2ebdcde0",
   "metadata": {},
   "outputs": [
    {
     "data": {
      "text/plain": [
       "<bound method DataFrame.count of DataFrame[ratings: int, age: int, experience: double, family: int, mobile: string]>"
      ]
     },
     "execution_count": 9,
     "metadata": {},
     "output_type": "execute_result"
    }
   ],
   "source": [
    "df.count"
   ]
  },
  {
   "cell_type": "code",
   "execution_count": 11,
   "id": "92501f0c-cd1f-4723-9519-8413a95ee834",
   "metadata": {},
   "outputs": [
    {
     "name": "stdout",
     "output_type": "stream",
     "text": [
      "<bound method DataFrame.count of DataFrame[ratings: int, age: int, experience: double, family: int, mobile: string]> 5\n"
     ]
    }
   ],
   "source": [
    "print((df.count),(len(df.columns)))"
   ]
  },
  {
   "cell_type": "code",
   "execution_count": 12,
   "id": "5f7e06dd-8a95-40b8-94e0-aeb12c43cd2d",
   "metadata": {},
   "outputs": [
    {
     "name": "stdout",
     "output_type": "stream",
     "text": [
      "root\n",
      " |-- ratings: integer (nullable = true)\n",
      " |-- age: integer (nullable = true)\n",
      " |-- experience: double (nullable = true)\n",
      " |-- family: integer (nullable = true)\n",
      " |-- mobile: string (nullable = true)\n",
      "\n"
     ]
    }
   ],
   "source": [
    "df.printSchema()"
   ]
  },
  {
   "cell_type": "code",
   "execution_count": 15,
   "id": "1512da44-a0d8-403e-badd-5239a164fa93",
   "metadata": {},
   "outputs": [
    {
     "name": "stdout",
     "output_type": "stream",
     "text": [
      "+-------+---+----------+------+-------+\n",
      "|ratings|age|experience|family| mobile|\n",
      "+-------+---+----------+------+-------+\n",
      "|      3| 32|       9.0|     3|   Vivo|\n",
      "|      3| 27|      13.0|     3|  Apple|\n",
      "|      4| 22|       2.5|     0|Samsung|\n",
      "+-------+---+----------+------+-------+\n",
      "only showing top 3 rows\n",
      "\n"
     ]
    }
   ],
   "source": [
    "df.show(3)"
   ]
  },
  {
   "cell_type": "code",
   "execution_count": 16,
   "id": "1da150dc-30d3-4459-a3f2-52337845e4c1",
   "metadata": {},
   "outputs": [
    {
     "name": "stdout",
     "output_type": "stream",
     "text": [
      "+---+-------+\n",
      "|age| mobile|\n",
      "+---+-------+\n",
      "| 32|   Vivo|\n",
      "| 27|  Apple|\n",
      "| 22|Samsung|\n",
      "| 37|  Apple|\n",
      "| 27|     MI|\n",
      "+---+-------+\n",
      "only showing top 5 rows\n",
      "\n"
     ]
    }
   ],
   "source": [
    "df.select('age','mobile').show(5)"
   ]
  },
  {
   "cell_type": "code",
   "execution_count": 17,
   "id": "7406a9df-a29f-414a-9a6c-d36a8d47b35a",
   "metadata": {},
   "outputs": [
    {
     "name": "stdout",
     "output_type": "stream",
     "text": [
      "+-------+------------------+------------------+------------------+------------------+------+\n",
      "|summary|           ratings|               age|        experience|            family|mobile|\n",
      "+-------+------------------+------------------+------------------+------------------+------+\n",
      "|  count|                33|                33|                33|                33|    33|\n",
      "|   mean|3.5757575757575757|30.484848484848484|10.303030303030303|1.8181818181818181|  null|\n",
      "| stddev|1.1188806636071336|  6.18527087180309| 6.770731351213326|1.8448330794164254|  null|\n",
      "|    min|                 1|                22|               2.5|                 0| Apple|\n",
      "|    max|                 5|                42|              23.0|                 5|  Vivo|\n",
      "+-------+------------------+------------------+------------------+------------------+------+\n",
      "\n"
     ]
    }
   ],
   "source": [
    "df.describe().show()"
   ]
  },
  {
   "cell_type": "code",
   "execution_count": 22,
   "id": "a8f7ed33-bae6-4733-9d99-75b64907fe84",
   "metadata": {},
   "outputs": [
    {
     "name": "stdout",
     "output_type": "stream",
     "text": [
      "+-------+---+----------+------+-------+----------------+\n",
      "|ratings|age|experience|family|mobile |age_after_10_yrs|\n",
      "+-------+---+----------+------+-------+----------------+\n",
      "|3      |32 |9.0       |3     |Vivo   |42              |\n",
      "|3      |27 |13.0      |3     |Apple  |37              |\n",
      "|4      |22 |2.5       |0     |Samsung|32              |\n",
      "|4      |37 |16.5      |4     |Apple  |47              |\n",
      "|5      |27 |9.0       |1     |MI     |37              |\n",
      "|4      |27 |9.0       |0     |Oppo   |37              |\n",
      "|5      |37 |23.0      |5     |Vivo   |47              |\n",
      "|5      |37 |23.0      |5     |Samsung|47              |\n",
      "|3      |22 |2.5       |0     |Apple  |32              |\n",
      "|3      |27 |6.0       |0     |MI     |37              |\n",
      "+-------+---+----------+------+-------+----------------+\n",
      "only showing top 10 rows\n",
      "\n"
     ]
    }
   ],
   "source": [
    "#Adding a new column\n",
    "df.withColumn(\"age_after_10_yrs\", (df[\"age\"] + 10)).show(10, False)"
   ]
  },
  {
   "cell_type": "code",
   "execution_count": 23,
   "id": "81da8232-1e66-4c1e-88a1-4229958421f8",
   "metadata": {},
   "outputs": [],
   "source": [
    "df = df.withColumn(\"age_after_10_yrs\",(df[\"age\"]+10))"
   ]
  },
  {
   "cell_type": "code",
   "execution_count": 25,
   "id": "d333b889-14cc-42a0-a2e0-9902749e7e4c",
   "metadata": {},
   "outputs": [
    {
     "name": "stdout",
     "output_type": "stream",
     "text": [
      "+-------+---+----------+------+-------+----------------+----------+\n",
      "|ratings|age|experience|family|mobile |age_after_10_yrs|age_double|\n",
      "+-------+---+----------+------+-------+----------------+----------+\n",
      "|3      |32 |9.0       |3     |Vivo   |42              |32.0      |\n",
      "|3      |27 |13.0      |3     |Apple  |37              |27.0      |\n",
      "|4      |22 |2.5       |0     |Samsung|32              |22.0      |\n",
      "|4      |37 |16.5      |4     |Apple  |47              |37.0      |\n",
      "|5      |27 |9.0       |1     |MI     |37              |27.0      |\n",
      "|4      |27 |9.0       |0     |Oppo   |37              |27.0      |\n",
      "|5      |37 |23.0      |5     |Vivo   |47              |37.0      |\n",
      "|5      |37 |23.0      |5     |Samsung|47              |37.0      |\n",
      "|3      |22 |2.5       |0     |Apple  |32              |22.0      |\n",
      "|3      |27 |6.0       |0     |MI     |37              |27.0      |\n",
      "+-------+---+----------+------+-------+----------------+----------+\n",
      "only showing top 10 rows\n",
      "\n"
     ]
    }
   ],
   "source": [
    "from pyspark.sql.types import StringType,DoubleType\n",
    "df.withColumn('age_double',df['age'].cast(DoubleType())).show(10,False)"
   ]
  },
  {
   "cell_type": "code",
   "execution_count": 26,
   "id": "20ee1b7d-bc70-4b2f-9c9e-165a49339a15",
   "metadata": {},
   "outputs": [
    {
     "name": "stdout",
     "output_type": "stream",
     "text": [
      "+-------+---+----------+------+------+----------------+\n",
      "|ratings|age|experience|family|mobile|age_after_10_yrs|\n",
      "+-------+---+----------+------+------+----------------+\n",
      "|      3| 32|       9.0|     3|  Vivo|              42|\n",
      "|      5| 37|      23.0|     5|  Vivo|              47|\n",
      "|      4| 37|       6.0|     0|  Vivo|              47|\n",
      "|      5| 37|      13.0|     1|  Vivo|              47|\n",
      "|      4| 37|       6.0|     0|  Vivo|              47|\n",
      "+-------+---+----------+------+------+----------------+\n",
      "\n"
     ]
    }
   ],
   "source": [
    "df.filter(df['mobile'] == 'Vivo').show()"
   ]
  },
  {
   "cell_type": "code",
   "execution_count": 27,
   "id": "af15acf6-063c-4d67-8a70-c877f633e650",
   "metadata": {},
   "outputs": [
    {
     "name": "stdout",
     "output_type": "stream",
     "text": [
      "+---+-------+------+\n",
      "|age|ratings|mobile|\n",
      "+---+-------+------+\n",
      "| 32|      3|  Vivo|\n",
      "| 37|      5|  Vivo|\n",
      "| 37|      4|  Vivo|\n",
      "| 37|      5|  Vivo|\n",
      "| 37|      4|  Vivo|\n",
      "+---+-------+------+\n",
      "\n"
     ]
    }
   ],
   "source": [
    "df.filter(df['mobile'] == 'Vivo').select('age','ratings','mobile').show()"
   ]
  },
  {
   "cell_type": "markdown",
   "id": "9d333cb2-b2e5-4908-9a0e-07f096df0755",
   "metadata": {},
   "source": [
    "this can be done in multiple ways. Let us say, we\n",
    "want to filter only ‘Vivo’ users and only those with experience of more than\n",
    "10 years."
   ]
  },
  {
   "cell_type": "code",
   "execution_count": 28,
   "id": "ce3519ca-a017-4ccf-8123-970f8b387c3e",
   "metadata": {},
   "outputs": [
    {
     "name": "stdout",
     "output_type": "stream",
     "text": [
      "+-------+---+----------+------+------+----------------+\n",
      "|ratings|age|experience|family|mobile|age_after_10_yrs|\n",
      "+-------+---+----------+------+------+----------------+\n",
      "|      5| 37|      23.0|     5|  Vivo|              47|\n",
      "|      5| 37|      13.0|     1|  Vivo|              47|\n",
      "+-------+---+----------+------+------+----------------+\n",
      "\n"
     ]
    }
   ],
   "source": [
    "df.filter(df['mobile'] == 'Vivo').filter(df['experience'] > 10 ).show()"
   ]
  },
  {
   "cell_type": "code",
   "execution_count": 29,
   "id": "d262bd8c-3eb8-4145-a739-02c09481edf8",
   "metadata": {},
   "outputs": [
    {
     "name": "stdout",
     "output_type": "stream",
     "text": [
      "+-------+---+----------+------+------+----------------+\n",
      "|ratings|age|experience|family|mobile|age_after_10_yrs|\n",
      "+-------+---+----------+------+------+----------------+\n",
      "|      5| 37|      23.0|     5|  Vivo|              47|\n",
      "|      5| 37|      13.0|     1|  Vivo|              47|\n",
      "+-------+---+----------+------+------+----------------+\n",
      "\n"
     ]
    }
   ],
   "source": [
    "df.filter((df['mobile']=='Vivo')&(df['experience'] >10)).show()"
   ]
  },
  {
   "cell_type": "code",
   "execution_count": 30,
   "id": "1723d5f6-aa01-4612-b738-eb8e588166b3",
   "metadata": {},
   "outputs": [
    {
     "name": "stdout",
     "output_type": "stream",
     "text": [
      "+-------+\n",
      "| mobile|\n",
      "+-------+\n",
      "|     MI|\n",
      "|   Oppo|\n",
      "|Samsung|\n",
      "|   Vivo|\n",
      "|  Apple|\n",
      "+-------+\n",
      "\n"
     ]
    }
   ],
   "source": [
    "#Distinct Values\n",
    "df.select('mobile').distinct().show()"
   ]
  },
  {
   "cell_type": "code",
   "execution_count": 31,
   "id": "b2636bc3-159e-4483-a7ad-e8df26fa680b",
   "metadata": {},
   "outputs": [
    {
     "data": {
      "text/plain": [
       "5"
      ]
     },
     "execution_count": 31,
     "metadata": {},
     "output_type": "execute_result"
    }
   ],
   "source": [
    "df.select('mobile').distinct().count()"
   ]
  },
  {
   "cell_type": "code",
   "execution_count": 33,
   "id": "c6a2472b-ac2e-49d2-bab9-90c1a272b1e9",
   "metadata": {},
   "outputs": [
    {
     "name": "stdout",
     "output_type": "stream",
     "text": [
      "+-------+-----+\n",
      "|mobile |count|\n",
      "+-------+-----+\n",
      "|MI     |8    |\n",
      "|Apple  |7    |\n",
      "|Oppo   |7    |\n",
      "|Samsung|6    |\n",
      "|Vivo   |5    |\n",
      "+-------+-----+\n",
      "\n"
     ]
    }
   ],
   "source": [
    "#GrouopingData\n",
    "df.groupBy('mobile').count().orderBy('count', ascending=False).show(5, False)"
   ]
  },
  {
   "cell_type": "code",
   "execution_count": 34,
   "id": "70edc16d-c26e-43cd-a98e-20a10093bd51",
   "metadata": {},
   "outputs": [
    {
     "name": "stdout",
     "output_type": "stream",
     "text": [
      "+-------+------------------+------------------+------------------+------------------+---------------------+\n",
      "|mobile |avg(ratings)      |avg(age)          |avg(experience)   |avg(family)       |avg(age_after_10_yrs)|\n",
      "+-------+------------------+------------------+------------------+------------------+---------------------+\n",
      "|MI     |3.5               |30.125            |10.1875           |1.375             |40.125               |\n",
      "|Oppo   |2.857142857142857 |28.428571428571427|10.357142857142858|1.4285714285714286|38.42857142857143    |\n",
      "|Samsung|4.166666666666667 |28.666666666666668|8.666666666666666 |1.8333333333333333|38.666666666666664   |\n",
      "|Vivo   |4.2               |36.0              |11.4              |1.8               |46.0                 |\n",
      "|Apple  |3.4285714285714284|30.571428571428573|11.0              |2.7142857142857144|40.57142857142857    |\n",
      "+-------+------------------+------------------+------------------+------------------+---------------------+\n",
      "\n"
     ]
    }
   ],
   "source": [
    "df.groupBy('mobile').mean().show(5, False)"
   ]
  },
  {
   "cell_type": "code",
   "execution_count": 35,
   "id": "7827c59d-ac02-4fb8-8764-903b461ff2a1",
   "metadata": {},
   "outputs": [
    {
     "name": "stdout",
     "output_type": "stream",
     "text": [
      "+-------+------------+--------+---------------+-----------+---------------------+\n",
      "|mobile |sum(ratings)|sum(age)|sum(experience)|sum(family)|sum(age_after_10_yrs)|\n",
      "+-------+------------+--------+---------------+-----------+---------------------+\n",
      "|MI     |28          |241     |81.5           |11         |321                  |\n",
      "|Oppo   |20          |199     |72.5           |10         |269                  |\n",
      "|Samsung|25          |172     |52.0           |11         |232                  |\n",
      "|Vivo   |21          |180     |57.0           |9          |230                  |\n",
      "|Apple  |24          |214     |77.0           |19         |284                  |\n",
      "+-------+------------+--------+---------------+-----------+---------------------+\n",
      "\n"
     ]
    }
   ],
   "source": [
    "df.groupBy('mobile').sum().show(5, False)"
   ]
  },
  {
   "cell_type": "code",
   "execution_count": 36,
   "id": "adf0e974-c9cb-4a79-8075-437cf9401f34",
   "metadata": {},
   "outputs": [
    {
     "name": "stdout",
     "output_type": "stream",
     "text": [
      "+-------+------------+--------+---------------+-----------+---------------------+\n",
      "|mobile |max(ratings)|max(age)|max(experience)|max(family)|max(age_after_10_yrs)|\n",
      "+-------+------------+--------+---------------+-----------+---------------------+\n",
      "|MI     |5           |42      |23.0           |5          |52                   |\n",
      "|Oppo   |4           |42      |23.0           |2          |52                   |\n",
      "|Samsung|5           |37      |23.0           |5          |47                   |\n",
      "|Vivo   |5           |37      |23.0           |5          |47                   |\n",
      "|Apple  |4           |37      |16.5           |5          |47                   |\n",
      "+-------+------------+--------+---------------+-----------+---------------------+\n",
      "\n"
     ]
    }
   ],
   "source": [
    "df.groupBy('mobile').max().show(5, False)"
   ]
  },
  {
   "cell_type": "code",
   "execution_count": 37,
   "id": "8c8ea0ae-6bfe-4778-9bca-e964db8c52e3",
   "metadata": {},
   "outputs": [
    {
     "name": "stdout",
     "output_type": "stream",
     "text": [
      "+-------+------------+--------+---------------+-----------+---------------------+\n",
      "|mobile |min(ratings)|min(age)|min(experience)|min(family)|min(age_after_10_yrs)|\n",
      "+-------+------------+--------+---------------+-----------+---------------------+\n",
      "|MI     |1           |27      |2.5            |0          |37                   |\n",
      "|Oppo   |2           |22      |6.0            |0          |32                   |\n",
      "|Samsung|2           |22      |2.5            |0          |32                   |\n",
      "|Vivo   |3           |32      |6.0            |0          |42                   |\n",
      "|Apple  |3           |22      |2.5            |0          |32                   |\n",
      "+-------+------------+--------+---------------+-----------+---------------------+\n",
      "\n"
     ]
    }
   ],
   "source": [
    "df.groupBy('mobile').min().show(5, False)"
   ]
  },
  {
   "cell_type": "code",
   "execution_count": 38,
   "id": "08ba1fed-b28f-4de9-bf18-fdb8dd0e0251",
   "metadata": {},
   "outputs": [
    {
     "name": "stdout",
     "output_type": "stream",
     "text": [
      "+-------+---------------+\n",
      "|mobile |sum(experience)|\n",
      "+-------+---------------+\n",
      "|MI     |81.5           |\n",
      "|Oppo   |72.5           |\n",
      "|Samsung|52.0           |\n",
      "|Vivo   |57.0           |\n",
      "|Apple  |77.0           |\n",
      "+-------+---------------+\n",
      "\n"
     ]
    }
   ],
   "source": [
    "df.groupBy('mobile').agg({'experience':'sum'}).show(5, False)"
   ]
  },
  {
   "cell_type": "code",
   "execution_count": 39,
   "id": "ca938896-6025-46f6-bf42-9cb1b4ba3069",
   "metadata": {},
   "outputs": [],
   "source": [
    "from pyspark.sql.functions import udf"
   ]
  },
  {
   "cell_type": "code",
   "execution_count": 40,
   "id": "671dee62-49c1-4e8e-8a9d-d1a70354ad8a",
   "metadata": {},
   "outputs": [],
   "source": [
    "def price_range(brand):\n",
    "    if brand in ['Samsung', 'Apple']:\n",
    "        return 'High Price'\n",
    "    elif brand == 'MI':\n",
    "        return 'Mid Price'\n",
    "    else:\n",
    "        return 'Low Price'\n",
    "\n",
    "brand_udf = udf(price_range, StringType())"
   ]
  },
  {
   "cell_type": "code",
   "execution_count": 41,
   "id": "07fa079a-e8d7-49bc-a157-e45752216ffe",
   "metadata": {},
   "outputs": [
    {
     "name": "stdout",
     "output_type": "stream",
     "text": [
      "+-------+---+----------+------+-------+----------------+-----------+\n",
      "|ratings|age|experience|family|mobile |age_after_10_yrs|price_range|\n",
      "+-------+---+----------+------+-------+----------------+-----------+\n",
      "|3      |32 |9.0       |3     |Vivo   |42              |Low Price  |\n",
      "|3      |27 |13.0      |3     |Apple  |37              |High Price |\n",
      "|4      |22 |2.5       |0     |Samsung|32              |High Price |\n",
      "|4      |37 |16.5      |4     |Apple  |47              |High Price |\n",
      "|5      |27 |9.0       |1     |MI     |37              |Mid Price  |\n",
      "|4      |27 |9.0       |0     |Oppo   |37              |Low Price  |\n",
      "|5      |37 |23.0      |5     |Vivo   |47              |Low Price  |\n",
      "|5      |37 |23.0      |5     |Samsung|47              |High Price |\n",
      "|3      |22 |2.5       |0     |Apple  |32              |High Price |\n",
      "|3      |27 |6.0       |0     |MI     |37              |Mid Price  |\n",
      "+-------+---+----------+------+-------+----------------+-----------+\n",
      "only showing top 10 rows\n",
      "\n"
     ]
    },
    {
     "name": "stderr",
     "output_type": "stream",
     "text": [
      "                                                                                \r"
     ]
    }
   ],
   "source": [
    "df.withColumn('price_range', brand_udf(df['mobile'])).show(10, False)"
   ]
  },
  {
   "cell_type": "code",
   "execution_count": 42,
   "id": "8249d07e-b37b-4239-81a6-2e99940fc50e",
   "metadata": {},
   "outputs": [],
   "source": [
    "age_udf = udf(lambda age: \"young\" if age <= 30 else \"senior\", StringType())"
   ]
  },
  {
   "cell_type": "code",
   "execution_count": 43,
   "id": "8f760658-0af2-4354-8589-4b19f5ca22b2",
   "metadata": {},
   "outputs": [
    {
     "name": "stdout",
     "output_type": "stream",
     "text": [
      "+-------+---+----------+------+-------+----------------+---------+\n",
      "|ratings|age|experience|family|mobile |age_after_10_yrs|age_group|\n",
      "+-------+---+----------+------+-------+----------------+---------+\n",
      "|3      |32 |9.0       |3     |Vivo   |42              |senior   |\n",
      "|3      |27 |13.0      |3     |Apple  |37              |young    |\n",
      "|4      |22 |2.5       |0     |Samsung|32              |young    |\n",
      "|4      |37 |16.5      |4     |Apple  |47              |senior   |\n",
      "|5      |27 |9.0       |1     |MI     |37              |young    |\n",
      "|4      |27 |9.0       |0     |Oppo   |37              |young    |\n",
      "|5      |37 |23.0      |5     |Vivo   |47              |senior   |\n",
      "|5      |37 |23.0      |5     |Samsung|47              |senior   |\n",
      "|3      |22 |2.5       |0     |Apple  |32              |young    |\n",
      "|3      |27 |6.0       |0     |MI     |37              |young    |\n",
      "+-------+---+----------+------+-------+----------------+---------+\n",
      "only showing top 10 rows\n",
      "\n"
     ]
    }
   ],
   "source": [
    "df.withColumn(\"age_group\", age_udf(df.age)).show(10, False)"
   ]
  },
  {
   "cell_type": "markdown",
   "id": "229366cb-4ee3-48c8-addf-6f1fc819eb5c",
   "metadata": {},
   "source": [
    "----------------------------------------\n",
    "Pandas UDF (Vectorized UDF)"
   ]
  },
  {
   "cell_type": "code",
   "execution_count": 65,
   "id": "256fd81e-1a08-4c8b-a660-7249abe3aba6",
   "metadata": {},
   "outputs": [],
   "source": [
    "from pyspark.sql.functions import pandas_udf\n",
    "from pyspark.sql.types import IntegerType"
   ]
  },
  {
   "cell_type": "code",
   "execution_count": 68,
   "id": "6d033de9-4cb9-4b14-a94c-f1f1d1bfb056",
   "metadata": {},
   "outputs": [
    {
     "name": "stdout",
     "output_type": "stream",
     "text": [
      "+-------+---+----------+------+-------+----------------+----------+\n",
      "|ratings|age|experience|family|mobile |age_after_10_yrs|years_left|\n",
      "+-------+---+----------+------+-------+----------------+----------+\n",
      "|3      |32 |9.0       |3     |Vivo   |42              |68        |\n",
      "|3      |27 |13.0      |3     |Apple  |37              |73        |\n",
      "|4      |22 |2.5       |0     |Samsung|32              |78        |\n",
      "|4      |37 |16.5      |4     |Apple  |47              |63        |\n",
      "|5      |27 |9.0       |1     |MI     |37              |73        |\n",
      "|4      |27 |9.0       |0     |Oppo   |37              |73        |\n",
      "|5      |37 |23.0      |5     |Vivo   |47              |63        |\n",
      "|5      |37 |23.0      |5     |Samsung|47              |63        |\n",
      "|3      |22 |2.5       |0     |Apple  |32              |78        |\n",
      "|3      |27 |6.0       |0     |MI     |37              |73        |\n",
      "+-------+---+----------+------+-------+----------------+----------+\n",
      "only showing top 10 rows\n",
      "\n"
     ]
    }
   ],
   "source": [
    "def renaining_yrs(age):\n",
    "    yrs_left = (100-age)\n",
    "    return yrs_left\n",
    "\n",
    "length_udf = pandas_udf(renaining_yrs, IntegerType())\n",
    "df.withColumn(\"years_left\", length_udf(df['age'])).show(10, False)"
   ]
  },
  {
   "cell_type": "code",
   "execution_count": 70,
   "id": "219798a1-a790-424f-bfd5-6d93815f4c22",
   "metadata": {},
   "outputs": [
    {
     "name": "stdout",
     "output_type": "stream",
     "text": [
      "+-------+---+----------+------+-------+----------------+-------+\n",
      "|ratings|age|experience|family|mobile |age_after_10_yrs|product|\n",
      "+-------+---+----------+------+-------+----------------+-------+\n",
      "|3      |32 |9.0       |3     |Vivo   |42              |27.0   |\n",
      "|3      |27 |13.0      |3     |Apple  |37              |39.0   |\n",
      "|4      |22 |2.5       |0     |Samsung|32              |10.0   |\n",
      "|4      |37 |16.5      |4     |Apple  |47              |66.0   |\n",
      "|5      |27 |9.0       |1     |MI     |37              |45.0   |\n",
      "|4      |27 |9.0       |0     |Oppo   |37              |36.0   |\n",
      "|5      |37 |23.0      |5     |Vivo   |47              |115.0  |\n",
      "|5      |37 |23.0      |5     |Samsung|47              |115.0  |\n",
      "|3      |22 |2.5       |0     |Apple  |32              |7.5    |\n",
      "|3      |27 |6.0       |0     |MI     |37              |18.0   |\n",
      "+-------+---+----------+------+-------+----------------+-------+\n",
      "only showing top 10 rows\n",
      "\n"
     ]
    }
   ],
   "source": [
    "def prod(rating, exp):\n",
    "    x = rating * exp\n",
    "    return x\n",
    "    \n",
    "prod_udf = pandas_udf(prod, DoubleType())\n",
    "df.withColumn(\"product\", prod_udf(df['ratings'], df['experience'])).show(10, False)"
   ]
  },
  {
   "cell_type": "markdown",
   "id": "6a725592-a1d3-4864-a0f3-c854d7230915",
   "metadata": {},
   "source": [
    "----------------------------\n",
    "Drop Duplicate Values"
   ]
  },
  {
   "cell_type": "code",
   "execution_count": 71,
   "id": "8d2b0e2e-911c-457d-98ba-dab6e4b917e3",
   "metadata": {},
   "outputs": [
    {
     "data": {
      "text/plain": [
       "33"
      ]
     },
     "execution_count": 71,
     "metadata": {},
     "output_type": "execute_result"
    }
   ],
   "source": [
    "df.count()\n"
   ]
  },
  {
   "cell_type": "code",
   "execution_count": 72,
   "id": "6354dd5f-13d3-4af4-bd2a-6f83da74c2bf",
   "metadata": {},
   "outputs": [
    {
     "data": {
      "text/plain": [
       "26"
      ]
     },
     "execution_count": 72,
     "metadata": {},
     "output_type": "execute_result"
    }
   ],
   "source": [
    "df = df.dropDuplicates()\n",
    "df.count()"
   ]
  },
  {
   "cell_type": "code",
   "execution_count": 73,
   "id": "37d5eee6-fce3-45be-9c9b-9dfd0cf8c5fb",
   "metadata": {},
   "outputs": [
    {
     "name": "stdout",
     "output_type": "stream",
     "text": [
      "+-------+---+----------+------+----------------+\n",
      "|ratings|age|experience|family|age_after_10_yrs|\n",
      "+-------+---+----------+------+----------------+\n",
      "|      4| 37|      16.5|     4|              47|\n",
      "|      3| 42|      23.0|     5|              52|\n",
      "|      4| 37|       6.0|     0|              47|\n",
      "|      5| 37|      23.0|     5|              47|\n",
      "|      2| 27|       9.0|     2|              37|\n",
      "|      4| 22|       2.5|     0|              32|\n",
      "|      5| 27|       6.0|     0|              37|\n",
      "|      4| 27|       9.0|     0|              37|\n",
      "|      3| 22|       2.5|     0|              32|\n",
      "|      2| 27|       6.0|     2|              37|\n",
      "|      5| 27|       6.0|     2|              37|\n",
      "|      3| 27|      13.0|     3|              37|\n",
      "|      4| 37|       9.0|     2|              47|\n",
      "|      4| 22|       6.0|     1|              32|\n",
      "|      5| 22|       2.5|     0|              32|\n",
      "|      4| 27|       6.0|     1|              37|\n",
      "|      3| 32|       9.0|     3|              42|\n",
      "|      5| 27|       9.0|     1|              37|\n",
      "|      1| 37|      23.0|     5|              47|\n",
      "|      2| 42|      23.0|     2|              52|\n",
      "+-------+---+----------+------+----------------+\n",
      "only showing top 20 rows\n",
      "\n"
     ]
    }
   ],
   "source": [
    "df_new = df.drop('mobile')\n",
    "df_new.show()"
   ]
  },
  {
   "cell_type": "markdown",
   "id": "e6832566-52b7-4ecc-974b-1a621dc7ac3e",
   "metadata": {},
   "source": [
    "-----------------------------------------\n",
    "Writing Data"
   ]
  },
  {
   "cell_type": "code",
   "execution_count": null,
   "id": "b4728bf1-a12d-445d-a57d-bbeda9b51863",
   "metadata": {},
   "outputs": [],
   "source": []
  }
 ],
 "metadata": {
  "kernelspec": {
   "display_name": "Python 3 (ipykernel)",
   "language": "python",
   "name": "python3"
  },
  "language_info": {
   "codemirror_mode": {
    "name": "ipython",
    "version": 3
   },
   "file_extension": ".py",
   "mimetype": "text/x-python",
   "name": "python",
   "nbconvert_exporter": "python",
   "pygments_lexer": "ipython3",
   "version": "3.9.13"
  }
 },
 "nbformat": 4,
 "nbformat_minor": 5
}
