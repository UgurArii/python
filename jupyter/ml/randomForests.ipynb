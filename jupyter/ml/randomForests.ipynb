{
 "cells": [
  {
   "cell_type": "code",
   "execution_count": 2,
   "id": "dd60b691-c989-4a50-b27a-5b252d486586",
   "metadata": {},
   "outputs": [],
   "source": [
    "from pyspark.sql import SparkSession"
   ]
  },
  {
   "cell_type": "code",
   "execution_count": 3,
   "id": "9f4d9a02-afe7-47bd-bebd-e7015b1d37f8",
   "metadata": {},
   "outputs": [
    {
     "name": "stderr",
     "output_type": "stream",
     "text": [
      "Picked up _JAVA_OPTIONS: -Dawt.useSystemAAFontSettings=on -Dswing.aatext=true\n",
      "Picked up _JAVA_OPTIONS: -Dawt.useSystemAAFontSettings=on -Dswing.aatext=true\n"
     ]
    },
    {
     "name": "stdout",
     "output_type": "stream",
     "text": [
      "23/04/03 22:18:24 WARN Utils: Your hostname, root resolves to a loopback address: 127.0.1.1; using 192.168.1.100 instead (on interface wlan0)\n",
      "23/04/03 22:18:24 WARN Utils: Set SPARK_LOCAL_IP if you need to bind to another address\n"
     ]
    },
    {
     "name": "stderr",
     "output_type": "stream",
     "text": [
      "Setting default log level to \"WARN\".\n",
      "To adjust logging level use sc.setLogLevel(newLevel). For SparkR, use setLogLevel(newLevel).\n"
     ]
    },
    {
     "name": "stdout",
     "output_type": "stream",
     "text": [
      "23/04/03 22:18:25 WARN NativeCodeLoader: Unable to load native-hadoop library for your platform... using builtin-java classes where applicable\n"
     ]
    }
   ],
   "source": [
    "spark = SparkSession.builder.appName('random_forest').getOrCreate()"
   ]
  },
  {
   "cell_type": "code",
   "execution_count": 4,
   "id": "a21b8f17-49d3-427e-a7d9-365e9f673c91",
   "metadata": {},
   "outputs": [
    {
     "name": "stdout",
     "output_type": "stream",
     "text": [
      "(601, 10)\n"
     ]
    }
   ],
   "source": [
    "df = spark.read.csv('Affairs.csv', inferSchema=True, header=True)\n",
    "print((df.count(), len(df.columns)))"
   ]
  },
  {
   "cell_type": "code",
   "execution_count": 5,
   "id": "52ff2348-edbc-4894-a1ba-2ba34c615daf",
   "metadata": {},
   "outputs": [
    {
     "name": "stdout",
     "output_type": "stream",
     "text": [
      "root\n",
      " |-- _c0: integer (nullable = true)\n",
      " |-- affairs: integer (nullable = true)\n",
      " |-- gender: string (nullable = true)\n",
      " |-- age: double (nullable = true)\n",
      " |-- yearsmarried: double (nullable = true)\n",
      " |-- children: string (nullable = true)\n",
      " |-- religiousness: integer (nullable = true)\n",
      " |-- education: integer (nullable = true)\n",
      " |-- occupation: integer (nullable = true)\n",
      " |-- rating: integer (nullable = true)\n",
      "\n"
     ]
    }
   ],
   "source": [
    "df.printSchema()"
   ]
  },
  {
   "cell_type": "code",
   "execution_count": 6,
   "id": "d5f52828-2746-40e1-8ecc-7aab8c891729",
   "metadata": {},
   "outputs": [
    {
     "name": "stdout",
     "output_type": "stream",
     "text": [
      "23/04/03 22:19:34 WARN CSVHeaderChecker: CSV header does not conform to the schema.\n",
      " Header: , affairs, gender, age, yearsmarried, children, religiousness, education, occupation, rating\n",
      " Schema: _c0, affairs, gender, age, yearsmarried, children, religiousness, education, occupation, rating\n",
      "Expected: _c0 but found: \n",
      "CSV file: file:///root/anaconda3/apps/jupyter/ml/Affairs.csv\n",
      "+---+-------+------+----+------------+--------+-------------+---------+----------+------+\n",
      "|_c0|affairs|gender| age|yearsmarried|children|religiousness|education|occupation|rating|\n",
      "+---+-------+------+----+------------+--------+-------------+---------+----------+------+\n",
      "|  4|      0|  male|37.0|        10.0|      no|            3|       18|         7|     4|\n",
      "|  5|      0|female|27.0|         4.0|      no|            4|       14|         6|     4|\n",
      "| 11|      0|female|32.0|        15.0|     yes|            1|       12|         1|     4|\n",
      "| 16|      0|  male|57.0|        15.0|     yes|            5|       18|         6|     5|\n",
      "| 23|      0|  male|22.0|        0.75|      no|            2|       17|         6|     3|\n",
      "+---+-------+------+----+------------+--------+-------------+---------+----------+------+\n",
      "only showing top 5 rows\n",
      "\n"
     ]
    }
   ],
   "source": [
    "df.show(5)"
   ]
  },
  {
   "cell_type": "code",
   "execution_count": 7,
   "id": "3a5698ca-f15c-46b2-aade-eb6a1980638c",
   "metadata": {},
   "outputs": [
    {
     "name": "stdout",
     "output_type": "stream",
     "text": [
      "23/04/03 22:20:46 WARN CSVHeaderChecker: CSV header does not conform to the schema.\n",
      " Header: , affairs, gender, age, yearsmarried, children, religiousness, education, occupation, rating\n",
      " Schema: _c0, affairs, gender, age, yearsmarried, children, religiousness, education, occupation, rating\n",
      "Expected: _c0 but found: \n",
      "CSV file: file:///root/anaconda3/apps/jupyter/ml/Affairs.csv\n"
     ]
    },
    {
     "name": "stderr",
     "output_type": "stream",
     "text": [
      "[Stage 6:>                                                          (0 + 1) / 1]\r"
     ]
    },
    {
     "name": "stdout",
     "output_type": "stream",
     "text": [
      "+-------+------------------+-----------------+-----------------+------------------+\n",
      "|summary|            rating|              age|     yearsmarried|     religiousness|\n",
      "+-------+------------------+-----------------+-----------------+------------------+\n",
      "|  count|               601|              601|              601|               601|\n",
      "|   mean|3.9317803660565724|32.48752079866888| 8.17769550748752|3.1164725457570714|\n",
      "| stddev|1.1031794920503797| 9.28876170487667|5.571303149963791|1.1675094016730692|\n",
      "|    min|                 1|             17.5|            0.125|                 1|\n",
      "|    max|                 5|             57.0|             15.0|                 5|\n",
      "+-------+------------------+-----------------+-----------------+------------------+\n",
      "\n"
     ]
    },
    {
     "name": "stderr",
     "output_type": "stream",
     "text": [
      "                                                                                \r"
     ]
    }
   ],
   "source": [
    "df.describe().select('summary','rating','age','yearsmarried','religiousness').show()"
   ]
  },
  {
   "cell_type": "code",
   "execution_count": 8,
   "id": "c6b61094-e8cb-4dbf-bba5-4eae5a23d0f2",
   "metadata": {},
   "outputs": [
    {
     "name": "stdout",
     "output_type": "stream",
     "text": [
      "+-------+-----+\n",
      "|affairs|count|\n",
      "+-------+-----+\n",
      "|     12|   38|\n",
      "|      1|   34|\n",
      "|      3|   19|\n",
      "|      7|   42|\n",
      "|      2|   17|\n",
      "|      0|  451|\n",
      "+-------+-----+\n",
      "\n"
     ]
    }
   ],
   "source": [
    "df.groupBy('affairs').count().show()"
   ]
  },
  {
   "cell_type": "code",
   "execution_count": 9,
   "id": "f6a2a076-3a30-4ca2-8c68-35bebfee1ce1",
   "metadata": {},
   "outputs": [
    {
     "name": "stdout",
     "output_type": "stream",
     "text": [
      "+------+-----+\n",
      "|rating|count|\n",
      "+------+-----+\n",
      "|     1|   16|\n",
      "|     3|   93|\n",
      "|     5|  232|\n",
      "|     4|  194|\n",
      "|     2|   66|\n",
      "+------+-----+\n",
      "\n"
     ]
    }
   ],
   "source": [
    "df.groupBy('rating').count().show()"
   ]
  },
  {
   "cell_type": "code",
   "execution_count": null,
   "id": "279bffb3-f12c-4173-8147-ebf88ebe0551",
   "metadata": {},
   "outputs": [],
   "source": [
    "df.groupBy('rating','affairs').count().orderBy('rate_marriage','affairs','count',ascending=True).show()"
   ]
  }
 ],
 "metadata": {
  "kernelspec": {
   "display_name": "Python 3 (ipykernel)",
   "language": "python",
   "name": "python3"
  },
  "language_info": {
   "codemirror_mode": {
    "name": "ipython",
    "version": 3
   },
   "file_extension": ".py",
   "mimetype": "text/x-python",
   "name": "python",
   "nbconvert_exporter": "python",
   "pygments_lexer": "ipython3",
   "version": "3.9.13"
  }
 },
 "nbformat": 4,
 "nbformat_minor": 5
}
